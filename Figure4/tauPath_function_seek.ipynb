{
 "cells": [
  {
   "cell_type": "code",
   "execution_count": 150,
   "id": "f6fb2ef7",
   "metadata": {},
   "outputs": [],
   "source": [
    "import sys\n",
    "sys.path.append(\"../Network-SDE-Inference/utils\")\n",
    "import NeuGNN_model\n",
    "import Self_func\n",
    "from NeuGNN_model import *\n",
    "from Self_func import *\n",
    "\n",
    "import warnings\n",
    "warnings.filterwarnings(\"ignore\")"
   ]
  },
  {
   "cell_type": "code",
   "execution_count": 151,
   "id": "0577dcd6",
   "metadata": {},
   "outputs": [],
   "source": [
    "import numpy as np\n",
    "import pandas as pd\n",
    "import os\n",
    "import torch\n",
    "from torch.autograd import Variable\n",
    "from matplotlib import pyplot as plt\n",
    "%matplotlib inline"
   ]
  },
  {
   "cell_type": "markdown",
   "id": "1009b60e",
   "metadata": {},
   "source": [
    "## Library for interaction"
   ]
  },
  {
   "cell_type": "code",
   "execution_count": 502,
   "id": "1c7d2971",
   "metadata": {},
   "outputs": [],
   "source": [
    "def ElementaryFunctions_Matrix(xi, xj, coupledPolyOrder = 1, CoupledPolynomialIndex = True, \\\n",
    "        CoupledTrigonometricIndex = True, CoupledExponentialIndex = True, CoupledFractionalIndex = True, \\\n",
    "            CoupledActivationIndex = True):\n",
    "    \n",
    "    ElementaryMatrix = pd.DataFrame()\n",
    "    if CoupledPolynomialIndex == True:\n",
    "        ElementaryMatrix = pd.concat([ElementaryMatrix, Coupled_Polynomial_functions(xi, xj, coupledPolyOrder)],axis=1)\n",
    "    if CoupledTrigonometricIndex == True:\n",
    "        ElementaryMatrix = pd.concat([ElementaryMatrix, Coupled_Trigonometric_functions(xi, xj, Sine = True, Cos = False, Tan = False)],axis=1)\n",
    "    if CoupledExponentialIndex == True:\n",
    "        ElementaryMatrix = pd.concat([ElementaryMatrix, Coupled_Exponential_functions(xi, xj, Exponential = True)],axis=1)\n",
    "    if CoupledFractionalIndex == True:\n",
    "        ElementaryMatrix = pd.concat([ElementaryMatrix, Coupled_Fractional_functions(xi, xj, Fractional = True)],axis=1)\n",
    "    if CoupledActivationIndex == True:\n",
    "        ElementaryMatrix = pd.concat([ElementaryMatrix, Coupled_Activation_functions(xi, xj, Sigmoid = True, Tanh = True, Hill = True)],axis=1)\n",
    "   \n",
    "    return ElementaryMatrix\n",
    "\n",
    "\n",
    "#Libraries construction\n",
    "def Coupled_Polynomial_functions(xi,xj,PolyOrder):\n",
    "    if PolyOrder>=1:\n",
    "        column_values = ['xj','xixj','xjMinusxi']\n",
    "        CoupledPolyOne = np.zeros(shape=(np.size(xi,0),len(column_values)))\n",
    "        for j in range(len(column_values)):\n",
    "            if j == 0:\n",
    "                tmp1 = xj\n",
    "            if j == 1:\n",
    "                tmp2 = xi*xj\n",
    "            if j == 2:\n",
    "                tmp3 = xj-xi\n",
    "        CoupledPolyOne = np.stack((tmp1,tmp2,tmp3),axis=1)\n",
    "        CoupledPolyOne = pd.DataFrame(data = CoupledPolyOne, columns = column_values)\n",
    "    if PolyOrder>=2:\n",
    "        column_values = ['xjpow2','xixjpow2','xjMinusxipow2']\n",
    "        CoupledPolyTwo = np.zeros(shape=(np.size(xi,0),len(column_values)))\n",
    "        for j in range(len(column_values)):\n",
    "            if j == 0:\n",
    "                tmp1 = xj**2\n",
    "            if j == 1:\n",
    "                tmp2 = (xi*xj)**2\n",
    "            if j == 2:\n",
    "                tmp3 = (xj-xi)**2\n",
    "        CoupledPolyTwo = np.stack((tmp1,tmp2,tmp3),axis=1)\n",
    "        CoupledPolyTwo = pd.DataFrame(data = CoupledPolyTwo, columns = column_values)\n",
    "    if PolyOrder == 1:\n",
    "        return CoupledPolyOne\n",
    "    if PolyOrder == 2:\n",
    "        return pd.concat([CoupledPolyOne, CoupledPolyTwo], axis=1)\n",
    "\n",
    "def Coupled_Trigonometric_functions(xi, xj, Sine = True, Cos = False, Tan = False):\n",
    "    if Sine == True:\n",
    "        column_values = ['sinxj','sinxixj','sinxjMinusxi','xisinxj']\n",
    "        CoupledSine = np.zeros(shape=(np.size(xi,0),len(column_values)))\n",
    "        for j in range(len(column_values)):\n",
    "            if j == 0:\n",
    "                tmp1 = np.sin(xj)\n",
    "            if j == 1:\n",
    "                tmp2 = np.sin(xi*xj)\n",
    "            if j == 2:\n",
    "                tmp3 = np.sin(xj-xi)\n",
    "            if j == 3:\n",
    "                tmp4 = xi*np.sin(xj)\n",
    "        CoupledSine = np.stack((tmp1,tmp2,tmp3,tmp4),axis=1)\n",
    "        CoupledSine = pd.DataFrame(data = CoupledSine, columns = column_values)\n",
    "    if Cos == True:\n",
    "        column_values = ['cosxj','cosxixj','cosxjMinusxi','xicosxj']\n",
    "        CoupledCosine = np.zeros(shape=(np.size(xi,0),len(column_values)))\n",
    "        for j in range(len(column_values)):\n",
    "            if j == 0:\n",
    "                tmp1 = np.cos(xj)\n",
    "            if j == 1:\n",
    "                tmp2 = np.cos(xi*xj)\n",
    "            if j == 2:\n",
    "                tmp3 = np.cos(xj-xi)\n",
    "            if j == 3:\n",
    "                tmp4 = xi*np.cos(xj)\n",
    "        CoupledCosine = np.stack((tmp1,tmp2,tmp3,tmp4),axis=1)\n",
    "        CoupledCosine = pd.DataFrame(data = CoupledCosine, columns = column_values)\n",
    "    if Tan == True:\n",
    "        column_values = ['tanxj','tanxixj','tanxjMinusxi','xitanxj']\n",
    "        CoupledTan = np.zeros(shape=(np.size(xi,0),len(column_values)))\n",
    "        for j in range(len(column_values)):\n",
    "            if j == 0:\n",
    "                tmp1 = np.tan(xj)\n",
    "            if j == 1:\n",
    "                tmp2 = np.tan(xi*xj)\n",
    "            if j == 2:\n",
    "                tmp3 = np.tan(xj-xi)\n",
    "            if j == 3:\n",
    "                tmp4 = xi*np.tan(xj)\n",
    "        CoupledTan = np.stack((tmp1,tmp2,tmp3,tmp4),axis=1)\n",
    "        CoupledTan = pd.DataFrame(data = CoupledTan, columns = column_values)\n",
    "    CoupledTrignometric = pd.DataFrame()\n",
    "    if Sine == True:\n",
    "        CoupledTrignometric = pd.concat([CoupledTrignometric,CoupledSine],axis=1)\n",
    "    if Cos == True:\n",
    "        CoupledTrignometric = pd.concat([CoupledTrignometric, CoupledCosine], axis=1)\n",
    "    if Tan == True:\n",
    "        CoupledTrignometric = pd.concat([CoupledTrignometric, CoupledTan], axis=1)\n",
    "    return CoupledTrignometric\n",
    "\n",
    "def Coupled_Exponential_functions(xi, xj, Exponential = True):\n",
    "    if Exponential == True:\n",
    "        column_values = ['expxj','expxixj','expxjMinusxi','xiexpxj']\n",
    "        CoupledExp = np.zeros(shape=(np.size(xi,0),len(column_values)))\n",
    "        for j in range(len(column_values)):\n",
    "            if j == 0:\n",
    "                tmp1 = np.exp(xj)\n",
    "            if j == 1:\n",
    "                tmp2 = np.exp(xi*xj)\n",
    "            if j == 2:\n",
    "                tmp3 = np.exp(xj-xi)\n",
    "            if j == 3:\n",
    "                tmp4 = xi*np.exp(xj)\n",
    "        CoupledExp = np.stack((tmp1,tmp2,tmp3,tmp4),axis=1)    \n",
    "        CoupledExp = pd.DataFrame(data = CoupledExp, columns = column_values)\n",
    "    return CoupledExp\n",
    "\n",
    "def Coupled_Fractional_functions(xi, xj, Fractional = True):\n",
    "    if Fractional == True:\n",
    "        column_values = ['fracxj','fracxixj','fracxjMinusxi','xifracxj']\n",
    "        CoupledFraction = np.zeros(shape=(np.size(xi,0),len(column_values)))\n",
    "        for j in range(len(column_values)):\n",
    "            if j == 0:\n",
    "                tmp1 = 1/xj\n",
    "            if j == 1:\n",
    "                tmp2 = 1/(xi*xj)\n",
    "            if j == 2:\n",
    "                tmp3 = 1/((xj-xi)+1e-5)\n",
    "            if j == 3:\n",
    "                tmp4 = xi/(xj+1e-5)\n",
    "        CoupledFraction = np.stack((tmp1,tmp2,tmp3,tmp4),axis=1) \n",
    "        CoupledFraction = pd.DataFrame(data = CoupledFraction, columns = column_values)\n",
    "    return CoupledFraction\n",
    "\n",
    "def sigmoidfun(x,alpha,beta):\n",
    "    sigmoidOutput = 1/(1+np.exp(-alpha*(x-beta)))\n",
    "    return sigmoidOutput\n",
    "\n",
    "def tangentH(x):\n",
    "    Tanh = (np.exp(x)-np.exp(-x))/(np.exp(x)+np.exp(-x))\n",
    "    return Tanh\n",
    "\n",
    "def Hill_func(x,gamma):\n",
    "    Regulation_result = (x**gamma)/(x**gamma+1)\n",
    "    return Regulation_result\n",
    "\n",
    "def Coupled_Activation_functions(xi, xj, Sigmoid = True, Tanh = True, Hill = True):\n",
    "    if Sigmoid == True:\n",
    "        column_values = ['sigmoidxj','sigmoidxixj','sigmoidXjMinusXi','xisigmoidxj']\n",
    "        #column_values = ['sigmoidxj','sigmoidxixj','sigmoidXjMinusXi','xisigmoidxj',\n",
    "                        #'sigmoidxj101','sigmoidxixj101','sigmoidXjMinusXi101','xisigmoidxj101']\n",
    "        CoupledSigmoid = np.zeros(shape=(np.size(xi,0),len(column_values)))\n",
    "        for j in range(len(column_values)):\n",
    "            if j == 0:\n",
    "                tmp1 = sigmoidfun(xj,1,0)\n",
    "            if j == 1:\n",
    "                tmp2 = sigmoidfun(xi*xj,1,0)\n",
    "            if j == 2:\n",
    "                tmp3 = sigmoidfun(xj-xi,1,0)\n",
    "            if j == 3:\n",
    "                tmp4 = sigmoidfun(xj,1,0)*xi\n",
    "            if j == 4:\n",
    "                tmp5 = sigmoidfun(xj,10,1)\n",
    "            if j == 5:\n",
    "                tmp6 = sigmoidfun(xi*xj,10,1)\n",
    "            if j == 6:\n",
    "                tmp7 = sigmoidfun(xj-xi,10,1)\n",
    "            if j == 7:\n",
    "                tmp8 = sigmoidfun(xj,10,1)*xi\n",
    "        CoupledSigmoid = np.stack((tmp1,tmp2,tmp3,tmp4),axis=1)\n",
    "        #CoupledSigmoid = np.stack((tmp1,tmp2,tmp3,tmp4,tmp5,tmp6,tmp7,tmp8),axis=1)\n",
    "        CoupledSigmoid = pd.DataFrame(data = CoupledSigmoid, columns = column_values)\n",
    "    if Tanh == True:\n",
    "        column_values = ['tanhxj','tanhxixj','tanhxjMinusxi','xitanhxj']\n",
    "        CoupledTanh = np.zeros(shape=(np.size(xi,0),len(column_values)))\n",
    "        for j in range(len(column_values)):\n",
    "            if j == 0:\n",
    "                tmp1 = tangentH(xj)\n",
    "            if j == 1:\n",
    "                tmp2 = tangentH(xi*xj)\n",
    "            if j == 2:\n",
    "                tmp3 = tangentH(xj-xi)\n",
    "            if j == 3:\n",
    "                tmp4 = tangentH(xj)*xi\n",
    "        Coupledtanh = np.stack((tmp1,tmp2,tmp3,tmp4),axis=1)\n",
    "        Coupledtanh = pd.DataFrame(data = Coupledtanh, columns = column_values)\n",
    "    if Hill == True:\n",
    "        column_values = ['hillxj','hillxixj','hillxjMinusxi','xihillxj','hillxj2',\n",
    "                        'hillxixj2','hillxjMinusxi2','hillxj5','hillxixj5','hillxjMinusxi5']\n",
    "        CoupledHill = np.zeros(shape=(np.size(xi,0),len(column_values)))\n",
    "        for j in range(len(column_values)):\n",
    "            if j == 0:\n",
    "                tmp1 = Hill_func(xj,1)\n",
    "            if j == 1:\n",
    "                tmp2 = Hill_func(xi*xj,1)\n",
    "            if j == 2:\n",
    "                tmp3 = Hill_func(xj-xi,1)\n",
    "            if j == 3:\n",
    "                tmp4 = Hill_func(xj,1)*xi\n",
    "            if j == 4:\n",
    "                tmp5 = Hill_func(xj,2)\n",
    "            if j == 5:\n",
    "                tmp6 = Hill_func(xi*xj,2)\n",
    "            if j == 6:\n",
    "                tmp7 = Hill_func(xj-xi,2)\n",
    "            if j == 7:\n",
    "                tmp8 = Hill_func(xj,5)\n",
    "            if j == 8:\n",
    "                tmp9 = Hill_func(xi*xj,5)\n",
    "            if j == 9:\n",
    "                tmp10 = Hill_func(xj-xi,5)\n",
    "        CoupledHill = np.stack((tmp1,tmp2,tmp3,tmp4,tmp5,tmp6,tmp7,tmp8,tmp9,tmp10),axis=1)\n",
    "        CoupledHill = pd.DataFrame(data = CoupledHill, columns = column_values)\n",
    "    #return CoupledSigmoid\n",
    "    return pd.concat([CoupledSigmoid,Coupledtanh,CoupledHill], axis = 1) \n"
   ]
  },
  {
   "cell_type": "markdown",
   "id": "ef3b9712",
   "metadata": {},
   "source": [
    "## Seeking process"
   ]
  },
  {
   "cell_type": "code",
   "execution_count": 612,
   "id": "d3508daf",
   "metadata": {},
   "outputs": [],
   "source": [
    "Retro = pd.read_csv('tauPath_interaction_new.csv',encoding='utf-8')"
   ]
  },
  {
   "cell_type": "code",
   "execution_count": 613,
   "id": "6d7ff7d5",
   "metadata": {},
   "outputs": [],
   "source": [
    "# ignore no interaction edges' information\n",
    "columns_to_check = ['wr', 'wa', 'we']\n",
    "condition = Retro[columns_to_check].eq(0).any(axis=1)\n",
    "rows_to_delete = Retro[condition]\n",
    "Retro = Retro.drop(rows_to_delete.index)"
   ]
  },
  {
   "cell_type": "code",
   "execution_count": 614,
   "id": "60b2e604",
   "metadata": {},
   "outputs": [],
   "source": [
    "xi = Retro['x2'].values\n",
    "xj = Retro['wr'].values\n",
    "Matrix = ElementaryFunctions_Matrix(xi,xj,CoupledPolynomialIndex = True, \\\n",
    "        CoupledTrigonometricIndex = False, CoupledExponentialIndex = True, CoupledFractionalIndex = False, \\\n",
    "            CoupledActivationIndex = True)"
   ]
  },
  {
   "cell_type": "code",
   "execution_count": 615,
   "id": "86a0af94",
   "metadata": {},
   "outputs": [],
   "source": [
    "Matrix = Matrix.replace([np.inf, -np.inf], np.nan).dropna(axis=1)"
   ]
  },
  {
   "cell_type": "code",
   "execution_count": 616,
   "id": "221a7fcd",
   "metadata": {},
   "outputs": [],
   "source": [
    "# xi and xj are different dimensions, i.e. concentration and length(weight), \n",
    "#we should ignore the unreasonable elementary functions, for example, the linear combination (xj-xi)\n",
    "\n",
    "#columns_to_delete = Matrix.columns[Matrix.columns.str.contains('xjMinusxi')] #this will give an alternative answer, we choose the interpretable one\n",
    "columns_to_delete = Matrix.columns[Matrix.columns.str.contains('xixj|xjMinusxi')]\n",
    "columns_without_xi = Matrix.columns[~Matrix.columns.str.contains('xi')] #drop the terms without xj\n",
    "columns_to_delete = columns_to_delete.union(columns_without_xi)\n",
    "Matrix = Matrix.drop(columns=columns_to_delete)"
   ]
  },
  {
   "cell_type": "code",
   "execution_count": 617,
   "id": "97c2e159",
   "metadata": {},
   "outputs": [],
   "source": [
    "from sklearn.preprocessing import normalize \n",
    "from sklearn.linear_model import LassoLarsCV \n",
    "from sklearn.linear_model import LassoCV\n",
    "from sklearn.metrics import mean_squared_error "
   ]
  },
  {
   "cell_type": "code",
   "execution_count": 618,
   "id": "8533ebed",
   "metadata": {},
   "outputs": [],
   "source": [
    "goal = Retro['er'].values.reshape(-1,1)\n",
    "goal = pd.DataFrame(data = goal, columns =['er'])"
   ]
  },
  {
   "cell_type": "code",
   "execution_count": 619,
   "id": "735c8c95",
   "metadata": {},
   "outputs": [],
   "source": [
    "X = Matrix.copy()\n",
    "y = goal.copy()"
   ]
  },
  {
   "cell_type": "code",
   "execution_count": 620,
   "id": "37bc6632",
   "metadata": {},
   "outputs": [],
   "source": [
    "X_mat = X.values \n",
    "y_mat = y.values\n",
    "x_norml1 = []\n",
    "y_norml1 = []\n",
    "num = np.shape(X_mat)[1]\n",
    "num2 = 1\n",
    "L = np.shape(X_mat)[0]\n",
    "\n",
    "for i in range(0,num):\n",
    "    x_norml1.append(sum(abs(X_mat[:,i])))\n",
    "\n",
    "for i in range(0,num2):\n",
    "    y_norml1.append(sum(abs(y_mat[:,i])))\n",
    "\n",
    "X = pd.DataFrame(X)\n",
    "y = pd.DataFrame(y)\n",
    "\n",
    "X[X.columns] = normalize(X[X.columns], norm='l1', axis=0)*L\n",
    "y[y.columns] = normalize(y[y.columns], norm='l1', axis=0)*L\n",
    "\n",
    "X_col = X.columns \n",
    "Xin = X.iloc[:,:]\n",
    "out = np.array(y)\n",
    "y1 = (out[:,0])"
   ]
  },
  {
   "cell_type": "code",
   "execution_count": 621,
   "id": "8a383eea",
   "metadata": {},
   "outputs": [
    {
     "name": "stdout",
     "output_type": "stream",
     "text": [
      "0.9210412584845744\n",
      "Best threshold: 0.009\n"
     ]
    }
   ],
   "source": [
    "reg1 = LassoCV(cv=5, fit_intercept=True, n_jobs=-1, max_iter=10000).fit(Xin,y1)\n",
    "print(reg1.score(Xin,y1))\n",
    "print('Best threshold: %.3f' % reg1.alpha_)"
   ]
  },
  {
   "cell_type": "code",
   "execution_count": 622,
   "id": "c3ab5d3d",
   "metadata": {},
   "outputs": [],
   "source": [
    "for i in range(len(reg1.coef_)):\n",
    "        reg1.coef_[i] = reg1.coef_[i]*y_norml1[0]/x_norml1[i]"
   ]
  },
  {
   "cell_type": "code",
   "execution_count": 623,
   "id": "803ee172",
   "metadata": {},
   "outputs": [
    {
     "name": "stdout",
     "output_type": "stream",
     "text": [
      "Elementary functions discovered by Phase 1 with constant.\n",
      "xiexpxj        0.007526\n",
      "xitanhxj      -0.033296\n",
      "xihillxj       0.038416\n",
      "xisigmoidxj   -0.042444\n",
      "constant      -0.001031\n",
      "dtype: float64\n"
     ]
    }
   ],
   "source": [
    "coef1 = pd.Series(reg1.coef_, index = X_col)\n",
    "imp_ = pd.concat([coef1.sort_values(key=abs).head(int(0)),\n",
    "                     coef1.sort_values(key=abs).tail(int(10))])\n",
    "imp_cons = imp_ + (1e-10)\n",
    "imp_cons['constant'] = reg1.intercept_*y_norml1[0]/L\n",
    "print(\"Elementary functions discovered by Phase 1 with constant.\")\n",
    "print(imp_cons)"
   ]
  },
  {
   "cell_type": "code",
   "execution_count": 624,
   "id": "b4f307c0",
   "metadata": {},
   "outputs": [],
   "source": [
    "from math import log\n",
    "def calculate_aic(n,mse,num_params):\n",
    "    aic = n * log(mse) + 2 * num_params \n",
    "    return aic "
   ]
  },
  {
   "cell_type": "code",
   "execution_count": 625,
   "id": "bec9e841",
   "metadata": {},
   "outputs": [],
   "source": [
    "from sklearn.linear_model import LinearRegression \n",
    "from sklearn.metrics import mean_squared_error\n",
    "def terms_sort_fit(X_lib,Y_goal,intercept):\n",
    "    reg = LinearRegression(fit_intercept=intercept).fit(X_lib,Y_goal)\n",
    "#     print(X_lib.columns)\n",
    "#     print(reg.coef_)\n",
    "#     if intercept == True:\n",
    "#         coef['constant'] = reg.intercept_\n",
    "#         num_params = len(coef)\n",
    "#     else:\n",
    "#         num_params = len(coef) \n",
    "    num_params = X_lib.shape[1]\n",
    "    P = X_lib\n",
    "    Score = reg.score(X_lib,Y_goal)\n",
    "    yhat = reg.predict(P)\n",
    "    mse = mean_squared_error(Y_goal, yhat)\n",
    "    aic = calculate_aic(len(Y_goal), mse, num_params)\n",
    "    #print('label of function: %.3f' % time)\n",
    "    #sort = coef.sort_values()\n",
    "    return Score, mse, aic"
   ]
  },
  {
   "cell_type": "code",
   "execution_count": 626,
   "id": "d66befde",
   "metadata": {},
   "outputs": [
    {
     "name": "stdout",
     "output_type": "stream",
     "text": [
      "2.220446049250313e-16 6.242848928286471e-06 -596804.8812535506 constant\n",
      "0.894500828401448 6.586153903491315e-07 -708805.6797300654 xisigmoidxj\n",
      "0.908998315478682 5.681097686861735e-07 -716165.3688719351 xihillxj\n",
      "0.9091071733588427 5.674301853856766e-07 -716222.9762019701 xitanhxj\n",
      "0.9226432175481626 4.829267064251428e-07 -724251.3668787471 xiexpxj\n"
     ]
    }
   ],
   "source": [
    "X = pd.DataFrame()\n",
    "Score_list = np.zeros(shape=(imp_cons.shape[0],1))\n",
    "MSE_list = np.zeros(shape=(imp_cons.shape[0],1))\n",
    "AIC_list = np.zeros(shape=(imp_cons.shape[0],1))\n",
    "y = goal.copy()\n",
    "for i in range(1,imp_cons.shape[0]+1):\n",
    "    if imp_cons.index[-i] != 'constant':\n",
    "        tmp = Matrix.copy()[imp_cons.index[-i]]\n",
    "        if i == 1:\n",
    "            X = Matrix.copy()[imp_cons.index[-i]].values.reshape(-1,1)\n",
    "            X = pd.DataFrame(X)\n",
    "        else:\n",
    "            X = pd.concat([X,tmp],axis=1)\n",
    "    else:\n",
    "        Cons = np.ones((y1.shape[0],1))*imp_cons['constant']\n",
    "        X = pd.DataFrame(Cons)\n",
    "    Score, mse, aic = terms_sort_fit(X,y,False)\n",
    "    Score_list[i-1] = Score\n",
    "    MSE_list[i-1] = mse\n",
    "    AIC_list[i-1] = aic\n",
    "    print(Score, mse, aic,imp_cons.index[-i])"
   ]
  },
  {
   "cell_type": "code",
   "execution_count": 627,
   "id": "385ea6e5",
   "metadata": {},
   "outputs": [
    {
     "data": {
      "image/png": "[encoded data removed]",
      "text/plain": [
       "<Figure size 720x720 with 3 Axes>"
      ]
     },
     "metadata": {
      "needs_background": "light"
     },
     "output_type": "display_data"
    }
   ],
   "source": [
    "# Visualization\n",
    "Index = np.arange(1,imp_cons.shape[0]+1,1)\n",
    "fig = plt.figure(figsize=(10,10))\n",
    "fig.add_subplot(3,1,1)\n",
    "l1, = plt.plot(Index,Score_list, marker='o', linestyle='dashed')\n",
    "plt.xticks(Index)\n",
    "plt.xlabel('The label of the equation')\n",
    "plt.ylabel('values-Score')\n",
    "plt.ylim(-0.1, 1)  \n",
    "fig.add_subplot(3,1,2)\n",
    "l2, = plt.plot(Index,MSE_list, marker='+', linestyle='dashed')\n",
    "plt.xticks(Index)\n",
    "plt.xlabel('The label of the equation')\n",
    "plt.ylabel('values-MSE')\n",
    "fig.add_subplot(3,1,3)\n",
    "l3, = plt.plot(Index,AIC_list, marker='o')\n",
    "plt.xticks(Index)\n",
    "plt.xlabel('The label of the equation')\n",
    "plt.ylabel('values of AIC')\n",
    "plt.savefig('/Users/lanag/Downloads/Functions_retrograde.pdf', format='pdf')\n",
    "plt.show()"
   ]
  },
  {
   "cell_type": "code",
   "execution_count": 628,
   "id": "de79a583",
   "metadata": {},
   "outputs": [
    {
     "name": "stdout",
     "output_type": "stream",
     "text": [
      "Function: xiexpxj Coefficient: [[-0.00800306]] Constant: [-0.00112723] Regression score: 0.6966751591355521\n",
      "Function: xitanhxj Coefficient: [[-0.02807211]] Constant: [-0.00130271] Regression score: 0.3266884552500936\n",
      "Function: xihillxj Coefficient: [[-0.04518424]] Constant: [-0.00126864] Regression score: 0.4004213130193336\n",
      "Function: xisigmoidxj Coefficient: [[-0.02487682]] Constant: [-0.00103861] Regression score: 0.894500828401448\n"
     ]
    }
   ],
   "source": [
    "xi = Retro['x2'].values\n",
    "xj = Retro['wr'].values\n",
    "Matrix = ElementaryFunctions_Matrix(xi,xj)\n",
    "Matrix = Matrix.replace([np.inf, -np.inf], np.nan).dropna(axis=1)\n",
    "goal = Retro['er'].values.reshape(-1,1)\n",
    "goal = pd.DataFrame(data = goal, columns =['er'])\n",
    "for index, element in imp_cons.iteritems():\n",
    "    if index != 'constant':\n",
    "        Xfind = Matrix[index].values.reshape(-1,1)\n",
    "        model_linear = LinearRegression(fit_intercept=True)\n",
    "        model_linear.fit(Xfind,goal)\n",
    "        a = model_linear.coef_\n",
    "        print(\"Function:\", index, \"Coefficient:\", a, \"Constant:\", model_linear.intercept_, \"Regression score:\", model_linear.score(Xfind, goal) )"
   ]
  },
  {
   "cell_type": "markdown",
   "id": "16a66210",
   "metadata": {},
   "source": [
    "### Choose function depending on the complexity"
   ]
  },
  {
   "cell_type": "code",
   "execution_count": null,
   "id": "58e72801",
   "metadata": {},
   "outputs": [],
   "source": [
    "# especially for Euclidean-interaction\n",
    "# Depending on the function's complexity"
   ]
  },
  {
   "cell_type": "markdown",
   "id": "54231b1f",
   "metadata": {},
   "source": [
    "### Final fine-tuing regression"
   ]
  },
  {
   "cell_type": "code",
   "execution_count": 365,
   "id": "03406a04",
   "metadata": {},
   "outputs": [
    {
     "name": "stdout",
     "output_type": "stream",
     "text": [
      "Coefficient: [[-0.02487682]] Constant: [-0.00103861] Regression score: 0.894500828401448\n"
     ]
    }
   ],
   "source": [
    "xi = Retro['x2'].values\n",
    "xj = Retro['wr'].values\n",
    "Matrix = ElementaryFunctions_Matrix(xi,xj)\n",
    "Matrix = Matrix.replace([np.inf, -np.inf], np.nan).dropna(axis=1)\n",
    "goal = Retro['er'].values.reshape(-1,1)\n",
    "goal = pd.DataFrame(data = goal, columns =['er'])\n",
    "Xfind = Matrix['xisigmoidxj'].values.reshape(-1,1)\n",
    "model_linear = LinearRegression(fit_intercept=True)\n",
    "model_linear.fit(Xfind,goal)\n",
    "a = model_linear.coef_\n",
    "print(\"Coefficient:\", a, \"Constant:\", model_linear.intercept_, \"Regression score:\", model_linear.score(Xfind, goal) )"
   ]
  },
  {
   "cell_type": "code",
   "execution_count": 366,
   "id": "08356c5b",
   "metadata": {},
   "outputs": [],
   "source": [
    "Cr = model_linear.intercept_"
   ]
  },
  {
   "cell_type": "markdown",
   "id": "8e99400e",
   "metadata": {},
   "source": [
    "### anterograde"
   ]
  },
  {
   "cell_type": "code",
   "execution_count": 367,
   "id": "b70528fa",
   "metadata": {},
   "outputs": [
    {
     "name": "stdout",
     "output_type": "stream",
     "text": [
      "Coefficient: [0.02366924] Constant: 0.02650292598808541 Regression score: 0.8563454675620041\n"
     ]
    }
   ],
   "source": [
    "xi = Retro['x2'].values\n",
    "xj = Retro['wa'].values\n",
    "# xi = bestMe['x1'].values\n",
    "# xj = bestMe['x2'].values\n",
    "Matrix = ElementaryFunctions_Matrix(xi,xj)\n",
    "Matrix = Matrix.replace([np.inf, -np.inf], np.nan).dropna(axis=1)\n",
    "#goal = bestMe_excit['e0'].values.reshape(-1,1)\n",
    "goal = Retro['ea'].values.reshape(-1,1)\n",
    "goal = pd.DataFrame(data = goal, columns =['ea'])\n",
    "X = Matrix.copy()\n",
    "y = goal.copy()\n",
    "Xfind = X['xisigmoidxj']\n",
    "Xfind = Xfind.values.reshape(-1,1)\n",
    "yfind = y['ea']\n",
    "vmodel_linear = LinearRegression(fit_intercept=True)\n",
    "model_linear.fit(Xfind,yfind)\n",
    "a = model_linear.coef_\n",
    "print(\"Coefficient:\", a, \"Constant:\", model_linear.intercept_, \"Regression score:\", model_linear.score(Xfind, goal)) "
   ]
  },
  {
   "cell_type": "code",
   "execution_count": 368,
   "id": "1bf3bc4d",
   "metadata": {},
   "outputs": [],
   "source": [
    "Ca = model_linear.intercept_"
   ]
  },
  {
   "cell_type": "markdown",
   "id": "22add4e7",
   "metadata": {},
   "source": [
    "### Euclidean"
   ]
  },
  {
   "cell_type": "code",
   "execution_count": 369,
   "id": "fc635af2",
   "metadata": {},
   "outputs": [
    {
     "name": "stdout",
     "output_type": "stream",
     "text": [
      "Coefficient: [0.0020781] Constant: -0.025506557530099037 Regression score: 0.9885171454804416\n"
     ]
    }
   ],
   "source": [
    "xi = Retro['x2'].values\n",
    "xj = Retro['we'].values\n",
    "Matrix = ElementaryFunctions_Matrix(xi,xj)\n",
    "Matrix = Matrix.replace([np.inf, -np.inf], np.nan).dropna(axis=1)\n",
    "goal = Retro['ee'].values.reshape(-1,1)\n",
    "goal = pd.DataFrame(data = goal, columns =['ee'])\n",
    "X = Matrix.copy()\n",
    "y = goal.copy()\n",
    "Xfind = X['xiexpxj']\n",
    "Xfind = Xfind.values.reshape(-1,1)\n",
    "yfind = y['ee']\n",
    "model_linear = LinearRegression(fit_intercept=True)\n",
    "model_linear.fit(Xfind,yfind)\n",
    "a = model_linear.coef_\n",
    "print(\"Coefficient:\", a, \"Constant:\", model_linear.intercept_, \"Regression score:\", model_linear.score(Xfind, goal)) "
   ]
  },
  {
   "cell_type": "code",
   "execution_count": 370,
   "id": "6679764e",
   "metadata": {},
   "outputs": [],
   "source": [
    "Ce = model_linear.intercept_"
   ]
  },
  {
   "cell_type": "code",
   "execution_count": 339,
   "id": "9feda529",
   "metadata": {},
   "outputs": [],
   "source": [
    "best_selfDyn = pd.read_csv('/Users/lanag/Downloads/tauPath_self_new.csv')\n",
    "\n",
    "TimeSeries = best_selfDyn['x'].values\n",
    "TimeSeries = TimeSeries.reshape(-1,1)\n",
    "self_matrix = self_ElementaryFunctions_Matrix(TimeSeries, 1, 4, PolynomialIndex = True, TrigonometricIndex = False, \\\n",
    "ExponentialIndex = True, FractionalIndex = False, ActivationIndex = False)\n",
    "self_matrix = self_matrix.replace([np.inf, -np.inf], np.nan).dropna(axis=1)\n",
    "goal = best_selfDyn['s1'].values\n",
    "goal = pd.DataFrame(data = goal, columns =['s1'])\n",
    "X = self_matrix.copy()\n",
    "y = goal.copy()"
   ]
  },
  {
   "cell_type": "code",
   "execution_count": 340,
   "id": "bb3542ee",
   "metadata": {},
   "outputs": [],
   "source": [
    "X_mat = X.values \n",
    "y_mat = y.values\n",
    "x_norml1 = []\n",
    "y_norml1 = []\n",
    "num = np.shape(X_mat)[1]\n",
    "num2 = 1\n",
    "L = np.shape(X_mat)[0]\n",
    "\n",
    "for i in range(0,num):\n",
    "    x_norml1.append(sum(abs(X_mat[:,i])))\n",
    "\n",
    "for i in range(0,num2):\n",
    "    y_norml1.append(sum(abs(y_mat[:,i])))\n",
    "\n",
    "X = pd.DataFrame(X)\n",
    "y = pd.DataFrame(y)\n",
    "\n",
    "X[X.columns] = normalize(X[X.columns], norm='l1', axis=0)*L\n",
    "y[y.columns] = normalize(y[y.columns], norm='l1', axis=0)*L\n",
    "\n",
    "X_col = X.columns \n",
    "Xin = X.iloc[:,:]\n",
    "out = np.array(y)\n",
    "y1 = (out[:,0])"
   ]
  },
  {
   "cell_type": "code",
   "execution_count": 341,
   "id": "e86b5371",
   "metadata": {},
   "outputs": [
    {
     "name": "stdout",
     "output_type": "stream",
     "text": [
      "0.9999560706540178\n",
      "Best threshold: 0.026\n"
     ]
    }
   ],
   "source": [
    "reg1 = LassoCV(cv=8, fit_intercept=False, n_jobs=-1, max_iter=1000, normalize=False).fit(Xin,y1)\n",
    "print(reg1.score(Xin,y1))\n",
    "print('Best threshold: %.3f' % reg1.alpha_)"
   ]
  },
  {
   "cell_type": "code",
   "execution_count": 342,
   "id": "aa57bf6c",
   "metadata": {},
   "outputs": [
    {
     "name": "stdout",
     "output_type": "stream",
     "text": [
      "Elementary functions discovered by Phase 1 without constant.\n",
      "x1x1x1x1    1.000000e-10\n",
      "x1x1x1      9.999999e-11\n",
      "x1x1        9.999695e-11\n",
      "expx1      -1.002354e-03\n",
      "x1         -7.171158e-02\n",
      "dtype: float64\n"
     ]
    }
   ],
   "source": [
    "for i in range(len(reg1.coef_)):\n",
    "    reg1.coef_[i] = reg1.coef_[i]*y_norml1[0]/x_norml1[i]\n",
    "coef1 = pd.Series(reg1.coef_, index = X_col)\n",
    "imp_coef1 = pd.concat([coef1.sort_values(key=abs).head(int(0)),\n",
    "                     coef1.sort_values(key=abs).tail(int(10))])\n",
    "imp_cons = imp_coef1 + (1e-10)\n",
    "print(\"Elementary functions discovered by Phase 1 without constant.\")\n",
    "print(imp_cons)"
   ]
  },
  {
   "cell_type": "code",
   "execution_count": 343,
   "id": "981689a8",
   "metadata": {},
   "outputs": [
    {
     "name": "stdout",
     "output_type": "stream",
     "text": [
      "0.9910464004320751 1.131812458060578e-06 -22003913.424881414 x1\n",
      "1.0 2.3772328736517557e-22 -80019007.46610066 expx1\n",
      "1.0 2.3772328735900253e-22 -80019005.4661424 x1x1\n",
      "1.0 2.3772328738291035e-22 -80019003.46598077 x1x1x1\n",
      "1.0 2.377232872649914e-22 -80019001.46677794 x1x1x1x1\n"
     ]
    }
   ],
   "source": [
    "X = pd.DataFrame()\n",
    "Score_list = np.zeros(shape=(imp_cons.shape[0],1))\n",
    "MSE_list = np.zeros(shape=(imp_cons.shape[0],1))\n",
    "AIC_list = np.zeros(shape=(imp_cons.shape[0],1))\n",
    "y = goal.copy()\n",
    "for i in range(1,imp_cons.shape[0]+1):\n",
    "    if imp_cons.index[-i] != 'constant':\n",
    "        tmp = self_matrix.copy()[imp_cons.index[-i]]\n",
    "        if i == 1:\n",
    "            X = self_matrix.copy()[imp_cons.index[-i]].values.reshape(-1,1)\n",
    "            X = pd.DataFrame(X)\n",
    "        else:\n",
    "            X = pd.concat([X,tmp],axis=1)\n",
    "    else:\n",
    "        Cons = np.ones((y1.shape[0],1))*imp_cons['constant']\n",
    "        X = pd.DataFrame(Cons)\n",
    "    Score, mse, aic = terms_sort_fit(X,y,False)\n",
    "    Score_list[i-1] = Score\n",
    "    MSE_list[i-1] = mse\n",
    "    AIC_list[i-1] = aic\n",
    "    print(Score, mse, aic,imp_cons.index[-i])"
   ]
  },
  {
   "cell_type": "code",
   "execution_count": 344,
   "id": "27e2a144",
   "metadata": {},
   "outputs": [
    {
     "data": {
      "image/png": "[encoded data removed]",
      "text/plain": [
       "<Figure size 720x720 with 3 Axes>"
      ]
     },
     "metadata": {
      "needs_background": "light"
     },
     "output_type": "display_data"
    }
   ],
   "source": [
    "# Visualization\n",
    "Index = np.arange(1,imp_cons.shape[0]+1,1)\n",
    "fig = plt.figure(figsize=(10,10))\n",
    "fig.add_subplot(3,1,1)\n",
    "l1, = plt.plot(Index,Score_list, marker='o', linestyle='dashed')\n",
    "plt.xticks(Index)\n",
    "plt.xlabel('The label of the equation')\n",
    "plt.ylabel('values-Score')\n",
    "plt.ylim(0, 1) \n",
    "fig.add_subplot(3,1,2)\n",
    "l2, = plt.plot(Index,MSE_list, marker='+', linestyle='dashed')\n",
    "plt.xticks(Index)\n",
    "plt.xlabel('The label of the equation')\n",
    "plt.ylabel('values-MSE')\n",
    "fig.add_subplot(3,1,3)\n",
    "l3, = plt.plot(Index,AIC_list, marker='o')\n",
    "plt.xticks(Index)\n",
    "plt.xlabel('The label of the equation')\n",
    "plt.ylabel('values of AIC')\n",
    "plt.show()"
   ]
  },
  {
   "cell_type": "code",
   "execution_count": 345,
   "id": "1481ae6f",
   "metadata": {},
   "outputs": [],
   "source": [
    "TimeSeries = best_selfDyn['x'].values\n",
    "TimeSeries = TimeSeries.reshape(-1,1)\n",
    "self_matrix = self_ElementaryFunctions_Matrix(TimeSeries, 1, 4, PolynomialIndex = True, TrigonometricIndex = False, \\\n",
    "ExponentialIndex = True, FractionalIndex = False, ActivationIndex = False)\n",
    "self_matrix = self_matrix.replace([np.inf, -np.inf], np.nan).dropna(axis=1)\n",
    "goal = best_selfDyn['s1'].values\n",
    "goal = pd.DataFrame(data = goal, columns =['s1'])\n",
    "X = self_matrix.copy()\n",
    "y = goal.copy()\n",
    "Xfind = X['x1'].values.reshape(-1,1)#pd.concat([v1,v2],axis=1)\n",
    "yfind = y['s1']"
   ]
  },
  {
   "cell_type": "code",
   "execution_count": 346,
   "id": "e6693b1f",
   "metadata": {},
   "outputs": [],
   "source": [
    "model_linear = LinearRegression(fit_intercept=False)\n",
    "model_linear.fit(Xfind,yfind)\n",
    "a = model_linear.coef_"
   ]
  },
  {
   "cell_type": "code",
   "execution_count": 347,
   "id": "747bc917",
   "metadata": {},
   "outputs": [
    {
     "name": "stdout",
     "output_type": "stream",
     "text": [
      "Coefficient: [-0.07451057] Regression score: 0.9910464004320751\n"
     ]
    }
   ],
   "source": [
    "print(\"Coefficient:\", a, \"Regression score:\", model_linear.score(Xfind, goal)) "
   ]
  },
  {
   "cell_type": "code",
   "execution_count": 371,
   "id": "a4fbb552",
   "metadata": {},
   "outputs": [],
   "source": [
    "all_cons = Cr+Ca+Ce"
   ]
  },
  {
   "cell_type": "code",
   "execution_count": 372,
   "id": "c8c0c0cc",
   "metadata": {},
   "outputs": [
    {
     "data": {
      "text/plain": [
       "array([-4.2243671e-05])"
      ]
     },
     "execution_count": 372,
     "metadata": {},
     "output_type": "execute_result"
    }
   ],
   "source": [
    "all_cons #can be ignored"
   ]
  },
  {
   "cell_type": "code",
   "execution_count": null,
   "id": "3f215b27",
   "metadata": {},
   "outputs": [],
   "source": []
  }
 ],
 "metadata": {
  "kernelspec": {
   "display_name": "Python 3 (ipykernel)",
   "language": "python",
   "name": "python3"
  },
  "language_info": {
   "codemirror_mode": {
    "name": "ipython",
    "version": 3
   },
   "file_extension": ".py",
   "mimetype": "text/x-python",
   "name": "python",
   "nbconvert_exporter": "python",
   "pygments_lexer": "ipython3",
   "version": "3.8.12"
  }
 },
 "nbformat": 4,
 "nbformat_minor": 5
}
