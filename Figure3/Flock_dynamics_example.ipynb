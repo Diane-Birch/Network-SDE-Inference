{
 "cells": [
  {
   "cell_type": "code",
   "execution_count": 41,
   "id": "433fb0f4",
   "metadata": {},
   "outputs": [],
   "source": [
    "import numpy as np\n",
    "import pandas as pd\n",
    "import os\n",
    "import torch\n",
    "from torch.autograd import Variable\n",
    "from matplotlib import pyplot as plt\n",
    "%matplotlib inline"
   ]
  },
  {
   "cell_type": "code",
   "execution_count": 42,
   "id": "7081b589",
   "metadata": {},
   "outputs": [],
   "source": [
    "import sys\n",
    "sys.path.append(\"/Users/lanag/Library/CloudStorage/OneDrive-个人/Project2-StochasticDynamics/manuscript_code/Code/utils\")\n",
    "import NeuGNN_model\n",
    "import Self_func\n",
    "import Interaction_func\n",
    "from NeuGNN_model import *\n",
    "from Self_func import *\n",
    "from Interaction_func import *"
   ]
  },
  {
   "cell_type": "code",
   "execution_count": 43,
   "id": "7c0c1d40",
   "metadata": {},
   "outputs": [],
   "source": [
    "USE_CUDA = False"
   ]
  },
  {
   "cell_type": "code",
   "execution_count": 44,
   "id": "3526ce1b",
   "metadata": {},
   "outputs": [],
   "source": [
    "Timeseries = pd.read_csv('/Users/lanag/Library/CloudStorage/OneDrive-个人/Project2-StochasticDynamics/manuscript_code/Code/Data/Time series/flocks_timeseries_2dim_hf4.csv',encoding='utf-8',header=None)"
   ]
  },
  {
   "cell_type": "code",
   "execution_count": 45,
   "id": "8e6f3a1f",
   "metadata": {},
   "outputs": [],
   "source": [
    "Adj = pd.read_csv('/Users/lanag/Library/CloudStorage/OneDrive-个人/Project2-StochasticDynamics/manuscript_code/Code/Data/Topology/hf4_matrix.csv',encoding='utf-8',header=None)"
   ]
  },
  {
   "cell_type": "code",
   "execution_count": 46,
   "id": "f2586b81",
   "metadata": {},
   "outputs": [],
   "source": [
    "model = 'flocks'"
   ]
  },
  {
   "cell_type": "code",
   "execution_count": 47,
   "id": "c11f9fd6",
   "metadata": {},
   "outputs": [],
   "source": [
    "Num_nodes = Adj.shape[0]\n",
    "Dimension = int(Timeseries.shape[1]/Num_nodes)"
   ]
  },
  {
   "cell_type": "code",
   "execution_count": 48,
   "id": "83b2ac16",
   "metadata": {},
   "outputs": [],
   "source": [
    "time = Timeseries.values\n",
    "timeseries = time.reshape(( -1, Num_nodes, Dimension)) # checked, correct input data"
   ]
  },
  {
   "cell_type": "code",
   "execution_count": 49,
   "id": "6214ef41",
   "metadata": {},
   "outputs": [],
   "source": [
    "delt_t = 0.01"
   ]
  },
  {
   "cell_type": "code",
   "execution_count": 50,
   "id": "a0cc5ddc",
   "metadata": {},
   "outputs": [],
   "source": [
    "timeseries_t0 = timeseries[0:-1,:,:]\n",
    "timeseries_t1 = timeseries[1:,:,:]\n",
    "dX = (timeseries_t1-timeseries_t0)\n",
    "dXdt = (timeseries_t1-timeseries_t0)/delt_t"
   ]
  },
  {
   "cell_type": "code",
   "execution_count": 51,
   "id": "dd41ef6f",
   "metadata": {},
   "outputs": [],
   "source": [
    "timeseries_t2 = timeseries[2:,:,:]\n",
    "dVdt = (timeseries_t2-2*timeseries_t1[:-1,:,:]+timeseries[0:-2,:,:])/delt_t**2"
   ]
  },
  {
   "cell_type": "code",
   "execution_count": 52,
   "id": "987c48bc",
   "metadata": {},
   "outputs": [],
   "source": [
    "import numpy as np\n",
    "def get_edge_index(Adj):\n",
    "    num_nodes = Adj.shape[0]\n",
    "    Adj = Adj.values\n",
    "    edge_index = torch.from_numpy(np.array(np.where(Adj)))\n",
    "    return edge_index"
   ]
  },
  {
   "cell_type": "code",
   "execution_count": 53,
   "id": "82372e79",
   "metadata": {},
   "outputs": [],
   "source": [
    "edge_index = get_edge_index(Adj) #target to source\n",
    "\n",
    "index = [1,0]\n",
    "edge_index = edge_index[index] #source to target \n",
    "# checked, correct input edge_index data"
   ]
  },
  {
   "cell_type": "code",
   "execution_count": 54,
   "id": "3684a076",
   "metadata": {},
   "outputs": [],
   "source": [
    "#data = data.reshape((10,-1,4,6))\n",
    "import numpy as np\n",
    "goal_data = np.concatenate([timeseries[3:,:,:],dXdt[1:-1,:,:],dVdt[:-1,:,:]],axis=2)\n",
    "#goal_data = data[1:-1,:,0:Dimension]\n",
    "mapping_data = np.concatenate((timeseries[1:-2,:,:],dXdt[0:-2,:,:]),axis=2)"
   ]
  },
  {
   "cell_type": "code",
   "execution_count": 55,
   "id": "ee02ac36",
   "metadata": {},
   "outputs": [],
   "source": [
    "X = torch.as_tensor(np.array(mapping_data).astype('float'))\n",
    "y = torch.as_tensor(np.array(goal_data).astype('float'))"
   ]
  },
  {
   "cell_type": "code",
   "execution_count": 56,
   "id": "e0e48e76",
   "metadata": {},
   "outputs": [],
   "source": [
    "from sklearn.model_selection import train_test_split"
   ]
  },
  {
   "cell_type": "code",
   "execution_count": 57,
   "id": "bbad5506",
   "metadata": {},
   "outputs": [],
   "source": [
    "X_train, X_test, y_train, y_test = train_test_split(X, y, shuffle=True, test_size=0.2)\n",
    "X_train = X_train.float()\n",
    "y_train = y_train.float()\n",
    "X_test = X_test.float()\n",
    "y_test = y_test.float()"
   ]
  },
  {
   "cell_type": "code",
   "execution_count": 58,
   "id": "a0d936eb",
   "metadata": {},
   "outputs": [],
   "source": [
    "import torch\n",
    "from torch import nn\n",
    "from torch.functional import F\n",
    "from torch.optim import Adam\n",
    "from torch_geometric.nn import MetaLayer, MessagePassing"
   ]
  },
  {
   "cell_type": "code",
   "execution_count": 59,
   "id": "62d01473",
   "metadata": {},
   "outputs": [],
   "source": [
    "aggr = 'add'\n",
    "hidden = 100\n",
    "\n",
    "\n",
    "msg_dim = 3\n",
    "n_f = mapping_data.shape[2]"
   ]
  },
  {
   "cell_type": "code",
   "execution_count": 60,
   "id": "760f17e1",
   "metadata": {},
   "outputs": [],
   "source": [
    "dim = Dimension*1"
   ]
  },
  {
   "cell_type": "code",
   "execution_count": 61,
   "id": "ad52e670",
   "metadata": {},
   "outputs": [],
   "source": [
    "from torch_geometric.data import Data, DataLoader"
   ]
  },
  {
   "cell_type": "markdown",
   "id": "d313e9a8",
   "metadata": {},
   "source": [
    "## Define the network, also can import from utils file (uncomment first)"
   ]
  },
  {
   "cell_type": "code",
   "execution_count": 62,
   "id": "4cb61f9c",
   "metadata": {},
   "outputs": [],
   "source": [
    "class SDIdifftype(MessagePassing):\n",
    "    def __init__(self, model, n_f, msg_dim, ndim, delt_t,hidden=50, aggr='add', flow='source_to_target'):\n",
    "\n",
    "        \"\"\"If flow is 'source_to_target', the relation is (j,i), means information is passed from x_j to x_i'\"\"\"\n",
    "        super(SDIdifftype, self).__init__(aggr=aggr, flow=flow)\n",
    "        self.msg_fnc_cohesion = Seq(\n",
    "            Lin(1,hidden),\n",
    "            ReLU(),\n",
    "            Lin(hidden,hidden),\n",
    "            ReLU(),\n",
    "            Lin(hidden,hidden),\n",
    "            ReLU(),\n",
    "            Lin(hidden,1)\n",
    "            #Softplus()\n",
    "        )\n",
    "        for layer in self.msg_fnc_cohesion:\n",
    "            if isinstance(layer,nn.Linear):\n",
    "                param_shape = layer.weight.shape\n",
    "                torch.nn.init.normal_(layer.weight, mean=0.0, std = 1e-1)\n",
    "           \n",
    "        self.msg_fnc_align = Seq(\n",
    "            Lin(1,hidden),\n",
    "            ReLU(),\n",
    "            Lin(hidden,hidden),\n",
    "            ReLU(),\n",
    "            Lin(hidden,hidden),\n",
    "            ReLU(),\n",
    "            Lin(hidden,1)\n",
    "            #Softplus()\n",
    "        )\n",
    "        for layer in self.msg_fnc_align:\n",
    "            if isinstance(layer,nn.Linear):\n",
    "                param_shape = layer.weight.shape\n",
    "                torch.nn.init.normal_(layer.weight, mean=0.0, std = 1e-1)\n",
    "                \n",
    "        self.msg_fnc_repulsion = Seq(\n",
    "            Lin(1,hidden),\n",
    "            ReLU(),\n",
    "            Lin(hidden,hidden),\n",
    "            ReLU(),\n",
    "            Lin(hidden,hidden),\n",
    "            ReLU(),\n",
    "            Lin(hidden,1),\n",
    "            Sigmoid()\n",
    "        )\n",
    "        for layer in self.msg_fnc_repulsion:\n",
    "            if isinstance(layer,nn.Linear):\n",
    "                param_shape = layer.weight.shape\n",
    "                torch.nn.init.normal_(layer.weight, mean=0.0, std = 1e-1)\n",
    "                \n",
    "        self.node_fnc_strength_x = Seq(\n",
    "            Lin(2,hidden),\n",
    "            ReLU(),\n",
    "            Lin(hidden,hidden),\n",
    "            ReLU(),\n",
    "            Lin(hidden,hidden),\n",
    "            ReLU(),\n",
    "            Lin(hidden,1)\n",
    "        )\n",
    "        \n",
    "        for layer in self.node_fnc_strength_x:\n",
    "            if isinstance(layer,nn.Linear):\n",
    "                param_shape = layer.weight.shape\n",
    "                torch.nn.init.normal_(layer.weight, mean=0.0, std = 1e-1)\n",
    "        \n",
    "        self.node_fnc_strength_y = Seq(\n",
    "            Lin(2,hidden),\n",
    "            ReLU(),\n",
    "            Lin(hidden,hidden),\n",
    "            ReLU(),\n",
    "            Lin(hidden,hidden),\n",
    "            ReLU(),\n",
    "            Lin(hidden,1)\n",
    "        )\n",
    "        \n",
    "        for layer in self.node_fnc_strength_y:\n",
    "            if isinstance(layer,nn.Linear):\n",
    "                param_shape = layer.weight.shape\n",
    "                torch.nn.init.normal_(layer.weight, mean=0.0, std = 1e-1)\n",
    "\n",
    "        self.stochastic_x = Seq(\n",
    "            Lin(ndim*2,hidden),\n",
    "            ReLU(),\n",
    "            Lin(hidden,1),\n",
    "            Softplus()\n",
    "        )\n",
    "        for layer in self.stochastic_x:\n",
    "            if isinstance(layer,nn.Linear):\n",
    "                param_shape = layer.weight.shape\n",
    "                torch.nn.init.normal_(layer.weight, mean=0.0, std=1e-3)\n",
    "                \n",
    "        self.stochastic_y = Seq(\n",
    "            Lin(ndim*2,hidden),\n",
    "            ReLU(),\n",
    "            Lin(hidden,1),\n",
    "            Softplus()\n",
    "        )\n",
    "        for layer in self.stochastic_y:\n",
    "            if isinstance(layer,nn.Linear):\n",
    "                param_shape = layer.weight.shape\n",
    "                torch.nn.init.normal_(layer.weight, mean=0.0, std=1e-3)\n",
    "\n",
    "        \n",
    "        self.stochastic_z = Seq(\n",
    "            Lin(ndim*2,hidden),\n",
    "            ReLU(),\n",
    "            Lin(hidden,1),\n",
    "            Softplus()\n",
    "        )\n",
    "        for layer in self.stochastic_z:\n",
    "            if isinstance(layer,nn.Linear):\n",
    "                param_shape = layer.weight.shape\n",
    "                torch.nn.init.normal_(layer.weight, mean=0.0, std=1e-3)\n",
    "               \n",
    "\n",
    "    def forward(self, x, edge_index):\n",
    "        # x has shape [N, number_of_features]\n",
    "        # edge_index has shape [2,E]\n",
    "        x = x\n",
    "        return self.propagate(edge_index, x=x)\n",
    "\n",
    "    def message(self, x_i, x_j):\n",
    "        tmp = torch.cat([x_i, x_j], dim=1)\n",
    "        if self.ndim == 1:\n",
    "            xij = x_j[:,0]-x_i[:,0]\n",
    "            Rij = xij.reshape(-1,1)\n",
    "            vxij = x_j[:,1]-x_i[:,1]\n",
    "            vij = vxij.reshape(-1,1)\n",
    "            rij = torch.sqrt(xij**2)\n",
    "        if self.ndim == 2:\n",
    "            xij = x_j[:,0]-x_i[:,0]\n",
    "            yij = x_j[:,1]-x_i[:,1]\n",
    "            vxij = x_j[:,2]-x_i[:,2]\n",
    "            vyij = x_j[:,3]-x_i[:,3]\n",
    "            Rij = torch.cat([xij.reshape(-1,1), yij.reshape(-1,1)], dim=1)\n",
    "            vij = torch.cat([vxij.reshape(-1,1), vyij.reshape(-1,1)], dim=1)\n",
    "            rij = torch.sqrt(xij**2+yij**2)\n",
    "            zero = torch.zeros_like(rij)\n",
    "            one = torch.ones_like(rij)\n",
    "            vision = torch.where(rij>0.1,zero,one)\n",
    "            #print(vision)\n",
    "        if self.ndim == 3:\n",
    "            xij = x_j[:,0]-x_i[:,0]\n",
    "            yij = x_j[:,1]-x_i[:,1]\n",
    "            zij = x_j[:,2]-x_i[:,2]\n",
    "            vxij = x_j[:,3]-x_i[:,3]\n",
    "            vyij = x_j[:,4]-x_i[:,4]\n",
    "            vzij = x_j[:,5]-x_i[:,5]\n",
    "            Rij = torch.cat([xij.reshape(-1,1), yij.reshape(-1,1),zij.reshape(-1,1)], dim=1)\n",
    "            vij = torch.cat([vxij.reshape(-1,1), vyij.reshape(-1,1),vzij.reshape(-1,1)], dim=1)\n",
    "            rij = torch.sqrt(xij**2+yij**2+zij**2)\n",
    "\n",
    "        Message = self.msg_fnc_cohesion(rij.reshape(-1,1))*Rij*vision.reshape(-1,1)+self.msg_fnc_align(rij.reshape(-1,1))*vij*vision.reshape(-1,1)#+self.msg_fnc_repulsion(rij.reshape(-1,1))*Rij\n",
    "        #print(torch.sum(self.msg_fnc_cohesion(rij)))\n",
    "        return Message\n",
    "    \n",
    "\n",
    "    def update(self, aggr_out, x=None):\n",
    "        if self.ndim==1:\n",
    "            vxi = x[:,1]\n",
    "            vi = vxi.reshape(-1,1)\n",
    "            Vi = torch.sqrt(vxi**2)\n",
    "            F = self.node_fnc_strength(Vi.reshape(-1,1))\n",
    "            dvdt = F*vi+aggr_out\n",
    "            v_update = x[:,self.ndim:]+dvdt*self.delt_t\n",
    "            v_mean = x[:,self.ndim:]+dvdt*self.delt_t\n",
    "            v_var_x = self.stochastic_x(x)\n",
    "            x_update = x[:,:self.ndim]+x[:,self.ndim:]*self.delt_t+v_update*self.delt_t\n",
    "            return torch.distributions.Normal(v_mean, v_var_x),x_update,v_update,dvdt\n",
    "        elif self.ndim==2:\n",
    "            vxi = x[:,2]\n",
    "            vyi = x[:,3]\n",
    "            vi = torch.cat([vxi.reshape(-1,1),vyi.reshape(-1,1)],dim=1)\n",
    "            Vi = torch.sqrt(vxi**2+vyi**2)\n",
    "            Vx = torch.cat([Vi.reshape(-1,1),vxi.reshape(-1,1)],dim=1)\n",
    "            Vy = torch.cat([Vi.reshape(-1,1),vyi.reshape(-1,1)],dim=1)\n",
    "            Fx = self.node_fnc_strength_x(Vx)\n",
    "            Fy = self.node_fnc_strength_y(Vy)\n",
    "            F = torch.cat((Fx,Fy),dim=1)\n",
    "            #dvdt = F*vi+aggr_out\n",
    "            dvdt = F+aggr_out\n",
    "            v_update = x[:,self.ndim:]+dvdt*self.delt_t\n",
    "            v_mean = x[:,self.ndim:]+dvdt*self.delt_t\n",
    "            v_var_x = self.stochastic_x(x)\n",
    "            v_var_y = self.stochastic_y(x)\n",
    "            x_update = x[:,:self.ndim]+x[:,self.ndim:]*self.delt_t+v_update*self.delt_t\n",
    "            return torch.distributions.Normal(v_mean[:,0].reshape(-1,1), v_var_x),torch.distributions.Normal(v_mean[:,1].reshape(-1,1), v_var_y),x_update,v_update,dvdt\n",
    "        elif self.ndim==3:\n",
    "            vxi = x[:,3]\n",
    "            vyi = x[:,4]\n",
    "            vzi = x[:,5]\n",
    "            vi = torch.cat([vxi.reshape(-1,1),vyi.reshape(-1,1),vzi.reshape(-1,1)],dim=1)\n",
    "            Vi = vxi**2+vyi**2+vzi**2\n",
    "            F = self.node_fnc_strength(Vi.reshape(-1,1))\n",
    "            dvdt = F*vi+aggr_out\n",
    "            v_update = x[:,self.ndim:]+dvdt*self.delt_t\n",
    "            v_mean = x[:,self.ndim:]+dvdt*self.delt_t\n",
    "            v_var_x = self.stochastic_x(x)\n",
    "            v_var_y = self.stochastic_y(x)\n",
    "            v_var_z = self.stochastic_z(x)\n",
    "            x_update = x[:,:self.ndim]+x[:,self.ndim:]*self.delt_t+v_update*self.delt_t\n",
    "            return torch.distributions.Normal(v_mean[:,0].reshape(-1,1), v_var_x),torch.distributions.Normal(v_mean[:,1].reshape(-1,1), v_var_y),torch.distributions.Normal(v_mean[:,2].reshape(-1,1), v_var_z),x_update,v_update,dvdt\n",
    "\n",
    "\n",
    "\n",
    "class SDI_Difftype(SDIdifftype):\n",
    "     def __init__(\n",
    " \t\tself, model, n_f, msg_dim, ndim, delt_t,\n",
    " \t\tedge_index, aggr='add', hidden=50, nt=1):\n",
    "            super(SDI_Difftype, self).__init__(model, n_f, msg_dim, ndim, delt_t, hidden=hidden, aggr=aggr)\n",
    "            self.delt_t = delt_t\n",
    "            self.nt = nt\n",
    "            self.edge_index = edge_index\n",
    "            self.ndim = ndim\n",
    "\n",
    "    \n",
    "     def SDI_weighted(self, g, augment=False, augmentation=3):\n",
    "            #x is [n, n_f]f\n",
    "            x = g.x\n",
    "            ndim = self.ndim\n",
    "            if augment:\n",
    "                augmentation = torch.randn(1, ndim)*augmentation\n",
    "                augmentation = augmentation.repeat(len(x), 1).to(x.device)\n",
    "                x = x.index_add(1, torch.arange(ndim).to(x.device), augmentation)\n",
    "        \n",
    "            edge_index = g.edge_index\n",
    "            return self.propagate(\n",
    "                    edge_index, size=(x.size(0), x.size(0)),\n",
    "                    x=x)\n",
    "\n",
    "     def loss(self, g, **kwargs):\n",
    "            if self.ndim==1:\n",
    "                out_dist_x,xUpdate,vUpdate,a_est = self.SDI_weighted(g)\n",
    "                neg_log_likelihood_x = -out_dist_x.log_prob(g.y[:,1].reshape(-1,1))\n",
    "                x_loss = torch.sum((g.y[:,0] - xUpdate)**2)\n",
    "                v_loss = torch.sum((g.y[:,1] - vUpdate)**2)\n",
    "                a_loss = torch.sum((g.y[:,2] - a_est)**2)\n",
    "                dis_loss = torch.sum(neg_log_likelihood_x)\n",
    "                #print(x_loss,v_loss,a_loss,dis_loss)\n",
    "                return dis_loss*1e-2+a_loss*1e4#+x_loss*1e6+v_loss*1e6\n",
    "            if self.ndim==2:\n",
    "                out_dist_x,out_dist_y,xUpdate,vUpdate,a_est = self.SDI_weighted(g)\n",
    "                neg_log_likelihood_x = -out_dist_x.log_prob(g.y[:,2].reshape(-1,1))\n",
    "                neg_log_likelihood_y = -out_dist_y.log_prob(g.y[:,3].reshape(-1,1))\n",
    "                x_loss = torch.sum((g.y[:,:2] - xUpdate)**2)\n",
    "                v_loss = torch.sum((g.y[:,2:4] - vUpdate)**2)\n",
    "                a1_loss = torch.sum((g.y[:,4] - a_est[:,0])**2)\n",
    "                a2_loss = torch.sum((g.y[:,5] - a_est[:,1])**2)\n",
    "                dis_loss = torch.sum(neg_log_likelihood_x)+torch.sum(neg_log_likelihood_y)\n",
    "                #print(g.y[:,6:])\n",
    "                #print(a_est)\n",
    "                #print(x_loss,v_loss,a1_loss,a2_loss,dis_loss)\n",
    "                return dis_loss+a1_loss*3e3+a2_loss*1e3+x_loss*1e6+v_loss*1e6\n",
    "            if self.ndim==3:\n",
    "                out_dist_x,out_dist_y,out_dist_z,xUpdate,vUpdate,a_est = self.SDI_weighted(g)\n",
    "                neg_log_likelihood_x = -out_dist_x.log_prob(g.y[:,3].reshape(-1,1))\n",
    "                neg_log_likelihood_y = -out_dist_y.log_prob(g.y[:,4].reshape(-1,1))\n",
    "                neg_log_likelihood_z = -out_dist_x.log_prob(g.y[:,5].reshape(-1,1))\n",
    "                x_loss = torch.sum((g.y[:,:3] - xUpdate)**2)\n",
    "                v_loss = torch.sum((g.y[:,3:6] - vUpdate)**2)\n",
    "                a_loss = torch.sum((g.y[:,6:] - a_est)**2)\n",
    "                dis_loss = torch.sum(neg_log_likelihood_x)+torch.sum(neg_log_likelihood_y)+torch.sum(neg_log_likelihood_z)\n",
    "                #print(g.y[:,6:])\n",
    "                #print(a_est)\n",
    "                #print(x_loss,v_loss,a_loss,dis_loss)\n",
    "                return dis_loss+a_loss*1e6+x_loss*1e6+v_loss*1e6\n",
    "                #return dis_loss\n",
    "     def sample_trajectories(self, g, **kwargs):\n",
    "            if self.ndim == 1:\n",
    "                out_dist_x,xUpdate,vUpdate,a_est = self.SDI_weighted(g)\n",
    "                vxUpdate_sample = out_dist_x.sample()\n",
    "                vUpdate_sample = vxUpdate_sample.reshape(-1,1)\n",
    "                xUpdate_sample = g.x[:,0].reshape(-1,1)+g.x[:,1].reshape(-1,1)*delt_t+vUpdate_sample*delt_t\n",
    "                return xUpdate_sample,vUpdate_sample\n",
    "            if self.ndim == 2:\n",
    "                out_dist_x,out_dist_y,xUpdate,vUpdate,a_est = self.SDI_weighted(g)\n",
    "                vxUpdate_sample = out_dist_x.sample()\n",
    "                vyUpdate_sample = out_dist_y.sample()\n",
    "                vUpdate_sample = torch.cat((vxUpdate_sample.reshape(-1,1),vyUpdate_sample.reshape(-1,1)),dim=1)\n",
    "                xUpdate_sample = g.x[:,0:2].reshape(-1,2)+g.x[:,2:4].reshape(-1,2)*delt_t+vUpdate_sample*delt_t\n",
    "                return xUpdate_sample,vUpdate_sample\n",
    "            if self.ndim == 3:\n",
    "                out_dist_x,out_dist_y,out_dist_z,xUpdate,vUpdate,a_est = self.SDI_weighted(g)\n",
    "                vxUpdate_sample = out_dist_x.sample()\n",
    "                vyUpdate_sample = out_dist_y.sample()\n",
    "                vzUpdate_sample = out_dist_z.sample()\n",
    "                vUpdate_sample = torch.cat((vxUpdate_sample.reshape(-1,1),vyUpdate_sample.reshape(-1,1),vzUpdate_sample.reshape(-1,1)),dim=1)\n",
    "                xUpdate_sample = g.x[:,0:3].reshape(-1,3)+g.x[:,3:6].reshape(-1,3)*delt_t+vUpdate_sample*delt_t\n",
    "                return xUpdate_sample,vUpdate_sample\n",
    "     def average_trajectories(self, g, **kwargs):\n",
    "            if self.ndim == 1:\n",
    "                out_dist_x,xUpdate,vUpdate,a_est = self.SDI_weighted(g)\n",
    "                return xUpdate,vUpdate\n",
    "            if self.ndim == 2:\n",
    "                out_dist_x,out_dist_y,xUpdate,vUpdate,a_est = self.SDI_weighted(g)\n",
    "                return xUpdate,vUpdate\n",
    "            if self.ndim == 3:\n",
    "                out_dist_x,out_dist_y,out_dist_z,xUpdate,vUpdate,a_est = self.SDI_weighted(g)\n",
    "                return xUpdate,vUpdate"
   ]
  },
  {
   "cell_type": "code",
   "execution_count": 63,
   "id": "4644c71e",
   "metadata": {},
   "outputs": [],
   "source": [
    "ogn = SDI_Difftype(model,n_f, msg_dim, dim, delt_t, hidden=hidden, edge_index=edge_index , aggr=aggr)"
   ]
  },
  {
   "cell_type": "code",
   "execution_count": 64,
   "id": "b6ffcb8b",
   "metadata": {},
   "outputs": [],
   "source": [
    "messages_over_time = []\n",
    "selfDyn_over_time = []\n",
    "diffusion_over_time = []"
   ]
  },
  {
   "cell_type": "code",
   "execution_count": 65,
   "id": "0f30e369",
   "metadata": {},
   "outputs": [],
   "source": [
    "x=X_train[1]\n",
    "y=y_train[1]\n",
    "_q = Data(\n",
    "    x=X_train[1],\n",
    "    edge_index=edge_index,\n",
    "    y=y_train[1])"
   ]
  },
  {
   "cell_type": "code",
   "execution_count": 66,
   "id": "f2582f2e",
   "metadata": {},
   "outputs": [
    {
     "data": {
      "text/plain": [
       "tensor(1171.7961, grad_fn=<AddBackward0>)"
      ]
     },
     "execution_count": 66,
     "metadata": {},
     "output_type": "execute_result"
    }
   ],
   "source": [
    "ogn.loss(_q)"
   ]
  },
  {
   "cell_type": "code",
   "execution_count": 67,
   "id": "931d68be",
   "metadata": {},
   "outputs": [
    {
     "name": "stderr",
     "output_type": "stream",
     "text": [
      "/opt/anaconda3/envs/pytorch_env/lib/python3.8/site-packages/torch_geometric/deprecation.py:13: UserWarning: 'data.DataLoader' is deprecated, use 'loader.DataLoader' instead\n",
      "  warnings.warn(out)\n"
     ]
    }
   ],
   "source": [
    "batch = 64\n",
    "trainloader = DataLoader(\n",
    "    [Data(\n",
    "        Variable(X_train[i]),\n",
    "        edge_index=edge_index,\n",
    "        y=Variable(y_train[i])) for i in range(len(y_train))],\n",
    "    batch_size=batch,\n",
    "    shuffle=True\n",
    ")\n",
    "\n",
    "testloader = DataLoader(\n",
    "    [Data(\n",
    "        X_test[i],\n",
    "        edge_index=edge_index,\n",
    "        y=y_test[i]) for i in range(len(y_test))],\n",
    "    batch_size=128,\n",
    "    shuffle=True\n",
    ")"
   ]
  },
  {
   "cell_type": "code",
   "execution_count": 68,
   "id": "913888bb",
   "metadata": {},
   "outputs": [],
   "source": [
    "from torch.optim.lr_scheduler import ReduceLROnPlateau, OneCycleLR"
   ]
  },
  {
   "cell_type": "code",
   "execution_count": 69,
   "id": "f1105842",
   "metadata": {},
   "outputs": [],
   "source": [
    "init_lr = 1e-4\n",
    "\n",
    "opt = torch.optim.Adam(ogn.parameters(), lr=init_lr, weight_decay=1e-8)\n",
    "\n",
    "# total_epochs = 200\n",
    "total_epochs = 30\n",
    "\n",
    "batch_per_epoch = 2000\n",
    "\n",
    "sched = OneCycleLR(opt, max_lr=init_lr,\n",
    "                   steps_per_epoch=batch_per_epoch,#len(trainloader),\n",
    "                   epochs=total_epochs, final_div_factor=1e5)"
   ]
  },
  {
   "cell_type": "code",
   "execution_count": 70,
   "id": "98a3ed1f",
   "metadata": {},
   "outputs": [],
   "source": [
    "epoch = 0\n",
    "from tqdm import tqdm"
   ]
  },
  {
   "cell_type": "code",
   "execution_count": 71,
   "id": "b4f2c9cc",
   "metadata": {},
   "outputs": [],
   "source": [
    "import numpy as onp\n",
    "onp.random.seed(0)\n",
    "test_idxes = onp.random.randint(0, len(X_test), 1000)\n",
    "\n",
    "#Record messages over test dataset here:\n",
    "newtestloader = DataLoader(\n",
    "     [Data(\n",
    "         X_test[i],\n",
    "         edge_index=edge_index,\n",
    "         y=y_test[i]) for i in test_idxes],\n",
    "     batch_size=len(X_test),\n",
    "     shuffle=False\n",
    " )"
   ]
  },
  {
   "cell_type": "code",
   "execution_count": 72,
   "id": "935c026c",
   "metadata": {},
   "outputs": [],
   "source": [
    "import numpy as onp\n",
    "import pandas as pd\n",
    "\n",
    "def get_messages(ogn):\n",
    "\n",
    "    def get_message_info(tmp):\n",
    "        ogn.cpu()\n",
    "\n",
    "        s1 = tmp.x[tmp.edge_index[0]] #source\n",
    "\n",
    "        s2 = tmp.x[tmp.edge_index[1]] #target\n",
    "\n",
    "        #Tmp = torch.cat([s2, s1],dim=1) # tmp --> xi,xj\n",
    "        xtmp = (s1[:,0:dim]-s2[:,0:dim])\n",
    "        vtmp = (s1[:,dim:dim*2]-s2[:,dim:dim*2])\n",
    "        if dim == 1:\n",
    "            Xtmp = torch.sqrt((s1[:,0]-s2[:,0])**2)\n",
    "        if dim == 2:\n",
    "            Xtmp = torch.sqrt((s1[:,0]-s2[:,0])**2+(s1[:,1]-s2[:,1])**2)\n",
    "        if dim == 3:\n",
    "            Xtmp = torch.sqrt((s1[:,0]-s2[:,0])**2+(s1[:,1]-s2[:,1])**2+(s1[:,2]-s2[:,2])**2)\n",
    " \n",
    "        cohesion = ogn.msg_fnc_cohesion(Xtmp.reshape(-1,1))\n",
    "        align = ogn.msg_fnc_align(Xtmp.reshape(-1,1))\n",
    "        #repulsion = ogn.msg_fnc_repulsion(Xtmp.reshape(-1,1))\n",
    "    \n",
    "        all_messages = torch.cat((\n",
    "            xtmp,vtmp,cohesion,align), dim=1)\n",
    "        if dim == 1:\n",
    "            columns = ['xij','dxij','c1','a1']\n",
    "        if dim == 2:\n",
    "            columns = ['xij','yij','dxij','dyij','c1','a1']\n",
    "        elif dim == 3:\n",
    "            columns = ['xij','yij','zij','dxij','dyij','dzij','c1','a1']\n",
    "\n",
    "        return pd.DataFrame(\n",
    "              data=all_messages.cpu().detach().numpy(),\n",
    "             columns=columns\n",
    "        )\n",
    "        #print(all_messages.shape)\n",
    "        return pd.DataFrame(all_messages)\n",
    "\n",
    "    msg_info = []\n",
    "    for i, g in enumerate(newtestloader):\n",
    "        msg_info.append(get_message_info(g))\n",
    "\n",
    "    msg_info = pd.concat(msg_info)\n",
    "    \n",
    "    return msg_info"
   ]
  },
  {
   "cell_type": "code",
   "execution_count": 73,
   "id": "6154b2ad",
   "metadata": {},
   "outputs": [],
   "source": [
    "def get_diffusion(ogn):\n",
    "    def get_diffusion_info(tmp):\n",
    "        ogn.cpu()\n",
    "        \n",
    "        tmp = tmp.x[tmp.edge_index[1]]\n",
    "        if dim==1:\n",
    "            self_diff_x = ogn.stochastic_x(tmp)\n",
    "            self_diff_all = torch.cat((tmp,self_diff_x), dim=1)\n",
    "            columns = ['xi','dxi','d1']\n",
    "            \n",
    "        if dim==2:\n",
    "            self_diff_x = ogn.stochastic_x(tmp)\n",
    "            self_diff_y = ogn.stochastic_y(tmp)\n",
    "            self_diff_all = torch.cat((tmp,self_diff_x,self_diff_y), dim=1)\n",
    "            columns = ['xi','yi','dxi','dyi','d1','d2']\n",
    "        if dim==3:\n",
    "            self_diff_x = ogn.stochastic_x(tmp)\n",
    "            self_diff_y = ogn.stochastic_y(tmp)\n",
    "            self_diff_z = ogn.stochastic_z(tmp)\n",
    "            self_diff_all = torch.cat((tmp,self_diff_x,self_diff_y,self_diff_z), dim=1)\n",
    "            columns = ['xi','yi','zi','dxi','dyi','dzi','d1','d2','d3']\n",
    "            \n",
    "        return pd.DataFrame(\n",
    "              data=self_diff_all.cpu().detach().numpy(),\n",
    "             columns=columns\n",
    "        )\n",
    "        return pd.DataFrame(self_diff_all)\n",
    "\n",
    "    selfDiffusion_info = []\n",
    "    for i, g in enumerate(newtestloader):\n",
    "        selfDiffusion_info.append(get_diffusion_info(g))\n",
    "\n",
    "    selfDiffusion_info = pd.concat(selfDiffusion_info)\n",
    "    return selfDiffusion_info "
   ]
  },
  {
   "cell_type": "code",
   "execution_count": 74,
   "id": "00666496",
   "metadata": {},
   "outputs": [],
   "source": [
    "def get_selfDynamics(ogn):\n",
    "    def get_selfDynamics_info(tmp):\n",
    "        ogn.cpu()\n",
    "        \n",
    "        tmp = tmp.x[tmp.edge_index[1]]\n",
    "        if dim==1:\n",
    "            vtmp = torch.sqrt(tmp[:,1]**2)\n",
    "            self_dyn = ogn.node_fnc_strength(vtmp.reshape(-1,1))\n",
    "            self_dyn_all = torch.cat((tmp[:,1:2],self_dyn), dim=1)\n",
    "            columns = ['dxi','s1']\n",
    "            \n",
    "        if dim==2:\n",
    "            vtmp = tmp[:,2]**2+tmp[:,3]**2\n",
    "            vxtmp = torch.cat((vtmp.reshape(-1,1),tmp[:,2].reshape(-1,1)),dim=1)\n",
    "            vytmp = torch.cat((vtmp.reshape(-1,1),tmp[:,3].reshape(-1,1)),dim=1)\n",
    "            \n",
    "            self_dyn_x = ogn.node_fnc_strength_x(vxtmp)#vtmp.reshape(-1,1)\n",
    "            self_dyn_y = ogn.node_fnc_strength_y(vytmp)#vtmp.reshape(-1,1)\n",
    "            self_dyn_all = torch.cat((vtmp.reshape(-1,1),tmp[:,2:4],self_dyn_x, self_dyn_y), dim=1)\n",
    "            columns = ['Vi','dxi','dyi','s1','s2']\n",
    "        if dim==3:\n",
    "            vtmp = torch.sqrt(tmp[:,3]**2+tmp[:,4]**2+tmp[:,5]**2)\n",
    "            self_dyn = ogn.node_fnc_strength(vtmp.reshape(-1,1))\n",
    "            self_dyn_all = torch.cat((tmp[:,3:6],self_dyn), dim=1)\n",
    "            columns = ['dxi','dyi','dzi','s1']\n",
    "            \n",
    "        return pd.DataFrame(\n",
    "              data=self_dyn_all.cpu().detach().numpy(),\n",
    "             columns=columns\n",
    "        )\n",
    "        return pd.DataFrame(self_dyn_all)\n",
    "\n",
    "    selfDyn_info = []\n",
    "    for i, g in enumerate(newtestloader):\n",
    "        selfDyn_info.append(get_selfDynamics_info(g))\n",
    "\n",
    "    selfDyn_info = pd.concat(selfDyn_info)\n",
    "    return selfDyn_info"
   ]
  },
  {
   "cell_type": "code",
   "execution_count": 75,
   "id": "715ecd98",
   "metadata": {},
   "outputs": [],
   "source": [
    "recorded_models = []"
   ]
  },
  {
   "cell_type": "code",
   "execution_count": 76,
   "id": "f87a68d7",
   "metadata": {},
   "outputs": [
    {
     "name": "stderr",
     "output_type": "stream",
     "text": [
      "\r",
      "  0%|                                                    | 0/30 [00:00<?, ?it/s]"
     ]
    },
    {
     "name": "stdout",
     "output_type": "stream",
     "text": [
      "134.16395797828437\n",
      "7.42907370736925\n"
     ]
    },
    {
     "name": "stderr",
     "output_type": "stream",
     "text": [
      "\r",
      "  3%|█▍                                         | 1/30 [02:01<58:31, 121.09s/it]"
     ]
    },
    {
     "name": "stdout",
     "output_type": "stream",
     "text": [
      "5.443352328548003\n",
      "2.473130018523738\n"
     ]
    },
    {
     "name": "stderr",
     "output_type": "stream",
     "text": [
      "\r",
      "  7%|██▊                                        | 2/30 [03:55<54:40, 117.18s/it]"
     ]
    },
    {
     "name": "stdout",
     "output_type": "stream",
     "text": [
      "-4.324130581961687\n",
      "-14.37745349815666\n"
     ]
    },
    {
     "name": "stderr",
     "output_type": "stream",
     "text": [
      "\r",
      " 10%|████▎                                      | 3/30 [05:50<52:16, 116.17s/it]"
     ]
    },
    {
     "name": "stdout",
     "output_type": "stream",
     "text": [
      "-34.914833790909604\n",
      "-62.39280568921397\n"
     ]
    },
    {
     "name": "stderr",
     "output_type": "stream",
     "text": [
      "\r",
      " 13%|█████▋                                     | 4/30 [07:50<50:55, 117.50s/it]"
     ]
    },
    {
     "name": "stdout",
     "output_type": "stream",
     "text": [
      "-104.66135858316329\n",
      "-144.6824633986419\n"
     ]
    },
    {
     "name": "stderr",
     "output_type": "stream",
     "text": [
      "\r",
      " 17%|██████▊                                  | 5/30 [31:19<4:03:00, 583.23s/it]"
     ]
    },
    {
     "name": "stdout",
     "output_type": "stream",
     "text": [
      "-147.29605295921903\n",
      "-154.27358466823802\n"
     ]
    },
    {
     "name": "stderr",
     "output_type": "stream",
     "text": [
      "\r",
      " 20%|███████▍                             | 6/30 [2:56:14<22:16:33, 3341.41s/it]"
     ]
    },
    {
     "name": "stdout",
     "output_type": "stream",
     "text": [
      "-150.04668418967606\n",
      "-152.54910346400635\n"
     ]
    },
    {
     "name": "stderr",
     "output_type": "stream",
     "text": [
      "\r",
      " 23%|████████▋                            | 7/30 [7:54:38<51:45:53, 8102.31s/it]"
     ]
    },
    {
     "name": "stdout",
     "output_type": "stream",
     "text": [
      "-150.48276003877208\n",
      "-151.9219857184925\n"
     ]
    },
    {
     "name": "stderr",
     "output_type": "stream",
     "text": [
      "\r",
      " 27%|█████████▊                           | 8/30 [8:46:32<39:48:35, 6514.35s/it]"
     ]
    },
    {
     "name": "stdout",
     "output_type": "stream",
     "text": [
      "-154.20548521105738\n",
      "-37.947975559265394\n"
     ]
    },
    {
     "name": "stderr",
     "output_type": "stream",
     "text": [
      "\r",
      " 30%|███████████                          | 9/30 [8:48:32<26:20:22, 4515.34s/it]"
     ]
    },
    {
     "name": "stdout",
     "output_type": "stream",
     "text": [
      "-155.05254408109877\n",
      "-158.59028878112173\n"
     ]
    },
    {
     "name": "stderr",
     "output_type": "stream",
     "text": [
      "\r",
      " 33%|████████████                        | 10/30 [8:50:28<17:32:23, 3157.16s/it]"
     ]
    },
    {
     "name": "stdout",
     "output_type": "stream",
     "text": [
      "-155.2749990235176\n",
      "-162.8118610241043\n"
     ]
    },
    {
     "name": "stderr",
     "output_type": "stream",
     "text": [
      "\r",
      " 37%|█████████████▏                      | 11/30 [8:52:26<11:45:14, 2227.06s/it]"
     ]
    },
    {
     "name": "stdout",
     "output_type": "stream",
     "text": [
      "-161.15542626214398\n",
      "-157.18817038081286\n"
     ]
    },
    {
     "name": "stderr",
     "output_type": "stream",
     "text": [
      "\r",
      " 40%|██████████████▊                      | 12/30 [8:54:24<7:55:34, 1585.24s/it]"
     ]
    },
    {
     "name": "stdout",
     "output_type": "stream",
     "text": [
      "-161.89470302802508\n",
      "-163.2196726375302\n"
     ]
    },
    {
     "name": "stderr",
     "output_type": "stream",
     "text": [
      "\r",
      " 43%|████████████████                     | 13/30 [8:56:33<5:24:10, 1144.12s/it]"
     ]
    },
    {
     "name": "stdout",
     "output_type": "stream",
     "text": [
      "-166.05420819105817\n",
      "-162.84103240182725\n"
     ]
    },
    {
     "name": "stderr",
     "output_type": "stream",
     "text": [
      "\r",
      " 47%|█████████████████▋                    | 14/30 [8:58:31<3:42:28, 834.29s/it]"
     ]
    },
    {
     "name": "stdout",
     "output_type": "stream",
     "text": [
      "-168.10570937431325\n",
      "-176.10845156692446\n"
     ]
    },
    {
     "name": "stderr",
     "output_type": "stream",
     "text": [
      "\r",
      " 50%|███████████████████                   | 15/30 [9:00:28<2:34:29, 617.95s/it]"
     ]
    },
    {
     "name": "stdout",
     "output_type": "stream",
     "text": [
      "-171.51384491404065\n",
      "-177.71786245060886\n"
     ]
    },
    {
     "name": "stderr",
     "output_type": "stream",
     "text": [
      "\r",
      " 53%|████████████████████▎                 | 16/30 [9:02:24<1:48:57, 466.99s/it]"
     ]
    },
    {
     "name": "stdout",
     "output_type": "stream",
     "text": [
      "-175.4667861631627\n",
      "-182.42868137610617\n"
     ]
    },
    {
     "name": "stderr",
     "output_type": "stream",
     "text": [
      "\r",
      " 57%|█████████████████████▌                | 17/30 [9:04:21<1:18:21, 361.63s/it]"
     ]
    },
    {
     "name": "stdout",
     "output_type": "stream",
     "text": [
      "-179.56075383318978\n",
      "-186.05491630342883\n"
     ]
    },
    {
     "name": "stderr",
     "output_type": "stream",
     "text": [
      "\r",
      " 60%|████████████████████████                | 18/30 [9:06:17<57:36, 288.01s/it]"
     ]
    },
    {
     "name": "stdout",
     "output_type": "stream",
     "text": [
      "-183.8098712891876\n",
      "-188.61490373411846\n"
     ]
    },
    {
     "name": "stderr",
     "output_type": "stream",
     "text": [
      "\r",
      " 63%|█████████████████████████▎              | 19/30 [9:08:14<43:23, 236.65s/it]"
     ]
    },
    {
     "name": "stdout",
     "output_type": "stream",
     "text": [
      "-187.45075945400515\n",
      "-191.0353369229359\n"
     ]
    },
    {
     "name": "stderr",
     "output_type": "stream",
     "text": [
      "\r",
      " 67%|██████████████████████████▋             | 20/30 [9:10:11<33:25, 200.60s/it]"
     ]
    },
    {
     "name": "stdout",
     "output_type": "stream",
     "text": [
      "-190.9047221517255\n",
      "-195.0745983475177\n"
     ]
    },
    {
     "name": "stderr",
     "output_type": "stream",
     "text": [
      "\r",
      " 70%|████████████████████████████            | 21/30 [9:12:08<26:19, 175.45s/it]"
     ]
    },
    {
     "name": "stdout",
     "output_type": "stream",
     "text": [
      "-194.1352802357019\n",
      "-197.79518758331807\n"
     ]
    },
    {
     "name": "stderr",
     "output_type": "stream",
     "text": [
      "\r",
      " 73%|█████████████████████████████▎          | 22/30 [9:14:04<21:02, 157.76s/it]"
     ]
    },
    {
     "name": "stdout",
     "output_type": "stream",
     "text": [
      "-196.07564847509823\n",
      "-198.05571147011761\n"
     ]
    },
    {
     "name": "stderr",
     "output_type": "stream",
     "text": [
      "\r",
      " 77%|██████████████████████████████▋         | 23/30 [9:16:04<17:04, 146.43s/it]"
     ]
    },
    {
     "name": "stdout",
     "output_type": "stream",
     "text": [
      "-198.19659342669172\n",
      "-200.3402702387958\n"
     ]
    },
    {
     "name": "stderr",
     "output_type": "stream",
     "text": [
      "\r",
      " 80%|████████████████████████████████        | 24/30 [9:18:03<13:47, 137.98s/it]"
     ]
    },
    {
     "name": "stdout",
     "output_type": "stream",
     "text": [
      "-199.6189628497003\n",
      "-199.03777167031842\n"
     ]
    },
    {
     "name": "stderr",
     "output_type": "stream",
     "text": [
      "\r",
      " 83%|█████████████████████████████████▎      | 25/30 [9:20:00<10:58, 131.74s/it]"
     ]
    },
    {
     "name": "stdout",
     "output_type": "stream",
     "text": [
      "-200.8093068806495\n",
      "-200.76966450384407\n"
     ]
    },
    {
     "name": "stderr",
     "output_type": "stream",
     "text": [
      "\r",
      " 87%|██████████████████████████████████▋     | 26/30 [9:21:58<08:31, 127.81s/it]"
     ]
    },
    {
     "name": "stdout",
     "output_type": "stream",
     "text": [
      "-201.7774140407101\n",
      "-201.85543713089757\n"
     ]
    },
    {
     "name": "stderr",
     "output_type": "stream",
     "text": [
      "\r",
      " 90%|████████████████████████████████████    | 27/30 [9:23:56<06:14, 124.75s/it]"
     ]
    },
    {
     "name": "stdout",
     "output_type": "stream",
     "text": [
      "-202.41819985560076\n",
      "-202.36667521852405\n"
     ]
    },
    {
     "name": "stderr",
     "output_type": "stream",
     "text": [
      "\r",
      " 93%|█████████████████████████████████████▎  | 28/30 [9:25:54<04:05, 122.59s/it]"
     ]
    },
    {
     "name": "stdout",
     "output_type": "stream",
     "text": [
      "-202.6970859118038\n",
      "-202.9677047490446\n"
     ]
    },
    {
     "name": "stderr",
     "output_type": "stream",
     "text": [
      "\r",
      " 97%|██████████████████████████████████████▋ | 29/30 [9:27:51<02:00, 120.94s/it]"
     ]
    },
    {
     "name": "stdout",
     "output_type": "stream",
     "text": [
      "-202.8911858913323\n",
      "-203.0439383820762\n"
     ]
    },
    {
     "name": "stderr",
     "output_type": "stream",
     "text": [
      "100%|███████████████████████████████████████| 30/30 [9:29:47<00:00, 1139.59s/it]\n"
     ]
    }
   ],
   "source": [
    "for epoch in tqdm(range(epoch, total_epochs)):\n",
    "    ogn\n",
    "    total_loss = 0.0\n",
    "    i = 0\n",
    "    j = 0\n",
    "    num_items = 0\n",
    "    valid_loss = 0\n",
    "    valid_num_items = 0\n",
    "    while i < batch_per_epoch:\n",
    "        for ginput in trainloader:\n",
    "            if i >= batch_per_epoch:\n",
    "                break\n",
    "            opt.zero_grad()\n",
    "            ginput.x = ginput.x\n",
    "            ginput.y = ginput.y\n",
    "            ginput.edge_index = ginput.edge_index\n",
    "            ginput.batch = ginput.batch\n",
    "            loss = ogn.loss(ginput)\n",
    "            loss.backward()\n",
    "            #(loss/int(ginput.batch[-1]+1)).backward()\n",
    "            opt.step()\n",
    "            sched.step()\n",
    "\n",
    "            total_loss += loss.item()\n",
    "            i += 1\n",
    "            num_items += int(ginput.batch[-1]+1)\n",
    "    \n",
    "    ogn.eval()\n",
    "    with torch.no_grad():\n",
    "        while j < batch_per_epoch:\n",
    "            for ginput in testloader:\n",
    "                if j>= batch_per_epoch:\n",
    "                    break\n",
    "                ginput.x = ginput.x\n",
    "                ginput.y = ginput.y\n",
    "                ginput.edge_index = ginput.edge_index\n",
    "                ginput.batch = ginput.batch\n",
    "                loss = ogn.loss(ginput)#/int(ginput.batch[-1]+1)\n",
    "                valid_loss += loss.item()\n",
    "                valid_num_items += int(ginput.batch[-1]+1)\n",
    "                j += 1\n",
    "\n",
    "\n",
    "\n",
    "    cur_loss = total_loss/num_items\n",
    "    cur_valid_loss = valid_loss/valid_num_items\n",
    "    print(cur_loss)\n",
    "    print(cur_valid_loss)\n",
    "    cur_msgs = get_messages(ogn)\n",
    "    cur_selfdyn = get_selfDynamics(ogn)\n",
    "    cur_diff = get_diffusion(ogn)\n",
    "    cur_msgs['epoch'] = epoch\n",
    "    cur_msgs['loss'] = cur_loss\n",
    "    messages_over_time.append(cur_msgs)\n",
    "    selfDyn_over_time.append(cur_selfdyn)\n",
    "    diffusion_over_time.append(cur_diff)\n",
    "    \n",
    "    ogn.cpu()\n",
    "    from copy import deepcopy as copy\n",
    "    recorded_models.append(copy(ogn.state_dict()))"
   ]
  },
  {
   "cell_type": "code",
   "execution_count": 77,
   "id": "716f172b",
   "metadata": {},
   "outputs": [
    {
     "data": {
      "text/plain": [
       "<All keys matched successfully>"
      ]
     },
     "execution_count": 77,
     "metadata": {},
     "output_type": "execute_result"
    }
   ],
   "source": [
    "ogn.cpu()\n",
    "ogn.load_state_dict(recorded_models[-1])"
   ]
  },
  {
   "cell_type": "code",
   "execution_count": 78,
   "id": "a81906f2",
   "metadata": {},
   "outputs": [],
   "source": [
    "X = torch.as_tensor(np.array(mapping_data).astype('float'))\n",
    "y = torch.as_tensor(np.array(goal_data).astype('float'))\n",
    "x_Update = []\n",
    "y_Update = []\n",
    "z_Update = []\n",
    "vx_Update = []\n",
    "vy_Update = []\n",
    "vz_Update = []\n",
    "for i in range(0,20000):#X.shape[0]\n",
    "    _q = Data(\n",
    "        x=X[i].float(),\n",
    "        edge_index=edge_index,\n",
    "        y=y[i].float())\n",
    "    x_tmp,v_tmp= ogn.sample_trajectories(_q)\n",
    "    if i < X.shape[0]-2:\n",
    "        X[i+2,:,0:dim] = x_tmp\n",
    "        \n",
    "        X[i+1,:,dim:] = v_tmp\n",
    "    else:\n",
    "        break\n",
    "    x_Update.append(x_tmp[:,0].reshape(1,-1))\n",
    "    y_Update.append(x_tmp[:,1].reshape(1,-1))\n",
    "    #z_Update.append(x_tmp[:,2].reshape(1,-1))\n",
    "    vx_Update.append(v_tmp[:,0].reshape(1,-1))\n",
    "    vy_Update.append(v_tmp[:,1].reshape(1,-1))\n",
    "    #vz_Update.append(v_tmp[:,2].reshape(1,-1))\n",
    "x_i = torch.stack(x_Update, dim=0).reshape(-1,Num_nodes)\n",
    "y_i = torch.stack(y_Update, dim=0).reshape(-1,Num_nodes)\n",
    "#z_i = torch.stack(z_Update, dim=0).reshape(-1,Num_nodes)\n",
    "vx_i = torch.stack(vx_Update, dim=0).reshape(-1,Num_nodes)\n",
    "vy_i = torch.stack(vy_Update, dim=0).reshape(-1,Num_nodes)\n",
    "#vz_i = torch.stack(vz_Update, dim=0).reshape(-1,Num_nodes)"
   ]
  },
  {
   "cell_type": "code",
   "execution_count": 79,
   "id": "4529db46",
   "metadata": {},
   "outputs": [
    {
     "data": {
      "image/png": "[encoded data removed]",
      "text/plain": [
       "<Figure size 720x252 with 2 Axes>"
      ]
     },
     "metadata": {
      "needs_background": "light"
     },
     "output_type": "display_data"
    }
   ],
   "source": [
    "time1 = pd.read_csv('/Users/lanag/Library/CloudStorage/OneDrive-个人/Project2-StochasticDynamics/Flocks of birds/pigeonflocks_trajectories/hf1/flocks_timeseries_2dim_hf4.csv',encoding='utf-8',header=None)\n",
    "plt.rcParams.update({'font.size': 12}) \n",
    "plt.rcParams.update({'font.style': 'normal'})\n",
    "plt.rcParams.update({'font.family': 'Arial'})\n",
    "#plt.rcParams['savefig.dpi'] = 300 \n",
    "#plt.rcParams['figure.dpi'] = 300\n",
    "Nindex =0\n",
    "TIME = 20000\n",
    "x_tra = x_i.detach().numpy()[0:TIME,Nindex-1]\n",
    "x_real = time1.iloc[0:,Nindex*2-2]\n",
    "fig = plt.figure(figsize=(10,3.5))\n",
    "ax1 = fig.add_subplot(1,2,1)\n",
    "t = np.arange(0,x_tra.shape[0])\n",
    "ax1.plot(t,x_tra,c='steelblue',label=\"inferred\")\n",
    "ax1.plot(t, x_real[2:x_tra.shape[0]+2,],c='darkblue',label=\"real\")\n",
    "plt.ylabel('real vs inferred trajectory of dimension x')\n",
    "plt.legend()\n",
    "\n",
    "ax2 = fig.add_subplot(1,2,2)\n",
    "y_tra = y_i.detach().numpy()[0:TIME,Nindex-1]\n",
    "y_real = time1.iloc[0:,Nindex*2-1]\n",
    "t = np.arange(0,y_tra.shape[0])\n",
    "ax2.plot(t,y_tra,c='steelblue',label=\"inferred\")\n",
    "ax2.plot(t, y_real[2:y_tra.shape[0]+2,],c='darkblue',label=\"real\")\n",
    "plt.ylabel('real vs inferred trajectory of dimension y')\n",
    "plt.legend()\n",
    "\n",
    "#plt.savefig('/Users/lanag/OneDrive/Project2-StochasticDynamics/StochasticRossler/Figures/weightedRossler_intensity01_average_trajectories.png')\n",
    "plt.show()\n",
    "#plt.close()"
   ]
  },
  {
   "cell_type": "code",
   "execution_count": 83,
   "id": "28333934",
   "metadata": {},
   "outputs": [
    {
     "data": {
      "image/png": "[encoded data removed]",
      "text/plain": [
       "<Figure size 432x288 with 1 Axes>"
      ]
     },
     "metadata": {
      "needs_background": "light"
     },
     "output_type": "display_data"
    }
   ],
   "source": [
    "import matplotlib as mpl\n",
    "from mpl_toolkits.mplot3d import Axes3D\n",
    "import numpy as np\n",
    "import matplotlib.pyplot as plt\n",
    "mpl.rcParams['pdf.fonttype'] = 42\n",
    "mpl.rcParams['ps.fonttype'] = 42\n",
    "\n",
    "r = np.linspace(0, 200, 20000)\n",
    "fig, ax = plt.subplots()\n",
    "x1 = x_i.detach().numpy()[0:TIME,0]\n",
    "y1 = y_i.detach().numpy()[0:TIME,0]\n",
    "ax.plot(x1, y1, label='bird1')\n",
    "#ax.scatter(x1, y1, c = plt.cm.PuBu(r/max(r)),alpha=0.5, s= 0.5)\n",
    "x2 = x_i.detach().numpy()[0:TIME,1]\n",
    "y2 = y_i.detach().numpy()[0:TIME,1]\n",
    "ax.plot(x2, y2, label='bird2')\n",
    "#ax.scatter(x2, y2, c = plt.cm.PuBu(r/max(r)),alpha=0.5, s= 0.5)\n",
    "x3 = x_i.detach().numpy()[0:TIME,2]\n",
    "y3 = y_i.detach().numpy()[0:TIME,2]\n",
    "ax.plot(x3, y3, label='bird3')\n",
    "#ax.scatter(x3, y3, c = plt.cm.PuBu(r/max(r)),alpha=0.5, s= 0.5)\n",
    "x4 = x_i.detach().numpy()[0:TIME,3]\n",
    "y4 = y_i.detach().numpy()[0:TIME,3]\n",
    "ax.plot(x4, y4, label='bird4')\n",
    "#ax.scatter(x4, y4, c = plt.cm.PuBu(r/max(r)),alpha=0.5, s= 0.5)\n",
    "x5 = x_i.detach().numpy()[0:TIME,4]\n",
    "y5 = y_i.detach().numpy()[0:TIME,4]\n",
    "ax.plot(x5, y5, label='bird5')\n",
    "#ax.scatter(x5, y5, c = plt.cm.PuBu(r/max(r)),alpha=0.5, s= 0.5)\n",
    "x6 = x_i.detach().numpy()[0:TIME,5]\n",
    "y6 = y_i.detach().numpy()[0:TIME,5]\n",
    "ax.plot(x6, y6, label='bird6')\n",
    "#ax.scatter(x6, y6, c = plt.cm.PuBu(r/max(r)),alpha=0.5, s= 0.5)\n",
    "x7 = x_i.detach().numpy()[0:TIME,6]\n",
    "y7 = y_i.detach().numpy()[0:TIME,6]\n",
    "ax.plot(x7, y7, label='bird7')\n",
    "#ax.scatter(x7, y7, c = plt.cm.PuBu(r/max(r)),alpha=0.5, s= 0.5)\n",
    "x8 = x_i.detach().numpy()[0:TIME,7]\n",
    "y8 = y_i.detach().numpy()[0:TIME,7]\n",
    "ax.plot(x8, y8, label='bird8')\n",
    "#ax.scatter(x8, y8, c = plt.cm.PuBu(r/max(r)),alpha=0.5, s= 0.5)\n",
    "\n",
    "# x = x_real[1:20001,]\n",
    "# y = y_real[1:20001,]\n",
    "# ax.scatter(x, y, c = plt.cm.YlGnBu(r/max(r)),alpha=0.5, s= 1)\n",
    "\n",
    "ax.set_xlabel('x')\n",
    "ax.set_ylabel('y')\n",
    "ax.set_title('Inferred trajectories')\n",
    "ax.legend()\n",
    "#plt.savefig('/Users/lanag/Library/CloudStorage/OneDrive-个人/Project2-StochasticDynamics/Flocks of birds/Figures/hf4_inferred.pdf')\n",
    "plt.show()"
   ]
  },
  {
   "cell_type": "code",
   "execution_count": 84,
   "id": "ae7508db",
   "metadata": {},
   "outputs": [
    {
     "name": "stderr",
     "output_type": "stream",
     "text": [
      "/var/folders/tx/qq1ds3m144q1b4ghn62l4kjc0000gn/T/ipykernel_58467/2751892123.py:7: MatplotlibDeprecationWarning: Calling gca() with keyword arguments was deprecated in Matplotlib 3.4. Starting two minor releases later, gca() will take no keyword arguments. The gca() function should only be used to get the current axes, or if no axes exist, create new axes with default keyword arguments. To create a new axes with non-default arguments, use plt.axes() or plt.subplot().\n",
      "  ax = fig.gca(projection='3d')\n"
     ]
    },
    {
     "data": {
      "image/png": "[encoded data removed]",
      "text/plain": [
       "<Figure size 432x288 with 1 Axes>"
      ]
     },
     "metadata": {
      "needs_background": "light"
     },
     "output_type": "display_data"
    }
   ],
   "source": [
    "import matplotlib as mpl\n",
    "from mpl_toolkits.mplot3d import Axes3D\n",
    "import numpy as np\n",
    "import matplotlib.pyplot as plt\n",
    "\n",
    "fig = plt.figure()\n",
    "ax = fig.gca(projection='3d')\n",
    "ax.w_xaxis.set_pane_color((1.0, 1.0, 1.0, 1.0))\n",
    "ax.w_yaxis.set_pane_color((1.0, 1.0, 1.0, 1.0))\n",
    "ax.w_zaxis.set_pane_color((1.0, 1.0, 1.0, 1.0))\n",
    "ax.azim = -150\n",
    "ax.dist = 9\n",
    "ax.elev = 60\n",
    "r = np.linspace(0, 200, 20000)\n",
    "\n",
    "\n",
    "x_tra_1 = x_i.detach().numpy()[0:TIME,Nindex+1]\n",
    "y_tra_1 = y_i.detach().numpy()[0:TIME,Nindex+1]\n",
    "#z_tra_1 = z_i.detach().numpy()[0:TIME,Nindex+1]\n",
    "x = x_tra_1#x_real[1:x_tra.shape[0]+1,]\n",
    "y = y_tra_1#y_real[1:y_tra.shape[0]+1,]\n",
    "#z = z_tra_1#z_real[1:z_tra.shape[0]+1,]\n",
    "\n",
    "x_tra_2 = x_i.detach().numpy()[0:TIME,Nindex+2]\n",
    "y_tra_2 = y_i.detach().numpy()[0:TIME,Nindex+2]\n",
    "#z_tra_2 = z_i.detach().numpy()[0:TIME,Nindex+2]\n",
    "x2 = x_tra_2#x_real[1:x_tra.shape[0]+1,]\n",
    "y2 = y_tra_2 #y_real[1:y_tra.shape[0]+1,]\n",
    "#z2 = z_tra_2#z_real[1:z_tra.shape[0]+1,]\n",
    "\n",
    "x_tra_3 = x_i.detach().numpy()[0:TIME,Nindex+3]\n",
    "y_tra_3 = y_i.detach().numpy()[0:TIME,Nindex+3]\n",
    "#z_tra_3 = z_i.detach().numpy()[0:TIME,Nindex+3]\n",
    "x3 = x_tra_3#x_real[1:x_tra.shape[0]+1,]\n",
    "y3 = y_tra_3 #y_real[1:y_tra.shape[0]+1,]\n",
    "#z3 = z_tra_3#z_real[1:z_tra.shape[0]+1,]\n",
    "\n",
    "\n",
    "x1 = x_tra\n",
    "y1 = y_tra\n",
    "#z1 = z_tra\n",
    "\n",
    "#1 colored by value of `z`\n",
    "ax.plot(x, y, c = 'k') \n",
    "ax.plot(x2, y2, c = 'g') \n",
    "ax.plot(x3, y3, c = 'b') \n",
    "#2 colored by index (same in this example since z is a linspace too)\n",
    "\n",
    "ax.scatter(x1, y1, c = plt.cm.YlGnBu(r/max(r)),alpha=0.5, s= 3)\n",
    "\n",
    "plt.show()"
   ]
  },
  {
   "cell_type": "code",
   "execution_count": 135,
   "id": "43be5c43",
   "metadata": {},
   "outputs": [],
   "source": [
    "bestMe = messages_over_time[-1]"
   ]
  },
  {
   "cell_type": "code",
   "execution_count": 137,
   "id": "1449de2a",
   "metadata": {},
   "outputs": [],
   "source": [
    "import Self_func\n",
    "import Interaction_func\n",
    "from Self_func import *\n",
    "from Interaction_func import *\n",
    "from sklearn.preprocessing import normalize \n",
    "from sklearn.linear_model import LassoLarsCV \n",
    "from sklearn.linear_model import LassoCV\n",
    "from sklearn.metrics import mean_squared_error \n",
    "from sklearn.linear_model import LinearRegression \n",
    "from sklearn.metrics import mean_squared_error\n",
    "from math import log\n",
    "def calculate_aic(n,mse,num_params):\n",
    "    aic = n * log(mse) + 2 * num_params \n",
    "    return aic \n",
    "\n",
    "def terms_sort_fit(X_lib,Y_goal,intercept):\n",
    "    reg = LassoCV(cv=5, fit_intercept=intercept,  n_jobs=-1, max_iter=1000, normalize=False).fit(X_lib,Y_goal)\n",
    "    coef = pd.Series(reg.coef_, index=X_lib.columns)\n",
    "    if intercept == True:\n",
    "        coef['constant'] = reg.intercept_\n",
    "        num_params = len(coef)\n",
    "    else:\n",
    "        num_params = len(coef)    \n",
    "    P = X_lib\n",
    "    Score = reg.score(X_lib,Y_goal)\n",
    "    yhat = reg.predict(P)\n",
    "    mse = mean_squared_error(Y_goal, yhat)\n",
    "    aic = calculate_aic(len(Y_goal), mse, num_params)\n",
    "    #print('label of function: %.3f' % time)\n",
    "    sort = coef.sort_values()\n",
    "    print(coef)\n",
    "    return Score, mse, aic"
   ]
  },
  {
   "cell_type": "code",
   "execution_count": 138,
   "id": "6f793485",
   "metadata": {},
   "outputs": [],
   "source": [
    "rij_val = np.sqrt(bestMe['xij'].values**2+bestMe['yij'].values**2)\n",
    "cohesion_true = -((rij_val/2-1)**3/(1+rij_val/2)**6)-1#1.5*(1-(rij_val/2)**3)/(1+(rij_val/2)**6) # x1 (x_i) is target, x2 (x_j) is source \n",
    "align_true = np.exp(-rij_val/3)#np.sin(bestMe['x2'].values-bestMe['x1'].values)"
   ]
  },
  {
   "cell_type": "markdown",
   "id": "a44cca0e",
   "metadata": {},
   "source": [
    "## Construct interaction functions library"
   ]
  },
  {
   "cell_type": "code",
   "execution_count": 139,
   "id": "741654d9",
   "metadata": {},
   "outputs": [],
   "source": [
    "rij_matrix = self_ElementaryFunctions_Matrix(rij_val.reshape(-1,1), 1, 4, PolynomialIndex = True, TrigonometricIndex = False, \\\n",
    "    ExponentialIndex = True, FractionalIndex = False, ActivationIndex = False)\n",
    "rij_matrix = rij_matrix.replace([np.inf, -np.inf], np.nan).dropna(axis=1)"
   ]
  },
  {
   "cell_type": "code",
   "execution_count": 140,
   "id": "7864d590",
   "metadata": {},
   "outputs": [],
   "source": [
    "rij_matrix['align'] = np.exp(-rij_val/3)"
   ]
  },
  {
   "cell_type": "code",
   "execution_count": 141,
   "id": "fe3b3e27",
   "metadata": {},
   "outputs": [],
   "source": [
    "rij_matrix['cohesion'] = -((rij_val/2-1)**3/(1+rij_val/2)**6)"
   ]
  },
  {
   "cell_type": "code",
   "execution_count": 142,
   "id": "e44c568c",
   "metadata": {},
   "outputs": [],
   "source": [
    "goal = bestMe['c1'].values\n",
    "goal = pd.DataFrame(data = goal, columns =['c1'])"
   ]
  },
  {
   "cell_type": "code",
   "execution_count": 143,
   "id": "fa4685f3",
   "metadata": {},
   "outputs": [],
   "source": [
    "X = rij_matrix.copy()\n",
    "y = goal.copy()\n",
    "X_mat = X.values \n",
    "y_mat = y.values\n",
    "x_norml1 = []\n",
    "y_norml1 = []\n",
    "num = np.shape(X_mat)[1]\n",
    "num2 = 1\n",
    "L = np.shape(X_mat)[0]\n",
    "\n",
    "for i in range(0,num):\n",
    "    x_norml1.append(sum(abs(X_mat[:,i])))\n",
    "\n",
    "for i in range(0,num2):\n",
    "    y_norml1.append(sum(abs(y_mat[:,i])))\n",
    "\n",
    "X = pd.DataFrame(X)\n",
    "y = pd.DataFrame(y)\n",
    "\n",
    "X[X.columns] = normalize(X[X.columns], norm='l1', axis=0)*L\n",
    "y[y.columns] = normalize(y[y.columns], norm='l1', axis=0)*L\n",
    "\n",
    "X_col = X.columns \n",
    "Xin = X.iloc[:,:]\n",
    "out = np.array(y)\n",
    "y1 = (out[:,0])"
   ]
  },
  {
   "cell_type": "code",
   "execution_count": 144,
   "id": "092684cb",
   "metadata": {},
   "outputs": [],
   "source": [
    "maxy = np.max(bestMe['c1'].values)\n",
    "miny = np.min(bestMe['c1'].values)\n",
    "maxx = np.max(align_true)\n",
    "minx = np.min(align_true)\n",
    "align_true = (maxy-miny)*(align_true-minx)/(maxx-minx) + miny"
   ]
  },
  {
   "cell_type": "code",
   "execution_count": 145,
   "id": "2eb98a12",
   "metadata": {},
   "outputs": [
    {
     "name": "stderr",
     "output_type": "stream",
     "text": [
      "/opt/anaconda3/envs/pytorch_env/lib/python3.8/site-packages/sklearn/linear_model/_base.py:148: FutureWarning: 'normalize' was deprecated in version 1.0 and will be removed in 1.2. Please leave the normalize parameter to its default value to silence this warning. The default behavior of this estimator is to not do any normalization. If normalization is needed please use sklearn.preprocessing.StandardScaler instead.\n",
      "  warnings.warn(\n"
     ]
    },
    {
     "name": "stdout",
     "output_type": "stream",
     "text": [
      "0.9754564547664449\n",
      "Best threshold: 0.001\n"
     ]
    }
   ],
   "source": [
    "reg1 = LassoCV(cv=5, fit_intercept=False, n_jobs=-1, max_iter=5000, normalize=False).fit(Xin,y1)\n",
    "print(reg1.score(Xin,y1))\n",
    "print('Best threshold: %.3f' % reg1.alpha_)"
   ]
  },
  {
   "cell_type": "code",
   "execution_count": 146,
   "id": "05b856f1",
   "metadata": {},
   "outputs": [],
   "source": [
    "for i in range(len(reg1.coef_)):\n",
    "    reg1.coef_[i] = reg1.coef_[i]*y_norml1[0]/x_norml1[i]\n",
    "coef1 = pd.Series(reg1.coef_, index = X_col)"
   ]
  },
  {
   "cell_type": "code",
   "execution_count": 147,
   "id": "6ab89654",
   "metadata": {},
   "outputs": [
    {
     "name": "stdout",
     "output_type": "stream",
     "text": [
      "Elementary functions discovered by Phase 1 with constant.\n",
      "x1x1x1      1.000000e-10\n",
      "align       2.026225e-06\n",
      "cohesion    6.343365e-06\n",
      "expx1       2.631972e-03\n",
      "x1         -7.812114e-02\n",
      "x1x1       -5.681070e+01\n",
      "x1x1x1x1    3.077790e+06\n",
      "dtype: float64\n"
     ]
    }
   ],
   "source": [
    "imp_coef1 = pd.concat([coef1.sort_values(key=abs).head(int(0)),\n",
    "                     coef1.sort_values(key=abs).tail(int(10))])\n",
    "imp_cons = imp_coef1 + (1e-10)\n",
    "#imp_cons['constant'] = reg1.intercept_*y_norml1[0]/L\n",
    "#imp_cons = imp_cons.sort_values(key=abs)\n",
    "print(\"Elementary functions discovered by Phase 1 with constant.\")\n",
    "print(imp_cons)"
   ]
  },
  {
   "cell_type": "code",
   "execution_count": 148,
   "id": "6f103326",
   "metadata": {},
   "outputs": [
    {
     "name": "stdout",
     "output_type": "stream",
     "text": [
      "Function: x1x1x1 Coefficient: [[-25746.96066482]] Constant: [0.00260028] Regression score: 0.5955578255114184\n",
      "Function: align Coefficient: [[0.5149234]] Constant: [-0.51225495] Regression score: 0.9999995628579742\n",
      "Function: cohesion Coefficient: [[0.03830265]] Constant: [-0.03563398] Regression score: 0.999996038818842\n",
      "Function: expx1 Coefficient: [[-0.17141921]] Constant: [0.17408763] Regression score: 0.9999997756029426\n",
      "Function: x1 Coefficient: [[-0.1715856]] Constant: [0.00266847] Regression score: 0.9999999657342108\n",
      "Function: x1x1 Coefficient: [[-74.21161089]] Constant: [0.00261695] Regression score: 0.8385464678304878\n",
      "Function: x1x1x1x1 Coefficient: [[-7965362.84222917]] Constant: [0.00259375] Regression score: 0.4204417526442088\n"
     ]
    }
   ],
   "source": [
    "xi = rij_val\n",
    "Matrix = self_ElementaryFunctions_Matrix(xi.reshape(-1,1), 1, 4, PolynomialIndex = True, TrigonometricIndex = False, \\\n",
    "    ExponentialIndex = True, FractionalIndex = False, ActivationIndex = False)\n",
    "Matrix['align'] = np.exp(-rij_val/3)\n",
    "Matrix['cohesion'] = -((rij_val/2-1)**3/(1+rij_val/2)**6)\n",
    "Matrix = Matrix.replace([np.inf, -np.inf], np.nan).dropna(axis=1)\n",
    "goal = bestMe['c1'].values.reshape(-1,1)\n",
    "goal = pd.DataFrame(data = goal, columns =['c1'])\n",
    "for index, element in imp_cons.iteritems():\n",
    "    if index != 'constant':\n",
    "        Xfind = Matrix[index].values.reshape(-1,1)\n",
    "        model_linear = LinearRegression(fit_intercept=True)\n",
    "        model_linear.fit(Xfind,goal)\n",
    "        a = model_linear.coef_\n",
    "        print(\"Function:\", index, \"Coefficient:\", a, \"Constant:\", model_linear.intercept_, \"Regression score:\", model_linear.score(Xfind, goal) )"
   ]
  },
  {
   "cell_type": "code",
   "execution_count": 89,
   "id": "519e7bc9",
   "metadata": {},
   "outputs": [
    {
     "data": {
      "text/plain": [
       "0.27944395"
      ]
     },
     "execution_count": 89,
     "metadata": {},
     "output_type": "execute_result"
    }
   ],
   "source": [
    "(maxy-miny)/(maxx-minx)"
   ]
  },
  {
   "cell_type": "code",
   "execution_count": 90,
   "id": "309b95d1",
   "metadata": {},
   "outputs": [
    {
     "data": {
      "text/plain": [
       "0.9988282"
      ]
     },
     "execution_count": 90,
     "metadata": {},
     "output_type": "execute_result"
    }
   ],
   "source": [
    "minx"
   ]
  },
  {
   "cell_type": "code",
   "execution_count": 91,
   "id": "c79509f4",
   "metadata": {},
   "outputs": [
    {
     "data": {
      "text/plain": [
       "0.0011715889"
      ]
     },
     "execution_count": 91,
     "metadata": {},
     "output_type": "execute_result"
    }
   ],
   "source": [
    "maxx-minx"
   ]
  },
  {
   "cell_type": "code",
   "execution_count": 92,
   "id": "6e7cdf6c",
   "metadata": {},
   "outputs": [
    {
     "data": {
      "text/plain": [
       "-0.001742064"
      ]
     },
     "execution_count": 92,
     "metadata": {},
     "output_type": "execute_result"
    }
   ],
   "source": [
    "miny"
   ]
  },
  {
   "cell_type": "markdown",
   "id": "136e8902",
   "metadata": {},
   "source": [
    "## Align"
   ]
  },
  {
   "cell_type": "code",
   "execution_count": 93,
   "id": "8619ef96",
   "metadata": {},
   "outputs": [
    {
     "data": {
      "text/plain": [
       "Text(0, 0.5, 'Inferred align strength')"
      ]
     },
     "execution_count": 93,
     "metadata": {},
     "output_type": "execute_result"
    },
    {
     "data": {
      "image/png": "[encoded data removed]",
      "text/plain": [
       "<Figure size 360x360 with 1 Axes>"
      ]
     },
     "metadata": {
      "needs_background": "light"
     },
     "output_type": "display_data"
    }
   ],
   "source": [
    "plt.rcParams.update({'font.size': 12}) \n",
    "plt.rcParams.update({'font.style': 'normal'})\n",
    "plt.rcParams.update({'font.family': 'Arial'})\n",
    "mpl.rcParams['pdf.fonttype'] = 42\n",
    "mpl.rcParams['ps.fonttype'] = 42\n",
    "sx = bestMe['a1'].values[0:1000]#*bestMe['dxij']*m2\n",
    "sx_true = align_true[0:1000]#*bestMe['dxij']\n",
    "sy = bestMe['a1'].values[0:5000]#*bestMe['dyij']*m2\n",
    "sy_true = align_true[0:5000]#*bestMe['dyij']\n",
    "#sz = bestMe['a1'].values#*bestMe['dzij']*m2\n",
    "#sz_true = align_true#*bestMe['dzij']\n",
    "fig = plt.figure(figsize=(5, 5))\n",
    "ax1 = fig.add_subplot(1,1,1)\n",
    "#plt.title(\"true align- x dimension vs. inferred\",fontsize=10)\n",
    "plt.subplots_adjust(left=None, bottom=None, right=None, top=None, wspace=None, hspace=0.5)\n",
    "ax1.scatter(sx_true,sx,s=50,c ='grey', alpha=0.2)\n",
    "ax1.plot((0, 1), (0, 1), transform=ax1.transAxes, ls='--',c='k', label=\"1:1 line\")\n",
    "parameterx = np.polyfit(sx_true,sx,1)\n",
    "fx = np.poly1d(parameterx)\n",
    "ax1.plot(sx_true,fx(sx_true),c='palevioletred',lw=1)\n",
    "corrx = np.corrcoef(sx_true,sx)[0,1]\n",
    "bbox = dict(fc='1',alpha=0.5)\n",
    "plt.text(0.05, 0.9, '$R^2=%.2f$' % (corrx**2), transform=ax1.transAxes, size=15, bbox=bbox)\n",
    "plt.xlabel(\"True align strength\")\n",
    "plt.ylabel(\"Inferred align strength\")\n",
    "#plt.savefig('/Users/lanag/Library/CloudStorage/OneDrive-个人/Project2-StochasticDynamics/Flocks of birds/Figures/hf4_align.pdf')"
   ]
  },
  {
   "cell_type": "code",
   "execution_count": 94,
   "id": "b731dd2e",
   "metadata": {},
   "outputs": [],
   "source": [
    "coup_value = -((rij_val/2-1)**3/(1+rij_val/2)**6)+1\n",
    "#coup_value = ((rij_val/0.1)**3-1)/((rij_val/0.1)**6+1)"
   ]
  },
  {
   "cell_type": "code",
   "execution_count": 95,
   "id": "73fda1a3",
   "metadata": {},
   "outputs": [],
   "source": [
    "maxy = np.max(bestMe['c1'].values)\n",
    "miny = np.min(bestMe['c1'].values)\n",
    "maxx = np.max(coup_value)\n",
    "minx = np.min(coup_value)\n",
    "coup_value = (maxy-miny)*(coup_value-minx)/(maxx-minx) + miny"
   ]
  },
  {
   "cell_type": "code",
   "execution_count": 96,
   "id": "5960d935",
   "metadata": {},
   "outputs": [
    {
     "data": {
      "text/plain": [
       "array([0.00260117, 0.00248326, 0.00251343, ..., 0.00264948, 0.00251926,\n",
       "       0.00261686], dtype=float32)"
      ]
     },
     "execution_count": 96,
     "metadata": {},
     "output_type": "execute_result"
    }
   ],
   "source": [
    "coup_value"
   ]
  },
  {
   "cell_type": "code",
   "execution_count": 254,
   "id": "c50ea20c",
   "metadata": {},
   "outputs": [
    {
     "data": {
      "text/plain": [
       "array([0.00277083, 0.00272887, 0.00273961, ..., 0.00278802, 0.00274168,\n",
       "       0.00277642], dtype=float32)"
      ]
     },
     "execution_count": 254,
     "metadata": {},
     "output_type": "execute_result"
    }
   ],
   "source": [
    "-0.01368125*(((rij_val/2-1)**3/(1+rij_val/2)**6)-1+1.9843001)+0.0025799908"
   ]
  },
  {
   "cell_type": "code",
   "execution_count": 243,
   "id": "09a0b9cf",
   "metadata": {},
   "outputs": [
    {
     "data": {
      "text/plain": [
       "0.01368125"
      ]
     },
     "execution_count": 243,
     "metadata": {},
     "output_type": "execute_result"
    }
   ],
   "source": [
    "(maxy-miny)/(maxx-minx)"
   ]
  },
  {
   "cell_type": "code",
   "execution_count": 253,
   "id": "1552e46c",
   "metadata": {},
   "outputs": [
    {
     "data": {
      "text/plain": [
       "1.9843001"
      ]
     },
     "execution_count": 253,
     "metadata": {},
     "output_type": "execute_result"
    }
   ],
   "source": [
    "minx"
   ]
  },
  {
   "cell_type": "code",
   "execution_count": 245,
   "id": "30f68dc0",
   "metadata": {},
   "outputs": [
    {
     "data": {
      "text/plain": [
       "0.015696526"
      ]
     },
     "execution_count": 245,
     "metadata": {},
     "output_type": "execute_result"
    }
   ],
   "source": [
    "maxx-minx"
   ]
  },
  {
   "cell_type": "code",
   "execution_count": 246,
   "id": "29c47d67",
   "metadata": {},
   "outputs": [
    {
     "data": {
      "text/plain": [
       "0.0025799908"
      ]
     },
     "execution_count": 246,
     "metadata": {},
     "output_type": "execute_result"
    }
   ],
   "source": [
    "miny"
   ]
  },
  {
   "cell_type": "markdown",
   "id": "bea7ec62",
   "metadata": {},
   "source": [
    "## Cohesion"
   ]
  },
  {
   "cell_type": "code",
   "execution_count": 97,
   "id": "cec1124b",
   "metadata": {},
   "outputs": [
    {
     "data": {
      "text/plain": [
       "Text(0, 0.5, 'inferred cohesion strength')"
      ]
     },
     "execution_count": 97,
     "metadata": {},
     "output_type": "execute_result"
    },
    {
     "data": {
      "image/png": "[encoded data removed]",
      "text/plain": [
       "<Figure size 360x360 with 1 Axes>"
      ]
     },
     "metadata": {
      "needs_background": "light"
     },
     "output_type": "display_data"
    }
   ],
   "source": [
    "plt.rcParams.update({'font.size': 10}) \n",
    "plt.rcParams.update({'font.style': 'normal'})\n",
    "plt.rcParams.update({'font.family': 'Arial'})\n",
    "mpl.rcParams['pdf.fonttype'] = 42\n",
    "mpl.rcParams['ps.fonttype'] = 42\n",
    "temp = bestMe['c1'].values[0:1000]\n",
    "coup_value = coup_value[0:1000]\n",
    "fig = plt.figure(figsize=(5, 5))\n",
    "ax = fig.add_subplot(1,1,1)\n",
    "ax.scatter(coup_value,temp,s=50,c ='grey', alpha=0.2)\n",
    "ax.plot((0, 1), (0, 1), transform=ax.transAxes, ls='--',c='k', label=\"1:1 line\")\n",
    "parameter = np.polyfit(coup_value,temp,1)\n",
    "f = np.poly1d(parameter)\n",
    "ax.plot(coup_value,f(coup_value),c = '#ff9999', lw=1.5)\n",
    "corr = np.corrcoef(coup_value,temp)[0,1]\n",
    "bbox = dict(fc='1',alpha=0.5)\n",
    "plt.text(0.05, 0.9, '$R^2=%.2f$' % (corr**2),transform=ax.transAxes, size=12, bbox=bbox)\n",
    "#plt.title('Relation-rij-cohesion')\n",
    "plt.xlabel(\"true cohesion strength\")\n",
    "plt.ylabel(\"inferred cohesion strength\")\n",
    "#plt.savefig('/Users/lanag/Library/CloudStorage/OneDrive-个人/Project2-StochasticDynamics/Flocks of birds/Figures/hf4_cohesion.pdf')"
   ]
  },
  {
   "cell_type": "code",
   "execution_count": 98,
   "id": "6a85db75",
   "metadata": {},
   "outputs": [
    {
     "data": {
      "image/png": "[encoded data removed]",
      "text/plain": [
       "<Figure size 720x432 with 3 Axes>"
      ]
     },
     "metadata": {
      "needs_background": "light"
     },
     "output_type": "display_data"
    }
   ],
   "source": [
    "diffusion = diffusion_over_time[-1]\n",
    "diffusion = pd.DataFrame(diffusion)\n",
    "diffusion_new = pd.DataFrame.drop_duplicates(diffusion, subset=None, keep='first', inplace=False)\n",
    "import numpy as np\n",
    "import pandas as pd\n",
    "import matplotlib.pyplot as plt\n",
    "%matplotlib inline\n",
    "\n",
    "s = diffusion_new['d1']/np.sqrt(0.01) # diffusion is sqrt(h)*theta(x0) \n",
    "\n",
    "fig = plt.figure(figsize = (10,6))\n",
    "ax1 = fig.add_subplot(2,1,1)\n",
    "#ax1.scatter(s.index, s.values)\n",
    "ax1.plot(s.index, s.values,'.')\n",
    "plt.grid()\n",
    " \n",
    "ax2 = fig.add_subplot(2,1,2) \n",
    "s.hist(bins=30,alpha = 0.5,ax = ax2)\n",
    "s.plot(kind = 'kde', secondary_y=True,ax = ax2)\n",
    "plt.title('The standard deviation distribusion')\n",
    "plt.grid()"
   ]
  },
  {
   "cell_type": "code",
   "execution_count": 161,
   "id": "b5cf65e9",
   "metadata": {},
   "outputs": [],
   "source": [
    "best_selfDyn = selfDyn_over_time[-1]\n",
    "best_selfDyn = pd.DataFrame(best_selfDyn)\n",
    "TimeSeries = best_selfDyn.iloc[:,0:dim].values\n",
    "TimeSeries = TimeSeries.reshape(-1,Dimension)"
   ]
  },
  {
   "cell_type": "code",
   "execution_count": 163,
   "id": "7173e384",
   "metadata": {},
   "outputs": [],
   "source": [
    "self_true = (best_selfDyn['dxi']**2+best_selfDyn['dyi']**2)\n",
    "#self_true = best_selfDyn['dxi']*best_selfDyn['Vi']\n",
    "#self_true_1 = np.sqrt(best_selfDyn['Vi'])*best_selfDyn['dxi']\n",
    "#self_true_2 = best_selfDyn['dxi']"
   ]
  },
  {
   "cell_type": "markdown",
   "id": "e774b8fb",
   "metadata": {},
   "source": [
    "## Construct self- functions library"
   ]
  },
  {
   "cell_type": "code",
   "execution_count": 164,
   "id": "6a28e0f1",
   "metadata": {},
   "outputs": [],
   "source": [
    "self_matrix = self_ElementaryFunctions_Matrix(best_selfDyn.values[:,1:3], 2, 2, PolynomialIndex = True, TrigonometricIndex = False, \\\n",
    "    ExponentialIndex = True, FractionalIndex = False, ActivationIndex = False)\n",
    "self_matrix = self_matrix.replace([np.inf, -np.inf], np.nan).dropna(axis=1)"
   ]
  },
  {
   "cell_type": "code",
   "execution_count": 165,
   "id": "cf3cd9bb",
   "metadata": {},
   "outputs": [],
   "source": [
    "goal = best_selfDyn['s1'].values\n",
    "goal = pd.DataFrame(data = goal, columns =['s1'])"
   ]
  },
  {
   "cell_type": "code",
   "execution_count": 166,
   "id": "a740d412",
   "metadata": {},
   "outputs": [],
   "source": [
    "X = self_matrix.copy()\n",
    "y = goal.copy()\n",
    "X_mat = X.values \n",
    "y_mat = y.values\n",
    "x_norml1 = []\n",
    "y_norml1 = []\n",
    "num = np.shape(X_mat)[1]\n",
    "num2 = 1\n",
    "L = np.shape(X_mat)[0]\n",
    "\n",
    "for i in range(0,num):\n",
    "    x_norml1.append(sum(abs(X_mat[:,i])))\n",
    "\n",
    "for i in range(0,num2):\n",
    "    y_norml1.append(sum(abs(y_mat[:,i])))\n",
    "\n",
    "X = pd.DataFrame(X)\n",
    "y = pd.DataFrame(y)\n",
    "\n",
    "X[X.columns] = normalize(X[X.columns], norm='l1', axis=0)*L\n",
    "y[y.columns] = normalize(y[y.columns], norm='l1', axis=0)*L\n",
    "\n",
    "X_col = X.columns \n",
    "Xin = X.iloc[:,:]\n",
    "out = np.array(y)\n",
    "y1 = (out[:,0])"
   ]
  },
  {
   "cell_type": "code",
   "execution_count": 167,
   "id": "548ebcf5",
   "metadata": {},
   "outputs": [
    {
     "name": "stderr",
     "output_type": "stream",
     "text": [
      "/opt/anaconda3/envs/pytorch_env/lib/python3.8/site-packages/sklearn/linear_model/_base.py:148: FutureWarning: 'normalize' was deprecated in version 1.0 and will be removed in 1.2. Please leave the normalize parameter to its default value to silence this warning. The default behavior of this estimator is to not do any normalization. If normalization is needed please use sklearn.preprocessing.StandardScaler instead.\n",
      "  warnings.warn(\n"
     ]
    },
    {
     "name": "stdout",
     "output_type": "stream",
     "text": [
      "0.9957375357585034\n",
      "Best threshold: 0.001\n"
     ]
    }
   ],
   "source": [
    "reg1 = LassoCV(cv=5, fit_intercept=False, n_jobs=-1, max_iter=5000, normalize=False).fit(Xin,y1)\n",
    "print(reg1.score(Xin,y1))\n",
    "print('Best threshold: %.3f' % reg1.alpha_)"
   ]
  },
  {
   "cell_type": "code",
   "execution_count": 168,
   "id": "5c018ebf",
   "metadata": {},
   "outputs": [],
   "source": [
    "for i in range(len(reg1.coef_)):\n",
    "    reg1.coef_[i] = reg1.coef_[i]*y_norml1[0]/x_norml1[i]\n",
    "coef1 = pd.Series(reg1.coef_, index = X_col)"
   ]
  },
  {
   "cell_type": "code",
   "execution_count": 169,
   "id": "f920c9c1",
   "metadata": {},
   "outputs": [
    {
     "name": "stdout",
     "output_type": "stream",
     "text": [
      "Elementary functions discovered by Phase 1 with constant.\n",
      "x2       1.000000e-10\n",
      "x1x2     1.000000e-10\n",
      "expx2   -2.136165e-08\n",
      "expx1   -2.779635e-05\n",
      "x1       1.611016e-03\n",
      "x2x2    -1.135258e-01\n",
      "x1x1    -1.761036e-01\n",
      "dtype: float64\n"
     ]
    }
   ],
   "source": [
    "imp_coef1 = pd.concat([coef1.sort_values(key=abs).head(int(0)),\n",
    "                     coef1.sort_values(key=abs).tail(int(10))])\n",
    "imp_cons = imp_coef1 + (1e-10)\n",
    "#imp_cons['constant'] = reg1.intercept_*y_norml1[0]/L\n",
    "#imp_cons = imp_cons.sort_values(key=abs)\n",
    "print(\"Elementary functions discovered by Phase 1 with constant.\")\n",
    "print(imp_cons)"
   ]
  },
  {
   "cell_type": "code",
   "execution_count": 102,
   "id": "df897020",
   "metadata": {},
   "outputs": [],
   "source": [
    "maxy = np.max(best_selfDyn['s1'].values)\n",
    "miny = np.min(best_selfDyn['s1'].values)\n",
    "maxx = np.max(self_true)\n",
    "minx = np.min(self_true)\n",
    "self_true = (maxy-miny)*(self_true-minx)/(maxx-minx) + miny"
   ]
  },
  {
   "cell_type": "code",
   "execution_count": 103,
   "id": "4b6b7f30",
   "metadata": {},
   "outputs": [
    {
     "data": {
      "text/plain": [
       "2.4716552642692085"
      ]
     },
     "execution_count": 103,
     "metadata": {},
     "output_type": "execute_result"
    }
   ],
   "source": [
    "(maxy-miny)/(maxx-minx)"
   ]
  },
  {
   "cell_type": "code",
   "execution_count": 104,
   "id": "c76cb361",
   "metadata": {},
   "outputs": [
    {
     "data": {
      "text/plain": [
       "8.477218784719298e-07"
      ]
     },
     "execution_count": 104,
     "metadata": {},
     "output_type": "execute_result"
    }
   ],
   "source": [
    "minx"
   ]
  },
  {
   "cell_type": "code",
   "execution_count": 105,
   "id": "539c2c48",
   "metadata": {},
   "outputs": [
    {
     "data": {
      "text/plain": [
       "1.6579251109760662e-06"
      ]
     },
     "execution_count": 105,
     "metadata": {},
     "output_type": "execute_result"
    }
   ],
   "source": [
    "maxx-minx"
   ]
  },
  {
   "cell_type": "code",
   "execution_count": 106,
   "id": "280fab4b",
   "metadata": {},
   "outputs": [
    {
     "data": {
      "text/plain": [
       "-3.0189753e-05"
      ]
     },
     "execution_count": 106,
     "metadata": {},
     "output_type": "execute_result"
    }
   ],
   "source": [
    "miny"
   ]
  },
  {
   "cell_type": "markdown",
   "id": "f5768255",
   "metadata": {},
   "source": [
    "## self"
   ]
  },
  {
   "cell_type": "code",
   "execution_count": 107,
   "id": "63026106",
   "metadata": {},
   "outputs": [
    {
     "data": {
      "text/plain": [
       "Text(0, 0.5, 'Inferred self x')"
      ]
     },
     "execution_count": 107,
     "metadata": {},
     "output_type": "execute_result"
    },
    {
     "data": {
      "image/png": "[encoded data removed]",
      "text/plain": [
       "<Figure size 1296x360 with 1 Axes>"
      ]
     },
     "metadata": {
      "needs_background": "light"
     },
     "output_type": "display_data"
    }
   ],
   "source": [
    "plt.rcParams.update({'font.size': 12}) \n",
    "plt.rcParams.update({'font.style': 'normal'})\n",
    "plt.rcParams.update({'font.family': 'Arial'})\n",
    "mpl.rcParams['pdf.fonttype'] = 42\n",
    "mpl.rcParams['ps.fonttype'] = 42\n",
    "#self_true = 0.4*(-np.sqrt(best_selfDyn['dxi']**2+best_selfDyn['dyi']**2))\n",
    "ri = np.sqrt(best_selfDyn['dxi']**2+best_selfDyn['dyi']**2)\n",
    "sx = best_selfDyn['s1'].values*best_selfDyn['dxi']\n",
    "sx_true = self_true*best_selfDyn['dxi']\n",
    "sx = sx[0:1000]\n",
    "sx_true = sx_true[0:1000]\n",
    "\n",
    "fig = plt.figure(figsize=(18, 5))\n",
    "ax1 = fig.add_subplot(1,3,1)\n",
    "plt.title(\"true self- x dimension vs. inferred\",fontsize=10)\n",
    "plt.subplots_adjust(left=None, bottom=None, right=None, top=None, wspace=None, hspace=0.5)\n",
    "ax1.scatter(sx_true,sx,s=50,c ='grey', alpha=0.2)\n",
    "ax1.plot((0, 1), (0, 1), transform=ax1.transAxes, ls='--',c='k', label=\"1:1 line\")\n",
    "parameterx = np.polyfit(sx_true,sx,1)\n",
    "fx = np.poly1d(parameterx)\n",
    "ax1.plot(sx_true,fx(sx_true),c='palevioletred',lw=1.5)\n",
    "corrx = np.corrcoef(sx_true,sx)[0,1]\n",
    "bbox = dict(fc='1',alpha=0.5)\n",
    "plt.text(0.05, 0.9, '$R^2=%.2f$' % (corrx**2), transform=ax1.transAxes, size=15, bbox=bbox)\n",
    "plt.xlabel(\"True self x\")\n",
    "plt.ylabel(\"Inferred self x\")\n",
    "#plt.savefig('/Users/lanag/Library/CloudStorage/OneDrive-个人/Project2-StochasticDynamics/Flocks of birds/Figures/hf4_self.pdf')"
   ]
  },
  {
   "cell_type": "code",
   "execution_count": 143,
   "id": "836d867d",
   "metadata": {},
   "outputs": [],
   "source": [
    "from sklearn.linear_model import LinearRegression \n",
    "from sklearn.metrics import mean_squared_error\n",
    "\n",
    "self_true_1 = np.sqrt(best_selfDyn['dxi']**2+best_selfDyn['dyi']**2)#*best_selfDyn['dxi']\n",
    "self_true_2 = best_selfDyn['dxi']\n",
    "Xfind = self_true_1.values.reshape(-1,1)#pd.concat([self_true_1,self_true_2],axis=1)\n",
    "yfind = best_selfDyn['s1'].values\n",
    "model_linear = LinearRegression(fit_intercept=True)\n",
    "model_linear.fit(Xfind,yfind)\n",
    "a = model_linear.coef_"
   ]
  },
  {
   "cell_type": "code",
   "execution_count": 144,
   "id": "817ecff8",
   "metadata": {},
   "outputs": [
    {
     "data": {
      "text/plain": [
       "array([-0.00078592], dtype=float32)"
      ]
     },
     "execution_count": 144,
     "metadata": {},
     "output_type": "execute_result"
    }
   ],
   "source": [
    "a"
   ]
  },
  {
   "cell_type": "code",
   "execution_count": 145,
   "id": "f6acc55f",
   "metadata": {},
   "outputs": [
    {
     "data": {
      "text/plain": [
       "0.006713225187827465"
      ]
     },
     "execution_count": 145,
     "metadata": {},
     "output_type": "execute_result"
    }
   ],
   "source": [
    "model_linear.score(Xfind,yfind)"
   ]
  },
  {
   "cell_type": "code",
   "execution_count": null,
   "id": "ab93e734",
   "metadata": {},
   "outputs": [],
   "source": []
  },
  {
   "cell_type": "code",
   "execution_count": null,
   "id": "287bb24e",
   "metadata": {},
   "outputs": [],
   "source": []
  }
 ],
 "metadata": {
  "kernelspec": {
   "display_name": "Python 3 (ipykernel)",
   "language": "python",
   "name": "python3"
  },
  "language_info": {
   "codemirror_mode": {
    "name": "ipython",
    "version": 3
   },
   "file_extension": ".py",
   "mimetype": "text/x-python",
   "name": "python",
   "nbconvert_exporter": "python",
   "pygments_lexer": "ipython3",
   "version": "3.8.12"
  }
 },
 "nbformat": 4,
 "nbformat_minor": 5
}
