{
 "cells": [
  {
   "cell_type": "code",
   "execution_count": 5,
   "id": "433fb0f4",
   "metadata": {},
   "outputs": [],
   "source": [
    "import numpy as np\n",
    "import pandas as pd\n",
    "import os\n",
    "import torch\n",
    "from torch.autograd import Variable\n",
    "from matplotlib import pyplot as plt\n",
    "%matplotlib inline"
   ]
  },
  {
   "cell_type": "code",
   "execution_count": 6,
   "id": "7081b589",
   "metadata": {},
   "outputs": [],
   "source": [
    "import sys\n",
    "sys.path.append(\"/Users/lanag/Library/CloudStorage/OneDrive-个人/Project2-StochasticDynamics/manuscript_code/Code/utils\")\n",
    "import NeuGNN_model\n",
    "import Self_func\n",
    "import Interaction_func\n",
    "from NeuGNN_model import *\n",
    "from Self_func import *\n",
    "from Interaction_func import *"
   ]
  },
  {
   "cell_type": "code",
   "execution_count": 7,
   "id": "7c0c1d40",
   "metadata": {},
   "outputs": [],
   "source": [
    "USE_CUDA = False"
   ]
  },
  {
   "cell_type": "code",
   "execution_count": 8,
   "id": "3526ce1b",
   "metadata": {},
   "outputs": [],
   "source": [
    "Timeseries = pd.read_csv('/Users/lanag/Library/CloudStorage/OneDrive-个人/Project2-StochasticDynamics/manuscript_code/Code/Data/Time series/flocks_timeseries_2dim_hf4.csv',encoding='utf-8',header=None)"
   ]
  },
  {
   "cell_type": "code",
   "execution_count": 9,
   "id": "8e6f3a1f",
   "metadata": {},
   "outputs": [],
   "source": [
    "Adj = pd.read_csv('/Users/lanag/Library/CloudStorage/OneDrive-个人/Project2-StochasticDynamics/manuscript_code/Code/Data/Topology/hf4_matrix.csv',encoding='utf-8',header=None)"
   ]
  },
  {
   "cell_type": "code",
   "execution_count": 10,
   "id": "f2586b81",
   "metadata": {},
   "outputs": [],
   "source": [
    "model = 'flocks'"
   ]
  },
  {
   "cell_type": "code",
   "execution_count": 11,
   "id": "c11f9fd6",
   "metadata": {},
   "outputs": [],
   "source": [
    "Num_nodes = Adj.shape[0]\n",
    "Dimension = int(Timeseries.shape[1]/Num_nodes)"
   ]
  },
  {
   "cell_type": "code",
   "execution_count": 12,
   "id": "83b2ac16",
   "metadata": {},
   "outputs": [],
   "source": [
    "time = Timeseries.values\n",
    "timeseries = time.reshape(( -1, Num_nodes, Dimension)) # checked, correct input data"
   ]
  },
  {
   "cell_type": "code",
   "execution_count": 13,
   "id": "6214ef41",
   "metadata": {},
   "outputs": [],
   "source": [
    "delt_t = 0.01"
   ]
  },
  {
   "cell_type": "code",
   "execution_count": 14,
   "id": "a0cc5ddc",
   "metadata": {},
   "outputs": [],
   "source": [
    "timeseries_t0 = timeseries[0:-1,:,:]\n",
    "timeseries_t1 = timeseries[1:,:,:]\n",
    "dX = (timeseries_t1-timeseries_t0)\n",
    "dXdt = (timeseries_t1-timeseries_t0)/delt_t"
   ]
  },
  {
   "cell_type": "code",
   "execution_count": 15,
   "id": "dd41ef6f",
   "metadata": {},
   "outputs": [],
   "source": [
    "timeseries_t2 = timeseries[2:,:,:]\n",
    "dVdt = (timeseries_t2-2*timeseries_t1[:-1,:,:]+timeseries[0:-2,:,:])/delt_t**2"
   ]
  },
  {
   "cell_type": "code",
   "execution_count": 16,
   "id": "987c48bc",
   "metadata": {},
   "outputs": [],
   "source": [
    "import numpy as np\n",
    "def get_edge_index(Adj):\n",
    "    num_nodes = Adj.shape[0]\n",
    "    Adj = Adj.values\n",
    "    edge_index = torch.from_numpy(np.array(np.where(Adj)))\n",
    "    return edge_index"
   ]
  },
  {
   "cell_type": "code",
   "execution_count": 17,
   "id": "82372e79",
   "metadata": {},
   "outputs": [],
   "source": [
    "edge_index = get_edge_index(Adj) #target to source\n",
    "\n",
    "index = [1,0]\n",
    "edge_index = edge_index[index] #source to target \n",
    "# checked, correct input edge_index data"
   ]
  },
  {
   "cell_type": "code",
   "execution_count": 18,
   "id": "3684a076",
   "metadata": {},
   "outputs": [],
   "source": [
    "#data = data.reshape((10,-1,4,6))\n",
    "import numpy as np\n",
    "goal_data = np.concatenate([timeseries[3:,:,:],dXdt[1:-1,:,:],dVdt[:-1,:,:]],axis=2)\n",
    "#goal_data = data[1:-1,:,0:Dimension]\n",
    "mapping_data = np.concatenate((timeseries[1:-2,:,:],dXdt[0:-2,:,:]),axis=2)"
   ]
  },
  {
   "cell_type": "code",
   "execution_count": 19,
   "id": "ee02ac36",
   "metadata": {},
   "outputs": [],
   "source": [
    "X = torch.as_tensor(np.array(mapping_data).astype('float'))\n",
    "y = torch.as_tensor(np.array(goal_data).astype('float'))"
   ]
  },
  {
   "cell_type": "code",
   "execution_count": 20,
   "id": "e0e48e76",
   "metadata": {},
   "outputs": [],
   "source": [
    "from sklearn.model_selection import train_test_split"
   ]
  },
  {
   "cell_type": "code",
   "execution_count": 21,
   "id": "bbad5506",
   "metadata": {},
   "outputs": [],
   "source": [
    "X_train, X_test, y_train, y_test = train_test_split(X, y, shuffle=True, test_size=0.2)\n",
    "X_train = X_train.float()\n",
    "y_train = y_train.float()\n",
    "X_test = X_test.float()\n",
    "y_test = y_test.float()"
   ]
  },
  {
   "cell_type": "code",
   "execution_count": 22,
   "id": "a0d936eb",
   "metadata": {},
   "outputs": [],
   "source": [
    "import torch\n",
    "from torch import nn\n",
    "from torch.functional import F\n",
    "from torch.optim import Adam\n",
    "from torch_geometric.nn import MetaLayer, MessagePassing"
   ]
  },
  {
   "cell_type": "code",
   "execution_count": 23,
   "id": "62d01473",
   "metadata": {},
   "outputs": [],
   "source": [
    "aggr = 'add'\n",
    "hidden = 100\n",
    "\n",
    "\n",
    "msg_dim = 3\n",
    "n_f = mapping_data.shape[2]"
   ]
  },
  {
   "cell_type": "code",
   "execution_count": 24,
   "id": "760f17e1",
   "metadata": {},
   "outputs": [],
   "source": [
    "dim = Dimension*1"
   ]
  },
  {
   "cell_type": "code",
   "execution_count": 25,
   "id": "ad52e670",
   "metadata": {},
   "outputs": [],
   "source": [
    "from torch_geometric.data import Data, DataLoader"
   ]
  },
  {
   "cell_type": "code",
   "execution_count": 27,
   "id": "4644c71e",
   "metadata": {},
   "outputs": [],
   "source": [
    "ogn = SDI_Difftype(model,n_f, msg_dim, dim, delt_t, hidden=hidden, edge_index=edge_index , aggr=aggr)"
   ]
  },
  {
   "cell_type": "code",
   "execution_count": 28,
   "id": "b6ffcb8b",
   "metadata": {},
   "outputs": [],
   "source": [
    "messages_over_time = []\n",
    "selfDyn_over_time = []\n",
    "diffusion_over_time = []"
   ]
  },
  {
   "cell_type": "code",
   "execution_count": 29,
   "id": "0f30e369",
   "metadata": {},
   "outputs": [],
   "source": [
    "x=X_train[1]\n",
    "y=y_train[1]\n",
    "_q = Data(\n",
    "    x=X_train[1],\n",
    "    edge_index=edge_index,\n",
    "    y=y_train[1])"
   ]
  },
  {
   "cell_type": "code",
   "execution_count": 30,
   "id": "f2582f2e",
   "metadata": {},
   "outputs": [
    {
     "data": {
      "text/plain": [
       "tensor(1043.7849, grad_fn=<AddBackward0>)"
      ]
     },
     "execution_count": 30,
     "metadata": {},
     "output_type": "execute_result"
    }
   ],
   "source": [
    "ogn.loss(_q)"
   ]
  },
  {
   "cell_type": "code",
   "execution_count": 31,
   "id": "931d68be",
   "metadata": {},
   "outputs": [
    {
     "name": "stderr",
     "output_type": "stream",
     "text": [
      "/opt/anaconda3/envs/pytorch_env/lib/python3.8/site-packages/torch_geometric/deprecation.py:13: UserWarning: 'data.DataLoader' is deprecated, use 'loader.DataLoader' instead\n",
      "  warnings.warn(out)\n"
     ]
    }
   ],
   "source": [
    "batch = 64\n",
    "trainloader = DataLoader(\n",
    "    [Data(\n",
    "        Variable(X_train[i]),\n",
    "        edge_index=edge_index,\n",
    "        y=Variable(y_train[i])) for i in range(len(y_train))],\n",
    "    batch_size=batch,\n",
    "    shuffle=True\n",
    ")\n",
    "\n",
    "testloader = DataLoader(\n",
    "    [Data(\n",
    "        X_test[i],\n",
    "        edge_index=edge_index,\n",
    "        y=y_test[i]) for i in range(len(y_test))],\n",
    "    batch_size=128,\n",
    "    shuffle=True\n",
    ")"
   ]
  },
  {
   "cell_type": "code",
   "execution_count": 32,
   "id": "913888bb",
   "metadata": {},
   "outputs": [],
   "source": [
    "from torch.optim.lr_scheduler import ReduceLROnPlateau, OneCycleLR"
   ]
  },
  {
   "cell_type": "code",
   "execution_count": 33,
   "id": "f1105842",
   "metadata": {},
   "outputs": [],
   "source": [
    "init_lr = 1e-4\n",
    "\n",
    "opt = torch.optim.Adam(ogn.parameters(), lr=init_lr, weight_decay=1e-8)\n",
    "\n",
    "# total_epochs = 200\n",
    "total_epochs = 30\n",
    "\n",
    "batch_per_epoch = 2000\n",
    "\n",
    "sched = OneCycleLR(opt, max_lr=init_lr,\n",
    "                   steps_per_epoch=batch_per_epoch,#len(trainloader),\n",
    "                   epochs=total_epochs, final_div_factor=1e5)"
   ]
  },
  {
   "cell_type": "code",
   "execution_count": 34,
   "id": "98a3ed1f",
   "metadata": {},
   "outputs": [],
   "source": [
    "epoch = 0\n",
    "from tqdm import tqdm"
   ]
  },
  {
   "cell_type": "code",
   "execution_count": 35,
   "id": "b4f2c9cc",
   "metadata": {},
   "outputs": [],
   "source": [
    "import numpy as onp\n",
    "onp.random.seed(0)\n",
    "test_idxes = onp.random.randint(0, len(X_test), 1000)\n",
    "\n",
    "#Record messages over test dataset here:\n",
    "newtestloader = DataLoader(\n",
    "     [Data(\n",
    "         X_test[i],\n",
    "         edge_index=edge_index,\n",
    "         y=y_test[i]) for i in test_idxes],\n",
    "     batch_size=len(X_test),\n",
    "     shuffle=False\n",
    " )"
   ]
  },
  {
   "cell_type": "code",
   "execution_count": 36,
   "id": "935c026c",
   "metadata": {},
   "outputs": [],
   "source": [
    "import numpy as onp\n",
    "import pandas as pd\n",
    "\n",
    "def get_messages(ogn):\n",
    "\n",
    "    def get_message_info(tmp):\n",
    "        ogn.cpu()\n",
    "\n",
    "        s1 = tmp.x[tmp.edge_index[0]] #source\n",
    "\n",
    "        s2 = tmp.x[tmp.edge_index[1]] #target\n",
    "\n",
    "        #Tmp = torch.cat([s2, s1],dim=1) # tmp --> xi,xj\n",
    "        xtmp = (s1[:,0:dim]-s2[:,0:dim])\n",
    "        vtmp = (s1[:,dim:dim*2]-s2[:,dim:dim*2])\n",
    "        if dim == 1:\n",
    "            Xtmp = torch.sqrt((s1[:,0]-s2[:,0])**2)\n",
    "        if dim == 2:\n",
    "            Xtmp = torch.sqrt((s1[:,0]-s2[:,0])**2+(s1[:,1]-s2[:,1])**2)\n",
    "        if dim == 3:\n",
    "            Xtmp = torch.sqrt((s1[:,0]-s2[:,0])**2+(s1[:,1]-s2[:,1])**2+(s1[:,2]-s2[:,2])**2)\n",
    " \n",
    "        cohesion = ogn.msg_fnc_cohesion(Xtmp.reshape(-1,1))\n",
    "        align = ogn.msg_fnc_align(Xtmp.reshape(-1,1))\n",
    "        #repulsion = ogn.msg_fnc_repulsion(Xtmp.reshape(-1,1))\n",
    "    \n",
    "        all_messages = torch.cat((\n",
    "            xtmp,vtmp,cohesion,align), dim=1)\n",
    "        if dim == 1:\n",
    "            columns = ['xij','dxij','c1','a1']\n",
    "        if dim == 2:\n",
    "            columns = ['xij','yij','dxij','dyij','c1','a1']\n",
    "        elif dim == 3:\n",
    "            columns = ['xij','yij','zij','dxij','dyij','dzij','c1','a1']\n",
    "\n",
    "        return pd.DataFrame(\n",
    "              data=all_messages.cpu().detach().numpy(),\n",
    "             columns=columns\n",
    "        )\n",
    "        #print(all_messages.shape)\n",
    "        return pd.DataFrame(all_messages)\n",
    "\n",
    "    msg_info = []\n",
    "    for i, g in enumerate(newtestloader):\n",
    "        msg_info.append(get_message_info(g))\n",
    "\n",
    "    msg_info = pd.concat(msg_info)\n",
    "    \n",
    "    return msg_info"
   ]
  },
  {
   "cell_type": "code",
   "execution_count": 37,
   "id": "6154b2ad",
   "metadata": {},
   "outputs": [],
   "source": [
    "def get_diffusion(ogn):\n",
    "    def get_diffusion_info(tmp):\n",
    "        ogn.cpu()\n",
    "        \n",
    "        tmp = tmp.x[tmp.edge_index[1]]\n",
    "        if dim==1:\n",
    "            self_diff_x = ogn.stochastic_x(tmp)\n",
    "            self_diff_all = torch.cat((tmp,self_diff_x), dim=1)\n",
    "            columns = ['xi','dxi','d1']\n",
    "            \n",
    "        if dim==2:\n",
    "            self_diff_x = ogn.stochastic_x(tmp)\n",
    "            self_diff_y = ogn.stochastic_y(tmp)\n",
    "            self_diff_all = torch.cat((tmp,self_diff_x,self_diff_y), dim=1)\n",
    "            columns = ['xi','yi','dxi','dyi','d1','d2']\n",
    "        if dim==3:\n",
    "            self_diff_x = ogn.stochastic_x(tmp)\n",
    "            self_diff_y = ogn.stochastic_y(tmp)\n",
    "            self_diff_z = ogn.stochastic_z(tmp)\n",
    "            self_diff_all = torch.cat((tmp,self_diff_x,self_diff_y,self_diff_z), dim=1)\n",
    "            columns = ['xi','yi','zi','dxi','dyi','dzi','d1','d2','d3']\n",
    "            \n",
    "        return pd.DataFrame(\n",
    "              data=self_diff_all.cpu().detach().numpy(),\n",
    "             columns=columns\n",
    "        )\n",
    "        return pd.DataFrame(self_diff_all)\n",
    "\n",
    "    selfDiffusion_info = []\n",
    "    for i, g in enumerate(newtestloader):\n",
    "        selfDiffusion_info.append(get_diffusion_info(g))\n",
    "\n",
    "    selfDiffusion_info = pd.concat(selfDiffusion_info)\n",
    "    return selfDiffusion_info "
   ]
  },
  {
   "cell_type": "code",
   "execution_count": 38,
   "id": "00666496",
   "metadata": {},
   "outputs": [],
   "source": [
    "def get_selfDynamics(ogn):\n",
    "    def get_selfDynamics_info(tmp):\n",
    "        ogn.cpu()\n",
    "        \n",
    "        tmp = tmp.x[tmp.edge_index[1]]\n",
    "        if dim==1:\n",
    "            vtmp = torch.sqrt(tmp[:,1]**2)\n",
    "            self_dyn = ogn.node_fnc_strength(vtmp.reshape(-1,1))\n",
    "            self_dyn_all = torch.cat((tmp[:,1:2],self_dyn), dim=1)\n",
    "            columns = ['dxi','s1']\n",
    "            \n",
    "        if dim==2:\n",
    "            vtmp = tmp[:,2]**2+tmp[:,3]**2\n",
    "            vxtmp = torch.cat((vtmp.reshape(-1,1),tmp[:,2].reshape(-1,1)),dim=1)\n",
    "            vytmp = torch.cat((vtmp.reshape(-1,1),tmp[:,3].reshape(-1,1)),dim=1)\n",
    "            \n",
    "            self_dyn_x = ogn.node_fnc_strength_x(vxtmp)#vtmp.reshape(-1,1)\n",
    "            self_dyn_y = ogn.node_fnc_strength_y(vytmp)#vtmp.reshape(-1,1)\n",
    "            self_dyn_all = torch.cat((vtmp.reshape(-1,1),tmp[:,2:4],self_dyn_x, self_dyn_y), dim=1)\n",
    "            columns = ['Vi','dxi','dyi','s1','s2']\n",
    "        if dim==3:\n",
    "            vtmp = torch.sqrt(tmp[:,3]**2+tmp[:,4]**2+tmp[:,5]**2)\n",
    "            self_dyn = ogn.node_fnc_strength(vtmp.reshape(-1,1))\n",
    "            self_dyn_all = torch.cat((tmp[:,3:6],self_dyn), dim=1)\n",
    "            columns = ['dxi','dyi','dzi','s1']\n",
    "            \n",
    "        return pd.DataFrame(\n",
    "              data=self_dyn_all.cpu().detach().numpy(),\n",
    "             columns=columns\n",
    "        )\n",
    "        return pd.DataFrame(self_dyn_all)\n",
    "\n",
    "    selfDyn_info = []\n",
    "    for i, g in enumerate(newtestloader):\n",
    "        selfDyn_info.append(get_selfDynamics_info(g))\n",
    "\n",
    "    selfDyn_info = pd.concat(selfDyn_info)\n",
    "    return selfDyn_info"
   ]
  },
  {
   "cell_type": "code",
   "execution_count": 39,
   "id": "715ecd98",
   "metadata": {},
   "outputs": [],
   "source": [
    "recorded_models = []"
   ]
  },
  {
   "cell_type": "code",
   "execution_count": 40,
   "id": "f87a68d7",
   "metadata": {},
   "outputs": [
    {
     "name": "stderr",
     "output_type": "stream",
     "text": [
      "\r",
      "  0%|                                                    | 0/30 [00:00<?, ?it/s]"
     ]
    },
    {
     "name": "stdout",
     "output_type": "stream",
     "text": [
      "173.22496963110203\n",
      "7.528431901598293\n"
     ]
    },
    {
     "name": "stderr",
     "output_type": "stream",
     "text": [
      "\r",
      "  3%|█▍                                         | 1/30 [01:54<55:23, 114.59s/it]"
     ]
    },
    {
     "name": "stdout",
     "output_type": "stream",
     "text": [
      "5.655070521998818\n",
      "2.8379785882782738\n"
     ]
    },
    {
     "name": "stderr",
     "output_type": "stream",
     "text": [
      "\r",
      "  7%|██▊                                        | 2/30 [03:48<53:22, 114.38s/it]"
     ]
    },
    {
     "name": "stdout",
     "output_type": "stream",
     "text": [
      "-3.619074027801337\n",
      "-13.270175880530616\n"
     ]
    },
    {
     "name": "stderr",
     "output_type": "stream",
     "text": [
      "\r",
      " 10%|████▎                                      | 3/30 [05:43<51:32, 114.53s/it]"
     ]
    },
    {
     "name": "stdout",
     "output_type": "stream",
     "text": [
      "-33.00082287166779\n",
      "-59.8160195384711\n"
     ]
    },
    {
     "name": "stderr",
     "output_type": "stream",
     "text": [
      "\r",
      " 13%|█████▋                                     | 4/30 [07:37<49:36, 114.47s/it]"
     ]
    },
    {
     "name": "stdout",
     "output_type": "stream",
     "text": [
      "-101.79121214780315\n",
      "-143.39263281874196\n"
     ]
    },
    {
     "name": "stderr",
     "output_type": "stream",
     "text": [
      "\r",
      " 17%|███████▏                                   | 5/30 [09:32<47:41, 114.47s/it]"
     ]
    },
    {
     "name": "stdout",
     "output_type": "stream",
     "text": [
      "-144.63220653731528\n",
      "-152.6137524652726\n"
     ]
    },
    {
     "name": "stderr",
     "output_type": "stream",
     "text": [
      "\r",
      " 20%|████████▌                                  | 6/30 [11:26<45:46, 114.45s/it]"
     ]
    },
    {
     "name": "stdout",
     "output_type": "stream",
     "text": [
      "-146.41144291915253\n",
      "-153.5805462957818\n"
     ]
    },
    {
     "name": "stderr",
     "output_type": "stream",
     "text": [
      "\r",
      " 23%|██████████                                 | 7/30 [13:22<44:03, 114.92s/it]"
     ]
    },
    {
     "name": "stdout",
     "output_type": "stream",
     "text": [
      "-146.81428100483893\n",
      "-151.14324842931813\n"
     ]
    },
    {
     "name": "stderr",
     "output_type": "stream",
     "text": [
      "\r",
      " 27%|███████████▍                               | 8/30 [15:18<42:15, 115.24s/it]"
     ]
    },
    {
     "name": "stdout",
     "output_type": "stream",
     "text": [
      "-148.96841660693903\n",
      "-154.46400551677033\n"
     ]
    },
    {
     "name": "stderr",
     "output_type": "stream",
     "text": [
      "\r",
      " 30%|████████████▉                              | 9/30 [17:14<40:25, 115.51s/it]"
     ]
    },
    {
     "name": "stdout",
     "output_type": "stream",
     "text": [
      "-150.87846995569038\n",
      "-158.05511809656355\n"
     ]
    },
    {
     "name": "stderr",
     "output_type": "stream",
     "text": [
      "\r",
      " 33%|██████████████                            | 10/30 [19:10<38:32, 115.63s/it]"
     ]
    },
    {
     "name": "stdout",
     "output_type": "stream",
     "text": [
      "-152.5560599697104\n",
      "-150.64334710371315\n"
     ]
    },
    {
     "name": "stderr",
     "output_type": "stream",
     "text": [
      "\r",
      " 37%|███████████████▍                          | 11/30 [21:07<36:42, 115.95s/it]"
     ]
    },
    {
     "name": "stdout",
     "output_type": "stream",
     "text": [
      "-153.81273316962267\n",
      "-157.5597344855196\n"
     ]
    },
    {
     "name": "stderr",
     "output_type": "stream",
     "text": [
      "\r",
      " 40%|████████████████▊                         | 12/30 [23:03<34:50, 116.16s/it]"
     ]
    },
    {
     "name": "stdout",
     "output_type": "stream",
     "text": [
      "-158.12090349207074\n",
      "-164.36477800735722\n"
     ]
    },
    {
     "name": "stderr",
     "output_type": "stream",
     "text": [
      "\r",
      " 43%|██████████████████▏                       | 13/30 [24:59<32:53, 116.11s/it]"
     ]
    },
    {
     "name": "stdout",
     "output_type": "stream",
     "text": [
      "-160.4472916783589\n",
      "-159.6790265242159\n"
     ]
    },
    {
     "name": "stderr",
     "output_type": "stream",
     "text": [
      "\r",
      " 47%|███████████████████▌                      | 14/30 [26:55<30:57, 116.07s/it]"
     ]
    },
    {
     "name": "stdout",
     "output_type": "stream",
     "text": [
      "-162.39765916251918\n",
      "-157.85135622427327\n"
     ]
    },
    {
     "name": "stderr",
     "output_type": "stream",
     "text": [
      "\r",
      " 50%|█████████████████████                     | 15/30 [28:51<29:00, 116.01s/it]"
     ]
    },
    {
     "name": "stdout",
     "output_type": "stream",
     "text": [
      "-165.98139792797437\n",
      "-171.60250216908497\n"
     ]
    },
    {
     "name": "stderr",
     "output_type": "stream",
     "text": [
      "\r",
      " 53%|██████████████████████▍                   | 16/30 [30:47<27:04, 116.02s/it]"
     ]
    },
    {
     "name": "stdout",
     "output_type": "stream",
     "text": [
      "-169.40060744910474\n",
      "-140.2529119521936\n"
     ]
    },
    {
     "name": "stderr",
     "output_type": "stream",
     "text": [
      "\r",
      " 57%|███████████████████████▊                  | 17/30 [32:43<25:08, 116.05s/it]"
     ]
    },
    {
     "name": "stdout",
     "output_type": "stream",
     "text": [
      "-173.1839828170533\n",
      "-179.87673983470526\n"
     ]
    },
    {
     "name": "stderr",
     "output_type": "stream",
     "text": [
      "\r",
      " 60%|█████████████████████████▏                | 18/30 [34:39<23:12, 116.04s/it]"
     ]
    },
    {
     "name": "stdout",
     "output_type": "stream",
     "text": [
      "-176.90051732451997\n",
      "-178.03444561000336\n"
     ]
    },
    {
     "name": "stderr",
     "output_type": "stream",
     "text": [
      "\r",
      " 63%|██████████████████████████▌               | 19/30 [36:36<21:16, 116.08s/it]"
     ]
    },
    {
     "name": "stdout",
     "output_type": "stream",
     "text": [
      "-180.6318652691656\n",
      "-186.52144233731343\n"
     ]
    },
    {
     "name": "stderr",
     "output_type": "stream",
     "text": [
      "\r",
      " 67%|████████████████████████████              | 20/30 [38:36<19:34, 117.41s/it]"
     ]
    },
    {
     "name": "stdout",
     "output_type": "stream",
     "text": [
      "-184.36422476144648\n",
      "-184.68548948099357\n"
     ]
    },
    {
     "name": "stderr",
     "output_type": "stream",
     "text": [
      "\r",
      " 70%|█████████████████████████████▍            | 21/30 [40:34<17:37, 117.49s/it]"
     ]
    },
    {
     "name": "stdout",
     "output_type": "stream",
     "text": [
      "-188.24086026978938\n",
      "-193.01412134281688\n"
     ]
    },
    {
     "name": "stderr",
     "output_type": "stream",
     "text": [
      "\r",
      " 73%|██████████████████████████████▊           | 22/30 [42:33<15:44, 118.05s/it]"
     ]
    },
    {
     "name": "stdout",
     "output_type": "stream",
     "text": [
      "-192.06248277255796\n",
      "-188.7104057276633\n"
     ]
    },
    {
     "name": "stderr",
     "output_type": "stream",
     "text": [
      "\r",
      " 77%|████████████████████████████████▏         | 23/30 [44:33<13:49, 118.45s/it]"
     ]
    },
    {
     "name": "stdout",
     "output_type": "stream",
     "text": [
      "-195.0310150338653\n",
      "-195.17776030671823\n"
     ]
    },
    {
     "name": "stderr",
     "output_type": "stream",
     "text": [
      "\r",
      " 80%|█████████████████████████████████▌        | 24/30 [46:32<11:52, 118.70s/it]"
     ]
    },
    {
     "name": "stdout",
     "output_type": "stream",
     "text": [
      "-197.30427575803188\n",
      "-199.3105997213939\n"
     ]
    },
    {
     "name": "stderr",
     "output_type": "stream",
     "text": [
      "\r",
      " 83%|███████████████████████████████████       | 25/30 [48:33<09:56, 119.33s/it]"
     ]
    },
    {
     "name": "stdout",
     "output_type": "stream",
     "text": [
      "-199.2631274557879\n",
      "-199.6196478234002\n"
     ]
    },
    {
     "name": "stderr",
     "output_type": "stream",
     "text": [
      "\r",
      " 87%|████████████████████████████████████▍     | 26/30 [50:31<07:56, 119.03s/it]"
     ]
    },
    {
     "name": "stdout",
     "output_type": "stream",
     "text": [
      "-200.60741687003897\n",
      "-201.51909734503877\n"
     ]
    },
    {
     "name": "stderr",
     "output_type": "stream",
     "text": [
      "\r",
      " 90%|█████████████████████████████████████▊    | 27/30 [52:30<05:57, 119.00s/it]"
     ]
    },
    {
     "name": "stdout",
     "output_type": "stream",
     "text": [
      "-201.34985522845085\n",
      "-200.76229849984017\n"
     ]
    },
    {
     "name": "stderr",
     "output_type": "stream",
     "text": [
      "\r",
      " 93%|███████████████████████████████████████▏  | 28/30 [54:29<03:58, 119.03s/it]"
     ]
    },
    {
     "name": "stdout",
     "output_type": "stream",
     "text": [
      "-201.82354744434483\n",
      "-201.84390788515165\n"
     ]
    },
    {
     "name": "stderr",
     "output_type": "stream",
     "text": [
      "\r",
      " 97%|████████████████████████████████████████▌ | 29/30 [56:27<01:58, 118.78s/it]"
     ]
    },
    {
     "name": "stdout",
     "output_type": "stream",
     "text": [
      "-202.08244740182707\n",
      "-201.98866865763108\n"
     ]
    },
    {
     "name": "stderr",
     "output_type": "stream",
     "text": [
      "100%|██████████████████████████████████████████| 30/30 [58:25<00:00, 116.87s/it]\n"
     ]
    }
   ],
   "source": [
    "for epoch in tqdm(range(epoch, total_epochs)):\n",
    "    ogn\n",
    "    total_loss = 0.0\n",
    "    i = 0\n",
    "    j = 0\n",
    "    num_items = 0\n",
    "    valid_loss = 0\n",
    "    valid_num_items = 0\n",
    "    while i < batch_per_epoch:\n",
    "        for ginput in trainloader:\n",
    "            if i >= batch_per_epoch:\n",
    "                break\n",
    "            opt.zero_grad()\n",
    "            ginput.x = ginput.x\n",
    "            ginput.y = ginput.y\n",
    "            ginput.edge_index = ginput.edge_index\n",
    "            ginput.batch = ginput.batch\n",
    "            #if test in ['_l1_', '_kl_']:\n",
    "                #loss, reg = new_loss(ogn, ginput, square=False)\n",
    "                #((loss + reg)/int(ginput.batch[-1]+1)).backward()\n",
    "            #else:\n",
    "            #loss = ogn.loss(ginput, square=False)\n",
    "            loss = ogn.loss(ginput)\n",
    "            loss.backward()\n",
    "            #(loss/int(ginput.batch[-1]+1)).backward()\n",
    "            opt.step()\n",
    "            sched.step()\n",
    "\n",
    "            total_loss += loss.item()\n",
    "            i += 1\n",
    "            num_items += int(ginput.batch[-1]+1)\n",
    "    \n",
    "    ogn.eval()\n",
    "    with torch.no_grad():\n",
    "        while j < batch_per_epoch:\n",
    "            for ginput in testloader:\n",
    "                if j>= batch_per_epoch:\n",
    "                    break\n",
    "                ginput.x = ginput.x\n",
    "                ginput.y = ginput.y\n",
    "                ginput.edge_index = ginput.edge_index\n",
    "                ginput.batch = ginput.batch\n",
    "                loss = ogn.loss(ginput)#/int(ginput.batch[-1]+1)\n",
    "                valid_loss += loss.item()\n",
    "                valid_num_items += int(ginput.batch[-1]+1)\n",
    "                j += 1\n",
    "\n",
    "\n",
    "\n",
    "    cur_loss = total_loss/num_items\n",
    "    cur_valid_loss = valid_loss/valid_num_items\n",
    "    print(cur_loss)\n",
    "    print(cur_valid_loss)\n",
    "    cur_msgs = get_messages(ogn)\n",
    "    cur_selfdyn = get_selfDynamics(ogn)\n",
    "    cur_diff = get_diffusion(ogn)\n",
    "    cur_msgs['epoch'] = epoch\n",
    "    cur_msgs['loss'] = cur_loss\n",
    "    messages_over_time.append(cur_msgs)\n",
    "    selfDyn_over_time.append(cur_selfdyn)\n",
    "    diffusion_over_time.append(cur_diff)\n",
    "    \n",
    "    ogn.cpu()\n",
    "    from copy import deepcopy as copy\n",
    "    recorded_models.append(copy(ogn.state_dict()))"
   ]
  },
  {
   "cell_type": "code",
   "execution_count": 41,
   "id": "716f172b",
   "metadata": {},
   "outputs": [
    {
     "data": {
      "text/plain": [
       "<All keys matched successfully>"
      ]
     },
     "execution_count": 41,
     "metadata": {},
     "output_type": "execute_result"
    }
   ],
   "source": [
    "ogn.cpu()\n",
    "ogn.load_state_dict(recorded_models[-1])"
   ]
  },
  {
   "cell_type": "code",
   "execution_count": 52,
   "id": "a81906f2",
   "metadata": {},
   "outputs": [],
   "source": [
    "X = torch.as_tensor(np.array(mapping_data).astype('float'))\n",
    "y = torch.as_tensor(np.array(goal_data).astype('float'))\n",
    "x_Update = []\n",
    "y_Update = []\n",
    "z_Update = []\n",
    "vx_Update = []\n",
    "vy_Update = []\n",
    "vz_Update = []\n",
    "for i in range(0,50000):#X.shape[0]\n",
    "    _q = Data(\n",
    "        x=X[i].float(),\n",
    "        edge_index=edge_index,\n",
    "        y=y[i].float())\n",
    "    x_tmp,v_tmp= ogn.sample_trajectories(_q)\n",
    "    if i < X.shape[0]-2:\n",
    "        X[i+2,:,0:dim] = x_tmp\n",
    "        \n",
    "        X[i+1,:,dim:] = v_tmp\n",
    "    else:\n",
    "        break\n",
    "    x_Update.append(x_tmp[:,0].reshape(1,-1))\n",
    "    y_Update.append(x_tmp[:,1].reshape(1,-1))\n",
    "    #z_Update.append(x_tmp[:,2].reshape(1,-1))\n",
    "    vx_Update.append(v_tmp[:,0].reshape(1,-1))\n",
    "    vy_Update.append(v_tmp[:,1].reshape(1,-1))\n",
    "    #vz_Update.append(v_tmp[:,2].reshape(1,-1))\n",
    "x_i = torch.stack(x_Update, dim=0).reshape(-1,Num_nodes)\n",
    "y_i = torch.stack(y_Update, dim=0).reshape(-1,Num_nodes)\n",
    "#z_i = torch.stack(z_Update, dim=0).reshape(-1,Num_nodes)\n",
    "vx_i = torch.stack(vx_Update, dim=0).reshape(-1,Num_nodes)\n",
    "vy_i = torch.stack(vy_Update, dim=0).reshape(-1,Num_nodes)\n",
    "#vz_i = torch.stack(vz_Update, dim=0).reshape(-1,Num_nodes)"
   ]
  },
  {
   "cell_type": "code",
   "execution_count": 53,
   "id": "4529db46",
   "metadata": {},
   "outputs": [
    {
     "data": {
      "image/png": "[encoded data removed]",
      "text/plain": [
       "<Figure size 720x252 with 2 Axes>"
      ]
     },
     "metadata": {
      "needs_background": "light"
     },
     "output_type": "display_data"
    }
   ],
   "source": [
    "time1 = pd.read_csv('/Users/lanag/Library/CloudStorage/OneDrive-个人/Project2-StochasticDynamics/Flocks of birds/pigeonflocks_trajectories/hf1/flocks_timeseries_2dim_hf4.csv',encoding='utf-8',header=None)\n",
    "plt.rcParams.update({'font.size': 12}) \n",
    "plt.rcParams.update({'font.style': 'normal'})\n",
    "plt.rcParams.update({'font.family': 'Arial'})\n",
    "#plt.rcParams['savefig.dpi'] = 300 \n",
    "#plt.rcParams['figure.dpi'] = 300\n",
    "Nindex =0\n",
    "TIME = 50000\n",
    "x_tra = x_i.detach().numpy()[0:TIME,Nindex-1]\n",
    "x_real = time1.iloc[0:,Nindex*2-2]\n",
    "fig = plt.figure(figsize=(10,3.5))\n",
    "ax1 = fig.add_subplot(1,2,1)\n",
    "t = np.arange(0,x_tra.shape[0])\n",
    "ax1.plot(t,x_tra,c='steelblue',label=\"inferred\")\n",
    "ax1.plot(t, x_real[2:x_tra.shape[0]+2,],c='darkblue',label=\"real\")\n",
    "plt.ylabel('real vs inferred trajectory of dimension x')\n",
    "plt.legend()\n",
    "\n",
    "ax2 = fig.add_subplot(1,2,2)\n",
    "y_tra = y_i.detach().numpy()[0:TIME,Nindex-1]\n",
    "y_real = time1.iloc[0:,Nindex*2-1]\n",
    "t = np.arange(0,y_tra.shape[0])\n",
    "ax2.plot(t,y_tra,c='steelblue',label=\"inferred\")\n",
    "ax2.plot(t, y_real[2:y_tra.shape[0]+2,],c='darkblue',label=\"real\")\n",
    "plt.ylabel('real vs inferred trajectory of dimension y')\n",
    "plt.legend()\n",
    "\n",
    "#plt.savefig('/Users/lanag/OneDrive/Project2-StochasticDynamics/StochasticRossler/Figures/weightedRossler_intensity01_average_trajectories.png')\n",
    "plt.show()\n",
    "#plt.close()"
   ]
  },
  {
   "cell_type": "code",
   "execution_count": 58,
   "id": "28333934",
   "metadata": {},
   "outputs": [
    {
     "data": {
      "image/png": "[encoded data removed]",
      "text/plain": [
       "<Figure size 432x288 with 1 Axes>"
      ]
     },
     "metadata": {
      "needs_background": "light"
     },
     "output_type": "display_data"
    }
   ],
   "source": [
    "import matplotlib.pyplot as plt\n",
    "import matplotlib as mpl\n",
    "mpl.rcParams['pdf.fonttype'] = 42\n",
    "mpl.rcParams['ps.fonttype'] = 42\n",
    "\n",
    "r = np.linspace(0, 500, 50000)\n",
    "fig, ax = plt.subplots()\n",
    "x1 = x_i.detach().numpy()[0:TIME,0]\n",
    "y1 = y_i.detach().numpy()[0:TIME,0]\n",
    "ax.plot(x1, y1, label='bird1')\n",
    "#ax.scatter(x1, y1, c = plt.cm.PuBu(r/max(r)),alpha=0.5, s= 0.5)\n",
    "x2 = x_i.detach().numpy()[0:TIME,1]\n",
    "y2 = y_i.detach().numpy()[0:TIME,1]\n",
    "ax.plot(x2, y2, label='bird2')\n",
    "#ax.scatter(x2, y2, c = plt.cm.PuBu(r/max(r)),alpha=0.5, s= 0.5)\n",
    "x3 = x_i.detach().numpy()[0:TIME,2]\n",
    "y3 = y_i.detach().numpy()[0:TIME,2]\n",
    "ax.plot(x3, y3, label='bird3')\n",
    "#ax.scatter(x3, y3, c = plt.cm.PuBu(r/max(r)),alpha=0.5, s= 0.5)\n",
    "x4 = x_i.detach().numpy()[0:TIME,3]\n",
    "y4 = y_i.detach().numpy()[0:TIME,3]\n",
    "ax.plot(x4, y4, label='bird4')\n",
    "#ax.scatter(x4, y4, c = plt.cm.PuBu(r/max(r)),alpha=0.5, s= 0.5)\n",
    "x5 = x_i.detach().numpy()[0:TIME,4]\n",
    "y5 = y_i.detach().numpy()[0:TIME,4]\n",
    "ax.plot(x5, y5, label='bird5')\n",
    "#ax.scatter(x5, y5, c = plt.cm.PuBu(r/max(r)),alpha=0.5, s= 0.5)\n",
    "x6 = x_i.detach().numpy()[0:TIME,5]\n",
    "y6 = y_i.detach().numpy()[0:TIME,5]\n",
    "ax.plot(x6, y6, label='bird6')\n",
    "#ax.scatter(x6, y6, c = plt.cm.PuBu(r/max(r)),alpha=0.5, s= 0.5)\n",
    "x7 = x_i.detach().numpy()[0:TIME,6]\n",
    "y7 = y_i.detach().numpy()[0:TIME,6]\n",
    "ax.plot(x7, y7, label='bird7')\n",
    "#ax.scatter(x7, y7, c = plt.cm.PuBu(r/max(r)),alpha=0.5, s= 0.5)\n",
    "x8 = x_i.detach().numpy()[0:TIME,7]\n",
    "y8 = y_i.detach().numpy()[0:TIME,7]\n",
    "ax.plot(x8, y8, label='bird8')\n",
    "#ax.scatter(x8, y8, c = plt.cm.PuBu(r/max(r)),alpha=0.5, s= 0.5)\n",
    "\n",
    "# x = x_real[1:20001,]\n",
    "# y = y_real[1:20001,]\n",
    "# ax.scatter(x, y, c = plt.cm.YlGnBu(r/max(r)),alpha=0.5, s= 1)\n",
    "\n",
    "ax.set_xlabel('x')\n",
    "ax.set_ylabel('y')\n",
    "ax.set_title('Inferred trajectories')\n",
    "ax.legend()\n",
    "plt.savefig('/Users/lanag/Library/CloudStorage/OneDrive-个人/Project2-StochasticDynamics/Flocks of birds/Figures/hf4_tmp.pdf')\n",
    "plt.show()"
   ]
  },
  {
   "cell_type": "code",
   "execution_count": 59,
   "id": "07741241",
   "metadata": {},
   "outputs": [],
   "source": [
    "np.savetxt('hf4_inferred_traj_x_net.csv',x_i.detach().numpy(),delimiter=',')\n",
    "np.savetxt('hf4_inferred_traj_y_net.csv',y_i.detach().numpy(),delimiter=',')"
   ]
  },
  {
   "cell_type": "code",
   "execution_count": 116,
   "id": "ae7508db",
   "metadata": {},
   "outputs": [
    {
     "name": "stderr",
     "output_type": "stream",
     "text": [
      "/var/folders/tx/qq1ds3m144q1b4ghn62l4kjc0000gn/T/ipykernel_31230/2751892123.py:7: MatplotlibDeprecationWarning: Calling gca() with keyword arguments was deprecated in Matplotlib 3.4. Starting two minor releases later, gca() will take no keyword arguments. The gca() function should only be used to get the current axes, or if no axes exist, create new axes with default keyword arguments. To create a new axes with non-default arguments, use plt.axes() or plt.subplot().\n",
      "  ax = fig.gca(projection='3d')\n"
     ]
    },
    {
     "data": {
      "image/png": "[encoded data removed]",
      "text/plain": [
       "<Figure size 432x288 with 1 Axes>"
      ]
     },
     "metadata": {
      "needs_background": "light"
     },
     "output_type": "display_data"
    }
   ],
   "source": [
    "import matplotlib as mpl\n",
    "from mpl_toolkits.mplot3d import Axes3D\n",
    "import numpy as np\n",
    "import matplotlib.pyplot as plt\n",
    "\n",
    "fig = plt.figure()\n",
    "ax = fig.gca(projection='3d')\n",
    "ax.w_xaxis.set_pane_color((1.0, 1.0, 1.0, 1.0))\n",
    "ax.w_yaxis.set_pane_color((1.0, 1.0, 1.0, 1.0))\n",
    "ax.w_zaxis.set_pane_color((1.0, 1.0, 1.0, 1.0))\n",
    "ax.azim = -150\n",
    "ax.dist = 9\n",
    "ax.elev = 60\n",
    "r = np.linspace(0, 200, 20000)\n",
    "\n",
    "\n",
    "x_tra_1 = x_i.detach().numpy()[0:TIME,Nindex+1]\n",
    "y_tra_1 = y_i.detach().numpy()[0:TIME,Nindex+1]\n",
    "#z_tra_1 = z_i.detach().numpy()[0:TIME,Nindex+1]\n",
    "x = x_tra_1#x_real[1:x_tra.shape[0]+1,]\n",
    "y = y_tra_1#y_real[1:y_tra.shape[0]+1,]\n",
    "#z = z_tra_1#z_real[1:z_tra.shape[0]+1,]\n",
    "\n",
    "x_tra_2 = x_i.detach().numpy()[0:TIME,Nindex+2]\n",
    "y_tra_2 = y_i.detach().numpy()[0:TIME,Nindex+2]\n",
    "#z_tra_2 = z_i.detach().numpy()[0:TIME,Nindex+2]\n",
    "x2 = x_tra_2#x_real[1:x_tra.shape[0]+1,]\n",
    "y2 = y_tra_2 #y_real[1:y_tra.shape[0]+1,]\n",
    "#z2 = z_tra_2#z_real[1:z_tra.shape[0]+1,]\n",
    "\n",
    "x_tra_3 = x_i.detach().numpy()[0:TIME,Nindex+3]\n",
    "y_tra_3 = y_i.detach().numpy()[0:TIME,Nindex+3]\n",
    "#z_tra_3 = z_i.detach().numpy()[0:TIME,Nindex+3]\n",
    "x3 = x_tra_3#x_real[1:x_tra.shape[0]+1,]\n",
    "y3 = y_tra_3 #y_real[1:y_tra.shape[0]+1,]\n",
    "#z3 = z_tra_3#z_real[1:z_tra.shape[0]+1,]\n",
    "\n",
    "\n",
    "x1 = x_tra\n",
    "y1 = y_tra\n",
    "#z1 = z_tra\n",
    "\n",
    "#1 colored by value of `z`\n",
    "ax.plot(x, y, c = 'k') \n",
    "ax.plot(x2, y2, c = 'g') \n",
    "ax.plot(x3, y3, c = 'b') \n",
    "#2 colored by index (same in this example since z is a linspace too)\n",
    "\n",
    "ax.scatter(x1, y1, c = plt.cm.YlGnBu(r/max(r)),alpha=0.5, s= 3)\n",
    "\n",
    "plt.show()"
   ]
  },
  {
   "cell_type": "code",
   "execution_count": 198,
   "id": "43be5c43",
   "metadata": {},
   "outputs": [],
   "source": [
    "bestMe = messages_over_time[29]"
   ]
  },
  {
   "cell_type": "code",
   "execution_count": 199,
   "id": "59af190b",
   "metadata": {},
   "outputs": [
    {
     "data": {
      "text/html": [
       "<div>\n",
       "<style scoped>\n",
       "    .dataframe tbody tr th:only-of-type {\n",
       "        vertical-align: middle;\n",
       "    }\n",
       "\n",
       "    .dataframe tbody tr th {\n",
       "        vertical-align: top;\n",
       "    }\n",
       "\n",
       "    .dataframe thead th {\n",
       "        text-align: right;\n",
       "    }\n",
       "</style>\n",
       "<table border=\"1\" class=\"dataframe\">\n",
       "  <thead>\n",
       "    <tr style=\"text-align: right;\">\n",
       "      <th></th>\n",
       "      <th>xij</th>\n",
       "      <th>yij</th>\n",
       "      <th>dxij</th>\n",
       "      <th>dyij</th>\n",
       "      <th>c1</th>\n",
       "      <th>a1</th>\n",
       "      <th>epoch</th>\n",
       "      <th>loss</th>\n",
       "    </tr>\n",
       "  </thead>\n",
       "  <tbody>\n",
       "    <tr>\n",
       "      <th>0</th>\n",
       "      <td>0.000097</td>\n",
       "      <td>0.000377</td>\n",
       "      <td>-0.000097</td>\n",
       "      <td>-0.000031</td>\n",
       "      <td>0.002771</td>\n",
       "      <td>0.001040</td>\n",
       "      <td>29</td>\n",
       "      <td>-188.117627</td>\n",
       "    </tr>\n",
       "    <tr>\n",
       "      <th>1</th>\n",
       "      <td>-0.000990</td>\n",
       "      <td>0.000415</td>\n",
       "      <td>0.000030</td>\n",
       "      <td>-0.000035</td>\n",
       "      <td>0.002729</td>\n",
       "      <td>0.001015</td>\n",
       "      <td>29</td>\n",
       "      <td>-188.117627</td>\n",
       "    </tr>\n",
       "    <tr>\n",
       "      <th>2</th>\n",
       "      <td>-0.000741</td>\n",
       "      <td>0.000507</td>\n",
       "      <td>-0.000043</td>\n",
       "      <td>-0.000035</td>\n",
       "      <td>0.002740</td>\n",
       "      <td>0.001021</td>\n",
       "      <td>29</td>\n",
       "      <td>-188.117627</td>\n",
       "    </tr>\n",
       "    <tr>\n",
       "      <th>3</th>\n",
       "      <td>0.000391</td>\n",
       "      <td>0.000356</td>\n",
       "      <td>-0.000165</td>\n",
       "      <td>-0.000081</td>\n",
       "      <td>0.002762</td>\n",
       "      <td>0.001035</td>\n",
       "      <td>29</td>\n",
       "      <td>-188.117627</td>\n",
       "    </tr>\n",
       "    <tr>\n",
       "      <th>4</th>\n",
       "      <td>0.000260</td>\n",
       "      <td>0.000254</td>\n",
       "      <td>-0.000202</td>\n",
       "      <td>-0.000078</td>\n",
       "      <td>0.002773</td>\n",
       "      <td>0.001041</td>\n",
       "      <td>29</td>\n",
       "      <td>-188.117627</td>\n",
       "    </tr>\n",
       "    <tr>\n",
       "      <th>...</th>\n",
       "      <td>...</td>\n",
       "      <td>...</td>\n",
       "      <td>...</td>\n",
       "      <td>...</td>\n",
       "      <td>...</td>\n",
       "      <td>...</td>\n",
       "      <td>...</td>\n",
       "      <td>...</td>\n",
       "    </tr>\n",
       "    <tr>\n",
       "      <th>55995</th>\n",
       "      <td>0.000522</td>\n",
       "      <td>0.000067</td>\n",
       "      <td>-0.000103</td>\n",
       "      <td>0.000076</td>\n",
       "      <td>0.002763</td>\n",
       "      <td>0.001035</td>\n",
       "      <td>29</td>\n",
       "      <td>-188.117627</td>\n",
       "    </tr>\n",
       "    <tr>\n",
       "      <th>55996</th>\n",
       "      <td>0.000056</td>\n",
       "      <td>0.000148</td>\n",
       "      <td>0.000040</td>\n",
       "      <td>0.000067</td>\n",
       "      <td>0.002785</td>\n",
       "      <td>0.001048</td>\n",
       "      <td>29</td>\n",
       "      <td>-188.117627</td>\n",
       "    </tr>\n",
       "    <tr>\n",
       "      <th>55997</th>\n",
       "      <td>0.000089</td>\n",
       "      <td>-0.000064</td>\n",
       "      <td>-0.000108</td>\n",
       "      <td>0.000032</td>\n",
       "      <td>0.002788</td>\n",
       "      <td>0.001050</td>\n",
       "      <td>29</td>\n",
       "      <td>-188.117627</td>\n",
       "    </tr>\n",
       "    <tr>\n",
       "      <th>55998</th>\n",
       "      <td>0.000798</td>\n",
       "      <td>0.000331</td>\n",
       "      <td>-0.000091</td>\n",
       "      <td>0.000059</td>\n",
       "      <td>0.002742</td>\n",
       "      <td>0.001022</td>\n",
       "      <td>29</td>\n",
       "      <td>-188.117627</td>\n",
       "    </tr>\n",
       "    <tr>\n",
       "      <th>55999</th>\n",
       "      <td>0.000178</td>\n",
       "      <td>0.000240</td>\n",
       "      <td>0.000069</td>\n",
       "      <td>0.000072</td>\n",
       "      <td>0.002777</td>\n",
       "      <td>0.001043</td>\n",
       "      <td>29</td>\n",
       "      <td>-188.117627</td>\n",
       "    </tr>\n",
       "  </tbody>\n",
       "</table>\n",
       "<p>56000 rows × 8 columns</p>\n",
       "</div>"
      ],
      "text/plain": [
       "            xij       yij      dxij      dyij        c1        a1  epoch  \\\n",
       "0      0.000097  0.000377 -0.000097 -0.000031  0.002771  0.001040     29   \n",
       "1     -0.000990  0.000415  0.000030 -0.000035  0.002729  0.001015     29   \n",
       "2     -0.000741  0.000507 -0.000043 -0.000035  0.002740  0.001021     29   \n",
       "3      0.000391  0.000356 -0.000165 -0.000081  0.002762  0.001035     29   \n",
       "4      0.000260  0.000254 -0.000202 -0.000078  0.002773  0.001041     29   \n",
       "...         ...       ...       ...       ...       ...       ...    ...   \n",
       "55995  0.000522  0.000067 -0.000103  0.000076  0.002763  0.001035     29   \n",
       "55996  0.000056  0.000148  0.000040  0.000067  0.002785  0.001048     29   \n",
       "55997  0.000089 -0.000064 -0.000108  0.000032  0.002788  0.001050     29   \n",
       "55998  0.000798  0.000331 -0.000091  0.000059  0.002742  0.001022     29   \n",
       "55999  0.000178  0.000240  0.000069  0.000072  0.002777  0.001043     29   \n",
       "\n",
       "             loss  \n",
       "0     -188.117627  \n",
       "1     -188.117627  \n",
       "2     -188.117627  \n",
       "3     -188.117627  \n",
       "4     -188.117627  \n",
       "...           ...  \n",
       "55995 -188.117627  \n",
       "55996 -188.117627  \n",
       "55997 -188.117627  \n",
       "55998 -188.117627  \n",
       "55999 -188.117627  \n",
       "\n",
       "[56000 rows x 8 columns]"
      ]
     },
     "execution_count": 199,
     "metadata": {},
     "output_type": "execute_result"
    }
   ],
   "source": [
    "bestMe"
   ]
  },
  {
   "cell_type": "code",
   "execution_count": 200,
   "id": "6f793485",
   "metadata": {},
   "outputs": [],
   "source": [
    "rij_val = np.sqrt(bestMe['xij'].values**2+bestMe['yij'].values**2)\n",
    "#cohesion_true = 1.5*(1-(rij_val/2)**3)/(1+(rij_val/2)**6) # x1 (x_i) is target, x2 (x_j) is source \n",
    "align_true = np.exp(-rij_val/3)#np.sin(bestMe['x2'].values-bestMe['x1'].values)"
   ]
  },
  {
   "cell_type": "code",
   "execution_count": 201,
   "id": "092684cb",
   "metadata": {},
   "outputs": [],
   "source": [
    "maxy = np.max(bestMe['a1'].values)\n",
    "miny = np.min(bestMe['a1'].values)\n",
    "maxx = np.max(align_true)\n",
    "minx = np.min(align_true)\n",
    "align_true = (maxy-miny)*(align_true-minx)/(maxx-minx) + miny"
   ]
  },
  {
   "cell_type": "code",
   "execution_count": 202,
   "id": "519e7bc9",
   "metadata": {},
   "outputs": [
    {
     "data": {
      "text/plain": [
       "0.11006817"
      ]
     },
     "execution_count": 202,
     "metadata": {},
     "output_type": "execute_result"
    }
   ],
   "source": [
    "(maxy-miny)/(maxx-minx)"
   ]
  },
  {
   "cell_type": "code",
   "execution_count": 203,
   "id": "309b95d1",
   "metadata": {},
   "outputs": [
    {
     "data": {
      "text/plain": [
       "0.9988282"
      ]
     },
     "execution_count": 203,
     "metadata": {},
     "output_type": "execute_result"
    }
   ],
   "source": [
    "minx"
   ]
  },
  {
   "cell_type": "code",
   "execution_count": 204,
   "id": "c79509f4",
   "metadata": {},
   "outputs": [
    {
     "data": {
      "text/plain": [
       "0.0011715889"
      ]
     },
     "execution_count": 204,
     "metadata": {},
     "output_type": "execute_result"
    }
   ],
   "source": [
    "maxx-minx"
   ]
  },
  {
   "cell_type": "code",
   "execution_count": 205,
   "id": "6e7cdf6c",
   "metadata": {},
   "outputs": [
    {
     "data": {
      "text/plain": [
       "0.0009249449"
      ]
     },
     "execution_count": 205,
     "metadata": {},
     "output_type": "execute_result"
    }
   ],
   "source": [
    "miny"
   ]
  },
  {
   "cell_type": "code",
   "execution_count": 235,
   "id": "8619ef96",
   "metadata": {},
   "outputs": [
    {
     "data": {
      "image/png": "[encoded data removed]",
      "text/plain": [
       "<Figure size 360x360 with 1 Axes>"
      ]
     },
     "metadata": {
      "needs_background": "light"
     },
     "output_type": "display_data"
    }
   ],
   "source": [
    "plt.rcParams.update({'font.size': 12}) \n",
    "plt.rcParams.update({'font.style': 'normal'})\n",
    "plt.rcParams.update({'font.family': 'Arial'})\n",
    "mpl.rcParams['pdf.fonttype'] = 42\n",
    "mpl.rcParams['ps.fonttype'] = 42\n",
    "sx = bestMe['a1'].values[0:1000]#*bestMe['dxij']*m2\n",
    "sx_true = align_true[0:1000]#*bestMe['dxij']\n",
    "sy = bestMe['a1'].values[0:5000]#*bestMe['dyij']*m2\n",
    "sy_true = align_true[0:5000]#*bestMe['dyij']\n",
    "#sz = bestMe['a1'].values#*bestMe['dzij']*m2\n",
    "#sz_true = align_true#*bestMe['dzij']\n",
    "fig = plt.figure(figsize=(5, 5))\n",
    "ax1 = fig.add_subplot(1,1,1)\n",
    "#plt.title(\"true align- x dimension vs. inferred\",fontsize=10)\n",
    "plt.subplots_adjust(left=None, bottom=None, right=None, top=None, wspace=None, hspace=0.5)\n",
    "ax1.scatter(sx_true,sx,s=50,c ='grey', alpha=0.2)\n",
    "ax1.plot((0, 1), (0, 1), transform=ax1.transAxes, ls='--',c='k', label=\"1:1 line\")\n",
    "parameterx = np.polyfit(sx_true,sx,1)\n",
    "fx = np.poly1d(parameterx)\n",
    "ax1.plot(sx_true,fx(sx_true),c='palevioletred',lw=1)\n",
    "corrx = np.corrcoef(sx_true,sx)[0,1]\n",
    "bbox = dict(fc='1',alpha=0.5)\n",
    "plt.text(0.05, 0.9, '$R^2=%.2f$' % (corrx**2), transform=ax1.transAxes, size=15, bbox=bbox)\n",
    "plt.xlabel(\"True align strength\")\n",
    "plt.ylabel(\"Inferred align strength\")\n",
    "plt.savefig('/Users/lanag/Library/CloudStorage/OneDrive-个人/Project2-StochasticDynamics/Flocks of birds/Figures/hf4_align.pdf')"
   ]
  },
  {
   "cell_type": "code",
   "execution_count": 250,
   "id": "b731dd2e",
   "metadata": {},
   "outputs": [],
   "source": [
    "coup_value = -((rij_val/2-1)**3/(1+rij_val/2)**6)+1\n",
    "#coup_value = ((rij_val/0.1)**3-1)/((rij_val/0.1)**6+1)"
   ]
  },
  {
   "cell_type": "code",
   "execution_count": 251,
   "id": "73fda1a3",
   "metadata": {},
   "outputs": [],
   "source": [
    "maxy = np.max(bestMe['c1'].values)\n",
    "miny = np.min(bestMe['c1'].values)\n",
    "maxx = np.max(coup_value)\n",
    "minx = np.min(coup_value)\n",
    "coup_value = (maxy-miny)*(coup_value-minx)/(maxx-minx) + miny"
   ]
  },
  {
   "cell_type": "code",
   "execution_count": 252,
   "id": "5960d935",
   "metadata": {},
   "outputs": [
    {
     "data": {
      "text/plain": [
       "array([0.00277083, 0.00272887, 0.00273961, ..., 0.00278802, 0.00274168,\n",
       "       0.00277642], dtype=float32)"
      ]
     },
     "execution_count": 252,
     "metadata": {},
     "output_type": "execute_result"
    }
   ],
   "source": [
    "coup_value"
   ]
  },
  {
   "cell_type": "code",
   "execution_count": 254,
   "id": "c50ea20c",
   "metadata": {},
   "outputs": [
    {
     "data": {
      "text/plain": [
       "array([0.00277083, 0.00272887, 0.00273961, ..., 0.00278802, 0.00274168,\n",
       "       0.00277642], dtype=float32)"
      ]
     },
     "execution_count": 254,
     "metadata": {},
     "output_type": "execute_result"
    }
   ],
   "source": [
    "-0.01368125*(((rij_val/2-1)**3/(1+rij_val/2)**6)-1+1.9843001)+0.0025799908"
   ]
  },
  {
   "cell_type": "code",
   "execution_count": 243,
   "id": "09a0b9cf",
   "metadata": {},
   "outputs": [
    {
     "data": {
      "text/plain": [
       "0.01368125"
      ]
     },
     "execution_count": 243,
     "metadata": {},
     "output_type": "execute_result"
    }
   ],
   "source": [
    "(maxy-miny)/(maxx-minx)"
   ]
  },
  {
   "cell_type": "code",
   "execution_count": 253,
   "id": "1552e46c",
   "metadata": {},
   "outputs": [
    {
     "data": {
      "text/plain": [
       "1.9843001"
      ]
     },
     "execution_count": 253,
     "metadata": {},
     "output_type": "execute_result"
    }
   ],
   "source": [
    "minx"
   ]
  },
  {
   "cell_type": "code",
   "execution_count": 245,
   "id": "30f68dc0",
   "metadata": {},
   "outputs": [
    {
     "data": {
      "text/plain": [
       "0.015696526"
      ]
     },
     "execution_count": 245,
     "metadata": {},
     "output_type": "execute_result"
    }
   ],
   "source": [
    "maxx-minx"
   ]
  },
  {
   "cell_type": "code",
   "execution_count": 246,
   "id": "29c47d67",
   "metadata": {},
   "outputs": [
    {
     "data": {
      "text/plain": [
       "0.0025799908"
      ]
     },
     "execution_count": 246,
     "metadata": {},
     "output_type": "execute_result"
    }
   ],
   "source": [
    "miny"
   ]
  },
  {
   "cell_type": "code",
   "execution_count": 247,
   "id": "cec1124b",
   "metadata": {},
   "outputs": [
    {
     "data": {
      "text/plain": [
       "Text(0, 0.5, 'inferred cohesion strength')"
      ]
     },
     "execution_count": 247,
     "metadata": {},
     "output_type": "execute_result"
    },
    {
     "data": {
      "image/png": "[encoded data removed]",
      "text/plain": [
       "<Figure size 360x360 with 1 Axes>"
      ]
     },
     "metadata": {
      "needs_background": "light"
     },
     "output_type": "display_data"
    }
   ],
   "source": [
    "plt.rcParams.update({'font.size': 10}) \n",
    "plt.rcParams.update({'font.style': 'normal'})\n",
    "plt.rcParams.update({'font.family': 'Arial'})\n",
    "mpl.rcParams['pdf.fonttype'] = 42\n",
    "mpl.rcParams['ps.fonttype'] = 42\n",
    "temp = bestMe['c1'].values[0:1000]\n",
    "coup_value = coup_value[0:1000]\n",
    "fig = plt.figure(figsize=(5, 5))\n",
    "ax = fig.add_subplot(1,1,1)\n",
    "ax.scatter(coup_value,temp,s=50,c ='grey', alpha=0.2)\n",
    "ax.plot((0, 1), (0, 1), transform=ax.transAxes, ls='--',c='k', label=\"1:1 line\")\n",
    "parameter = np.polyfit(coup_value,temp,1)\n",
    "f = np.poly1d(parameter)\n",
    "ax.plot(coup_value,f(coup_value),c = '#ff9999', lw=1.5)\n",
    "corr = np.corrcoef(coup_value,temp)[0,1]\n",
    "bbox = dict(fc='1',alpha=0.5)\n",
    "plt.text(0.05, 0.9, '$R^2=%.2f$' % (corr**2),transform=ax.transAxes, size=12, bbox=bbox)\n",
    "#plt.title('Relation-rij-cohesion')\n",
    "plt.xlabel(\"true cohesion strength\")\n",
    "plt.ylabel(\"inferred cohesion strength\")\n",
    "plt.savefig('/Users/lanag/Library/CloudStorage/OneDrive-个人/Project2-StochasticDynamics/Flocks of birds/Figures/hf4_cohesion.pdf')"
   ]
  },
  {
   "cell_type": "code",
   "execution_count": 133,
   "id": "6a85db75",
   "metadata": {},
   "outputs": [
    {
     "data": {
      "image/png": "[encoded data removed]",
      "text/plain": [
       "<Figure size 720x432 with 3 Axes>"
      ]
     },
     "metadata": {
      "needs_background": "light"
     },
     "output_type": "display_data"
    }
   ],
   "source": [
    "diffusion = diffusion_over_time[-1]\n",
    "diffusion = pd.DataFrame(diffusion)\n",
    "diffusion_new = pd.DataFrame.drop_duplicates(diffusion, subset=None, keep='first', inplace=False)\n",
    "import numpy as np\n",
    "import pandas as pd\n",
    "import matplotlib.pyplot as plt\n",
    "%matplotlib inline\n",
    "\n",
    "s = diffusion_new['d1']/np.sqrt(0.01) # diffusion is sqrt(h)*theta(x0) \n",
    "\n",
    "fig = plt.figure(figsize = (10,6))\n",
    "ax1 = fig.add_subplot(2,1,1)\n",
    "#ax1.scatter(s.index, s.values)\n",
    "ax1.plot(s.index, s.values,'.')\n",
    "plt.grid()\n",
    " \n",
    "ax2 = fig.add_subplot(2,1,2) \n",
    "s.hist(bins=30,alpha = 0.5,ax = ax2)\n",
    "s.plot(kind = 'kde', secondary_y=True,ax = ax2)\n",
    "plt.title('The standard deviation distribusion')\n",
    "plt.grid()"
   ]
  },
  {
   "cell_type": "code",
   "execution_count": 215,
   "id": "b5cf65e9",
   "metadata": {},
   "outputs": [],
   "source": [
    "best_selfDyn = selfDyn_over_time[29]\n",
    "best_selfDyn = pd.DataFrame(best_selfDyn)\n",
    "TimeSeries = best_selfDyn.iloc[:,0:dim].values\n",
    "TimeSeries = TimeSeries.reshape(-1,Dimension)"
   ]
  },
  {
   "cell_type": "code",
   "execution_count": 216,
   "id": "b91e6096",
   "metadata": {},
   "outputs": [
    {
     "data": {
      "text/html": [
       "<div>\n",
       "<style scoped>\n",
       "    .dataframe tbody tr th:only-of-type {\n",
       "        vertical-align: middle;\n",
       "    }\n",
       "\n",
       "    .dataframe tbody tr th {\n",
       "        vertical-align: top;\n",
       "    }\n",
       "\n",
       "    .dataframe thead th {\n",
       "        text-align: right;\n",
       "    }\n",
       "</style>\n",
       "<table border=\"1\" class=\"dataframe\">\n",
       "  <thead>\n",
       "    <tr style=\"text-align: right;\">\n",
       "      <th></th>\n",
       "      <th>Vi</th>\n",
       "      <th>dxi</th>\n",
       "      <th>dyi</th>\n",
       "      <th>s1</th>\n",
       "      <th>s2</th>\n",
       "    </tr>\n",
       "  </thead>\n",
       "  <tbody>\n",
       "    <tr>\n",
       "      <th>0</th>\n",
       "      <td>0.000001</td>\n",
       "      <td>2.240453e-04</td>\n",
       "      <td>-0.001203</td>\n",
       "      <td>-0.000059</td>\n",
       "      <td>-0.000116</td>\n",
       "    </tr>\n",
       "    <tr>\n",
       "      <th>1</th>\n",
       "      <td>0.000001</td>\n",
       "      <td>2.240453e-04</td>\n",
       "      <td>-0.001203</td>\n",
       "      <td>-0.000059</td>\n",
       "      <td>-0.000116</td>\n",
       "    </tr>\n",
       "    <tr>\n",
       "      <th>2</th>\n",
       "      <td>0.000001</td>\n",
       "      <td>2.240453e-04</td>\n",
       "      <td>-0.001203</td>\n",
       "      <td>-0.000059</td>\n",
       "      <td>-0.000116</td>\n",
       "    </tr>\n",
       "    <tr>\n",
       "      <th>3</th>\n",
       "      <td>0.000001</td>\n",
       "      <td>2.240453e-04</td>\n",
       "      <td>-0.001203</td>\n",
       "      <td>-0.000059</td>\n",
       "      <td>-0.000116</td>\n",
       "    </tr>\n",
       "    <tr>\n",
       "      <th>4</th>\n",
       "      <td>0.000001</td>\n",
       "      <td>2.240453e-04</td>\n",
       "      <td>-0.001203</td>\n",
       "      <td>-0.000059</td>\n",
       "      <td>-0.000116</td>\n",
       "    </tr>\n",
       "    <tr>\n",
       "      <th>...</th>\n",
       "      <td>...</td>\n",
       "      <td>...</td>\n",
       "      <td>...</td>\n",
       "      <td>...</td>\n",
       "      <td>...</td>\n",
       "    </tr>\n",
       "    <tr>\n",
       "      <th>55995</th>\n",
       "      <td>0.000002</td>\n",
       "      <td>-5.915492e-07</td>\n",
       "      <td>-0.001258</td>\n",
       "      <td>-0.000059</td>\n",
       "      <td>-0.000115</td>\n",
       "    </tr>\n",
       "    <tr>\n",
       "      <th>55996</th>\n",
       "      <td>0.000002</td>\n",
       "      <td>-5.915492e-07</td>\n",
       "      <td>-0.001258</td>\n",
       "      <td>-0.000059</td>\n",
       "      <td>-0.000115</td>\n",
       "    </tr>\n",
       "    <tr>\n",
       "      <th>55997</th>\n",
       "      <td>0.000002</td>\n",
       "      <td>-5.915492e-07</td>\n",
       "      <td>-0.001258</td>\n",
       "      <td>-0.000059</td>\n",
       "      <td>-0.000115</td>\n",
       "    </tr>\n",
       "    <tr>\n",
       "      <th>55998</th>\n",
       "      <td>0.000002</td>\n",
       "      <td>-5.915492e-07</td>\n",
       "      <td>-0.001258</td>\n",
       "      <td>-0.000059</td>\n",
       "      <td>-0.000115</td>\n",
       "    </tr>\n",
       "    <tr>\n",
       "      <th>55999</th>\n",
       "      <td>0.000002</td>\n",
       "      <td>-5.915492e-07</td>\n",
       "      <td>-0.001258</td>\n",
       "      <td>-0.000059</td>\n",
       "      <td>-0.000115</td>\n",
       "    </tr>\n",
       "  </tbody>\n",
       "</table>\n",
       "<p>56000 rows × 5 columns</p>\n",
       "</div>"
      ],
      "text/plain": [
       "             Vi           dxi       dyi        s1        s2\n",
       "0      0.000001  2.240453e-04 -0.001203 -0.000059 -0.000116\n",
       "1      0.000001  2.240453e-04 -0.001203 -0.000059 -0.000116\n",
       "2      0.000001  2.240453e-04 -0.001203 -0.000059 -0.000116\n",
       "3      0.000001  2.240453e-04 -0.001203 -0.000059 -0.000116\n",
       "4      0.000001  2.240453e-04 -0.001203 -0.000059 -0.000116\n",
       "...         ...           ...       ...       ...       ...\n",
       "55995  0.000002 -5.915492e-07 -0.001258 -0.000059 -0.000115\n",
       "55996  0.000002 -5.915492e-07 -0.001258 -0.000059 -0.000115\n",
       "55997  0.000002 -5.915492e-07 -0.001258 -0.000059 -0.000115\n",
       "55998  0.000002 -5.915492e-07 -0.001258 -0.000059 -0.000115\n",
       "55999  0.000002 -5.915492e-07 -0.001258 -0.000059 -0.000115\n",
       "\n",
       "[56000 rows x 5 columns]"
      ]
     },
     "execution_count": 216,
     "metadata": {},
     "output_type": "execute_result"
    }
   ],
   "source": [
    "best_selfDyn"
   ]
  },
  {
   "cell_type": "code",
   "execution_count": 217,
   "id": "7173e384",
   "metadata": {},
   "outputs": [],
   "source": [
    "self_true = (best_selfDyn['dxi']**2+best_selfDyn['dyi']**2)\n",
    "#self_true = best_selfDyn['dxi']*best_selfDyn['Vi']\n",
    "self_true_1 = np.sqrt(best_selfDyn['Vi'])*best_selfDyn['dxi']\n",
    "self_true_2 = best_selfDyn['dxi']"
   ]
  },
  {
   "cell_type": "code",
   "execution_count": 218,
   "id": "df897020",
   "metadata": {},
   "outputs": [],
   "source": [
    "maxy = np.max(best_selfDyn['s1'].values)\n",
    "miny = np.min(best_selfDyn['s1'].values)\n",
    "maxx = np.max(self_true)\n",
    "minx = np.min(self_true)\n",
    "self_true = (maxy-miny)*(self_true-minx)/(maxx-minx) + miny"
   ]
  },
  {
   "cell_type": "code",
   "execution_count": 219,
   "id": "4b6b7f30",
   "metadata": {},
   "outputs": [
    {
     "data": {
      "text/plain": [
       "1.7975674649230606"
      ]
     },
     "execution_count": 219,
     "metadata": {},
     "output_type": "execute_result"
    }
   ],
   "source": [
    "(maxy-miny)/(maxx-minx)"
   ]
  },
  {
   "cell_type": "code",
   "execution_count": 220,
   "id": "c76cb361",
   "metadata": {},
   "outputs": [
    {
     "data": {
      "text/plain": [
       "8.477218784719298e-07"
      ]
     },
     "execution_count": 220,
     "metadata": {},
     "output_type": "execute_result"
    }
   ],
   "source": [
    "minx"
   ]
  },
  {
   "cell_type": "code",
   "execution_count": 221,
   "id": "539c2c48",
   "metadata": {},
   "outputs": [
    {
     "data": {
      "text/plain": [
       "1.6579251109760662e-06"
      ]
     },
     "execution_count": 221,
     "metadata": {},
     "output_type": "execute_result"
    }
   ],
   "source": [
    "maxx-minx"
   ]
  },
  {
   "cell_type": "code",
   "execution_count": 222,
   "id": "280fab4b",
   "metadata": {},
   "outputs": [
    {
     "data": {
      "text/plain": [
       "-5.9990212e-05"
      ]
     },
     "execution_count": 222,
     "metadata": {},
     "output_type": "execute_result"
    }
   ],
   "source": [
    "miny"
   ]
  },
  {
   "cell_type": "code",
   "execution_count": 240,
   "id": "63026106",
   "metadata": {},
   "outputs": [
    {
     "data": {
      "image/png": "[encoded data removed]",
      "text/plain": [
       "<Figure size 1296x360 with 1 Axes>"
      ]
     },
     "metadata": {
      "needs_background": "light"
     },
     "output_type": "display_data"
    }
   ],
   "source": [
    "plt.rcParams.update({'font.size': 12}) \n",
    "plt.rcParams.update({'font.style': 'normal'})\n",
    "plt.rcParams.update({'font.family': 'Arial'})\n",
    "mpl.rcParams['pdf.fonttype'] = 42\n",
    "mpl.rcParams['ps.fonttype'] = 42\n",
    "#self_true = 0.4*(-np.sqrt(best_selfDyn['dxi']**2+best_selfDyn['dyi']**2))\n",
    "ri = np.sqrt(best_selfDyn['dxi']**2+best_selfDyn['dyi']**2)\n",
    "sx = best_selfDyn['s1'].values*best_selfDyn['dxi']\n",
    "sx_true = self_true*best_selfDyn['dxi']\n",
    "sx = sx[0:1000]\n",
    "sx_true = sx_true[0:1000]\n",
    "\n",
    "fig = plt.figure(figsize=(18, 5))\n",
    "ax1 = fig.add_subplot(1,3,1)\n",
    "plt.title(\"true self- x dimension vs. inferred\",fontsize=10)\n",
    "plt.subplots_adjust(left=None, bottom=None, right=None, top=None, wspace=None, hspace=0.5)\n",
    "ax1.scatter(sx_true,sx,s=50,c ='grey', alpha=0.2)\n",
    "ax1.plot((0, 1), (0, 1), transform=ax1.transAxes, ls='--',c='k', label=\"1:1 line\")\n",
    "parameterx = np.polyfit(sx_true,sx,1)\n",
    "fx = np.poly1d(parameterx)\n",
    "ax1.plot(sx_true,fx(sx_true),c='palevioletred',lw=1.5)\n",
    "corrx = np.corrcoef(sx_true,sx)[0,1]\n",
    "bbox = dict(fc='1',alpha=0.5)\n",
    "plt.text(0.05, 0.9, '$R^2=%.2f$' % (corrx**2), transform=ax1.transAxes, size=15, bbox=bbox)\n",
    "plt.xlabel(\"True self x\")\n",
    "plt.ylabel(\"Inferred self x\")\n",
    "plt.savefig('/Users/lanag/Library/CloudStorage/OneDrive-个人/Project2-StochasticDynamics/Flocks of birds/Figures/hf4_self.pdf')"
   ]
  },
  {
   "cell_type": "code",
   "execution_count": 143,
   "id": "836d867d",
   "metadata": {},
   "outputs": [],
   "source": [
    "from sklearn.linear_model import LinearRegression \n",
    "from sklearn.metrics import mean_squared_error\n",
    "\n",
    "self_true_1 = np.sqrt(best_selfDyn['dxi']**2+best_selfDyn['dyi']**2)#*best_selfDyn['dxi']\n",
    "self_true_2 = best_selfDyn['dxi']\n",
    "Xfind = self_true_1.values.reshape(-1,1)#pd.concat([self_true_1,self_true_2],axis=1)\n",
    "yfind = best_selfDyn['s1'].values\n",
    "model_linear = LinearRegression(fit_intercept=True)\n",
    "model_linear.fit(Xfind,yfind)\n",
    "a = model_linear.coef_"
   ]
  },
  {
   "cell_type": "code",
   "execution_count": 144,
   "id": "817ecff8",
   "metadata": {},
   "outputs": [
    {
     "data": {
      "text/plain": [
       "array([-0.00078592], dtype=float32)"
      ]
     },
     "execution_count": 144,
     "metadata": {},
     "output_type": "execute_result"
    }
   ],
   "source": [
    "a"
   ]
  },
  {
   "cell_type": "code",
   "execution_count": 145,
   "id": "f6acc55f",
   "metadata": {},
   "outputs": [
    {
     "data": {
      "text/plain": [
       "0.006713225187827465"
      ]
     },
     "execution_count": 145,
     "metadata": {},
     "output_type": "execute_result"
    }
   ],
   "source": [
    "model_linear.score(Xfind,yfind)"
   ]
  },
  {
   "cell_type": "code",
   "execution_count": null,
   "id": "ab93e734",
   "metadata": {},
   "outputs": [],
   "source": []
  },
  {
   "cell_type": "code",
   "execution_count": null,
   "id": "287bb24e",
   "metadata": {},
   "outputs": [],
   "source": []
  }
 ],
 "metadata": {
  "kernelspec": {
   "display_name": "Python 3 (ipykernel)",
   "language": "python",
   "name": "python3"
  },
  "language_info": {
   "codemirror_mode": {
    "name": "ipython",
    "version": 3
   },
   "file_extension": ".py",
   "mimetype": "text/x-python",
   "name": "python",
   "nbconvert_exporter": "python",
   "pygments_lexer": "ipython3",
   "version": "3.8.12"
  }
 },
 "nbformat": 4,
 "nbformat_minor": 5
}
