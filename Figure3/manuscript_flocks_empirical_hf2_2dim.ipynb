{
 "cells": [
  {
   "cell_type": "code",
   "execution_count": 1,
   "id": "433fb0f4",
   "metadata": {},
   "outputs": [],
   "source": [
    "import numpy as np\n",
    "import pandas as pd\n",
    "import os\n",
    "import torch\n",
    "from torch.autograd import Variable\n",
    "from matplotlib import pyplot as plt\n",
    "%matplotlib inline"
   ]
  },
  {
   "cell_type": "code",
   "execution_count": 2,
   "id": "7081b589",
   "metadata": {},
   "outputs": [],
   "source": [
    "import sys\n",
    "sys.path.append(\"/Users/lanag/Library/CloudStorage/OneDrive-个人/Project2-StochasticDynamics/manuscript_code/Code/utils\")\n",
    "import NeuGNN_model\n",
    "import Self_func\n",
    "import Interaction_func\n",
    "from NeuGNN_model import *\n",
    "from Self_func import *\n",
    "from Interaction_func import *"
   ]
  },
  {
   "cell_type": "code",
   "execution_count": 3,
   "id": "7c0c1d40",
   "metadata": {},
   "outputs": [],
   "source": [
    "USE_CUDA = False"
   ]
  },
  {
   "cell_type": "code",
   "execution_count": 197,
   "id": "3526ce1b",
   "metadata": {},
   "outputs": [],
   "source": [
    "Timeseries = pd.read_csv('/Users/lanag/Library/CloudStorage/OneDrive-个人/Project2-StochasticDynamics/manuscript_code/Code/Data/Time series/flocks_timeseries_2dim_hf2.csv',encoding='utf-8',header=None)"
   ]
  },
  {
   "cell_type": "code",
   "execution_count": 198,
   "id": "8e6f3a1f",
   "metadata": {},
   "outputs": [],
   "source": [
    "Adj = pd.read_csv('/Users/lanag/Library/CloudStorage/OneDrive-个人/Project2-StochasticDynamics/manuscript_code/Code/Data/Topology/adj_hf2_7.csv',encoding='utf-8',header=None)"
   ]
  },
  {
   "cell_type": "code",
   "execution_count": 199,
   "id": "f2586b81",
   "metadata": {},
   "outputs": [],
   "source": [
    "model = 'flocks'"
   ]
  },
  {
   "cell_type": "code",
   "execution_count": 200,
   "id": "c11f9fd6",
   "metadata": {},
   "outputs": [],
   "source": [
    "Num_nodes = Adj.shape[0]\n",
    "Dimension = int(Timeseries.shape[1]/Num_nodes)"
   ]
  },
  {
   "cell_type": "code",
   "execution_count": 201,
   "id": "83b2ac16",
   "metadata": {},
   "outputs": [],
   "source": [
    "time = Timeseries.values\n",
    "timeseries = time.reshape(( -1, Num_nodes, Dimension)) # checked, correct input data"
   ]
  },
  {
   "cell_type": "code",
   "execution_count": 202,
   "id": "6214ef41",
   "metadata": {},
   "outputs": [],
   "source": [
    "delt_t = 0.01"
   ]
  },
  {
   "cell_type": "code",
   "execution_count": 203,
   "id": "a0cc5ddc",
   "metadata": {},
   "outputs": [],
   "source": [
    "timeseries_t0 = timeseries[0:-1,:,:]\n",
    "timeseries_t1 = timeseries[1:,:,:]\n",
    "dX = (timeseries_t1-timeseries_t0)\n",
    "dXdt = (timeseries_t1-timeseries_t0)/delt_t"
   ]
  },
  {
   "cell_type": "code",
   "execution_count": 204,
   "id": "dd41ef6f",
   "metadata": {},
   "outputs": [],
   "source": [
    "timeseries_t2 = timeseries[2:,:,:]\n",
    "dVdt = (timeseries_t2-2*timeseries_t1[:-1,:,:]+timeseries[0:-2,:,:])/delt_t**2"
   ]
  },
  {
   "cell_type": "code",
   "execution_count": 205,
   "id": "987c48bc",
   "metadata": {},
   "outputs": [],
   "source": [
    "import numpy as np\n",
    "def get_edge_index(Adj):\n",
    "    num_nodes = Adj.shape[0]\n",
    "    Adj = Adj.values\n",
    "    edge_index = torch.from_numpy(np.array(np.where(Adj)))\n",
    "    return edge_index"
   ]
  },
  {
   "cell_type": "code",
   "execution_count": 206,
   "id": "82372e79",
   "metadata": {},
   "outputs": [],
   "source": [
    "edge_index = get_edge_index(Adj) #target to source\n",
    "\n",
    "index = [1,0]\n",
    "edge_index = edge_index[index] #source to target \n",
    "# checked, correct input edge_index data"
   ]
  },
  {
   "cell_type": "code",
   "execution_count": 207,
   "id": "3684a076",
   "metadata": {},
   "outputs": [],
   "source": [
    "#data = data.reshape((10,-1,4,6))\n",
    "import numpy as np\n",
    "goal_data = np.concatenate([timeseries[3:,:,:],dXdt[1:-1,:,:],dVdt[:-1,:,:]],axis=2)\n",
    "#goal_data = data[1:-1,:,0:Dimension]\n",
    "mapping_data = np.concatenate((timeseries[1:-2,:,:],dXdt[0:-2,:,:]),axis=2)"
   ]
  },
  {
   "cell_type": "code",
   "execution_count": 208,
   "id": "ee02ac36",
   "metadata": {},
   "outputs": [],
   "source": [
    "X = torch.as_tensor(np.array(mapping_data).astype('float'))\n",
    "y = torch.as_tensor(np.array(goal_data).astype('float'))"
   ]
  },
  {
   "cell_type": "code",
   "execution_count": 209,
   "id": "e0e48e76",
   "metadata": {},
   "outputs": [],
   "source": [
    "from sklearn.model_selection import train_test_split"
   ]
  },
  {
   "cell_type": "code",
   "execution_count": 210,
   "id": "bbad5506",
   "metadata": {},
   "outputs": [],
   "source": [
    "X_train, X_test, y_train, y_test = train_test_split(X, y, shuffle=True, test_size=0.2)\n",
    "X_train = X_train.float()\n",
    "y_train = y_train.float()\n",
    "X_test = X_test.float()\n",
    "y_test = y_test.float()"
   ]
  },
  {
   "cell_type": "code",
   "execution_count": 211,
   "id": "a0d936eb",
   "metadata": {},
   "outputs": [],
   "source": [
    "import torch\n",
    "from torch import nn\n",
    "from torch.functional import F\n",
    "from torch.optim import Adam\n",
    "from torch_geometric.nn import MetaLayer, MessagePassing"
   ]
  },
  {
   "cell_type": "code",
   "execution_count": 212,
   "id": "62d01473",
   "metadata": {},
   "outputs": [],
   "source": [
    "aggr = 'add'\n",
    "hidden = 100\n",
    "\n",
    "msg_dim = 3\n",
    "n_f = mapping_data.shape[2]"
   ]
  },
  {
   "cell_type": "code",
   "execution_count": 213,
   "id": "760f17e1",
   "metadata": {},
   "outputs": [],
   "source": [
    "dim = Dimension*1"
   ]
  },
  {
   "cell_type": "code",
   "execution_count": 214,
   "id": "ad52e670",
   "metadata": {},
   "outputs": [],
   "source": [
    "from torch_geometric.data import Data, DataLoader"
   ]
  },
  {
   "cell_type": "code",
   "execution_count": 216,
   "id": "4644c71e",
   "metadata": {},
   "outputs": [],
   "source": [
    "ogn = SDI_Difftype(model,n_f, msg_dim, dim, delt_t, hidden=hidden, edge_index=edge_index , aggr=aggr)"
   ]
  },
  {
   "cell_type": "code",
   "execution_count": 217,
   "id": "b6ffcb8b",
   "metadata": {},
   "outputs": [],
   "source": [
    "messages_over_time = []\n",
    "selfDyn_over_time = []\n",
    "diffusion_over_time = []"
   ]
  },
  {
   "cell_type": "code",
   "execution_count": 218,
   "id": "0f30e369",
   "metadata": {},
   "outputs": [],
   "source": [
    "x=X_train[1]\n",
    "y=y_train[1]\n",
    "_q = Data(\n",
    "    x=X_train[1],\n",
    "    edge_index=edge_index,\n",
    "    y=y_train[1])"
   ]
  },
  {
   "cell_type": "code",
   "execution_count": 219,
   "id": "f2582f2e",
   "metadata": {},
   "outputs": [
    {
     "data": {
      "text/plain": [
       "tensor(3260.7161, grad_fn=<AddBackward0>)"
      ]
     },
     "execution_count": 219,
     "metadata": {},
     "output_type": "execute_result"
    }
   ],
   "source": [
    "ogn.loss(_q)"
   ]
  },
  {
   "cell_type": "code",
   "execution_count": 220,
   "id": "931d68be",
   "metadata": {},
   "outputs": [
    {
     "name": "stderr",
     "output_type": "stream",
     "text": [
      "/opt/anaconda3/envs/pytorch_env/lib/python3.8/site-packages/torch_geometric/deprecation.py:13: UserWarning: 'data.DataLoader' is deprecated, use 'loader.DataLoader' instead\n",
      "  warnings.warn(out)\n"
     ]
    }
   ],
   "source": [
    "batch = 64\n",
    "trainloader = DataLoader(\n",
    "    [Data(\n",
    "        Variable(X_train[i]),\n",
    "        edge_index=edge_index,\n",
    "        y=Variable(y_train[i])) for i in range(len(y_train))],\n",
    "    batch_size=batch,\n",
    "    shuffle=True\n",
    ")\n",
    "\n",
    "testloader = DataLoader(\n",
    "    [Data(\n",
    "        X_test[i],\n",
    "        edge_index=edge_index,\n",
    "        y=y_test[i]) for i in range(len(y_test))],\n",
    "    batch_size=128,\n",
    "    shuffle=True\n",
    ")"
   ]
  },
  {
   "cell_type": "code",
   "execution_count": 221,
   "id": "913888bb",
   "metadata": {},
   "outputs": [],
   "source": [
    "from torch.optim.lr_scheduler import ReduceLROnPlateau, OneCycleLR"
   ]
  },
  {
   "cell_type": "code",
   "execution_count": 222,
   "id": "f1105842",
   "metadata": {},
   "outputs": [],
   "source": [
    "init_lr = 1e-4\n",
    "\n",
    "opt = torch.optim.Adam(ogn.parameters(), lr=init_lr, weight_decay=1e-8)\n",
    "\n",
    "# total_epochs = 200\n",
    "total_epochs = 30\n",
    "\n",
    "batch_per_epoch = 2000\n",
    "\n",
    "sched = OneCycleLR(opt, max_lr=init_lr,\n",
    "                   steps_per_epoch=batch_per_epoch,#len(trainloader),\n",
    "                   epochs=total_epochs, final_div_factor=1e5)"
   ]
  },
  {
   "cell_type": "code",
   "execution_count": 223,
   "id": "98a3ed1f",
   "metadata": {},
   "outputs": [],
   "source": [
    "epoch = 0\n",
    "from tqdm import tqdm"
   ]
  },
  {
   "cell_type": "code",
   "execution_count": 224,
   "id": "b4f2c9cc",
   "metadata": {},
   "outputs": [],
   "source": [
    "import numpy as onp\n",
    "onp.random.seed(0)\n",
    "test_idxes = onp.random.randint(0, len(X_test), 1000)\n",
    "\n",
    "#Record messages over test dataset here:\n",
    "newtestloader = DataLoader(\n",
    "     [Data(\n",
    "         X_test[i],\n",
    "         edge_index=edge_index,\n",
    "         y=y_test[i]) for i in test_idxes],\n",
    "     batch_size=len(X_test),\n",
    "     shuffle=False\n",
    " )"
   ]
  },
  {
   "cell_type": "code",
   "execution_count": 225,
   "id": "935c026c",
   "metadata": {},
   "outputs": [],
   "source": [
    "import numpy as onp\n",
    "import pandas as pd\n",
    "\n",
    "def get_messages(ogn):\n",
    "\n",
    "    def get_message_info(tmp):\n",
    "        ogn.cpu()\n",
    "\n",
    "        s1 = tmp.x[tmp.edge_index[0]] #source\n",
    "\n",
    "        s2 = tmp.x[tmp.edge_index[1]] #target\n",
    "\n",
    "        #Tmp = torch.cat([s2, s1],dim=1) # tmp --> xi,xj\n",
    "        xtmp = (s1[:,0:dim]-s2[:,0:dim])\n",
    "        vtmp = (s1[:,dim:dim*2]-s2[:,dim:dim*2])\n",
    "        if dim == 1:\n",
    "            Xtmp = torch.sqrt((s1[:,0]-s2[:,0])**2)\n",
    "        if dim == 2:\n",
    "            Xtmp = torch.sqrt((s1[:,0]-s2[:,0])**2+(s1[:,1]-s2[:,1])**2)\n",
    "        if dim == 3:\n",
    "            Xtmp = torch.sqrt((s1[:,0]-s2[:,0])**2+(s1[:,1]-s2[:,1])**2+(s1[:,2]-s2[:,2])**2)\n",
    " \n",
    "        cohesion = ogn.msg_fnc_cohesion(Xtmp.reshape(-1,1))\n",
    "        align = ogn.msg_fnc_align(Xtmp.reshape(-1,1))\n",
    "        #repulsion = ogn.msg_fnc_repulsion(Xtmp.reshape(-1,1))\n",
    "    \n",
    "        all_messages = torch.cat((\n",
    "            xtmp,vtmp,cohesion,align), dim=1)\n",
    "        if dim == 1:\n",
    "            columns = ['xij','dxij','c1','a1']\n",
    "        if dim == 2:\n",
    "            columns = ['xij','yij','dxij','dyij','c1','a1']\n",
    "        elif dim == 3:\n",
    "            columns = ['xij','yij','zij','dxij','dyij','dzij','c1','a1']\n",
    "\n",
    "        return pd.DataFrame(\n",
    "              data=all_messages.cpu().detach().numpy(),\n",
    "             columns=columns\n",
    "        )\n",
    "        #print(all_messages.shape)\n",
    "        return pd.DataFrame(all_messages)\n",
    "\n",
    "    msg_info = []\n",
    "    for i, g in enumerate(newtestloader):\n",
    "        msg_info.append(get_message_info(g))\n",
    "\n",
    "    msg_info = pd.concat(msg_info)\n",
    "    \n",
    "    return msg_info"
   ]
  },
  {
   "cell_type": "code",
   "execution_count": 226,
   "id": "6154b2ad",
   "metadata": {},
   "outputs": [],
   "source": [
    "def get_diffusion(ogn):\n",
    "    def get_diffusion_info(tmp):\n",
    "        ogn.cpu()\n",
    "        \n",
    "        tmp = tmp.x[tmp.edge_index[1]]\n",
    "        if dim==1:\n",
    "            self_diff_x = ogn.stochastic_x(tmp)\n",
    "            self_diff_all = torch.cat((tmp,self_diff_x), dim=1)\n",
    "            columns = ['xi','dxi','d1']\n",
    "            \n",
    "        if dim==2:\n",
    "            self_diff_x = ogn.stochastic_x(tmp)\n",
    "            self_diff_y = ogn.stochastic_y(tmp)\n",
    "            self_diff_all = torch.cat((tmp,self_diff_x,self_diff_y), dim=1)\n",
    "            columns = ['xi','yi','dxi','dyi','d1','d2']\n",
    "        if dim==3:\n",
    "            self_diff_x = ogn.stochastic_x(tmp)\n",
    "            self_diff_y = ogn.stochastic_y(tmp)\n",
    "            self_diff_z = ogn.stochastic_z(tmp)\n",
    "            self_diff_all = torch.cat((tmp,self_diff_x,self_diff_y,self_diff_z), dim=1)\n",
    "            columns = ['xi','yi','zi','dxi','dyi','dzi','d1','d2','d3']\n",
    "            \n",
    "        return pd.DataFrame(\n",
    "              data=self_diff_all.cpu().detach().numpy(),\n",
    "             columns=columns\n",
    "        )\n",
    "        return pd.DataFrame(self_diff_all)\n",
    "\n",
    "    selfDiffusion_info = []\n",
    "    for i, g in enumerate(newtestloader):\n",
    "        selfDiffusion_info.append(get_diffusion_info(g))\n",
    "\n",
    "    selfDiffusion_info = pd.concat(selfDiffusion_info)\n",
    "    return selfDiffusion_info "
   ]
  },
  {
   "cell_type": "code",
   "execution_count": 227,
   "id": "00666496",
   "metadata": {},
   "outputs": [],
   "source": [
    "def get_selfDynamics(ogn):\n",
    "    def get_selfDynamics_info(tmp):\n",
    "        ogn.cpu()\n",
    "        \n",
    "        tmp = tmp.x[tmp.edge_index[1]]\n",
    "        if dim==1:\n",
    "            vtmp = torch.sqrt(tmp[:,1]**2)\n",
    "            self_dyn = ogn.node_fnc_strength(vtmp.reshape(-1,1))\n",
    "            self_dyn_all = torch.cat((tmp[:,1:2],self_dyn), dim=1)\n",
    "            columns = ['dxi','s1']\n",
    "            \n",
    "        if dim==2:\n",
    "            vtmp = tmp[:,2]**2+tmp[:,3]**2\n",
    "            vxtmp = torch.cat((vtmp.reshape(-1,1),tmp[:,2].reshape(-1,1)),dim=1)\n",
    "            vytmp = torch.cat((vtmp.reshape(-1,1),tmp[:,3].reshape(-1,1)),dim=1)\n",
    "            \n",
    "            self_dyn_x = ogn.node_fnc_strength_x(vxtmp)#vtmp.reshape(-1,1)\n",
    "            self_dyn_y = ogn.node_fnc_strength_y(vytmp)#vtmp.reshape(-1,1)\n",
    "            self_dyn_all = torch.cat((vtmp.reshape(-1,1),tmp[:,2:4],self_dyn_x, self_dyn_y), dim=1)\n",
    "            columns = ['Vi','dxi','dyi','s1','s2']\n",
    "        if dim==3:\n",
    "            vtmp = torch.sqrt(tmp[:,3]**2+tmp[:,4]**2+tmp[:,5]**2)\n",
    "            self_dyn = ogn.node_fnc_strength(vtmp.reshape(-1,1))\n",
    "            self_dyn_all = torch.cat((tmp[:,3:6],self_dyn), dim=1)\n",
    "            columns = ['dxi','dyi','dzi','s1']\n",
    "            \n",
    "        return pd.DataFrame(\n",
    "              data=self_dyn_all.cpu().detach().numpy(),\n",
    "             columns=columns\n",
    "        )\n",
    "        return pd.DataFrame(self_dyn_all)\n",
    "\n",
    "    selfDyn_info = []\n",
    "    for i, g in enumerate(newtestloader):\n",
    "        selfDyn_info.append(get_selfDynamics_info(g))\n",
    "\n",
    "    selfDyn_info = pd.concat(selfDyn_info)\n",
    "    return selfDyn_info"
   ]
  },
  {
   "cell_type": "code",
   "execution_count": 228,
   "id": "715ecd98",
   "metadata": {},
   "outputs": [],
   "source": [
    "recorded_models = []"
   ]
  },
  {
   "cell_type": "code",
   "execution_count": 229,
   "id": "f87a68d7",
   "metadata": {},
   "outputs": [
    {
     "name": "stderr",
     "output_type": "stream",
     "text": [
      "\r",
      "  0%|                                                    | 0/30 [00:00<?, ?it/s]"
     ]
    },
    {
     "name": "stdout",
     "output_type": "stream",
     "text": [
      "534.3826505889364\n",
      "6.357014150857926\n"
     ]
    },
    {
     "name": "stderr",
     "output_type": "stream",
     "text": [
      "\r",
      "  3%|█▍                                          | 1/30 [01:37<47:21, 97.99s/it]"
     ]
    },
    {
     "name": "stdout",
     "output_type": "stream",
     "text": [
      "4.588123129302216\n",
      "1.9447792556881904\n"
     ]
    },
    {
     "name": "stderr",
     "output_type": "stream",
     "text": [
      "\r",
      "  7%|██▉                                         | 2/30 [03:16<45:54, 98.38s/it]"
     ]
    },
    {
     "name": "stdout",
     "output_type": "stream",
     "text": [
      "-4.076036540822069\n",
      "-12.969346899986267\n"
     ]
    },
    {
     "name": "stderr",
     "output_type": "stream",
     "text": [
      "\r",
      " 10%|████▍                                       | 3/30 [04:55<44:24, 98.68s/it]"
     ]
    },
    {
     "name": "stdout",
     "output_type": "stream",
     "text": [
      "-30.982970969670042\n",
      "-55.081047969818115\n"
     ]
    },
    {
     "name": "stderr",
     "output_type": "stream",
     "text": [
      "\r",
      " 13%|█████▊                                      | 4/30 [06:34<42:52, 98.93s/it]"
     ]
    },
    {
     "name": "stdout",
     "output_type": "stream",
     "text": [
      "-91.19711305332234\n",
      "-103.25670623397828\n"
     ]
    },
    {
     "name": "stderr",
     "output_type": "stream",
     "text": [
      "\r",
      " 17%|███████▎                                    | 5/30 [08:15<41:26, 99.48s/it]"
     ]
    },
    {
     "name": "stdout",
     "output_type": "stream",
     "text": [
      "-126.83602165914319\n",
      "-133.25562868499756\n"
     ]
    },
    {
     "name": "stderr",
     "output_type": "stream",
     "text": [
      "\r",
      " 20%|████████▊                                   | 6/30 [09:52<39:25, 98.57s/it]"
     ]
    },
    {
     "name": "stdout",
     "output_type": "stream",
     "text": [
      "-127.66042354429598\n",
      "-79.93290414619446\n"
     ]
    },
    {
     "name": "stderr",
     "output_type": "stream",
     "text": [
      "\r",
      " 23%|██████████▎                                 | 7/30 [11:30<37:43, 98.41s/it]"
     ]
    },
    {
     "name": "stdout",
     "output_type": "stream",
     "text": [
      "-130.9399833192214\n",
      "-134.7672657623291\n"
     ]
    },
    {
     "name": "stderr",
     "output_type": "stream",
     "text": [
      "\r",
      " 27%|███████████▋                                | 8/30 [13:07<35:57, 98.05s/it]"
     ]
    },
    {
     "name": "stdout",
     "output_type": "stream",
     "text": [
      "-130.13286158822396\n",
      "-136.89814196777343\n"
     ]
    },
    {
     "name": "stderr",
     "output_type": "stream",
     "text": [
      "\r",
      " 30%|█████████████▏                              | 9/30 [14:43<34:03, 97.33s/it]"
     ]
    },
    {
     "name": "stdout",
     "output_type": "stream",
     "text": [
      "-133.13106463167748\n",
      "-139.8238252105713\n"
     ]
    },
    {
     "name": "stderr",
     "output_type": "stream",
     "text": [
      "\r",
      " 33%|██████████████▎                            | 10/30 [16:21<32:30, 97.53s/it]"
     ]
    },
    {
     "name": "stdout",
     "output_type": "stream",
     "text": [
      "-134.61864466214016\n",
      "-141.01386628723145\n"
     ]
    },
    {
     "name": "stderr",
     "output_type": "stream",
     "text": [
      "\r",
      " 37%|███████████████▊                           | 11/30 [18:01<31:06, 98.23s/it]"
     ]
    },
    {
     "name": "stdout",
     "output_type": "stream",
     "text": [
      "-132.870187786878\n",
      "-139.75360540771484\n"
     ]
    },
    {
     "name": "stderr",
     "output_type": "stream",
     "text": [
      "\r",
      " 40%|█████████████████▏                         | 12/30 [19:40<29:35, 98.62s/it]"
     ]
    },
    {
     "name": "stdout",
     "output_type": "stream",
     "text": [
      "-138.51425613572127\n",
      "-143.61205876922608\n"
     ]
    },
    {
     "name": "stderr",
     "output_type": "stream",
     "text": [
      "\r",
      " 43%|██████████████████▋                        | 13/30 [21:20<28:03, 99.02s/it]"
     ]
    },
    {
     "name": "stdout",
     "output_type": "stream",
     "text": [
      "-140.17571428399626\n",
      "-146.7655306854248\n"
     ]
    },
    {
     "name": "stderr",
     "output_type": "stream",
     "text": [
      "\r",
      " 47%|████████████████████                       | 14/30 [23:00<26:28, 99.28s/it]"
     ]
    },
    {
     "name": "stdout",
     "output_type": "stream",
     "text": [
      "-141.64191023694482\n",
      "-147.39901358795166\n"
     ]
    },
    {
     "name": "stderr",
     "output_type": "stream",
     "text": [
      "\r",
      " 50%|█████████████████████                     | 15/30 [24:43<25:04, 100.30s/it]"
     ]
    },
    {
     "name": "stdout",
     "output_type": "stream",
     "text": [
      "-144.6505522349316\n",
      "-150.7853103942871\n"
     ]
    },
    {
     "name": "stderr",
     "output_type": "stream",
     "text": [
      "\r",
      " 53%|██████████████████████▍                   | 16/30 [26:24<23:28, 100.60s/it]"
     ]
    },
    {
     "name": "stdout",
     "output_type": "stream",
     "text": [
      "-146.17731346030948\n",
      "-152.9291452560425\n"
     ]
    },
    {
     "name": "stderr",
     "output_type": "stream",
     "text": [
      "\r",
      " 57%|███████████████████████▊                  | 17/30 [28:04<21:46, 100.50s/it]"
     ]
    },
    {
     "name": "stdout",
     "output_type": "stream",
     "text": [
      "-150.09549013878905\n",
      "-156.61519680023193\n"
     ]
    },
    {
     "name": "stderr",
     "output_type": "stream",
     "text": [
      "\r",
      " 60%|█████████████████████████▏                | 18/30 [29:45<20:05, 100.50s/it]"
     ]
    },
    {
     "name": "stdout",
     "output_type": "stream",
     "text": [
      "-149.01650129171784\n",
      "-155.54063683319092\n"
     ]
    },
    {
     "name": "stderr",
     "output_type": "stream",
     "text": [
      "\r",
      " 63%|██████████████████████████▌               | 19/30 [31:24<18:20, 100.06s/it]"
     ]
    },
    {
     "name": "stdout",
     "output_type": "stream",
     "text": [
      "-153.1095911429716\n",
      "-158.01197019195556\n"
     ]
    },
    {
     "name": "stderr",
     "output_type": "stream",
     "text": [
      "\r",
      " 67%|████████████████████████████              | 20/30 [33:04<16:40, 100.02s/it]"
     ]
    },
    {
     "name": "stdout",
     "output_type": "stream",
     "text": [
      "-155.89627551045982\n",
      "-160.78223471832274\n"
     ]
    },
    {
     "name": "stderr",
     "output_type": "stream",
     "text": [
      "\r",
      " 70%|██████████████████████████████             | 21/30 [34:43<14:58, 99.86s/it]"
     ]
    },
    {
     "name": "stdout",
     "output_type": "stream",
     "text": [
      "-159.70607372724905\n",
      "-164.06365561676026\n"
     ]
    },
    {
     "name": "stderr",
     "output_type": "stream",
     "text": [
      "\r",
      " 73%|███████████████████████████████▌           | 22/30 [36:20<13:11, 98.88s/it]"
     ]
    },
    {
     "name": "stdout",
     "output_type": "stream",
     "text": [
      "-162.54697742782244\n",
      "-167.0782105255127\n"
     ]
    },
    {
     "name": "stderr",
     "output_type": "stream",
     "text": [
      "\r",
      " 77%|████████████████████████████████▉          | 23/30 [37:56<11:26, 98.08s/it]"
     ]
    },
    {
     "name": "stdout",
     "output_type": "stream",
     "text": [
      "-165.19835144384396\n",
      "-167.8868311843872\n"
     ]
    },
    {
     "name": "stderr",
     "output_type": "stream",
     "text": [
      "\r",
      " 80%|██████████████████████████████████▍        | 24/30 [39:32<09:45, 97.53s/it]"
     ]
    },
    {
     "name": "stdout",
     "output_type": "stream",
     "text": [
      "-167.40260054055645\n",
      "-168.89151040649415\n"
     ]
    },
    {
     "name": "stderr",
     "output_type": "stream",
     "text": [
      "\r",
      " 83%|███████████████████████████████████▊       | 25/30 [41:08<08:05, 97.12s/it]"
     ]
    },
    {
     "name": "stdout",
     "output_type": "stream",
     "text": [
      "-169.44093570764662\n",
      "-171.18587355804442\n"
     ]
    },
    {
     "name": "stderr",
     "output_type": "stream",
     "text": [
      "\r",
      " 87%|█████████████████████████████████████▎     | 26/30 [42:45<06:28, 97.01s/it]"
     ]
    },
    {
     "name": "stdout",
     "output_type": "stream",
     "text": [
      "-170.7964838363479\n",
      "-171.33164163208008\n"
     ]
    },
    {
     "name": "stderr",
     "output_type": "stream",
     "text": [
      "\r",
      " 90%|██████████████████████████████████████▋    | 27/30 [44:21<04:49, 96.62s/it]"
     ]
    },
    {
     "name": "stdout",
     "output_type": "stream",
     "text": [
      "-172.02191837904115\n",
      "-172.13999415588378\n"
     ]
    },
    {
     "name": "stderr",
     "output_type": "stream",
     "text": [
      "\r",
      " 93%|████████████████████████████████████████▏  | 28/30 [45:57<03:13, 96.50s/it]"
     ]
    },
    {
     "name": "stdout",
     "output_type": "stream",
     "text": [
      "-172.67597030467505\n",
      "-172.96066911315918\n"
     ]
    },
    {
     "name": "stderr",
     "output_type": "stream",
     "text": [
      "\r",
      " 97%|█████████████████████████████████████████▌ | 29/30 [47:33<01:36, 96.31s/it]"
     ]
    },
    {
     "name": "stdout",
     "output_type": "stream",
     "text": [
      "-173.0543578388192\n",
      "-173.05957209777833\n"
     ]
    },
    {
     "name": "stderr",
     "output_type": "stream",
     "text": [
      "100%|███████████████████████████████████████████| 30/30 [49:09<00:00, 98.31s/it]\n"
     ]
    }
   ],
   "source": [
    "for epoch in tqdm(range(epoch, total_epochs)):\n",
    "    ogn\n",
    "    total_loss = 0.0\n",
    "    i = 0\n",
    "    j = 0\n",
    "    num_items = 0\n",
    "    valid_loss = 0\n",
    "    valid_num_items = 0\n",
    "    while i < batch_per_epoch:\n",
    "        for ginput in trainloader:\n",
    "            if i >= batch_per_epoch:\n",
    "                break\n",
    "            opt.zero_grad()\n",
    "            ginput.x = ginput.x\n",
    "            ginput.y = ginput.y\n",
    "            ginput.edge_index = ginput.edge_index\n",
    "            ginput.batch = ginput.batch\n",
    "            loss = ogn.loss(ginput)\n",
    "            loss.backward()\n",
    "            #(loss/int(ginput.batch[-1]+1)).backward()\n",
    "            opt.step()\n",
    "            sched.step()\n",
    "\n",
    "            total_loss += loss.item()\n",
    "            i += 1\n",
    "            num_items += int(ginput.batch[-1]+1)\n",
    "    \n",
    "    ogn.eval()\n",
    "    with torch.no_grad():\n",
    "        while j < batch_per_epoch:\n",
    "            for ginput in testloader:\n",
    "                if j>= batch_per_epoch:\n",
    "                    break\n",
    "                ginput.x = ginput.x\n",
    "                ginput.y = ginput.y\n",
    "                ginput.edge_index = ginput.edge_index\n",
    "                ginput.batch = ginput.batch\n",
    "                loss = ogn.loss(ginput)#/int(ginput.batch[-1]+1)\n",
    "                valid_loss += loss.item()\n",
    "                valid_num_items += int(ginput.batch[-1]+1)\n",
    "                j += 1\n",
    "\n",
    "\n",
    "\n",
    "    cur_loss = total_loss/num_items\n",
    "    cur_valid_loss = valid_loss/valid_num_items\n",
    "    print(cur_loss)\n",
    "    print(cur_valid_loss)\n",
    "    cur_msgs = get_messages(ogn)\n",
    "    cur_selfdyn = get_selfDynamics(ogn)\n",
    "    cur_diff = get_diffusion(ogn)\n",
    "    cur_msgs['epoch'] = epoch\n",
    "    cur_msgs['loss'] = cur_loss\n",
    "    messages_over_time.append(cur_msgs)\n",
    "    selfDyn_over_time.append(cur_selfdyn)\n",
    "    diffusion_over_time.append(cur_diff)\n",
    "    \n",
    "    ogn.cpu()\n",
    "    from copy import deepcopy as copy\n",
    "    recorded_models.append(copy(ogn.state_dict()))"
   ]
  },
  {
   "cell_type": "code",
   "execution_count": 230,
   "id": "716f172b",
   "metadata": {},
   "outputs": [
    {
     "data": {
      "text/plain": [
       "<All keys matched successfully>"
      ]
     },
     "execution_count": 230,
     "metadata": {},
     "output_type": "execute_result"
    }
   ],
   "source": [
    "ogn.cpu()\n",
    "ogn.load_state_dict(recorded_models[-1])"
   ]
  },
  {
   "cell_type": "code",
   "execution_count": 231,
   "id": "a81906f2",
   "metadata": {},
   "outputs": [],
   "source": [
    "X = torch.as_tensor(np.array(mapping_data).astype('float'))\n",
    "y = torch.as_tensor(np.array(goal_data).astype('float'))\n",
    "x_Update = []\n",
    "y_Update = []\n",
    "z_Update = []\n",
    "vx_Update = []\n",
    "vy_Update = []\n",
    "vz_Update = []\n",
    "for i in range(0,20000):#X.shape[0]\n",
    "    _q = Data(\n",
    "        x=X[i].float(),\n",
    "        edge_index=edge_index,\n",
    "        y=y[i].float())\n",
    "    x_tmp,v_tmp= ogn.sample_trajectories(_q)\n",
    "    if i < X.shape[0]-2:\n",
    "        X[i+2,:,0:dim] = x_tmp\n",
    "        \n",
    "        X[i+1,:,dim:] = v_tmp\n",
    "    else:\n",
    "        break\n",
    "    x_Update.append(x_tmp[:,0].reshape(1,-1))\n",
    "    y_Update.append(x_tmp[:,1].reshape(1,-1))\n",
    "    #z_Update.append(x_tmp[:,2].reshape(1,-1))\n",
    "    vx_Update.append(v_tmp[:,0].reshape(1,-1))\n",
    "    vy_Update.append(v_tmp[:,1].reshape(1,-1))\n",
    "    #vz_Update.append(v_tmp[:,2].reshape(1,-1))\n",
    "x_i = torch.stack(x_Update, dim=0).reshape(-1,Num_nodes)\n",
    "y_i = torch.stack(y_Update, dim=0).reshape(-1,Num_nodes)\n",
    "#z_i = torch.stack(z_Update, dim=0).reshape(-1,Num_nodes)\n",
    "vx_i = torch.stack(vx_Update, dim=0).reshape(-1,Num_nodes)\n",
    "vy_i = torch.stack(vy_Update, dim=0).reshape(-1,Num_nodes)\n",
    "#vz_i = torch.stack(vz_Update, dim=0).reshape(-1,Num_nodes)"
   ]
  },
  {
   "cell_type": "code",
   "execution_count": 232,
   "id": "4529db46",
   "metadata": {},
   "outputs": [
    {
     "data": {
      "image/png": "[encoded data removed]",
      "text/plain": [
       "<Figure size 720x252 with 2 Axes>"
      ]
     },
     "metadata": {
      "needs_background": "light"
     },
     "output_type": "display_data"
    }
   ],
   "source": [
    "time1 = pd.read_csv('/Users/lanag/Library/CloudStorage/OneDrive-个人/Project2-StochasticDynamics/Flocks of birds/pigeonflocks_trajectories/hf2/flocks_timeseries_2dim_hf2.csv',encoding='utf-8',header=None)\n",
    "plt.rcParams.update({'font.size': 12}) \n",
    "plt.rcParams.update({'font.style': 'normal'})\n",
    "plt.rcParams.update({'font.family': 'Arial'})\n",
    "#plt.rcParams['savefig.dpi'] = 300 \n",
    "#plt.rcParams['figure.dpi'] = 300\n",
    "Nindex =0\n",
    "TIME = 20000\n",
    "x_tra = x_i.detach().numpy()[0:TIME,Nindex-1]\n",
    "x_real = time1.iloc[0:,Nindex*2-2]\n",
    "fig = plt.figure(figsize=(10,3.5))\n",
    "ax1 = fig.add_subplot(1,2,1)\n",
    "t = np.arange(0,x_tra.shape[0])\n",
    "ax1.plot(t,x_tra,c='steelblue',label=\"inferred\")\n",
    "ax1.plot(t, x_real[2:x_tra.shape[0]+2,],c='darkblue',label=\"real\")\n",
    "plt.ylabel('real vs inferred trajectory of dimension x')\n",
    "plt.legend()\n",
    "\n",
    "ax2 = fig.add_subplot(1,2,2)\n",
    "y_tra = y_i.detach().numpy()[0:TIME,Nindex-1]\n",
    "y_real = time1.iloc[0:,Nindex*2-1]\n",
    "t = np.arange(0,y_tra.shape[0])\n",
    "ax2.plot(t,y_tra,c='steelblue',label=\"inferred\")\n",
    "ax2.plot(t, y_real[2:y_tra.shape[0]+2,],c='darkblue',label=\"real\")\n",
    "plt.ylabel('real vs inferred trajectory of dimension y')\n",
    "plt.legend()\n",
    "\n",
    "#plt.savefig('/Users/lanag/OneDrive/Project2-StochasticDynamics/StochasticRossler/Figures/weightedRossler_intensity01_average_trajectories.png')\n",
    "plt.show()\n",
    "#plt.close()"
   ]
  },
  {
   "cell_type": "code",
   "execution_count": 233,
   "id": "0333ca0d",
   "metadata": {},
   "outputs": [
    {
     "data": {
      "image/png": "[encoded data removed]",
      "text/plain": [
       "<Figure size 432x288 with 1 Axes>"
      ]
     },
     "metadata": {
      "needs_background": "light"
     },
     "output_type": "display_data"
    }
   ],
   "source": [
    "import matplotlib.pyplot as plt\n",
    "mpl.rcParams['pdf.fonttype'] = 42\n",
    "mpl.rcParams['ps.fonttype'] = 42\n",
    "\n",
    "r = np.linspace(0, 200, 20000)\n",
    "fig, ax = plt.subplots()\n",
    "x1 = x_i.detach().numpy()[0:TIME,0]\n",
    "y1 = y_i.detach().numpy()[0:TIME,0]\n",
    "ax.plot(x1, y1, label='bird1')\n",
    "#ax.scatter(x1, y1, c = plt.cm.PuBu(r/max(r)),alpha=0.5, s= 0.5)\n",
    "x2 = x_i.detach().numpy()[0:TIME,1]\n",
    "y2 = y_i.detach().numpy()[0:TIME,1]\n",
    "ax.plot(x2, y2, label='bird2')\n",
    "#ax.scatter(x2, y2, c = plt.cm.PuBu(r/max(r)),alpha=0.5, s= 0.5)\n",
    "x3 = x_i.detach().numpy()[0:TIME,2]\n",
    "y3 = y_i.detach().numpy()[0:TIME,2]\n",
    "ax.plot(x3, y3, label='bird3')\n",
    "#ax.scatter(x3, y3, c = plt.cm.PuBu(r/max(r)),alpha=0.5, s= 0.5)\n",
    "x4 = x_i.detach().numpy()[0:TIME,3]\n",
    "y4 = y_i.detach().numpy()[0:TIME,3]\n",
    "ax.plot(x4, y4, label='bird4')\n",
    "#ax.scatter(x4, y4, c = plt.cm.PuBu(r/max(r)),alpha=0.5, s= 0.5)\n",
    "x5 = x_i.detach().numpy()[0:TIME,4]\n",
    "y5 = y_i.detach().numpy()[0:TIME,4]\n",
    "ax.plot(x5, y5, label='bird5')\n",
    "#ax.scatter(x5, y5, c = plt.cm.PuBu(r/max(r)),alpha=0.5, s= 0.5)\n",
    "x6 = x_i.detach().numpy()[0:TIME,5]\n",
    "y6 = y_i.detach().numpy()[0:TIME,5]\n",
    "ax.plot(x6, y6, label='bird6')\n",
    "#ax.scatter(x6, y6, c = plt.cm.PuBu(r/max(r)),alpha=0.5, s= 0.5)\n",
    "x7 = x_i.detach().numpy()[0:TIME,6]\n",
    "y7 = y_i.detach().numpy()[0:TIME,6]\n",
    "ax.plot(x7, y7, label='bird7')\n",
    "#ax.scatter(x7, y7, c = plt.cm.PuBu(r/max(r)),alpha=0.5, s= 0.5)\n",
    "\n",
    "\n",
    "# x = x_real[1:20001,]\n",
    "# y = y_real[1:20001,]\n",
    "# ax.scatter(x, y, c = plt.cm.YlGnBu(r/max(r)),alpha=0.5, s= 1)\n",
    "\n",
    "ax.set_xlabel('x')\n",
    "ax.set_ylabel('y')\n",
    "ax.set_title('Inferred trajectories')\n",
    "ax.legend()\n",
    "#plt.savefig('/Users/lanag/Library/CloudStorage/OneDrive-个人/Project2-StochasticDynamics/Flocks of birds/Figures/hf2_inferred.pdf')\n",
    "plt.show()"
   ]
  },
  {
   "cell_type": "code",
   "execution_count": 234,
   "id": "ae7508db",
   "metadata": {},
   "outputs": [
    {
     "name": "stderr",
     "output_type": "stream",
     "text": [
      "/var/folders/tx/qq1ds3m144q1b4ghn62l4kjc0000gn/T/ipykernel_31244/2751892123.py:7: MatplotlibDeprecationWarning: Calling gca() with keyword arguments was deprecated in Matplotlib 3.4. Starting two minor releases later, gca() will take no keyword arguments. The gca() function should only be used to get the current axes, or if no axes exist, create new axes with default keyword arguments. To create a new axes with non-default arguments, use plt.axes() or plt.subplot().\n",
      "  ax = fig.gca(projection='3d')\n"
     ]
    },
    {
     "data": {
      "image/png": "[encoded data removed]",
      "text/plain": [
       "<Figure size 432x288 with 1 Axes>"
      ]
     },
     "metadata": {
      "needs_background": "light"
     },
     "output_type": "display_data"
    }
   ],
   "source": [
    "import matplotlib as mpl\n",
    "from mpl_toolkits.mplot3d import Axes3D\n",
    "import numpy as np\n",
    "import matplotlib.pyplot as plt\n",
    "\n",
    "fig = plt.figure()\n",
    "ax = fig.gca(projection='3d')\n",
    "ax.w_xaxis.set_pane_color((1.0, 1.0, 1.0, 1.0))\n",
    "ax.w_yaxis.set_pane_color((1.0, 1.0, 1.0, 1.0))\n",
    "ax.w_zaxis.set_pane_color((1.0, 1.0, 1.0, 1.0))\n",
    "ax.azim = -150\n",
    "ax.dist = 9\n",
    "ax.elev = 60\n",
    "r = np.linspace(0, 200, 20000)\n",
    "\n",
    "\n",
    "x_tra_1 = x_i.detach().numpy()[0:TIME,Nindex+1]\n",
    "y_tra_1 = y_i.detach().numpy()[0:TIME,Nindex+1]\n",
    "#z_tra_1 = z_i.detach().numpy()[0:TIME,Nindex+1]\n",
    "x = x_tra_1#x_real[1:x_tra.shape[0]+1,]\n",
    "y = y_tra_1#y_real[1:y_tra.shape[0]+1,]\n",
    "#z = z_tra_1#z_real[1:z_tra.shape[0]+1,]\n",
    "\n",
    "x_tra_2 = x_i.detach().numpy()[0:TIME,Nindex+2]\n",
    "y_tra_2 = y_i.detach().numpy()[0:TIME,Nindex+2]\n",
    "#z_tra_2 = z_i.detach().numpy()[0:TIME,Nindex+2]\n",
    "x2 = x_tra_2#x_real[1:x_tra.shape[0]+1,]\n",
    "y2 = y_tra_2 #y_real[1:y_tra.shape[0]+1,]\n",
    "#z2 = z_tra_2#z_real[1:z_tra.shape[0]+1,]\n",
    "\n",
    "x_tra_3 = x_i.detach().numpy()[0:TIME,Nindex+3]\n",
    "y_tra_3 = y_i.detach().numpy()[0:TIME,Nindex+3]\n",
    "#z_tra_3 = z_i.detach().numpy()[0:TIME,Nindex+3]\n",
    "x3 = x_tra_3#x_real[1:x_tra.shape[0]+1,]\n",
    "y3 = y_tra_3 #y_real[1:y_tra.shape[0]+1,]\n",
    "#z3 = z_tra_3#z_real[1:z_tra.shape[0]+1,]\n",
    "\n",
    "\n",
    "x1 = x_tra\n",
    "y1 = y_tra\n",
    "#z1 = z_tra\n",
    "\n",
    "#1 colored by value of `z`\n",
    "ax.plot(x, y, c = 'k') \n",
    "ax.plot(x2, y2, c = 'g') \n",
    "ax.plot(x3, y3, c = 'b') \n",
    "#2 colored by index (same in this example since z is a linspace too)\n",
    "\n",
    "ax.scatter(x1, y1, c = plt.cm.YlGnBu(r/max(r)),alpha=0.5, s= 3)\n",
    "\n",
    "plt.show()"
   ]
  },
  {
   "cell_type": "code",
   "execution_count": 235,
   "id": "43be5c43",
   "metadata": {},
   "outputs": [],
   "source": [
    "bestMe = messages_over_time[-1]"
   ]
  },
  {
   "cell_type": "code",
   "execution_count": 236,
   "id": "59af190b",
   "metadata": {},
   "outputs": [
    {
     "data": {
      "text/html": [
       "<div>\n",
       "<style scoped>\n",
       "    .dataframe tbody tr th:only-of-type {\n",
       "        vertical-align: middle;\n",
       "    }\n",
       "\n",
       "    .dataframe tbody tr th {\n",
       "        vertical-align: top;\n",
       "    }\n",
       "\n",
       "    .dataframe thead th {\n",
       "        text-align: right;\n",
       "    }\n",
       "</style>\n",
       "<table border=\"1\" class=\"dataframe\">\n",
       "  <thead>\n",
       "    <tr style=\"text-align: right;\">\n",
       "      <th></th>\n",
       "      <th>xij</th>\n",
       "      <th>yij</th>\n",
       "      <th>dxij</th>\n",
       "      <th>dyij</th>\n",
       "      <th>c1</th>\n",
       "      <th>a1</th>\n",
       "      <th>epoch</th>\n",
       "      <th>loss</th>\n",
       "    </tr>\n",
       "  </thead>\n",
       "  <tbody>\n",
       "    <tr>\n",
       "      <th>0</th>\n",
       "      <td>0.000160</td>\n",
       "      <td>0.000073</td>\n",
       "      <td>0.000017</td>\n",
       "      <td>1.757289e-05</td>\n",
       "      <td>0.004339</td>\n",
       "      <td>0.000558</td>\n",
       "      <td>29</td>\n",
       "      <td>-173.054358</td>\n",
       "    </tr>\n",
       "    <tr>\n",
       "      <th>1</th>\n",
       "      <td>-0.000061</td>\n",
       "      <td>0.000056</td>\n",
       "      <td>-0.000004</td>\n",
       "      <td>1.017784e-05</td>\n",
       "      <td>0.004321</td>\n",
       "      <td>0.000553</td>\n",
       "      <td>29</td>\n",
       "      <td>-173.054358</td>\n",
       "    </tr>\n",
       "    <tr>\n",
       "      <th>2</th>\n",
       "      <td>-0.000152</td>\n",
       "      <td>-0.000083</td>\n",
       "      <td>-0.000002</td>\n",
       "      <td>-2.308085e-05</td>\n",
       "      <td>0.004338</td>\n",
       "      <td>0.000558</td>\n",
       "      <td>29</td>\n",
       "      <td>-173.054358</td>\n",
       "    </tr>\n",
       "    <tr>\n",
       "      <th>3</th>\n",
       "      <td>-0.000073</td>\n",
       "      <td>0.000068</td>\n",
       "      <td>0.000002</td>\n",
       "      <td>-1.528068e-05</td>\n",
       "      <td>0.004324</td>\n",
       "      <td>0.000554</td>\n",
       "      <td>29</td>\n",
       "      <td>-173.054358</td>\n",
       "    </tr>\n",
       "    <tr>\n",
       "      <th>4</th>\n",
       "      <td>-0.000222</td>\n",
       "      <td>0.000218</td>\n",
       "      <td>0.000006</td>\n",
       "      <td>1.096167e-05</td>\n",
       "      <td>0.004365</td>\n",
       "      <td>0.000567</td>\n",
       "      <td>29</td>\n",
       "      <td>-173.054358</td>\n",
       "    </tr>\n",
       "    <tr>\n",
       "      <th>...</th>\n",
       "      <td>...</td>\n",
       "      <td>...</td>\n",
       "      <td>...</td>\n",
       "      <td>...</td>\n",
       "      <td>...</td>\n",
       "      <td>...</td>\n",
       "      <td>...</td>\n",
       "      <td>...</td>\n",
       "    </tr>\n",
       "    <tr>\n",
       "      <th>41995</th>\n",
       "      <td>-0.000377</td>\n",
       "      <td>0.000186</td>\n",
       "      <td>-0.000014</td>\n",
       "      <td>8.509960e-07</td>\n",
       "      <td>0.004386</td>\n",
       "      <td>0.000574</td>\n",
       "      <td>29</td>\n",
       "      <td>-173.054358</td>\n",
       "    </tr>\n",
       "    <tr>\n",
       "      <th>41996</th>\n",
       "      <td>-0.000342</td>\n",
       "      <td>0.000380</td>\n",
       "      <td>0.000025</td>\n",
       "      <td>-3.803248e-05</td>\n",
       "      <td>0.004404</td>\n",
       "      <td>0.000579</td>\n",
       "      <td>29</td>\n",
       "      <td>-173.054358</td>\n",
       "    </tr>\n",
       "    <tr>\n",
       "      <th>41997</th>\n",
       "      <td>-0.000212</td>\n",
       "      <td>0.000469</td>\n",
       "      <td>0.000013</td>\n",
       "      <td>-8.654397e-05</td>\n",
       "      <td>0.004405</td>\n",
       "      <td>0.000580</td>\n",
       "      <td>29</td>\n",
       "      <td>-173.054358</td>\n",
       "    </tr>\n",
       "    <tr>\n",
       "      <th>41998</th>\n",
       "      <td>-0.000084</td>\n",
       "      <td>0.000358</td>\n",
       "      <td>0.000007</td>\n",
       "      <td>-6.398431e-05</td>\n",
       "      <td>0.004376</td>\n",
       "      <td>0.000570</td>\n",
       "      <td>29</td>\n",
       "      <td>-173.054358</td>\n",
       "    </tr>\n",
       "    <tr>\n",
       "      <th>41999</th>\n",
       "      <td>-0.000176</td>\n",
       "      <td>0.000309</td>\n",
       "      <td>0.000014</td>\n",
       "      <td>2.609700e-05</td>\n",
       "      <td>0.004374</td>\n",
       "      <td>0.000570</td>\n",
       "      <td>29</td>\n",
       "      <td>-173.054358</td>\n",
       "    </tr>\n",
       "  </tbody>\n",
       "</table>\n",
       "<p>42000 rows × 8 columns</p>\n",
       "</div>"
      ],
      "text/plain": [
       "            xij       yij      dxij          dyij        c1        a1  epoch  \\\n",
       "0      0.000160  0.000073  0.000017  1.757289e-05  0.004339  0.000558     29   \n",
       "1     -0.000061  0.000056 -0.000004  1.017784e-05  0.004321  0.000553     29   \n",
       "2     -0.000152 -0.000083 -0.000002 -2.308085e-05  0.004338  0.000558     29   \n",
       "3     -0.000073  0.000068  0.000002 -1.528068e-05  0.004324  0.000554     29   \n",
       "4     -0.000222  0.000218  0.000006  1.096167e-05  0.004365  0.000567     29   \n",
       "...         ...       ...       ...           ...       ...       ...    ...   \n",
       "41995 -0.000377  0.000186 -0.000014  8.509960e-07  0.004386  0.000574     29   \n",
       "41996 -0.000342  0.000380  0.000025 -3.803248e-05  0.004404  0.000579     29   \n",
       "41997 -0.000212  0.000469  0.000013 -8.654397e-05  0.004405  0.000580     29   \n",
       "41998 -0.000084  0.000358  0.000007 -6.398431e-05  0.004376  0.000570     29   \n",
       "41999 -0.000176  0.000309  0.000014  2.609700e-05  0.004374  0.000570     29   \n",
       "\n",
       "             loss  \n",
       "0     -173.054358  \n",
       "1     -173.054358  \n",
       "2     -173.054358  \n",
       "3     -173.054358  \n",
       "4     -173.054358  \n",
       "...           ...  \n",
       "41995 -173.054358  \n",
       "41996 -173.054358  \n",
       "41997 -173.054358  \n",
       "41998 -173.054358  \n",
       "41999 -173.054358  \n",
       "\n",
       "[42000 rows x 8 columns]"
      ]
     },
     "execution_count": 236,
     "metadata": {},
     "output_type": "execute_result"
    }
   ],
   "source": [
    "bestMe"
   ]
  },
  {
   "cell_type": "code",
   "execution_count": 237,
   "id": "6f793485",
   "metadata": {},
   "outputs": [],
   "source": [
    "rij_val = np.sqrt(bestMe['xij'].values**2+bestMe['yij'].values**2)\n",
    "#cohesion_true = 1.5*(1-(rij_val/2)**3)/(1+(rij_val/2)**6) # x1 (x_i) is target, x2 (x_j) is source \n",
    "align_true = -np.exp(-rij_val/3)#np.sin(bestMe['x2'].values-bestMe['x1'].values)"
   ]
  },
  {
   "cell_type": "code",
   "execution_count": 238,
   "id": "092684cb",
   "metadata": {},
   "outputs": [],
   "source": [
    "maxy = np.max(bestMe['a1'].values)\n",
    "miny = np.min(bestMe['a1'].values)\n",
    "maxx = np.max(align_true)\n",
    "minx = np.min(align_true)\n",
    "align_true = (maxy-miny)*(align_true-minx)/(maxx-minx) + miny"
   ]
  },
  {
   "cell_type": "code",
   "execution_count": 239,
   "id": "519e7bc9",
   "metadata": {},
   "outputs": [
    {
     "data": {
      "text/plain": [
       "0.18684359"
      ]
     },
     "execution_count": 239,
     "metadata": {},
     "output_type": "execute_result"
    }
   ],
   "source": [
    "(maxy-miny)/(maxx-minx)"
   ]
  },
  {
   "cell_type": "code",
   "execution_count": 240,
   "id": "309b95d1",
   "metadata": {},
   "outputs": [
    {
     "data": {
      "text/plain": [
       "-0.99999917"
      ]
     },
     "execution_count": 240,
     "metadata": {},
     "output_type": "execute_result"
    }
   ],
   "source": [
    "minx"
   ]
  },
  {
   "cell_type": "code",
   "execution_count": 241,
   "id": "c79509f4",
   "metadata": {},
   "outputs": [
    {
     "data": {
      "text/plain": [
       "0.0006867051"
      ]
     },
     "execution_count": 241,
     "metadata": {},
     "output_type": "execute_result"
    }
   ],
   "source": [
    "maxx-minx"
   ]
  },
  {
   "cell_type": "code",
   "execution_count": 242,
   "id": "6e7cdf6c",
   "metadata": {},
   "outputs": [
    {
     "data": {
      "text/plain": [
       "0.00054771453"
      ]
     },
     "execution_count": 242,
     "metadata": {},
     "output_type": "execute_result"
    }
   ],
   "source": [
    "miny"
   ]
  },
  {
   "cell_type": "code",
   "execution_count": 243,
   "id": "8619ef96",
   "metadata": {},
   "outputs": [
    {
     "data": {
      "image/png": "[encoded data removed]",
      "text/plain": [
       "<Figure size 360x360 with 1 Axes>"
      ]
     },
     "metadata": {
      "needs_background": "light"
     },
     "output_type": "display_data"
    }
   ],
   "source": [
    "plt.rcParams.update({'font.size': 12}) \n",
    "plt.rcParams.update({'font.style': 'normal'})\n",
    "plt.rcParams.update({'font.family': 'Arial'})\n",
    "mpl.rcParams['pdf.fonttype'] = 42\n",
    "mpl.rcParams['ps.fonttype'] = 42\n",
    "sx = bestMe['a1'].values[0:1000]#*bestMe['dxij']*m2\n",
    "sx_true = align_true[0:1000]#*bestMe['dxij']\n",
    "sy = bestMe['a1'].values[0:5000]#*bestMe['dyij']*m2\n",
    "sy_true = align_true[0:5000]#*bestMe['dyij']\n",
    "#sz = bestMe['a1'].values#*bestMe['dzij']*m2\n",
    "#sz_true = align_true#*bestMe['dzij']\n",
    "fig = plt.figure(figsize=(5, 5))\n",
    "ax1 = fig.add_subplot(1,1,1)\n",
    "#plt.title(\"true align- x dimension vs. inferred\",fontsize=10)\n",
    "plt.subplots_adjust(left=None, bottom=None, right=None, top=None, wspace=None, hspace=0.5)\n",
    "ax1.scatter(sx_true,sx,s=50,c ='grey', alpha=0.2)\n",
    "ax1.plot((0, 1), (0, 1), transform=ax1.transAxes, ls='--',c='k', label=\"1:1 line\")\n",
    "parameterx = np.polyfit(sx_true,sx,1)\n",
    "fx = np.poly1d(parameterx)\n",
    "ax1.plot(sx_true,fx(sx_true),c='palevioletred',lw=1)\n",
    "corrx = np.corrcoef(sx_true,sx)[0,1]\n",
    "bbox = dict(fc='1',alpha=0.5)\n",
    "plt.text(0.05, 0.9, '$R^2=%.2f$' % (corrx**2), transform=ax1.transAxes, size=15, bbox=bbox)\n",
    "plt.xlabel(\"True align strength\")\n",
    "plt.ylabel(\"Inferred align strength\")\n",
    "plt.savefig('/Users/lanag/Library/CloudStorage/OneDrive-个人/Project2-StochasticDynamics/Flocks of birds/Figures/hf2_align.pdf')"
   ]
  },
  {
   "cell_type": "code",
   "execution_count": 186,
   "id": "b731dd2e",
   "metadata": {},
   "outputs": [],
   "source": [
    "coup_value = ((rij_val/2-1)**3/(1+rij_val/2)**6+1)\n",
    "#coup_value = ((rij_val/0.1)**3-1)/((rij_val/0.1)**6+1)"
   ]
  },
  {
   "cell_type": "code",
   "execution_count": 187,
   "id": "73fda1a3",
   "metadata": {},
   "outputs": [],
   "source": [
    "maxy = np.max(bestMe['c1'].values)\n",
    "miny = np.min(bestMe['c1'].values)\n",
    "maxx = np.max(coup_value)\n",
    "minx = np.min(coup_value)\n",
    "coup_value = (maxy-miny)*(coup_value-minx)/(maxx-minx) + miny"
   ]
  },
  {
   "cell_type": "code",
   "execution_count": 188,
   "id": "09a0b9cf",
   "metadata": {},
   "outputs": [
    {
     "data": {
      "text/plain": [
       "0.18648678"
      ]
     },
     "execution_count": 188,
     "metadata": {},
     "output_type": "execute_result"
    }
   ],
   "source": [
    "(maxy-miny)/(maxx-minx)"
   ]
  },
  {
   "cell_type": "code",
   "execution_count": 196,
   "id": "1552e46c",
   "metadata": {},
   "outputs": [
    {
     "data": {
      "text/plain": [
       "1.1622906e-05"
      ]
     },
     "execution_count": 196,
     "metadata": {},
     "output_type": "execute_result"
    }
   ],
   "source": [
    "minx"
   ]
  },
  {
   "cell_type": "code",
   "execution_count": 190,
   "id": "30f68dc0",
   "metadata": {},
   "outputs": [
    {
     "data": {
      "text/plain": [
       "0.009228528"
      ]
     },
     "execution_count": 190,
     "metadata": {},
     "output_type": "execute_result"
    }
   ],
   "source": [
    "maxx-minx"
   ]
  },
  {
   "cell_type": "code",
   "execution_count": 191,
   "id": "29c47d67",
   "metadata": {},
   "outputs": [
    {
     "data": {
      "text/plain": [
       "0.0037961379"
      ]
     },
     "execution_count": 191,
     "metadata": {},
     "output_type": "execute_result"
    }
   ],
   "source": [
    "miny"
   ]
  },
  {
   "cell_type": "code",
   "execution_count": 193,
   "id": "cec1124b",
   "metadata": {},
   "outputs": [
    {
     "data": {
      "image/png": "[encoded data removed]",
      "text/plain": [
       "<Figure size 360x360 with 1 Axes>"
      ]
     },
     "metadata": {
      "needs_background": "light"
     },
     "output_type": "display_data"
    }
   ],
   "source": [
    "plt.rcParams.update({'font.size': 10}) \n",
    "plt.rcParams.update({'font.style': 'normal'})\n",
    "plt.rcParams.update({'font.family': 'Arial'})\n",
    "mpl.rcParams['pdf.fonttype'] = 42\n",
    "mpl.rcParams['ps.fonttype'] = 42\n",
    "temp = bestMe['c1'].values[0:1000]\n",
    "coup_value = coup_value[0:1000]\n",
    "fig = plt.figure(figsize=(5, 5))\n",
    "ax = fig.add_subplot(1,1,1)\n",
    "ax.scatter(coup_value,temp,s=50,c ='grey', alpha=0.2)\n",
    "ax.plot((0, 1), (0, 1), transform=ax.transAxes, ls='--',c='k', label=\"1:1 line\")\n",
    "parameter = np.polyfit(coup_value,temp,1)\n",
    "f = np.poly1d(parameter)\n",
    "ax.plot(coup_value,f(coup_value),c = '#ff9999', lw=1.5)\n",
    "corr = np.corrcoef(coup_value,temp)[0,1]\n",
    "bbox = dict(fc='1',alpha=0.5)\n",
    "plt.text(0.05, 0.9, '$R^2=%.2f$' % (corr**2),transform=ax.transAxes, size=12, bbox=bbox)\n",
    "#plt.title('Relation-rij-cohesion')\n",
    "plt.xlabel(\"true cohesion strength\")\n",
    "plt.ylabel(\"inferred cohesion strength\")\n",
    "plt.savefig('/Users/lanag/Library/CloudStorage/OneDrive-个人/Project2-StochasticDynamics/Flocks of birds/Figures/hf2_cohesion.pdf')"
   ]
  },
  {
   "cell_type": "code",
   "execution_count": 162,
   "id": "6a85db75",
   "metadata": {},
   "outputs": [
    {
     "data": {
      "image/png": "[encoded data removed]",
      "text/plain": [
       "<Figure size 720x432 with 3 Axes>"
      ]
     },
     "metadata": {
      "needs_background": "light"
     },
     "output_type": "display_data"
    }
   ],
   "source": [
    "diffusion = diffusion_over_time[-1]\n",
    "diffusion = pd.DataFrame(diffusion)\n",
    "diffusion_new = pd.DataFrame.drop_duplicates(diffusion, subset=None, keep='first', inplace=False)\n",
    "import numpy as np\n",
    "import pandas as pd\n",
    "import matplotlib.pyplot as plt\n",
    "%matplotlib inline\n",
    "\n",
    "s = diffusion_new['d1']/np.sqrt(0.01) # diffusion is sqrt(h)*theta(x0) \n",
    "\n",
    "fig = plt.figure(figsize = (10,6))\n",
    "ax1 = fig.add_subplot(2,1,1)\n",
    "#ax1.scatter(s.index, s.values)\n",
    "ax1.plot(s.index, s.values,'.')\n",
    "plt.grid()\n",
    " \n",
    "ax2 = fig.add_subplot(2,1,2) \n",
    "s.hist(bins=30,alpha = 0.5,ax = ax2)\n",
    "s.plot(kind = 'kde', secondary_y=True,ax = ax2)\n",
    "plt.title('The standard deviation distribusion')\n",
    "plt.grid()"
   ]
  },
  {
   "cell_type": "code",
   "execution_count": 163,
   "id": "b5cf65e9",
   "metadata": {},
   "outputs": [],
   "source": [
    "best_selfDyn = selfDyn_over_time[-1]\n",
    "best_selfDyn = pd.DataFrame(best_selfDyn)\n",
    "TimeSeries = best_selfDyn.iloc[:,0:dim].values\n",
    "TimeSeries = TimeSeries.reshape(-1,Dimension)"
   ]
  },
  {
   "cell_type": "code",
   "execution_count": 164,
   "id": "b91e6096",
   "metadata": {},
   "outputs": [
    {
     "data": {
      "text/html": [
       "<div>\n",
       "<style scoped>\n",
       "    .dataframe tbody tr th:only-of-type {\n",
       "        vertical-align: middle;\n",
       "    }\n",
       "\n",
       "    .dataframe tbody tr th {\n",
       "        vertical-align: top;\n",
       "    }\n",
       "\n",
       "    .dataframe thead th {\n",
       "        text-align: right;\n",
       "    }\n",
       "</style>\n",
       "<table border=\"1\" class=\"dataframe\">\n",
       "  <thead>\n",
       "    <tr style=\"text-align: right;\">\n",
       "      <th></th>\n",
       "      <th>Vi</th>\n",
       "      <th>dxi</th>\n",
       "      <th>dyi</th>\n",
       "      <th>s1</th>\n",
       "      <th>s2</th>\n",
       "    </tr>\n",
       "  </thead>\n",
       "  <tbody>\n",
       "    <tr>\n",
       "      <th>0</th>\n",
       "      <td>0.000002</td>\n",
       "      <td>0.000315</td>\n",
       "      <td>-0.001349</td>\n",
       "      <td>-0.000049</td>\n",
       "      <td>0.000047</td>\n",
       "    </tr>\n",
       "    <tr>\n",
       "      <th>1</th>\n",
       "      <td>0.000002</td>\n",
       "      <td>0.000315</td>\n",
       "      <td>-0.001349</td>\n",
       "      <td>-0.000049</td>\n",
       "      <td>0.000047</td>\n",
       "    </tr>\n",
       "    <tr>\n",
       "      <th>2</th>\n",
       "      <td>0.000002</td>\n",
       "      <td>0.000315</td>\n",
       "      <td>-0.001349</td>\n",
       "      <td>-0.000049</td>\n",
       "      <td>0.000047</td>\n",
       "    </tr>\n",
       "    <tr>\n",
       "      <th>3</th>\n",
       "      <td>0.000002</td>\n",
       "      <td>0.000315</td>\n",
       "      <td>-0.001349</td>\n",
       "      <td>-0.000049</td>\n",
       "      <td>0.000047</td>\n",
       "    </tr>\n",
       "    <tr>\n",
       "      <th>4</th>\n",
       "      <td>0.000002</td>\n",
       "      <td>0.000315</td>\n",
       "      <td>-0.001349</td>\n",
       "      <td>-0.000049</td>\n",
       "      <td>0.000047</td>\n",
       "    </tr>\n",
       "    <tr>\n",
       "      <th>...</th>\n",
       "      <td>...</td>\n",
       "      <td>...</td>\n",
       "      <td>...</td>\n",
       "      <td>...</td>\n",
       "      <td>...</td>\n",
       "    </tr>\n",
       "    <tr>\n",
       "      <th>41995</th>\n",
       "      <td>0.000002</td>\n",
       "      <td>-0.001207</td>\n",
       "      <td>-0.000812</td>\n",
       "      <td>-0.000042</td>\n",
       "      <td>0.000042</td>\n",
       "    </tr>\n",
       "    <tr>\n",
       "      <th>41996</th>\n",
       "      <td>0.000002</td>\n",
       "      <td>-0.001207</td>\n",
       "      <td>-0.000812</td>\n",
       "      <td>-0.000042</td>\n",
       "      <td>0.000042</td>\n",
       "    </tr>\n",
       "    <tr>\n",
       "      <th>41997</th>\n",
       "      <td>0.000002</td>\n",
       "      <td>-0.001207</td>\n",
       "      <td>-0.000812</td>\n",
       "      <td>-0.000042</td>\n",
       "      <td>0.000042</td>\n",
       "    </tr>\n",
       "    <tr>\n",
       "      <th>41998</th>\n",
       "      <td>0.000002</td>\n",
       "      <td>-0.001207</td>\n",
       "      <td>-0.000812</td>\n",
       "      <td>-0.000042</td>\n",
       "      <td>0.000042</td>\n",
       "    </tr>\n",
       "    <tr>\n",
       "      <th>41999</th>\n",
       "      <td>0.000002</td>\n",
       "      <td>-0.001207</td>\n",
       "      <td>-0.000812</td>\n",
       "      <td>-0.000042</td>\n",
       "      <td>0.000042</td>\n",
       "    </tr>\n",
       "  </tbody>\n",
       "</table>\n",
       "<p>42000 rows × 5 columns</p>\n",
       "</div>"
      ],
      "text/plain": [
       "             Vi       dxi       dyi        s1        s2\n",
       "0      0.000002  0.000315 -0.001349 -0.000049  0.000047\n",
       "1      0.000002  0.000315 -0.001349 -0.000049  0.000047\n",
       "2      0.000002  0.000315 -0.001349 -0.000049  0.000047\n",
       "3      0.000002  0.000315 -0.001349 -0.000049  0.000047\n",
       "4      0.000002  0.000315 -0.001349 -0.000049  0.000047\n",
       "...         ...       ...       ...       ...       ...\n",
       "41995  0.000002 -0.001207 -0.000812 -0.000042  0.000042\n",
       "41996  0.000002 -0.001207 -0.000812 -0.000042  0.000042\n",
       "41997  0.000002 -0.001207 -0.000812 -0.000042  0.000042\n",
       "41998  0.000002 -0.001207 -0.000812 -0.000042  0.000042\n",
       "41999  0.000002 -0.001207 -0.000812 -0.000042  0.000042\n",
       "\n",
       "[42000 rows x 5 columns]"
      ]
     },
     "execution_count": 164,
     "metadata": {},
     "output_type": "execute_result"
    }
   ],
   "source": [
    "best_selfDyn"
   ]
  },
  {
   "cell_type": "code",
   "execution_count": 165,
   "id": "7173e384",
   "metadata": {},
   "outputs": [],
   "source": [
    "self_true = (best_selfDyn['dxi']**2+best_selfDyn['dyi']**2)\n",
    "#self_true = best_selfDyn['dxi']*best_selfDyn['Vi']\n",
    "self_true_1 = np.sqrt(best_selfDyn['Vi'])*best_selfDyn['dxi']\n",
    "self_true_2 = best_selfDyn['dxi']"
   ]
  },
  {
   "cell_type": "code",
   "execution_count": 166,
   "id": "df897020",
   "metadata": {},
   "outputs": [],
   "source": [
    "maxy = np.max(best_selfDyn['s1'].values)\n",
    "miny = np.min(best_selfDyn['s1'].values)\n",
    "maxx = np.max(self_true)\n",
    "minx = np.min(self_true)\n",
    "self_true = (maxy-miny)*(self_true-minx)/(maxx-minx) + miny"
   ]
  },
  {
   "cell_type": "code",
   "execution_count": 167,
   "id": "4b6b7f30",
   "metadata": {},
   "outputs": [
    {
     "data": {
      "text/plain": [
       "6.167326581717668"
      ]
     },
     "execution_count": 167,
     "metadata": {},
     "output_type": "execute_result"
    }
   ],
   "source": [
    "(maxy-miny)/(maxx-minx)"
   ]
  },
  {
   "cell_type": "code",
   "execution_count": 168,
   "id": "c76cb361",
   "metadata": {},
   "outputs": [
    {
     "data": {
      "text/plain": [
       "1.331904513790505e-06"
      ]
     },
     "execution_count": 168,
     "metadata": {},
     "output_type": "execute_result"
    }
   ],
   "source": [
    "minx"
   ]
  },
  {
   "cell_type": "code",
   "execution_count": 169,
   "id": "539c2c48",
   "metadata": {},
   "outputs": [
    {
     "data": {
      "text/plain": [
       "1.679221441008849e-06"
      ]
     },
     "execution_count": 169,
     "metadata": {},
     "output_type": "execute_result"
    }
   ],
   "source": [
    "maxx-minx"
   ]
  },
  {
   "cell_type": "code",
   "execution_count": 170,
   "id": "280fab4b",
   "metadata": {},
   "outputs": [
    {
     "data": {
      "text/plain": [
       "-5.1870942e-05"
      ]
     },
     "execution_count": 170,
     "metadata": {},
     "output_type": "execute_result"
    }
   ],
   "source": [
    "miny"
   ]
  },
  {
   "cell_type": "code",
   "execution_count": 194,
   "id": "63026106",
   "metadata": {},
   "outputs": [
    {
     "data": {
      "image/png": "[encoded data removed]",
      "text/plain": [
       "<Figure size 1296x360 with 1 Axes>"
      ]
     },
     "metadata": {
      "needs_background": "light"
     },
     "output_type": "display_data"
    }
   ],
   "source": [
    "plt.rcParams.update({'font.size': 12}) \n",
    "plt.rcParams.update({'font.style': 'normal'})\n",
    "plt.rcParams.update({'font.family': 'Arial'})\n",
    "mpl.rcParams['pdf.fonttype'] = 42\n",
    "mpl.rcParams['ps.fonttype'] = 42\n",
    "#self_true = 0.4*(-np.sqrt(best_selfDyn['dxi']**2+best_selfDyn['dyi']**2))\n",
    "ri = np.sqrt(best_selfDyn['dxi']**2+best_selfDyn['dyi']**2)\n",
    "sx = best_selfDyn['s1'].values*best_selfDyn['dxi']\n",
    "sx_true = self_true*best_selfDyn['dxi']\n",
    "sx = sx[0:1000]\n",
    "sx_true = sx_true[0:1000]\n",
    "\n",
    "fig = plt.figure(figsize=(18, 5))\n",
    "ax1 = fig.add_subplot(1,3,1)\n",
    "plt.title(\"true self- x dimension vs. inferred\",fontsize=10)\n",
    "plt.subplots_adjust(left=None, bottom=None, right=None, top=None, wspace=None, hspace=0.5)\n",
    "ax1.scatter(sx_true,sx,s=50,c ='grey', alpha=0.2)\n",
    "ax1.plot((0, 1), (0, 1), transform=ax1.transAxes, ls='--',c='k', label=\"1:1 line\")\n",
    "parameterx = np.polyfit(sx_true,sx,1)\n",
    "fx = np.poly1d(parameterx)\n",
    "ax1.plot(sx_true,fx(sx_true),c='palevioletred',lw=1.5)\n",
    "corrx = np.corrcoef(sx_true,sx)[0,1]\n",
    "bbox = dict(fc='1',alpha=0.5)\n",
    "plt.text(0.05, 0.9, '$R^2=%.2f$' % (corrx**2), transform=ax1.transAxes, size=15, bbox=bbox)\n",
    "plt.xlabel(\"True self x\")\n",
    "plt.ylabel(\"Inferred self x\")\n",
    "plt.savefig('/Users/lanag/Library/CloudStorage/OneDrive-个人/Project2-StochasticDynamics/Flocks of birds/Figures/hf2_self.pdf')"
   ]
  },
  {
   "cell_type": "code",
   "execution_count": null,
   "id": "ab93e734",
   "metadata": {},
   "outputs": [],
   "source": []
  },
  {
   "cell_type": "code",
   "execution_count": null,
   "id": "a49203f3",
   "metadata": {},
   "outputs": [],
   "source": []
  }
 ],
 "metadata": {
  "kernelspec": {
   "display_name": "Python 3 (ipykernel)",
   "language": "python",
   "name": "python3"
  },
  "language_info": {
   "codemirror_mode": {
    "name": "ipython",
    "version": 3
   },
   "file_extension": ".py",
   "mimetype": "text/x-python",
   "name": "python",
   "nbconvert_exporter": "python",
   "pygments_lexer": "ipython3",
   "version": "3.8.12"
  }
 },
 "nbformat": 4,
 "nbformat_minor": 5
}
