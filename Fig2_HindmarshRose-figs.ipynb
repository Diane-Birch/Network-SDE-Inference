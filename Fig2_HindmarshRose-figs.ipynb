{
 "cells": [
  {
   "cell_type": "code",
   "execution_count": 1,
   "id": "a3919d1b",
   "metadata": {},
   "outputs": [],
   "source": [
    "import numpy as np\n",
    "import pandas as pd\n",
    "import os\n",
    "import torch\n",
    "from torch.autograd import Variable\n",
    "from matplotlib import pyplot as plt\n",
    "%matplotlib inline"
   ]
  },
  {
   "cell_type": "code",
   "execution_count": 2,
   "id": "09f96024",
   "metadata": {},
   "outputs": [],
   "source": [
    "import sys\n",
    "sys.path.append(\"/Users/lanag/Library/CloudStorage/OneDrive-个人/Project2-StochasticDynamics/manuscript_code/Code/utils\")\n",
    "import NeuGNN_model\n",
    "import Self_func\n",
    "import Interaction_func\n",
    "from NeuGNN_model import *\n",
    "from Self_func import *\n",
    "from Interaction_func import *"
   ]
  },
  {
   "cell_type": "code",
   "execution_count": 3,
   "id": "bd081ca0",
   "metadata": {},
   "outputs": [],
   "source": [
    "USE_CUDA = False"
   ]
  },
  {
   "cell_type": "code",
   "execution_count": 4,
   "id": "427649c6",
   "metadata": {},
   "outputs": [],
   "source": [
    "Timeseries = pd.read_csv('/Users/lanag/Library/CloudStorage/OneDrive-个人/Project2-StochasticDynamics/StochasticHindmarshRose/HR_stochastic_intensity01_10I.csv',encoding='utf-8',header=None)"
   ]
  },
  {
   "cell_type": "code",
   "execution_count": 5,
   "id": "2892dc2d",
   "metadata": {},
   "outputs": [],
   "source": [
    "Adj = pd.read_csv('/Users/lanag/Library/CloudStorage/OneDrive-个人/Project2-StochasticDynamics/manuscript_code/Code/Data/Topology/unweighted_adj_20nodes.csv',encoding='utf-8',header=None)"
   ]
  },
  {
   "cell_type": "code",
   "execution_count": 6,
   "id": "604328cc",
   "metadata": {},
   "outputs": [],
   "source": [
    "Type = pd.read_csv('/Users/lanag/Library/CloudStorage/OneDrive-个人/Project2-StochasticDynamics/manuscript_code/Code/Data/Topology/edge_type_10I.csv',encoding='utf-8',header=None)"
   ]
  },
  {
   "cell_type": "code",
   "execution_count": 7,
   "id": "81aa2e9b",
   "metadata": {},
   "outputs": [],
   "source": [
    "Type = Type.values.reshape((-1,1))\n",
    "Type = torch.from_numpy(Type)"
   ]
  },
  {
   "cell_type": "code",
   "execution_count": 8,
   "id": "c725a826",
   "metadata": {},
   "outputs": [],
   "source": [
    "model = 'HR'"
   ]
  },
  {
   "cell_type": "code",
   "execution_count": 9,
   "id": "62bb392c",
   "metadata": {},
   "outputs": [
    {
     "data": {
      "text/plain": [
       "20"
      ]
     },
     "execution_count": 9,
     "metadata": {},
     "output_type": "execute_result"
    }
   ],
   "source": [
    "Adj.shape[0]"
   ]
  },
  {
   "cell_type": "code",
   "execution_count": 10,
   "id": "ddcc7485",
   "metadata": {},
   "outputs": [],
   "source": [
    "Num_nodes = 20\n",
    "Dimension = 3"
   ]
  },
  {
   "cell_type": "code",
   "execution_count": 11,
   "id": "57576a59",
   "metadata": {},
   "outputs": [],
   "source": [
    "time = Timeseries.values\n",
    "timeseries = time.reshape(( -1, Num_nodes, Dimension)) # checked, correct input data"
   ]
  },
  {
   "cell_type": "code",
   "execution_count": 12,
   "id": "2ac19241",
   "metadata": {},
   "outputs": [],
   "source": [
    "delt_t = 0.01"
   ]
  },
  {
   "cell_type": "code",
   "execution_count": 13,
   "id": "00b02f0c",
   "metadata": {},
   "outputs": [],
   "source": [
    "timeseries_t0 = timeseries[:-2,:,:]\n",
    "timeseries_t1 = timeseries[1:-1,:,:]\n",
    "dX = (timeseries_t1-timeseries_t0)\n",
    "dXdt = (timeseries_t1-timeseries_t0)/delt_t"
   ]
  },
  {
   "cell_type": "code",
   "execution_count": 14,
   "id": "c1a2eb6a",
   "metadata": {},
   "outputs": [],
   "source": [
    "data = np.concatenate((timeseries[:-2,:,:],dXdt),axis=2)"
   ]
  },
  {
   "cell_type": "code",
   "execution_count": 15,
   "id": "93bd6ab2",
   "metadata": {},
   "outputs": [],
   "source": [
    "import numpy as np\n",
    "def get_edge_index(Adj):\n",
    "    num_nodes = Adj.shape[0]\n",
    "    Adj = Adj.values\n",
    "    edge_index = torch.from_numpy(np.array(np.where(Adj)))\n",
    "    return edge_index"
   ]
  },
  {
   "cell_type": "code",
   "execution_count": 16,
   "id": "e613f1e7",
   "metadata": {},
   "outputs": [],
   "source": [
    "edge_index = get_edge_index(Adj) #target to source\n",
    "\n",
    "index = [1,0]\n",
    "edge_index = edge_index[index] #source to target \n",
    "# checked, correct input edge_index data"
   ]
  },
  {
   "cell_type": "code",
   "execution_count": 17,
   "id": "8852a102",
   "metadata": {},
   "outputs": [],
   "source": [
    "#edge_index"
   ]
  },
  {
   "cell_type": "code",
   "execution_count": 18,
   "id": "106e8ca2",
   "metadata": {},
   "outputs": [],
   "source": [
    "#Type"
   ]
  },
  {
   "cell_type": "code",
   "execution_count": 19,
   "id": "be7357b8",
   "metadata": {},
   "outputs": [],
   "source": [
    "#data = data.reshape((10,-1,4,6))\n",
    "import numpy as np\n",
    "#goal_data = np.concatenate((data[1:-1,:,0:Dimension],data[0:-2,:,Dimension:Dimension*2]),axis=2)\n",
    "goal_data = data[1:-1,:,0:Dimension]\n",
    "mapping_data = data[0:-2,:,0:Dimension]"
   ]
  },
  {
   "cell_type": "code",
   "execution_count": 20,
   "id": "111c571b",
   "metadata": {},
   "outputs": [],
   "source": [
    "#tmp1 = np.concatenate([mapping_data[:, i] for i in range(0, mapping_data.shape[1], 1)])\n",
    "#tmp2 = np.concatenate([goal_data[:, i] for i in range(0, goal_data.shape[1], 1)])\n",
    "#X = torch.from_numpy(mapping_data)\n",
    "#y = torch.from_numpy(goal_data)\n",
    "\n",
    "X = torch.as_tensor(np.array(mapping_data).astype('float'))\n",
    "y = torch.as_tensor(np.array(goal_data).astype('float'))"
   ]
  },
  {
   "cell_type": "code",
   "execution_count": 21,
   "id": "121337e0",
   "metadata": {},
   "outputs": [],
   "source": [
    "from sklearn.model_selection import train_test_split"
   ]
  },
  {
   "cell_type": "code",
   "execution_count": 22,
   "id": "aef95691",
   "metadata": {},
   "outputs": [],
   "source": [
    "X_train, X_test, y_train, y_test = train_test_split(X, y, shuffle=False, test_size=0.2)\n",
    "X_train = X_train.float()\n",
    "y_train = y_train.float()\n",
    "X_test = X_test.float()\n",
    "y_test = y_test.float()"
   ]
  },
  {
   "cell_type": "code",
   "execution_count": 23,
   "id": "01cc89b1",
   "metadata": {},
   "outputs": [],
   "source": [
    "import torch\n",
    "from torch import nn\n",
    "from torch.functional import F\n",
    "from torch.optim import Adam\n",
    "from torch_geometric.nn import MetaLayer, MessagePassing"
   ]
  },
  {
   "cell_type": "code",
   "execution_count": 24,
   "id": "b19c91e5",
   "metadata": {},
   "outputs": [],
   "source": [
    "aggr = 'add'\n",
    "hidden = 100\n",
    "\n",
    "\n",
    "msg_dim = 1\n",
    "n_f = mapping_data.shape[2]"
   ]
  },
  {
   "cell_type": "code",
   "execution_count": 25,
   "id": "fe34f0bd",
   "metadata": {},
   "outputs": [],
   "source": [
    "dim = Dimension*1"
   ]
  },
  {
   "cell_type": "code",
   "execution_count": 26,
   "id": "b517926d",
   "metadata": {},
   "outputs": [],
   "source": [
    "from torch_geometric.data import Data, DataLoader"
   ]
  },
  {
   "cell_type": "code",
   "execution_count": 27,
   "id": "be04c684",
   "metadata": {},
   "outputs": [],
   "source": [
    "class SDIdifftype(MessagePassing):\n",
    "    def __init__(self, model, n_f, msg_dim, ndim, delt_t, Type, hidden=50, aggr='add', flow='source_to_target'):\n",
    "\n",
    "        \"\"\"If flow is 'source_to_target', the relation is (j,i), means information is passed from x_j to x_i'\"\"\"\n",
    "        super(SDIdifftype, self).__init__(aggr=aggr, flow=flow)\n",
    "        self.msg_fnc_excit = Seq(\n",
    "            Lin(2,hidden),\n",
    "            ReLU(),\n",
    "            Lin(hidden,hidden),\n",
    "            ReLU(),\n",
    "            Lin(hidden,hidden),\n",
    "            ReLU(),\n",
    "            Lin(hidden,msg_dim)\n",
    "        )\n",
    "        for layer in self.msg_fnc_excit:\n",
    "            if isinstance(layer,nn.Linear):\n",
    "                param_shape = layer.weight.shape\n",
    "                torch.nn.init.normal_(layer.weight, mean=0.0, std = 1e-1)\n",
    "        \n",
    "        self.msg_fnc_inh = Seq(\n",
    "            Lin(2,hidden),\n",
    "            ReLU(),\n",
    "            Lin(hidden,hidden),\n",
    "            ReLU(),\n",
    "            Lin(hidden,hidden),\n",
    "            ReLU(),\n",
    "            Lin(hidden,msg_dim)\n",
    "        )\n",
    "        for layer in self.msg_fnc_inh:\n",
    "            if isinstance(layer,nn.Linear):\n",
    "                param_shape = layer.weight.shape\n",
    "                torch.nn.init.normal_(layer.weight, mean=0.0, std = 1e-1)\n",
    "\n",
    "        \n",
    "\n",
    "        self.node_fnc_x = Seq(\n",
    "            Lin(n_f,hidden),\n",
    "            ReLU(),\n",
    "            Lin(hidden,hidden),\n",
    "            ReLU(),\n",
    "            Lin(hidden,hidden),\n",
    "            ReLU(),\n",
    "            Lin(hidden,1)\n",
    "        )\n",
    "        for layer in self.node_fnc_x:\n",
    "            if isinstance(layer,nn.Linear):\n",
    "                param_shape = layer.weight.shape\n",
    "                torch.nn.init.normal_(layer.weight, mean=0.0, std=1e-1)\n",
    "        \n",
    "        self.node_fnc_y = Seq(\n",
    "            Lin(n_f,hidden),\n",
    "            ReLU(),\n",
    "            Lin(hidden,hidden),\n",
    "            ReLU(),\n",
    "            Lin(hidden,hidden),\n",
    "            ReLU(),\n",
    "            Lin(hidden,1)\n",
    "        )\n",
    "        for layer in self.node_fnc_y:\n",
    "            if isinstance(layer,nn.Linear):\n",
    "                param_shape = layer.weight.shape\n",
    "                torch.nn.init.normal_(layer.weight, mean=0.0, std=1e-1)\n",
    "        \n",
    "        self.node_fnc_z = Seq(\n",
    "            Lin(n_f,hidden),\n",
    "            ReLU(),\n",
    "            Lin(hidden,hidden),\n",
    "            ReLU(),\n",
    "            Lin(hidden,hidden),\n",
    "            ReLU(),\n",
    "            Lin(hidden,1)\n",
    "        )\n",
    "        if model == 'HR':\n",
    "            for layer in self.node_fnc_z:\n",
    "                if isinstance(layer,nn.Linear):\n",
    "                    param_shape = layer.weight.shape\n",
    "                    torch.nn.init.normal_(layer.weight, mean=0.0, std=1e-3)\n",
    "        else:\n",
    "            for layer in self.node_fnc_z:\n",
    "                if isinstance(layer,nn.Linear):\n",
    "                    param_shape = layer.weight.shape\n",
    "                    torch.nn.init.normal_(layer.weight, mean=0.0, std=1e-1)\n",
    "        \n",
    "        self.stochastic_x = Seq(\n",
    "            Lin(n_f,hidden),\n",
    "            ReLU(),\n",
    "            Lin(hidden,hidden),\n",
    "            ReLU(),\n",
    "            Lin(hidden,1),\n",
    "            Softplus()\n",
    "        )\n",
    "        for layer in self.stochastic_x:\n",
    "            if isinstance(layer,nn.Linear):\n",
    "                param_shape = layer.weight.shape\n",
    "                torch.nn.init.normal_(layer.weight, mean=0.0, std=1e-3)\n",
    "        \n",
    "        self.stochastic_y = Seq(\n",
    "            Lin(n_f,hidden),\n",
    "            ReLU(),\n",
    "            Lin(hidden,1),\n",
    "            Softplus()\n",
    "        )\n",
    "        for layer in self.stochastic_y:\n",
    "            if isinstance(layer,nn.Linear):\n",
    "                param_shape = layer.weight.shape\n",
    "                torch.nn.init.normal_(layer.weight, mean=0.0, std=1e-3)\n",
    "\n",
    "        \n",
    "        self.stochastic_z = Seq(\n",
    "            Lin(n_f,hidden),\n",
    "            ReLU(),\n",
    "            Lin(hidden,1),\n",
    "            Softplus()\n",
    "        )\n",
    "        for layer in self.stochastic_z:\n",
    "            if isinstance(layer,nn.Linear):\n",
    "                param_shape = layer.weight.shape\n",
    "                torch.nn.init.normal_(layer.weight, mean=0.0, std=1e-3)\n",
    "\n",
    "    def forward(self, x, edge_index):\n",
    "        # x has shape [N, number_of_features]\n",
    "        # edge_index has shape [2,E]\n",
    "        x = x\n",
    "        return self.propagate(edge_index, x=x)\n",
    "\n",
    "    def message(self, x_i, x_j):\n",
    "\n",
    "        tmp = torch.cat([x_i[:,0], x_j[:,0]])\n",
    "        tmp = tmp.reshape(2,-1)\n",
    "        tmp = tmp.t()\n",
    "        Len = int(x_j[:,0].shape[0])/int(self.Type.shape[0])\n",
    "        T = self.Type.repeat(int(Len),1)\n",
    "        T = T.clone().detach()\n",
    "        Message_excit = self.msg_fnc_excit(tmp)\n",
    "        Message_inh = self.msg_fnc_inh(tmp)\n",
    "\n",
    "        #indexs = np.argwhere(T.numpy()<0)\n",
    "        T_excit = torch.where(T>0,T,0)\n",
    "        T_inh = torch.where(T<0,-T,0)\n",
    "        #for i in range(indexs.shape[0]):\n",
    "        Message = Message_excit*T_excit+Message_inh*T_inh\n",
    "            \n",
    "        #Message = np.zeros((T.shape[0],1))\n",
    "        #Message = torch.tensor(Message)\n",
    "        #for i in range(T.shape[0]):\n",
    "            #if T[i]>0:\n",
    "                #message_tmp = self.msg_fnc_excit(tmp[i,:])\n",
    "            #else:\n",
    "                #message_tmp = self.msg_fnc_inh(tmp[i,:])\n",
    "            #Message[i] = message_tmp\n",
    "        return Message\n",
    "    \n",
    "\n",
    "    def update(self, aggr_out, x=None):\n",
    "        if self.ndim==1:\n",
    "            fx = self.node_fnc_x(x)\n",
    "            dxdt = fx+aggr_out\n",
    "            x_update = x+dxdt*self.delt_t\n",
    "            x_mean = x+dxdt*self.delt_t\n",
    "            x_var = self.stochastic_x(x)\n",
    "            return torch.distributions.Normal(x_mean, x_var),x_update\n",
    "        elif self.ndim==2:\n",
    "            fx = self.node_fnc_x(x)\n",
    "            fy = self.node_fnc_y(x)\n",
    "            dxdt = fx+aggr_out\n",
    "            dydt = fy\n",
    "            x_update = x[:,0].reshape(-1,1)+dxdt*self.delt_t\n",
    "            y_update = x[:,1].reshape(-1,1)+dydt*self.delt_t\n",
    "            x_mean = x[:,0].reshape(-1,1)+dxdt*self.delt_t\n",
    "            y_mean = x[:,1].reshape(-1,1)+dydt*self.delt_t\n",
    "            x_var = self.stochastic_x(x)\n",
    "            y_var = self.stochastic_y(x)\n",
    "            return torch.distributions.Normal(x_mean, x_var),torch.distributions.Normal(y_mean, y_var),x_update,y_update\n",
    "        elif self.ndim==3:\n",
    "            fx = self.node_fnc_x(x)\n",
    "            fy = self.node_fnc_y(x)\n",
    "            fz = self.node_fnc_z(x)\n",
    "            dxdt = fx+aggr_out\n",
    "            dydt = fy\n",
    "            dzdt = fz\n",
    "            x_update = x[:,0].reshape(-1,1)+dxdt*self.delt_t\n",
    "            y_update = x[:,1].reshape(-1,1)+dydt*self.delt_t\n",
    "            z_update = x[:,2].reshape(-1,1)+dzdt*self.delt_t\n",
    "            x_mean = x[:,0].reshape(-1,1)+dxdt*self.delt_t\n",
    "            y_mean = x[:,1].reshape(-1,1)+dydt*self.delt_t\n",
    "            z_mean = x[:,2].reshape(-1,1)+dzdt*self.delt_t\n",
    "            x_var = self.stochastic_x(x)\n",
    "            y_var = self.stochastic_y(x)\n",
    "            z_var = self.stochastic_z(x)\n",
    "            return torch.distributions.Normal(x_mean, x_var),torch.distributions.Normal(y_mean, y_var),torch.distributions.Normal(z_mean, z_var),x_update,y_update,z_update\n",
    "\n",
    "\n",
    "class SDI_Difftype(SDIdifftype):\n",
    "     def __init__(\n",
    " \t\tself, model, n_f, msg_dim, ndim, delt_t,Type,\n",
    " \t\tedge_index, aggr='add', hidden=50, nt=1):\n",
    "            super(SDI_Difftype, self).__init__(model, n_f, msg_dim, ndim, delt_t, Type, hidden=hidden, aggr=aggr)\n",
    "            self.delt_t = delt_t\n",
    "            self.nt = nt\n",
    "            self.edge_index = edge_index\n",
    "            self.ndim = ndim\n",
    "            self.Type = Type\n",
    "    \n",
    "     def SDI_weighted(self, g, augment=False, augmentation=3):\n",
    "            #x is [n, n_f]f\n",
    "            x = g.x\n",
    "            ndim = self.ndim\n",
    "            if augment:\n",
    "                augmentation = torch.randn(1, ndim)*augmentation\n",
    "                augmentation = augmentation.repeat(len(x), 1).to(x.device)\n",
    "                x = x.index_add(1, torch.arange(ndim).to(x.device), augmentation)\n",
    "        \n",
    "            edge_index = g.edge_index\n",
    "            return self.propagate(\n",
    "                    edge_index, size=(x.size(0), x.size(0)),\n",
    "                    x=x)\n",
    "\n",
    "     def loss(self, g, **kwargs):\n",
    "            if self.ndim==1:\n",
    "                out_dist,xUpdate = self.SDI_weighted(g)\n",
    "                neg_log_likelihood = -out_dist.log_prob(g.y)\n",
    "                return torch.sum(neg_log_likelihood)\n",
    "            if self.ndim==2:\n",
    "                out_dist_x,out_dist_y,xUpdate,yUpdate = self.SDI_weighted(g)\n",
    "                neg_log_likelihood_x = -out_dist_x.log_prob(g.y[:,0].reshape(-1,1))\n",
    "                neg_log_likelihood_y = -out_dist_y.log_prob(g.y[:,1].reshape(-1,1))\n",
    "                return torch.sum(neg_log_likelihood_x)+torch.sum(neg_log_likelihood_y)\n",
    "            if self.ndim==3:\n",
    "                out_dist_x,out_dist_y,out_dist_z,xUpdate,yUpdate,zUpdate = self.SDI_weighted(g)\n",
    "                neg_log_likelihood_x = -out_dist_x.log_prob(g.y[:,0].reshape(-1,1))\n",
    "                neg_log_likelihood_y = -out_dist_y.log_prob(g.y[:,1].reshape(-1,1))\n",
    "                neg_log_likelihood_z = -out_dist_z.log_prob(g.y[:,2].reshape(-1,1))\n",
    "                return torch.mean(neg_log_likelihood_x)+torch.mean(neg_log_likelihood_y)+torch.mean(neg_log_likelihood_z)\n",
    "     def sample_trajectories(self, g, **kwargs):\n",
    "            if self.ndim == 1:\n",
    "                out_dist,xUpdate = self.SDI_weighted(g)\n",
    "                xUpdate_sample = out_dist.sample()\n",
    "                return xUpdate_sample\n",
    "            if self.ndim == 2:\n",
    "                out_dist_x,out_dist_y,xUpdate,yUpdate = self.SDI_weighted(g)\n",
    "                xUpdate_sample = out_dist_x.sample()\n",
    "                yUpdate_sample = out_dist_y.sample()\n",
    "                return xUpdate_sample, yUpdate_sample\n",
    "            if self.ndim == 3:\n",
    "                out_dist_x,out_dist_y,out_dist_z,xUpdate,yUpdate,zUpdate = self.SDI_weighted(g)\n",
    "                xUpdate_sample = out_dist_x.sample()\n",
    "                yUpdate_sample = out_dist_y.sample()\n",
    "                zUpdate_sample = out_dist_z.sample()\n",
    "                return xUpdate_sample, yUpdate_sample, zUpdate_sample\n",
    "\n",
    "     def average_trajectories(self, g, **kwargs):\n",
    "            if self.ndim == 1:\n",
    "                out_dist,xUpdate = self.SDI_weighted(g)\n",
    "                return xUpdate\n",
    "            if self.ndim == 2:\n",
    "                out_dist_x,out_dist_y,xUpdate,yUpdate = self.SDI_weighted(g)\n",
    "                return xUpdate, yUpdate\n",
    "            if self.ndim == 3:\n",
    "                out_dist_x,out_dist_y,out_dist_z,xUpdate,yUpdate,zUpdate = self.SDI_weighted(g)\n",
    "                return xUpdate, yUpdate, zUpdate"
   ]
  },
  {
   "cell_type": "code",
   "execution_count": 28,
   "id": "13dce36c",
   "metadata": {},
   "outputs": [],
   "source": [
    "ogn = SDI_Difftype(model,n_f, msg_dim, dim, delt_t, Type, hidden=hidden, edge_index=edge_index , aggr=aggr)"
   ]
  },
  {
   "cell_type": "code",
   "execution_count": 29,
   "id": "c5533d19",
   "metadata": {},
   "outputs": [],
   "source": [
    "messages_over_time = []\n",
    "selfDyn_over_time = []\n",
    "diffusion_over_time = []\n",
    "ogn = ogn"
   ]
  },
  {
   "cell_type": "code",
   "execution_count": 30,
   "id": "8030401e",
   "metadata": {},
   "outputs": [],
   "source": [
    "x=X_train[1]\n",
    "y=y_train[1]\n",
    "_q = Data(\n",
    "    x=X_train[1],\n",
    "    edge_index=edge_index,\n",
    "    y=y_train[1])"
   ]
  },
  {
   "cell_type": "code",
   "execution_count": 31,
   "id": "f8bb7e39",
   "metadata": {
    "scrolled": false
   },
   "outputs": [
    {
     "data": {
      "text/plain": [
       "tensor(1.6473, grad_fn=<AddBackward0>)"
      ]
     },
     "execution_count": 31,
     "metadata": {},
     "output_type": "execute_result"
    }
   ],
   "source": [
    "ogn.loss(_q)"
   ]
  },
  {
   "cell_type": "code",
   "execution_count": 32,
   "id": "90a0f525",
   "metadata": {},
   "outputs": [
    {
     "name": "stderr",
     "output_type": "stream",
     "text": [
      "/opt/anaconda3/envs/pytorch_env/lib/python3.8/site-packages/torch_geometric/deprecation.py:13: UserWarning: 'data.DataLoader' is deprecated, use 'loader.DataLoader' instead\n",
      "  warnings.warn(out)\n"
     ]
    }
   ],
   "source": [
    "batch = 32\n",
    "trainloader = DataLoader(\n",
    "    [Data(\n",
    "        Variable(X_train[i]),\n",
    "        edge_index=edge_index,\n",
    "        y=Variable(y_train[i])) for i in range(len(y_train))],\n",
    "    batch_size=batch,\n",
    "    shuffle=True\n",
    ")\n",
    "\n",
    "testloader = DataLoader(\n",
    "    [Data(\n",
    "        X_test[i],\n",
    "        edge_index=edge_index,\n",
    "        y=y_test[i]) for i in range(len(y_test))],\n",
    "    batch_size=64,\n",
    "    shuffle=True\n",
    ")"
   ]
  },
  {
   "cell_type": "code",
   "execution_count": 33,
   "id": "f544093e",
   "metadata": {},
   "outputs": [],
   "source": [
    "from torch.optim.lr_scheduler import ReduceLROnPlateau, OneCycleLR"
   ]
  },
  {
   "cell_type": "code",
   "execution_count": 35,
   "id": "ebc2dcd9",
   "metadata": {},
   "outputs": [
    {
     "data": {
      "text/plain": [
       "2000"
      ]
     },
     "execution_count": 35,
     "metadata": {},
     "output_type": "execute_result"
    }
   ],
   "source": [
    "init_lr = 5e-4\n",
    "\n",
    "opt = torch.optim.Adam(ogn.parameters(), lr=init_lr, weight_decay=1e-8)\n",
    "\n",
    "# total_epochs = 200\n",
    "total_epochs = 50\n",
    "\n",
    "batch_per_epoch = 2000\n",
    "\n",
    "sched = OneCycleLR(opt, max_lr=init_lr,\n",
    "                   steps_per_epoch=batch_per_epoch,#len(trainloader),\n",
    "                   epochs=total_epochs, final_div_factor=1e5)\n",
    "\n",
    "batch_per_epoch"
   ]
  },
  {
   "cell_type": "code",
   "execution_count": 36,
   "id": "9610dd82",
   "metadata": {},
   "outputs": [],
   "source": [
    "epoch = 0\n",
    "from tqdm import tqdm"
   ]
  },
  {
   "cell_type": "code",
   "execution_count": 37,
   "id": "86adf811",
   "metadata": {},
   "outputs": [],
   "source": [
    "import numpy as onp\n",
    "onp.random.seed(0)\n",
    "test_idxes = onp.random.randint(0, len(X_test), 1000)\n",
    "\n",
    "#Record messages over test dataset here:\n",
    "newtestloader = DataLoader(\n",
    "     [Data(\n",
    "         X_test[i],\n",
    "         edge_index=edge_index,\n",
    "         y=y_test[i]) for i in test_idxes],\n",
    "     batch_size=len(X_test),\n",
    "     shuffle=False\n",
    " )\n",
    "\n",
    "# newtestloader = DataLoader(\n",
    "#     [Data(\n",
    "#         X_train[i],\n",
    "#         edge_index=edge_index,\n",
    "#         y=y_train[i]) for i in test_idxes],\n",
    "#     batch_size=len(X_train),\n",
    "#     shuffle=False\n",
    "# )"
   ]
  },
  {
   "cell_type": "code",
   "execution_count": 38,
   "id": "a33b9ff2",
   "metadata": {},
   "outputs": [
    {
     "data": {
      "text/plain": [
       "(1000,)"
      ]
     },
     "execution_count": 38,
     "metadata": {},
     "output_type": "execute_result"
    }
   ],
   "source": [
    "test_idxes.shape"
   ]
  },
  {
   "cell_type": "code",
   "execution_count": 39,
   "id": "d7b57998",
   "metadata": {},
   "outputs": [],
   "source": [
    "import numpy as onp\n",
    "import pandas as pd\n",
    "\n",
    "def get_messages(ogn):\n",
    "\n",
    "    def get_message_info(tmp):\n",
    "        ogn.cpu()\n",
    "\n",
    "        s1 = tmp.x[tmp.edge_index[0]] #source\n",
    "        s1 = s1[:,0]\n",
    "        #print(s1)\n",
    "        s2 = tmp.x[tmp.edge_index[1]] #target\n",
    "        s2 = s2[:,0]\n",
    "        #print(s2)\n",
    "        Tmp = torch.cat([s2, s1]) # tmp --> xi,xj\n",
    "        Tmp = Tmp.reshape(2,-1)\n",
    "        Tmp = Tmp.t()# tmp has shape [E, 2 * in_channels]\n",
    "        Len = int(s1.shape[0])/int(Type.shape[0])\n",
    "        T = Type.repeat(int(Len),1)\n",
    "        \n",
    "        T_excit = torch.where(T>0,T,0)\n",
    "        T_inh = torch.where(T<0,-T,0)\n",
    "        #print(T_excit)\n",
    "        #print(T_inh)\n",
    "        #for i in range(indexs.shape[0]):\n",
    "        tmpT = torch.cat([Tmp,T],dim=1)\n",
    "        tmpT = tmpT.to(torch.float32)\n",
    "        \n",
    "        m12_excit = ogn.msg_fnc_excit(Tmp)\n",
    "        m12_inh = ogn.msg_fnc_inh(Tmp)\n",
    "        m12 = m12_excit*T_excit+m12_inh*T_inh\n",
    "        #m12 = m12_excit*T+m12_inh*T\n",
    "        #indexs = np.argwhere(T.numpy()<0)\n",
    "        #for i in range(indexs.shape[0]):\n",
    "            #m12[indexs[i][0]] = m12_inh[indexs[i][0]]\n",
    "            \n",
    "        #m12 = np.zeros((T.shape[0],1))\n",
    "        #m12 = torch.tensor(m12)\n",
    "        #for i in range(T.shape[0]):\n",
    "            #if T[i]>0:\n",
    "                #message_tmp = ogn.msg_fnc_excit(Tmp[i,:])\n",
    "            #else:\n",
    "                #message_tmp = ogn.msg_fnc_inh(Tmp[i,:])\n",
    "            #m12[i] = message_tmp\n",
    "        \n",
    "\n",
    "        all_messages = torch.cat((\n",
    "            tmpT,\n",
    "             m12), dim=1)\n",
    "        if dim == 1:\n",
    "            columns = [elem%(k) for k in range(1,3) for elem in 'x%d'.split(' ')]\n",
    "            columns += ['T']\n",
    "            columns += ['e%d'%(k,) for k in range(msg_dim)]\n",
    "        if dim == 2:\n",
    "            columns = [elem%(k) for k in range(1, 3) for elem in 'x%d'.split(' ')]\n",
    "            columns += ['T']\n",
    "            columns += ['e%d'%(k,) for k in range(msg_dim)]\n",
    "        elif dim == 3:\n",
    "            columns = [elem%(k) for k in range(1, 3) for elem in 'x%d'.split(' ')]\n",
    "            columns += ['T']\n",
    "            columns += ['e%d'%(k,) for k in range(msg_dim)]\n",
    "\n",
    "        return pd.DataFrame(\n",
    "              data=all_messages.cpu().detach().numpy(),\n",
    "             columns=columns\n",
    "        )\n",
    "        #print(all_messages.shape)\n",
    "        return pd.DataFrame(all_messages)\n",
    "\n",
    "    msg_info = []\n",
    "    for i, g in enumerate(newtestloader):\n",
    "        msg_info.append(get_message_info(g))\n",
    "\n",
    "    msg_info = pd.concat(msg_info)\n",
    "    \n",
    "    return msg_info"
   ]
  },
  {
   "cell_type": "code",
   "execution_count": 40,
   "id": "d46b12f3",
   "metadata": {},
   "outputs": [],
   "source": [
    "def get_selfDynamics(ogn):\n",
    "    def get_selfDynamics_info(tmp):\n",
    "        ogn.cpu()\n",
    "        \n",
    "        tmp = tmp.x[tmp.edge_index[1]]\n",
    "        if dim==1:\n",
    "            self_dyn_x = ogn.node_fnc_x(tmp)\n",
    "            self_dyn_all = torch.cat((tmp,self_dyn_x), dim=1)\n",
    "            columns = ['x','s1']\n",
    "            \n",
    "        if dim==2:\n",
    "            self_dyn_x = ogn.node_fnc_x(tmp)\n",
    "            self_dyn_y = ogn.node_fnc_y(tmp)\n",
    "            self_dyn_all = torch.cat((tmp,self_dyn_x,self_dyn_y), dim=1)\n",
    "            columns = ['x','y','s1','s2']\n",
    "        if dim==3:\n",
    "            self_dyn_x = ogn.node_fnc_x(tmp)\n",
    "            self_dyn_y = ogn.node_fnc_y(tmp)\n",
    "            self_dyn_z = ogn.node_fnc_z(tmp)\n",
    "            self_dyn_all = torch.cat((tmp,self_dyn_x,self_dyn_y,self_dyn_z), dim=1)\n",
    "            columns = ['x','y','z','s1','s2','s3']\n",
    "            \n",
    "        return pd.DataFrame(\n",
    "              data=self_dyn_all.cpu().detach().numpy(),\n",
    "             columns=columns\n",
    "        )\n",
    "        return pd.DataFrame(self_dyn_all)\n",
    "\n",
    "    selfDyn_info = []\n",
    "    for i, g in enumerate(newtestloader):\n",
    "        selfDyn_info.append(get_selfDynamics_info(g))\n",
    "\n",
    "    selfDyn_info = pd.concat(selfDyn_info)\n",
    "    return selfDyn_info        "
   ]
  },
  {
   "cell_type": "code",
   "execution_count": 41,
   "id": "b3793bd7",
   "metadata": {},
   "outputs": [],
   "source": [
    "def get_diffusion(ogn):\n",
    "    def get_diffusion_info(tmp):\n",
    "        ogn.cpu()\n",
    "        \n",
    "        tmp = tmp.x[tmp.edge_index[1]]\n",
    "        if dim==1:\n",
    "            self_diff_x = ogn.stochastic_x(tmp)\n",
    "            self_diff_all = torch.cat((tmp,self_diff_x), dim=1)\n",
    "            columns = ['x','d1']\n",
    "            \n",
    "        if dim==2:\n",
    "            self_diff_x = ogn.stochastic_x(tmp)\n",
    "            self_diff_y = ogn.stochastic_y(tmp)\n",
    "            self_diff_all = torch.cat((tmp,self_diff_x,self_diff_y), dim=1)\n",
    "            columns = ['x','y','d1','d2']\n",
    "        if dim==3:\n",
    "            self_diff_x = ogn.stochastic_x(tmp)\n",
    "            self_diff_y = ogn.stochastic_y(tmp)\n",
    "            self_diff_z = ogn.stochastic_z(tmp)\n",
    "            self_diff_all = torch.cat((tmp,self_diff_x,self_diff_y,self_diff_z), dim=1)\n",
    "            columns = ['x','y','z','d1','d2','d3']\n",
    "            \n",
    "        return pd.DataFrame(\n",
    "              data=self_diff_all.cpu().detach().numpy(),\n",
    "             columns=columns\n",
    "        )\n",
    "        return pd.DataFrame(self_diff_all)\n",
    "\n",
    "    selfDiffusion_info = []\n",
    "    for i, g in enumerate(newtestloader):\n",
    "        selfDiffusion_info.append(get_diffusion_info(g))\n",
    "\n",
    "    selfDiffusion_info = pd.concat(selfDiffusion_info)\n",
    "    return selfDiffusion_info "
   ]
  },
  {
   "cell_type": "code",
   "execution_count": 42,
   "id": "268f7f16",
   "metadata": {},
   "outputs": [],
   "source": [
    "recorded_models = []"
   ]
  },
  {
   "cell_type": "code",
   "execution_count": 43,
   "id": "8f2209d6",
   "metadata": {
    "scrolled": false
   },
   "outputs": [
    {
     "name": "stderr",
     "output_type": "stream",
     "text": [
      "\r",
      "  0%|                                                    | 0/50 [00:00<?, ?it/s]"
     ]
    },
    {
     "name": "stdout",
     "output_type": "stream",
     "text": [
      "0.00357054261503538\n",
      "-0.02113633319765464\n"
     ]
    },
    {
     "name": "stderr",
     "output_type": "stream",
     "text": [
      "\r",
      "  2%|▊                                        | 1/50 [02:10<1:46:41, 130.64s/it]"
     ]
    },
    {
     "name": "stdout",
     "output_type": "stream",
     "text": [
      "-0.09854815713796403\n",
      "-0.0837401214450044\n"
     ]
    },
    {
     "name": "stderr",
     "output_type": "stream",
     "text": [
      "\r",
      "  4%|█▋                                       | 2/50 [04:21<1:44:27, 130.57s/it]"
     ]
    },
    {
     "name": "stdout",
     "output_type": "stream",
     "text": [
      "-0.2016799186493029\n",
      "-0.10731361613298768\n"
     ]
    },
    {
     "name": "stderr",
     "output_type": "stream",
     "text": [
      "\r",
      "  6%|██▍                                      | 3/50 [06:29<1:41:36, 129.72s/it]"
     ]
    },
    {
     "name": "stdout",
     "output_type": "stream",
     "text": [
      "-0.22440494314451498\n",
      "-0.11034071048050895\n"
     ]
    },
    {
     "name": "stderr",
     "output_type": "stream",
     "text": [
      "\r",
      "  8%|███▎                                     | 4/50 [08:38<1:39:11, 129.37s/it]"
     ]
    },
    {
     "name": "stdout",
     "output_type": "stream",
     "text": [
      "-0.22781954182403777\n",
      "-0.11095189027364741\n"
     ]
    },
    {
     "name": "stderr",
     "output_type": "stream",
     "text": [
      "\r",
      " 10%|████                                     | 5/50 [10:47<1:36:48, 129.07s/it]"
     ]
    },
    {
     "name": "stdout",
     "output_type": "stream",
     "text": [
      "-0.22862221038771627\n",
      "-0.11101821613171063\n"
     ]
    },
    {
     "name": "stderr",
     "output_type": "stream",
     "text": [
      "\r",
      " 12%|████▉                                    | 6/50 [12:55<1:34:30, 128.88s/it]"
     ]
    },
    {
     "name": "stdout",
     "output_type": "stream",
     "text": [
      "-0.2287461361233189\n",
      "-0.11090213654629254\n"
     ]
    },
    {
     "name": "stderr",
     "output_type": "stream",
     "text": [
      "\r",
      " 14%|█████▋                                   | 7/50 [15:04<1:32:16, 128.76s/it]"
     ]
    },
    {
     "name": "stdout",
     "output_type": "stream",
     "text": [
      "-0.22914228222210958\n",
      "-0.11145934131743021\n"
     ]
    },
    {
     "name": "stderr",
     "output_type": "stream",
     "text": [
      "\r",
      " 16%|██████▌                                  | 8/50 [17:12<1:30:05, 128.70s/it]"
     ]
    },
    {
     "name": "stdout",
     "output_type": "stream",
     "text": [
      "-0.2301710420547691\n",
      "-0.11168173673253512\n"
     ]
    },
    {
     "name": "stderr",
     "output_type": "stream",
     "text": [
      "\r",
      " 18%|███████▍                                 | 9/50 [19:21<1:27:55, 128.68s/it]"
     ]
    },
    {
     "name": "stdout",
     "output_type": "stream",
     "text": [
      "-0.23076747481088344\n",
      "-0.11190150258290833\n"
     ]
    },
    {
     "name": "stderr",
     "output_type": "stream",
     "text": [
      "\r",
      " 20%|████████                                | 10/50 [21:30<1:25:45, 128.64s/it]"
     ]
    },
    {
     "name": "stdout",
     "output_type": "stream",
     "text": [
      "-0.23139155219323482\n",
      "-0.1121908038076236\n"
     ]
    },
    {
     "name": "stderr",
     "output_type": "stream",
     "text": [
      "\r",
      " 22%|████████▊                               | 11/50 [23:38<1:23:36, 128.63s/it]"
     ]
    },
    {
     "name": "stdout",
     "output_type": "stream",
     "text": [
      "-0.23178222190328454\n",
      "-0.11242528769432271\n"
     ]
    },
    {
     "name": "stderr",
     "output_type": "stream",
     "text": [
      "\r",
      " 24%|█████████▌                              | 12/50 [25:47<1:21:27, 128.62s/it]"
     ]
    },
    {
     "name": "stdout",
     "output_type": "stream",
     "text": [
      "-0.23194685415496866\n",
      "-0.11241160300974269\n"
     ]
    },
    {
     "name": "stderr",
     "output_type": "stream",
     "text": [
      "\r",
      " 26%|██████████▍                             | 13/50 [27:55<1:19:17, 128.57s/it]"
     ]
    },
    {
     "name": "stdout",
     "output_type": "stream",
     "text": [
      "-0.2322909642560841\n",
      "-0.11270804224991428\n"
     ]
    },
    {
     "name": "stderr",
     "output_type": "stream",
     "text": [
      "\r",
      " 28%|███████████▏                            | 14/50 [30:04<1:17:09, 128.59s/it]"
     ]
    },
    {
     "name": "stdout",
     "output_type": "stream",
     "text": [
      "-0.23261096849049162\n",
      "-0.11281662197836914\n"
     ]
    },
    {
     "name": "stderr",
     "output_type": "stream",
     "text": [
      "\r",
      " 30%|████████████                            | 15/50 [32:12<1:14:58, 128.52s/it]"
     ]
    },
    {
     "name": "stdout",
     "output_type": "stream",
     "text": [
      "-0.2326691909356216\n",
      "-0.11282626948109349\n"
     ]
    },
    {
     "name": "stderr",
     "output_type": "stream",
     "text": [
      "\r",
      " 32%|████████████▊                           | 16/50 [34:21<1:12:48, 128.48s/it]"
     ]
    },
    {
     "name": "stdout",
     "output_type": "stream",
     "text": [
      "-0.23279125548855284\n",
      "-0.11271157616769052\n"
     ]
    },
    {
     "name": "stderr",
     "output_type": "stream",
     "text": [
      "\r",
      " 34%|█████████████▌                          | 17/50 [36:29<1:10:39, 128.46s/it]"
     ]
    },
    {
     "name": "stdout",
     "output_type": "stream",
     "text": [
      "-0.23297264226621406\n",
      "-0.11286463590721459\n"
     ]
    },
    {
     "name": "stderr",
     "output_type": "stream",
     "text": [
      "\r",
      " 36%|██████████████▍                         | 18/50 [38:38<1:08:32, 128.52s/it]"
     ]
    },
    {
     "name": "stdout",
     "output_type": "stream",
     "text": [
      "-0.23310789227521048\n",
      "-0.11298831895420385\n"
     ]
    },
    {
     "name": "stderr",
     "output_type": "stream",
     "text": [
      "\r",
      " 38%|███████████████▏                        | 19/50 [40:46<1:06:22, 128.48s/it]"
     ]
    },
    {
     "name": "stdout",
     "output_type": "stream",
     "text": [
      "-0.23318771637422822\n",
      "-0.11290121511455638\n"
     ]
    },
    {
     "name": "stderr",
     "output_type": "stream",
     "text": [
      "\r",
      " 40%|████████████████                        | 20/50 [42:54<1:04:12, 128.42s/it]"
     ]
    },
    {
     "name": "stdout",
     "output_type": "stream",
     "text": [
      "-0.23304775739246258\n",
      "-0.11298308375191893\n"
     ]
    },
    {
     "name": "stderr",
     "output_type": "stream",
     "text": [
      "\r",
      " 42%|████████████████▊                       | 21/50 [45:03<1:02:09, 128.61s/it]"
     ]
    },
    {
     "name": "stdout",
     "output_type": "stream",
     "text": [
      "-0.23327914168280076\n",
      "-0.11307535042854364\n"
     ]
    },
    {
     "name": "stderr",
     "output_type": "stream",
     "text": [
      "\r",
      " 44%|██████████████████▍                       | 22/50 [47:11<59:56, 128.46s/it]"
     ]
    },
    {
     "name": "stdout",
     "output_type": "stream",
     "text": [
      "-0.23321140905707166\n",
      "-0.11315136840674579\n"
     ]
    },
    {
     "name": "stderr",
     "output_type": "stream",
     "text": [
      "\r",
      " 46%|███████████████████▎                      | 23/50 [49:20<57:44, 128.33s/it]"
     ]
    },
    {
     "name": "stdout",
     "output_type": "stream",
     "text": [
      "-0.23328833243458588\n",
      "-0.11313625760769377\n"
     ]
    },
    {
     "name": "stderr",
     "output_type": "stream",
     "text": [
      "\r",
      " 48%|████████████████████▏                     | 24/50 [51:28<55:34, 128.24s/it]"
     ]
    },
    {
     "name": "stdout",
     "output_type": "stream",
     "text": [
      "-0.2333401612740583\n",
      "-0.11317452077348289\n"
     ]
    },
    {
     "name": "stderr",
     "output_type": "stream",
     "text": [
      "\r",
      " 50%|█████████████████████                     | 25/50 [53:36<53:24, 128.19s/it]"
     ]
    },
    {
     "name": "stdout",
     "output_type": "stream",
     "text": [
      "-0.23343675230485134\n",
      "-0.11315008988187637\n"
     ]
    },
    {
     "name": "stderr",
     "output_type": "stream",
     "text": [
      "\r",
      " 52%|█████████████████████▊                    | 26/50 [55:44<51:15, 128.16s/it]"
     ]
    },
    {
     "name": "stdout",
     "output_type": "stream",
     "text": [
      "-0.23353683924487598\n",
      "-0.11321416306007692\n"
     ]
    },
    {
     "name": "stderr",
     "output_type": "stream",
     "text": [
      "\r",
      " 54%|██████████████████████▋                   | 27/50 [57:54<49:20, 128.73s/it]"
     ]
    },
    {
     "name": "stdout",
     "output_type": "stream",
     "text": [
      "-0.23355278085950357\n",
      "-0.11317583510305101\n"
     ]
    },
    {
     "name": "stderr",
     "output_type": "stream",
     "text": [
      "\r",
      " 56%|██████████████████████▍                 | 28/50 [1:00:08<47:50, 130.46s/it]"
     ]
    },
    {
     "name": "stdout",
     "output_type": "stream",
     "text": [
      "-0.23354112138367725\n",
      "-0.11316199279247607\n"
     ]
    },
    {
     "name": "stderr",
     "output_type": "stream",
     "text": [
      "\r",
      " 58%|███████████████████████▏                | 29/50 [1:02:22<45:58, 131.33s/it]"
     ]
    },
    {
     "name": "stdout",
     "output_type": "stream",
     "text": [
      "-0.23358160858163834\n",
      "-0.11316035123236032\n"
     ]
    },
    {
     "name": "stderr",
     "output_type": "stream",
     "text": [
      "\r",
      " 60%|████████████████████████                | 30/50 [1:04:32<43:41, 131.07s/it]"
     ]
    },
    {
     "name": "stdout",
     "output_type": "stream",
     "text": [
      "-0.23367360258988332\n",
      "-0.11326132870046773\n"
     ]
    },
    {
     "name": "stderr",
     "output_type": "stream",
     "text": [
      "\r",
      " 62%|████████████████████████▊               | 31/50 [1:06:43<41:32, 131.16s/it]"
     ]
    },
    {
     "name": "stdout",
     "output_type": "stream",
     "text": [
      "-0.23364140377649395\n",
      "-0.1132518765406654\n"
     ]
    },
    {
     "name": "stderr",
     "output_type": "stream",
     "text": [
      "\r",
      " 64%|█████████████████████████▌              | 32/50 [1:08:56<39:26, 131.50s/it]"
     ]
    },
    {
     "name": "stdout",
     "output_type": "stream",
     "text": [
      "-0.23367054925843445\n",
      "-0.11311259224359742\n"
     ]
    },
    {
     "name": "stderr",
     "output_type": "stream",
     "text": [
      "\r",
      " 66%|██████████████████████████▍             | 33/50 [1:11:06<37:11, 131.25s/it]"
     ]
    },
    {
     "name": "stdout",
     "output_type": "stream",
     "text": [
      "-0.23370101216908706\n",
      "-0.11322563775501199\n"
     ]
    },
    {
     "name": "stderr",
     "output_type": "stream",
     "text": [
      "\r",
      " 68%|███████████████████████████▏            | 34/50 [1:13:22<35:22, 132.67s/it]"
     ]
    },
    {
     "name": "stdout",
     "output_type": "stream",
     "text": [
      "-0.23383590000328489\n",
      "-0.11332145888622175\n"
     ]
    },
    {
     "name": "stderr",
     "output_type": "stream",
     "text": [
      "\r",
      " 70%|████████████████████████████            | 35/50 [1:15:34<33:07, 132.47s/it]"
     ]
    },
    {
     "name": "stdout",
     "output_type": "stream",
     "text": [
      "-0.23382389673410395\n",
      "-0.11328387791445242\n"
     ]
    },
    {
     "name": "stderr",
     "output_type": "stream",
     "text": [
      "\r",
      " 72%|████████████████████████████▊           | 36/50 [1:17:43<30:39, 131.38s/it]"
     ]
    },
    {
     "name": "stdout",
     "output_type": "stream",
     "text": [
      "-0.23385346326063985\n",
      "-0.11331288076072767\n"
     ]
    },
    {
     "name": "stderr",
     "output_type": "stream",
     "text": [
      "\r",
      " 74%|█████████████████████████████▌          | 37/50 [1:19:51<28:15, 130.41s/it]"
     ]
    },
    {
     "name": "stdout",
     "output_type": "stream",
     "text": [
      "-0.23389157554176668\n",
      "-0.11330308726629021\n"
     ]
    },
    {
     "name": "stderr",
     "output_type": "stream",
     "text": [
      "\r",
      " 76%|██████████████████████████████▍         | 38/50 [1:22:00<25:56, 129.74s/it]"
     ]
    },
    {
     "name": "stdout",
     "output_type": "stream",
     "text": [
      "-0.23383940746890872\n",
      "-0.11326892943776834\n"
     ]
    },
    {
     "name": "stderr",
     "output_type": "stream",
     "text": [
      "\r",
      " 78%|███████████████████████████████▏        | 39/50 [1:24:08<23:41, 129.27s/it]"
     ]
    },
    {
     "name": "stdout",
     "output_type": "stream",
     "text": [
      "-0.23398978558510883\n",
      "-0.11333962237263133\n"
     ]
    },
    {
     "name": "stderr",
     "output_type": "stream",
     "text": [
      "\r",
      " 80%|████████████████████████████████        | 40/50 [1:26:16<21:29, 128.92s/it]"
     ]
    },
    {
     "name": "stdout",
     "output_type": "stream",
     "text": [
      "-0.2339658867946436\n",
      "-0.11335144303121619\n"
     ]
    },
    {
     "name": "stderr",
     "output_type": "stream",
     "text": [
      "\r",
      " 82%|████████████████████████████████▊       | 41/50 [1:28:24<19:18, 128.69s/it]"
     ]
    },
    {
     "name": "stdout",
     "output_type": "stream",
     "text": [
      "-0.23394688496390795\n",
      "-0.11334304179994381\n"
     ]
    },
    {
     "name": "stderr",
     "output_type": "stream",
     "text": [
      "\r",
      " 84%|█████████████████████████████████▌      | 42/50 [1:30:32<17:08, 128.51s/it]"
     ]
    },
    {
     "name": "stdout",
     "output_type": "stream",
     "text": [
      "-0.2339081828746244\n",
      "-0.11332092531837452\n"
     ]
    },
    {
     "name": "stderr",
     "output_type": "stream",
     "text": [
      "\r",
      " 86%|██████████████████████████████████▍     | 43/50 [1:32:40<14:58, 128.39s/it]"
     ]
    },
    {
     "name": "stdout",
     "output_type": "stream",
     "text": [
      "-0.23399570094538247\n",
      "-0.11336450597214255\n"
     ]
    },
    {
     "name": "stderr",
     "output_type": "stream",
     "text": [
      "\r",
      " 88%|███████████████████████████████████▏    | 44/50 [1:34:48<12:49, 128.31s/it]"
     ]
    },
    {
     "name": "stdout",
     "output_type": "stream",
     "text": [
      "-0.23408379804280177\n",
      "-0.11334007508802031\n"
     ]
    },
    {
     "name": "stderr",
     "output_type": "stream",
     "text": [
      "\r",
      " 90%|████████████████████████████████████    | 45/50 [1:36:57<10:42, 128.41s/it]"
     ]
    },
    {
     "name": "stdout",
     "output_type": "stream",
     "text": [
      "-0.23405595110891714\n",
      "-0.11338184566982185\n"
     ]
    },
    {
     "name": "stderr",
     "output_type": "stream",
     "text": [
      "\r",
      " 92%|████████████████████████████████████▊   | 46/50 [1:39:05<08:33, 128.40s/it]"
     ]
    },
    {
     "name": "stdout",
     "output_type": "stream",
     "text": [
      "-0.23411638814922361\n",
      "-0.11337126192736421\n"
     ]
    },
    {
     "name": "stderr",
     "output_type": "stream",
     "text": [
      "\r",
      " 94%|█████████████████████████████████████▌  | 47/50 [1:41:13<06:24, 128.32s/it]"
     ]
    },
    {
     "name": "stdout",
     "output_type": "stream",
     "text": [
      "-0.2340524534636189\n",
      "-0.11338519032937926\n"
     ]
    },
    {
     "name": "stderr",
     "output_type": "stream",
     "text": [
      "\r",
      " 96%|██████████████████████████████████████▍ | 48/50 [1:43:22<04:16, 128.24s/it]"
     ]
    },
    {
     "name": "stdout",
     "output_type": "stream",
     "text": [
      "-0.23411374352363032\n",
      "-0.11338221236112907\n"
     ]
    },
    {
     "name": "stderr",
     "output_type": "stream",
     "text": [
      "\r",
      " 98%|███████████████████████████████████████▏| 49/50 [1:45:30<02:08, 128.24s/it]"
     ]
    },
    {
     "name": "stdout",
     "output_type": "stream",
     "text": [
      "-0.23405541374785568\n",
      "-0.1133788454920308\n"
     ]
    },
    {
     "name": "stderr",
     "output_type": "stream",
     "text": [
      "100%|████████████████████████████████████████| 50/50 [1:47:38<00:00, 129.17s/it]\n"
     ]
    }
   ],
   "source": [
    "for epoch in tqdm(range(epoch, total_epochs)):\n",
    "    ogn\n",
    "    total_loss = 0.0\n",
    "    i = 0\n",
    "    j = 0\n",
    "    num_items = 0\n",
    "    valid_loss = 0\n",
    "    valid_num_items = 0\n",
    "    while i < batch_per_epoch:\n",
    "        for ginput in trainloader:\n",
    "            if i >= batch_per_epoch:\n",
    "                break\n",
    "            opt.zero_grad()\n",
    "            ginput.x = ginput.x\n",
    "            ginput.y = ginput.y\n",
    "            ginput.edge_index = ginput.edge_index\n",
    "            ginput.batch = ginput.batch\n",
    "            loss = ogn.loss(ginput)\n",
    "            loss.backward()\n",
    "            opt.step()\n",
    "            sched.step()\n",
    "\n",
    "            total_loss += loss.item()\n",
    "            i += 1\n",
    "            num_items += int(ginput.batch[-1]+1)\n",
    "    \n",
    "    ogn.eval()\n",
    "    with torch.no_grad():\n",
    "        while j < batch_per_epoch:\n",
    "            for ginput in testloader:\n",
    "                if j>= batch_per_epoch:\n",
    "                    break\n",
    "                ginput.x = ginput.x\n",
    "                ginput.y = ginput.y\n",
    "                ginput.edge_index = ginput.edge_index\n",
    "                ginput.batch = ginput.batch\n",
    "                loss = ogn.loss(ginput)#/int(ginput.batch[-1]+1)\n",
    "                valid_loss += loss.item()\n",
    "                valid_num_items += int(ginput.batch[-1]+1)\n",
    "                j += 1\n",
    "\n",
    "\n",
    "\n",
    "    cur_loss = total_loss/num_items\n",
    "    cur_valid_loss = valid_loss/valid_num_items\n",
    "    print(cur_loss)\n",
    "    print(cur_valid_loss)\n",
    "    cur_msgs = get_messages(ogn)\n",
    "    cur_selfdyn = get_selfDynamics(ogn)\n",
    "    cur_diff = get_diffusion(ogn)\n",
    "    cur_msgs['epoch'] = epoch\n",
    "    cur_msgs['loss'] = cur_loss\n",
    "    messages_over_time.append(cur_msgs)\n",
    "    selfDyn_over_time.append(cur_selfdyn)\n",
    "    diffusion_over_time.append(cur_diff)\n",
    "    \n",
    "    ogn.cpu()\n",
    "    from copy import deepcopy as copy\n",
    "    recorded_models.append(copy(ogn.state_dict()))"
   ]
  },
  {
   "cell_type": "code",
   "execution_count": 44,
   "id": "2fbd3e8c",
   "metadata": {},
   "outputs": [],
   "source": [
    "diffusion = diffusion_over_time[-1]\n",
    "diffusion = pd.DataFrame(diffusion)\n",
    "diffusion_new = pd.DataFrame.drop_duplicates(diffusion, subset=None, keep='first', inplace=False)\n",
    "import numpy as np\n",
    "import pandas as pd\n",
    "import matplotlib.pyplot as plt\n",
    "%matplotlib inline\n",
    "\n",
    "s = diffusion_new['d1']/np.sqrt(0.01) # diffusion is sqrt(h)*theta(x0) \n",
    "# fig = plt.figure(figsize = (10,6))\n",
    "# ax1 = fig.add_subplot(2,1,1)\n",
    "# #ax1.scatter(s.index, s.values)\n",
    "# ax1.plot(s.index, s.values,'.')\n",
    "# plt.grid()\n",
    " \n",
    "# ax2 = fig.add_subplot(2,1,2) \n",
    "# s.hist(bins=30,alpha = 0.5,ax = ax2)\n",
    "# s.plot(kind = 'kde', secondary_y=True,ax = ax2)\n",
    "# plt.title('The standard deviation distribusion')\n",
    "# plt.grid()"
   ]
  },
  {
   "cell_type": "code",
   "execution_count": null,
   "id": "77b65d5b",
   "metadata": {},
   "outputs": [],
   "source": []
  },
  {
   "cell_type": "code",
   "execution_count": 45,
   "id": "37a16310",
   "metadata": {},
   "outputs": [],
   "source": [
    "s1 = (diffusion['x'].abs())*0.1 # diffusion is sqrt(h)*theta(x0) \n",
    "# fig = plt.figure(figsize = (10,6))\n",
    "# ax1 = fig.add_subplot(2,1,1)\n",
    "# ax2 = fig.add_subplot(2,1,2) \n",
    "# s1.hist(bins=30,alpha = 0.5,ax = ax2)\n",
    "# s1.plot(kind = 'kde', secondary_y=True,ax = ax2)\n",
    "# plt.title('The standard deviation distribusion')\n",
    "# plt.grid()"
   ]
  },
  {
   "cell_type": "code",
   "execution_count": 46,
   "id": "51d44b6f",
   "metadata": {},
   "outputs": [],
   "source": [
    "import seaborn as sns\n",
    "import numpy as np\n",
    "from numpy.random import randn\n",
    "import matplotlib as mpl\n",
    "import matplotlib.pyplot as plt\n",
    "from scipy import stats\n",
    " \n",
    "sns.set_palette('deep', desat=.6)\n",
    "sns.set_context(rc={'figure.figsize': (8, 5) } )\n",
    "np.random.seed(1425)"
   ]
  },
  {
   "cell_type": "code",
   "execution_count": 47,
   "id": "48595e65",
   "metadata": {},
   "outputs": [],
   "source": [
    "s2 = diffusion_new['d2']/np.sqrt(0.01)\n",
    "s3 = (diffusion['y'].abs())*0.1 \n",
    "s4 = diffusion_new['d3']/np.sqrt(0.01)\n",
    "s5 = (diffusion['z'].abs())*0.1 "
   ]
  },
  {
   "cell_type": "code",
   "execution_count": 48,
   "id": "066087ed",
   "metadata": {},
   "outputs": [],
   "source": [
    "from matplotlib import colors as mcolors\n",
    "colors = dict(mcolors.BASE_COLORS, **mcolors.CSS4_COLORS)"
   ]
  },
  {
   "cell_type": "code",
   "execution_count": 188,
   "id": "55cd74b8",
   "metadata": {},
   "outputs": [
    {
     "data": {
      "image/png": "[encoded data removed]",
      "text/plain": [
       "<Figure size 792x216 with 3 Axes>"
      ]
     },
     "metadata": {
      "needs_background": "light"
     },
     "output_type": "display_data"
    }
   ],
   "source": [
    "f, (ax1, ax2, ax3) = plt.subplots(1, 3, sharex=False, figsize=(11, 3))\n",
    "c1, c2, c3 = sns.color_palette('Set1', 3)\n",
    "import matplotlib as mpl\n",
    "mpl.rcParams['pdf.fonttype'] = 42\n",
    "mpl.rcParams['ps.fonttype'] = 42\n",
    "\n",
    "sns.kdeplot(s, shade=True, color=colors['plum'], label='dist1', ax=ax1)\n",
    "sns.kdeplot(s2, shade=True, color=colors['gold'], label='dist1', ax=ax2)\n",
    "sns.kdeplot(s4, shade=True, color=colors['skyblue'], label='dist1', ax=ax3)\n",
    "sns.kdeplot(s1, shade=False, color=colors['mediumvioletred'], label='dist2',ax=ax1)\n",
    "sns.kdeplot(s3, shade=False, color=colors['darkorange'], label='dist2',ax=ax2)\n",
    "sns.kdeplot(s5, shade=False, color=colors['royalblue'], label='dist2',ax=ax3)\n",
    "\n",
    "#plt.xlim([0, 1.5])\n",
    "#plt.ylim([0, 0.11])\n",
    "plt.savefig('/Users/lanag/Library/CloudStorage/OneDrive-个人/Project2-StochasticDynamics/StochasticHindmarshRose/Figures/HR_10I_diffusion_fig.pdf')"
   ]
  },
  {
   "cell_type": "code",
   "execution_count": 276,
   "id": "85e3f488",
   "metadata": {},
   "outputs": [
    {
     "data": {
      "image/png": "[encoded data removed]",
      "text/plain": [
       "<Figure size 216x216 with 1 Axes>"
      ]
     },
     "metadata": {
      "needs_background": "light"
     },
     "output_type": "display_data"
    }
   ],
   "source": [
    "fig = plt.figure(figsize=(3, 3))\n",
    "ax1 = fig.add_subplot(1,1,1)\n",
    "c1, c2, c3 = sns.color_palette('Set1', 3)\n",
    "mpl.rcParams['pdf.fonttype'] = 42\n",
    "mpl.rcParams['ps.fonttype'] = 42\n",
    "\n",
    "sns.kdeplot(s, shade=True, color=colors['plum'], label='dist1', ax=ax1,lw=1)\n",
    "#sns.kdeplot(s1, shade=True, color=colors['plum'], label='dist2',ax=ax1)\n",
    "sns.kdeplot(s2, shade=True, color=colors['gold'], label='dist1', ax=ax1,lw=1)\n",
    "#sns.kdeplot(s3, shade=True, color=colors['mistyrose'], label='dist2',ax=ax1)\n",
    "sns.kdeplot(s4, shade=True, color=colors['royalblue'], label='dist1', ax=ax1,lw=1)\n",
    "#sns.kdeplot(s5, shade=True, color=colors['skyblue'], label='dist2',ax=ax1)\n",
    "\n",
    "sns.kdeplot(s1, shade=False, color=colors['mediumvioletred'], label='dist2',ax=ax1,lw=2)\n",
    "sns.kdeplot(s3, shade=False, color=colors['darkorange'], label='dist2',ax=ax1,lw=2)\n",
    "sns.kdeplot(s5, shade=False, color=colors['navy'], label='dist2',ax=ax1,lw=2)\n",
    "plt.xlim([0, 1])\n",
    "#plt.ylim([0, 0.11])\n",
    "plt.savefig('/Users/lanag/Library/CloudStorage/OneDrive-个人/Project2-StochasticDynamics/StochasticHindmarshRose/Figures/HR_10I_diffusion_all.pdf')"
   ]
  },
  {
   "cell_type": "code",
   "execution_count": 273,
   "id": "568958fc",
   "metadata": {},
   "outputs": [
    {
     "data": {
      "image/png": "[encoded data removed]",
      "text/plain": [
       "<Figure size 864x216 with 3 Axes>"
      ]
     },
     "metadata": {
      "needs_background": "light"
     },
     "output_type": "display_data"
    }
   ],
   "source": [
    "f, (ax1, ax2, ax3) = plt.subplots(1, 3, sharex=False, figsize=(12, 3))\n",
    "c1, c2, c3 = sns.color_palette('Set1', 3)\n",
    "mpl.rcParams['pdf.fonttype'] = 42\n",
    "mpl.rcParams['ps.fonttype'] = 42\n",
    "cmap = mpl.cm.get_cmap(\"RdPu\")\n",
    "cmap1 = mpl.cm.get_cmap(\"Oranges\")\n",
    "cmap2 = mpl.cm.get_cmap(\"Blues\")\n",
    "for i in range(total_epochs):#total_epochs\n",
    "    diffusion = diffusion_over_time[i]\n",
    "    diffusion = pd.DataFrame(diffusion)\n",
    "    diffusion_new = pd.DataFrame.drop_duplicates(diffusion, subset=None, keep='first', inplace=False)\n",
    "    s = diffusion_new['d1']/np.sqrt(0.01)\n",
    "    s2 = diffusion_new['d2']/np.sqrt(0.01)\n",
    "    s3 = (diffusion['y'].abs())*0.1 \n",
    "    s4 = diffusion_new['d3']/np.sqrt(0.01)\n",
    "    s5 = (diffusion['z'].abs())*0.1\n",
    "    sns.kdeplot(s, shade=True, color=cmap(np.linspace(0, 1, total_epochs*2))[i+10], label='dist1', ax=ax1,lw=1)\n",
    "    sns.kdeplot(s2, shade=True, color=cmap1(np.linspace(0, 1, total_epochs*2))[i+10], label='dist1', ax=ax2,lw=1)\n",
    "    sns.kdeplot(s4, shade=True, color=cmap2(np.linspace(0, 1, total_epochs*2))[i+10], label='dist1', ax=ax3,lw=1)\n",
    "sns.kdeplot(s1, shade=False, color=cmap(np.linspace(0, 1, total_epochs*2))[-1], label='dist2',ax=ax1,lw=2)\n",
    "sns.kdeplot(s3, shade=False, color=cmap1(np.linspace(0, 1, total_epochs*2))[-1], label='dist2',ax=ax2,lw=2)\n",
    "sns.kdeplot(s5, shade=False, color=cmap2(np.linspace(0, 1, total_epochs*2))[-1], label='dist2',ax=ax3,lw=2)\n",
    "#ax1.set_xlim([0,4])\n",
    "#ax2.set_xlim([0,])\n",
    "#ax3.set_xlim([0,2])\n",
    "plt.savefig('/Users/lanag/Library/CloudStorage/OneDrive-个人/Project2-StochasticDynamics/StochasticHindmarshRose/Figures/HR_10I_diffusion_epoch_50.pdf')"
   ]
  },
  {
   "cell_type": "code",
   "execution_count": 51,
   "id": "95e72913",
   "metadata": {},
   "outputs": [
    {
     "data": {
      "text/plain": [
       "Text(0, 0.5, 'Inferred diffusion z')"
      ]
     },
     "execution_count": 51,
     "metadata": {},
     "output_type": "execute_result"
    },
    {
     "data": {
      "image/png": "[encoded data removed]",
      "text/plain": [
       "<Figure size 1296x360 with 3 Axes>"
      ]
     },
     "metadata": {
      "needs_background": "light"
     },
     "output_type": "display_data"
    }
   ],
   "source": [
    "plt.rcParams.update({'font.size': 12}) \n",
    "plt.rcParams.update({'font.style': 'normal'})\n",
    "plt.rcParams.update({'font.family': 'Arial'})\n",
    "\n",
    "\n",
    "diffusion = diffusion_over_time[-1]\n",
    "diffusion = pd.DataFrame(diffusion)\n",
    "sx = diffusion['d1'].values/np.sqrt(0.01)\n",
    "sx_true = np.abs(diffusion['x'].values)*0.1\n",
    "sy = diffusion['d2'].values/np.sqrt(0.01)\n",
    "sy_true = np.abs(diffusion['y'])*0.1\n",
    "sz = diffusion['d3'].values/np.sqrt(0.01)\n",
    "sz_true = np.abs(diffusion['z'])*0.1\n",
    "\n",
    "sx = sx[0:5000]\n",
    "sx_true = sx_true[0:5000]\n",
    "sy = sy[0:5000]\n",
    "sy_true = sy_true[0:5000]\n",
    "sz = sz[0:5000]\n",
    "sz_true = sz_true[0:5000]\n",
    "\n",
    "fig = plt.figure(figsize=(18, 5))\n",
    "ax1 = fig.add_subplot(1,3,1)\n",
    "plt.title(\"true diffusion x dimension vs. inferred\")\n",
    "plt.subplots_adjust(left=None, bottom=None, right=None, top=None, wspace=None, hspace=0.5)\n",
    "ax1.plot((0, 1), (0, 1), transform=ax1.transAxes, ls='--',c='k', label=\"1:1 line\")\n",
    "parameterx = np.polyfit(sx_true,sx,1)\n",
    "fx = np.poly1d(parameterx)\n",
    "ax1.plot(sx_true,fx(sx_true),c = '#ff9999', lw=1.5)\n",
    "\n",
    "ax1.scatter(sx_true,sx,s=20,c ='steelblue', alpha=0.2)\n",
    "#sb.regplot(sx_true,sx, fit_reg = Fals,\n",
    "           #x_jitter = 1e-5, y_jitter = 1e-5, scatter_kws = {'alpha' : 1/3})\n",
    "corrx = np.corrcoef(sx_true,sx)[0,1]\n",
    "bbox = dict(fc='1',alpha=0.5)\n",
    "plt.text(0.05, 0.9, '$R^2=%.2f$' % (corrx**2), transform=ax1.transAxes, size=10, bbox=bbox)\n",
    "plt.xlabel(\"True diffusion x\")\n",
    "plt.ylabel(\"Inferred diffusion x\")\n",
    "\n",
    "ax2 = fig.add_subplot(1,3,2)\n",
    "plt.title(\"true diffusion y dimension vs. inferred\")\n",
    "plt.subplots_adjust(left=None, bottom=None, right=None, top=None, wspace=None, hspace=0.5)\n",
    "ax2.scatter(sy_true,sy,s=20,c ='steelblue', alpha=0.2)\n",
    "ax2.plot((0, 1), (0, 1), transform=ax2.transAxes, ls='--',c='k', label=\"1:1 line\")\n",
    "parametery = np.polyfit(sy_true,sy,1)\n",
    "fy = np.poly1d(parametery)\n",
    "ax2.plot(sy_true,fy(sy_true),c = '#ff9999', lw=1.5)\n",
    "corry = np.corrcoef(sy_true,sy)[0,1]\n",
    "bbox = dict(fc='1',alpha=0.5)\n",
    "plt.text(0.05, 0.9, '$R^2=%.2f$' % (corry**2), transform=ax2.transAxes, size=10, bbox=bbox)\n",
    "plt.xlabel(\"True diffusion y\")\n",
    "plt.ylabel(\"Inferred diffusion y\")\n",
    "\n",
    "ax3 = fig.add_subplot(1,3,3)\n",
    "plt.title(\"true diffusion z dimension vs. inferred\")\n",
    "plt.subplots_adjust(left=None, bottom=None, right=None, top=None, wspace=None, hspace=0.5)\n",
    "ax3.scatter(sz_true,sz,s=20,c ='steelblue', alpha=0.2)\n",
    "ax3.plot((0, 1), (0, 1), transform=ax3.transAxes, ls='--',c='k', label=\"1:1 line\")\n",
    "parameterz = np.polyfit(sz_true,sz,1)\n",
    "fz = np.poly1d(parameterz)\n",
    "ax3.plot(sz_true,fx(sz_true),c = '#ff9999', lw=1.5)\n",
    "corrz = np.corrcoef(sz_true,sz)[0,1]\n",
    "bbox = dict(fc='1',alpha=0.5)\n",
    "plt.text(0.05, 0.9, '$R^2=%.2f$' % (corrz**2), transform=ax3.transAxes, size=10, bbox=bbox)\n",
    "plt.xlabel(\"True diffusion z\")\n",
    "plt.ylabel(\"Inferred diffusion z\")"
   ]
  },
  {
   "cell_type": "code",
   "execution_count": 261,
   "id": "661732cd",
   "metadata": {},
   "outputs": [
    {
     "data": {
      "text/plain": [
       "<All keys matched successfully>"
      ]
     },
     "execution_count": 261,
     "metadata": {},
     "output_type": "execute_result"
    }
   ],
   "source": [
    "ogn.cpu()\n",
    "ogn.load_state_dict(recorded_models[18])"
   ]
  },
  {
   "cell_type": "code",
   "execution_count": 262,
   "id": "5b9edf02",
   "metadata": {},
   "outputs": [],
   "source": [
    "X = torch.as_tensor(np.array(mapping_data).astype('float'))\n",
    "y = torch.as_tensor(np.array(goal_data).astype('float'))\n",
    "x_Update = []\n",
    "y_Update = []\n",
    "z_Update = []\n",
    "for i in range(5000):#X.shape[0]\n",
    "    _q = Data(\n",
    "        x=X[i].float(),\n",
    "        edge_index=edge_index,\n",
    "        y=y[i].float())\n",
    "    x_tmp, y_tmp, z_tmp = ogn.average_trajectories(_q)\n",
    "    X_tmp = torch.cat((x_tmp,y_tmp,z_tmp), 1)\n",
    "    if i < X.shape[0]-2:\n",
    "        X[i+1] = X_tmp\n",
    "    else:\n",
    "        break\n",
    "    x_Update.append(x_tmp.reshape(1,-1))\n",
    "    y_Update.append(y_tmp.reshape(1,-1))\n",
    "    z_Update.append(z_tmp.reshape(1,-1))   \n",
    "x_i = torch.stack(x_Update, dim=0).reshape(-1,Num_nodes)\n",
    "y_i = torch.stack(y_Update, dim=0).reshape(-1,Num_nodes)\n",
    "z_i = torch.stack(z_Update, dim=0).reshape(-1,Num_nodes)"
   ]
  },
  {
   "cell_type": "code",
   "execution_count": 274,
   "id": "153682a1",
   "metadata": {},
   "outputs": [
    {
     "data": {
      "image/png": "[encoded data removed]",
      "text/plain": [
       "<Figure size 1152x252 with 3 Axes>"
      ]
     },
     "metadata": {
      "needs_background": "light"
     },
     "output_type": "display_data"
    }
   ],
   "source": [
    "time1 = pd.read_csv('/Users/lanag/Library/CloudStorage/OneDrive-个人/Project2-StochasticDynamics/StochasticHindmarshRose/HR_determ_intensity01_10I.csv',encoding='utf-8',header=None)\n",
    "plt.rcParams.update({'font.size': 12}) \n",
    "plt.rcParams.update({'font.style': 'normal'})\n",
    "plt.rcParams.update({'font.family': 'Arial'})\n",
    "mpl.rcParams['pdf.fonttype'] = 42\n",
    "mpl.rcParams['ps.fonttype'] = 42\n",
    "#plt.rcParams['savefig.dpi'] = 300 \n",
    "#plt.rcParams['figure.dpi'] = 300\n",
    "x_tra = x_i.detach().numpy()[0:1000,0]\n",
    "x_real = time1.iloc[:,0]\n",
    "fig = plt.figure(figsize=(16,3.5))\n",
    "ax1 = fig.add_subplot(1,3,1)\n",
    "t = np.arange(0,x_tra.shape[0])\n",
    "ax1.plot(t,x_tra,c='steelblue',label=\"inferred\")\n",
    "ax1.plot(t, x_real[1:x_tra.shape[0]+1,],c='darkblue',label=\"real\")\n",
    "plt.ylabel('real vs inferred trajectory of dimension x')\n",
    "plt.legend()\n",
    "\n",
    "ax2 = fig.add_subplot(1,3,2)\n",
    "y_tra = y_i.detach().numpy()[0:1000,0]\n",
    "y_real = time1.iloc[:,1]\n",
    "t = np.arange(0,y_tra.shape[0])\n",
    "ax2.plot(t,y_tra,c='steelblue',label=\"inferred\")\n",
    "ax2.plot(t, y_real[1:y_tra.shape[0]+1,],c='darkblue',label=\"real\")\n",
    "plt.ylabel('real vs inferred trajectory of dimension y')\n",
    "plt.legend()\n",
    "\n",
    "ax3 = fig.add_subplot(1,3,3)\n",
    "z_tra = z_i.detach().numpy()[0:1000,0]\n",
    "z_real = time1.iloc[:,2]\n",
    "t = np.arange(0,z_tra.shape[0])\n",
    "ax3.plot(t,z_tra,c='steelblue',label=\"inferred\")\n",
    "ax3.plot(t, z_real[1:z_tra.shape[0]+1,],c='darkblue',label=\"real\")\n",
    "plt.ylabel('real vs inferred trajectory of dimension z')\n",
    "plt.legend()\n",
    "plt.savefig('/Users/lanag/OneDrive/Project2-StochasticDynamics/StochasticHindmarshRose/Figures/HR_10I_trajectory.png')\n",
    "#plt.show()\n",
    "#plt.close()\n",
    "#plt.savefig('HRtrajectory.pdf')"
   ]
  },
  {
   "cell_type": "code",
   "execution_count": 227,
   "id": "dd310aca",
   "metadata": {},
   "outputs": [
    {
     "data": {
      "image/png": "[encoded data removed]",
      "text/plain": [
       "<Figure size 1152x252 with 3 Axes>"
      ]
     },
     "metadata": {
      "needs_background": "light"
     },
     "output_type": "display_data"
    }
   ],
   "source": [
    "time1 = pd.read_csv('/Users/lanag/Library/CloudStorage/OneDrive-个人/Project2-StochasticDynamics/StochasticHindmarshRose/HR_determ_intensity01_10I.csv',encoding='utf-8',header=None)\n",
    "plt.rcParams.update({'font.size': 12}) \n",
    "plt.rcParams.update({'font.style': 'normal'})\n",
    "plt.rcParams.update({'font.family': 'Arial'})\n",
    "fig = plt.figure(figsize=(16,3.5))\n",
    "ax1 = fig.add_subplot(1,3,1)\n",
    "ax2 = fig.add_subplot(1,3,2)\n",
    "ax3 = fig.add_subplot(1,3,3)\n",
    "cmap = mpl.cm.get_cmap(\"GnBu\")\n",
    "for j in range(total_epochs):\n",
    "    ogn1 = SDI_Difftype(model,n_f, msg_dim, dim, delt_t, Type, hidden=hidden, edge_index=edge_index , aggr=aggr)\n",
    "    ogn1.load_state_dict(recorded_models[j])\n",
    "    X = torch.as_tensor(np.array(mapping_data).astype('float'))\n",
    "    y = torch.as_tensor(np.array(goal_data).astype('float'))\n",
    "    x_Update = []\n",
    "    y_Update = []\n",
    "    z_Update = []\n",
    "    for i in range(500):#X.shape[0]\n",
    "        _q = Data(\n",
    "            x=X[i].float(),\n",
    "            edge_index=edge_index,\n",
    "            y=y[i].float())\n",
    "        x_tmp, y_tmp, z_tmp = ogn1.average_trajectories(_q)\n",
    "        X_tmp = torch.cat((x_tmp,y_tmp,z_tmp), 1)\n",
    "        if i < X.shape[0]-2:\n",
    "            X[i+1] = X_tmp\n",
    "        else:\n",
    "            break\n",
    "        x_Update.append(x_tmp.reshape(1,-1))\n",
    "        y_Update.append(y_tmp.reshape(1,-1))\n",
    "        z_Update.append(z_tmp.reshape(1,-1))   \n",
    "    x_i = torch.stack(x_Update, dim=0).reshape(-1,Num_nodes)\n",
    "    y_i = torch.stack(y_Update, dim=0).reshape(-1,Num_nodes)\n",
    "    z_i = torch.stack(z_Update, dim=0).reshape(-1,Num_nodes)\n",
    "    x_tra = x_i.detach().numpy()[0:400,0]\n",
    "    x_real = time1.iloc[:,0]\n",
    "\n",
    "    t = np.arange(0,x_tra.shape[0])\n",
    "    ax1.plot(t,x_tra,c=cmap(np.linspace(0, 1, total_epochs))[j],label=\"inferred\",lw=2)\n",
    "    #ax1.plot(t, x_real[1:x_tra.shape[0]+1,],c='darkblue',label=\"real\")\n",
    "    #plt.ylabel('real vs inferred trajectory of dimension x')\n",
    "    #plt.legend()\n",
    "\n",
    "    #ax2 = fig.add_subplot(1,3,2)\n",
    "    y_tra = y_i.detach().numpy()[0:400,0]\n",
    "    y_real = time1.iloc[:,1]\n",
    "    t = np.arange(0,y_tra.shape[0])\n",
    "    ax2.plot(t,y_tra,c=cmap(np.linspace(0, 1, total_epochs))[j],label=\"inferred\",lw=2)\n",
    "    #ax2.plot(t, y_real[1:y_tra.shape[0]+1,],c='darkblue',label=\"real\")\n",
    "    #plt.ylabel('real vs inferred trajectory of dimension y')\n",
    "    #plt.legend()\n",
    "\n",
    "    #ax3 = fig.add_subplot(1,3,3)\n",
    "    z_tra = z_i.detach().numpy()[0:400,0]\n",
    "    z_real = time1.iloc[:,2]\n",
    "    t = np.arange(0,z_tra.shape[0])\n",
    "    ax3.plot(t,z_tra,c=cmap(np.linspace(0, 1, total_epochs))[j],label=\"inferred\",lw=2)\n",
    "    #ax3.plot(t, z_real[1:z_tra.shape[0]+1,],c='darkblue',label=\"real\")\n",
    "    #plt.ylabel('real vs inferred trajectory of dimension z')\n",
    "    #plt.legend()\n",
    "ax1.plot(t, x_real[1:x_tra.shape[0]+1,],c='darkblue',label=\"real\",linestyle='dashed')\n",
    "ax2.plot(t, y_real[1:y_tra.shape[0]+1,],c='darkblue',label=\"real\",linestyle='dashed')\n",
    "ax3.plot(t, z_real[1:z_tra.shape[0]+1,],c='darkblue',label=\"real\",linestyle='dashed')\n",
    "plt.savefig('/Users/lanag/Library/CloudStorage/OneDrive-个人/Project2-StochasticDynamics/StochasticHindmarshRose/Figures/HR_10I_traj_50epoch.pdf')"
   ]
  },
  {
   "cell_type": "code",
   "execution_count": 228,
   "id": "6f97d832",
   "metadata": {},
   "outputs": [],
   "source": [
    "#cmap = mpl.cm.get_cmap(\"coolwarm\")\n",
    "#cmap"
   ]
  },
  {
   "cell_type": "code",
   "execution_count": 194,
   "id": "e1624ec3",
   "metadata": {},
   "outputs": [],
   "source": [
    "best_message = np.argmax([np.std(messages_over_time[-1]['e%d'%(i,)]) for i in range(msg_dim)])"
   ]
  },
  {
   "cell_type": "code",
   "execution_count": 200,
   "id": "81d77ddd",
   "metadata": {},
   "outputs": [],
   "source": [
    "bestMe = messages_over_time[-1][['e%d'%(best_message),'x1','x2','T']]"
   ]
  },
  {
   "cell_type": "code",
   "execution_count": 201,
   "id": "50a3ffb3",
   "metadata": {},
   "outputs": [],
   "source": [
    "coup_value = 0.15*(2-bestMe['x1'].values)/(1+np.exp(-10*(bestMe['x2'].values-1))) # x1 (x_i) is target, x2 (x_j) is source \n",
    "coup_value_inh = 0.15*(-1.5-bestMe['x1'].values)/(1+np.exp(-10*(bestMe['x2'].values-1))) #np.sin(bestMe['x2'].values-bestMe['x1'].values)"
   ]
  },
  {
   "cell_type": "code",
   "execution_count": 202,
   "id": "52135816",
   "metadata": {},
   "outputs": [],
   "source": [
    "# indexs = np.argwhere(bestMe['T'].values<0)\n",
    "# for i in range(indexs.shape[0]):\n",
    "#     #print(coup_value[indexs[i][0]],coup_value_inh[indexs[i][0]])\n",
    "#     coup_value[indexs[i][0]] = coup_value_inh[indexs[i][0]]"
   ]
  },
  {
   "cell_type": "code",
   "execution_count": 203,
   "id": "48a9ff80",
   "metadata": {},
   "outputs": [],
   "source": [
    "T = bestMe['T'].values\n",
    "T_excit = np.where(T>0,T,0)\n",
    "T_inh = np.where(T<0,-T,0)\n",
    "\n",
    "coup_value = coup_value*T_excit+coup_value_inh*T_inh"
   ]
  },
  {
   "cell_type": "code",
   "execution_count": 238,
   "id": "e1f25ac4",
   "metadata": {},
   "outputs": [
    {
     "data": {
      "image/png": "[encoded data removed]",
      "text/plain": [
       "<Figure size 360x360 with 1 Axes>"
      ]
     },
     "metadata": {
      "needs_background": "light"
     },
     "output_type": "display_data"
    }
   ],
   "source": [
    "plt.rcParams.update({'font.size': 10}) \n",
    "plt.rcParams.update({'font.style': 'normal'})\n",
    "plt.rcParams.update({'font.family': 'Arial'})\n",
    "mpl.rcParams['pdf.fonttype'] = 42\n",
    "mpl.rcParams['ps.fonttype'] = 42\n",
    "temp = bestMe.iloc[:,0].values\n",
    "coup_value = coup_value[:10000]\n",
    "temp = temp[:10000]\n",
    "\n",
    "fig = plt.figure(figsize=(5, 5))\n",
    "ax = fig.add_subplot(1,1,1)\n",
    "ax.scatter(coup_value,temp,s=10,c ='dimgrey', alpha=0.2)\n",
    "ax.plot((0, 1), (0, 1), transform=ax.transAxes, ls='--',c='k', label=\"1:1 line\")\n",
    "parameter = np.polyfit(coup_value,temp,1)\n",
    "f = np.poly1d(parameter)\n",
    "ax.plot(coup_value,f(coup_value),c = 'k', lw=2)\n",
    "corr = np.corrcoef(coup_value,temp)[0,1]\n",
    "bbox = dict(fc='1',alpha=0.5)\n",
    "plt.text(0.05, 0.9, '$R^2=%.2f$' % (corr**2),transform=ax.transAxes, size=12, bbox=bbox)\n",
    "plt.title('Relation-20stochastic_Hindmarsh')\n",
    "plt.xlabel(\"True coupling values\")\n",
    "plt.ylabel(\"Inferred value from message passing layer\")\n",
    "plt.xlim([-0.7, 0.8])\n",
    "plt.ylim([-0.7, 0.8])\n",
    "plt.savefig('/Users/lanag/Library/CloudStorage/OneDrive-个人/Project2-StochasticDynamics/StochasticHindmarshRose/Figures/HR_10I_coupling_dimgrey.pdf')\n"
   ]
  },
  {
   "cell_type": "code",
   "execution_count": null,
   "id": "a4bc02a1",
   "metadata": {},
   "outputs": [],
   "source": []
  },
  {
   "cell_type": "code",
   "execution_count": 268,
   "id": "d0ed01f9",
   "metadata": {},
   "outputs": [],
   "source": [
    "best_selfDyn = selfDyn_over_time[-1]\n",
    "best_selfDyn = pd.DataFrame(best_selfDyn)"
   ]
  },
  {
   "cell_type": "code",
   "execution_count": 269,
   "id": "f6062460",
   "metadata": {},
   "outputs": [],
   "source": [
    "import random\n",
    "R = random.sample(range(0,len(best_selfDyn['s2'])),5000) "
   ]
  },
  {
   "cell_type": "code",
   "execution_count": 270,
   "id": "86d32628",
   "metadata": {},
   "outputs": [
    {
     "data": {
      "text/plain": [
       "Text(0, 0.5, 'Inferred self z')"
      ]
     },
     "execution_count": 270,
     "metadata": {},
     "output_type": "execute_result"
    },
    {
     "data": {
      "image/png": "[encoded data removed]",
      "text/plain": [
       "<Figure size 1296x360 with 3 Axes>"
      ]
     },
     "metadata": {
      "needs_background": "light"
     },
     "output_type": "display_data"
    }
   ],
   "source": [
    "# gamma = 0.03\n",
    "# sx = best_selfDyn['s1'].values\n",
    "# sx_true = 10*best_selfDyn['y']-(10+2/gamma)*best_selfDyn['x']\n",
    "# sy = best_selfDyn['s2'].values\n",
    "# sy_true = (28-best_selfDyn['z'])*best_selfDyn['x']-(1+2/gamma)*best_selfDyn['y']\n",
    "# sz = best_selfDyn['s3'].values\n",
    "# sz_true = best_selfDyn['x']*best_selfDyn['y']-(8/3+4/gamma)*best_selfDyn['z']\n",
    "\n",
    "plt.rcParams.update({'font.size': 12}) \n",
    "plt.rcParams.update({'font.style': 'normal'})\n",
    "plt.rcParams.update({'font.family': 'Arial'})\n",
    "sx = best_selfDyn['s1'].values\n",
    "sx_true = best_selfDyn['y']-best_selfDyn['x']**3+3*best_selfDyn['x']**2-best_selfDyn['z']+3.24\n",
    "sy = best_selfDyn['s2'].values\n",
    "sy_true = 1-5*best_selfDyn['x']**2-best_selfDyn['y']\n",
    "sz = best_selfDyn['s3'].values\n",
    "sz_true = 0.005*(4*(best_selfDyn['x']+1.6)-best_selfDyn['z'])\n",
    "sx = sx[R]\n",
    "sx_true = sx_true[R]\n",
    "sy = sy[R]\n",
    "sy_true = sy_true[R]\n",
    "sz = sz[R]\n",
    "sz_true = sz_true[R]\n",
    "\n",
    "fig = plt.figure(figsize=(18, 5))\n",
    "ax1 = fig.add_subplot(1,3,1)\n",
    "plt.title(\"true self- x dimension vs. inferred\",fontsize=10)\n",
    "plt.subplots_adjust(left=None, bottom=None, right=None, top=None, wspace=None, hspace=0.5)\n",
    "ax1.scatter(sx_true,sx,s=10,c ='dimgrey', alpha=0.2)\n",
    "ax1.plot((0, 1), (0, 1), transform=ax1.transAxes, ls='--',c='k', label=\"1:1 line\")\n",
    "parameterx = np.polyfit(sx_true,sx,1)\n",
    "fx = np.poly1d(parameterx)\n",
    "ax1.plot(sx_true,fx(sx_true),c='k',lw=2)\n",
    "corrx = np.corrcoef(sx_true,sx)[0,1]\n",
    "bbox = dict(fc='1',alpha=0.5)\n",
    "plt.text(0.05, 0.9, '$R^2=%.2f$' % (corrx**2), transform=ax1.transAxes, size=15, bbox=bbox)\n",
    "plt.xlabel(\"True self x\")\n",
    "plt.ylabel(\"Inferred self x\")\n",
    "\n",
    "ax2 = fig.add_subplot(1,3,2)\n",
    "plt.title(\"true self- y dimension vs. inferred\",fontsize=10)\n",
    "plt.subplots_adjust(left=None, bottom=None, right=None, top=None, wspace=None, hspace=0.5)\n",
    "ax2.scatter(sy_true,sy,s=10,c ='dimgrey', alpha=0.2)\n",
    "ax2.plot((0, 1), (0, 1), transform=ax2.transAxes, ls='--',c='k', label=\"1:1 line\")\n",
    "parametery = np.polyfit(sy_true,sy,1)\n",
    "fy = np.poly1d(parametery)\n",
    "ax2.plot(sy_true,fy(sy_true),c='k',lw=2)\n",
    "corry = np.corrcoef(sy_true,sy)[0,1]\n",
    "bbox = dict(fc='1',alpha=0.5)\n",
    "plt.text(0.05, 0.9, '$R^2=%.2f$' % (corry**2), transform=ax2.transAxes, size=15, bbox=bbox)\n",
    "plt.xlabel(\"True self y\")\n",
    "plt.ylabel(\"Inferred self y\")\n",
    "\n",
    "\n",
    "ax3 = fig.add_subplot(1,3,3)\n",
    "plt.title(\"true self- z dimension vs. inferred\",fontsize=10)\n",
    "plt.subplots_adjust(left=None, bottom=None, right=None, top=None, wspace=None, hspace=0.5)\n",
    "ax3.scatter(sz_true,sz,s=10,c ='dimgrey', alpha=0.2)\n",
    "ax3.plot((0, 1), (0, 1), transform=ax3.transAxes, ls='--',c='k', label=\"1:1 line\")\n",
    "parameterz = np.polyfit(sz_true,sz,1)\n",
    "fz = np.poly1d(parameterz)\n",
    "ax3.plot(sz_true,fz(sz_true),c='k',lw=2)\n",
    "corrz = np.corrcoef(sz_true,sz)[0,1]\n",
    "bbox = dict(fc='1',alpha=0.5)\n",
    "#plt.xlim([-0.08, 0.09])\n",
    "#plt.ylim([-0.08, 0.09])\n",
    "plt.xlim([-0.1, 0.1])\n",
    "plt.ylim([-0.1, 0.1])\n",
    "plt.text(0.05, 0.9, '$R^2=%.2f$' % (corrz**2), transform=ax3.transAxes, size=15, bbox=bbox)\n",
    "plt.xlabel(\"True self z\")\n",
    "plt.ylabel(\"Inferred self z\")\n",
    "#plt.savefig(\"/Users/lanag/Library/CloudStorage/OneDrive-个人/Project2-StochasticDynamics/StochasticHindmarshRose/Figures/self_10I_all.pdf\",format=\"pdf\")"
   ]
  },
  {
   "cell_type": "code",
   "execution_count": 61,
   "id": "5f86d8ec",
   "metadata": {},
   "outputs": [],
   "source": [
    "import Self_func"
   ]
  },
  {
   "cell_type": "code",
   "execution_count": 62,
   "id": "4df76e23",
   "metadata": {},
   "outputs": [],
   "source": [
    "import Interaction_func"
   ]
  },
  {
   "cell_type": "code",
   "execution_count": 63,
   "id": "a2172420",
   "metadata": {},
   "outputs": [],
   "source": [
    "from Self_func import *\n",
    "from Interaction_func import *"
   ]
  },
  {
   "cell_type": "code",
   "execution_count": 64,
   "id": "743c8c19",
   "metadata": {},
   "outputs": [],
   "source": [
    "import pandas as pd\n",
    "import numpy as np\n",
    "def ElementaryFunctions_Matrix(xi, xj, coupledPolyOrder = 1, CoupledPolynomialIndex = True, \\\n",
    "        CoupledTrigonometricIndex = True, CoupledExponentialIndex = True, CoupledFractionalIndex = True, \\\n",
    "            CoupledActivationIndex = True):\n",
    "    \n",
    "    ElementaryMatrix = pd.DataFrame()\n",
    "    if CoupledPolynomialIndex == True:\n",
    "        ElementaryMatrix = pd.concat([ElementaryMatrix, Coupled_Polynomial_functions(xi, xj, coupledPolyOrder)],axis=1)\n",
    "    if CoupledTrigonometricIndex == True:\n",
    "        ElementaryMatrix = pd.concat([ElementaryMatrix, Coupled_Trigonometric_functions(xi, xj, Sine = True, Cos = False, Tan = False)],axis=1)\n",
    "    if CoupledExponentialIndex == True:\n",
    "        ElementaryMatrix = pd.concat([ElementaryMatrix, Coupled_Exponential_functions(xi, xj, Exponential = True)],axis=1)\n",
    "    if CoupledFractionalIndex == True:\n",
    "        ElementaryMatrix = pd.concat([ElementaryMatrix, Coupled_Fractional_functions(xi, xj, Fractional = True)],axis=1)\n",
    "    if CoupledActivationIndex == True:\n",
    "        ElementaryMatrix = pd.concat([ElementaryMatrix, Coupled_Activation_functions(xi, xj, Sigmoid = True, Tanh = True, Hill = True)],axis=1)\n",
    "   \n",
    "    return ElementaryMatrix\n",
    "\n",
    "\n",
    "#Libraries construction\n",
    "def Coupled_Polynomial_functions(xi,xj,PolyOrder):\n",
    "    if PolyOrder>=1:\n",
    "        column_values = ['xj','xixj','xjMinusxi']\n",
    "        CoupledPolyOne = np.zeros(shape=(np.size(xi,0),len(column_values)))\n",
    "        for j in range(len(column_values)):\n",
    "            if j == 0:\n",
    "                tmp1 = xj\n",
    "            if j == 1:\n",
    "                tmp2 = xi*xj\n",
    "            if j == 2:\n",
    "                tmp3 = xj-xi\n",
    "        CoupledPolyOne = np.stack((tmp1,tmp2,tmp3),axis=1)\n",
    "        CoupledPolyOne = pd.DataFrame(data = CoupledPolyOne, columns = column_values)\n",
    "    if PolyOrder>=2:\n",
    "        column_values = ['xjpow2','xixjpow2','xjMinusxipow2']\n",
    "        CoupledPolyTwo = np.zeros(shape=(np.size(xi,0),len(column_values)))\n",
    "        for j in range(len(column_values)):\n",
    "            if j == 0:\n",
    "                tmp1 = xj**2\n",
    "            if j == 1:\n",
    "                tmp2 = (xi*xj)**2\n",
    "            if j == 2:\n",
    "                tmp3 = (xj-xi)**2\n",
    "        CoupledPolyTwo = np.stack((tmp1,tmp2,tmp3),axis=1)\n",
    "        CoupledPolyTwo = pd.DataFrame(data = CoupledPolyTwo, columns = column_values)\n",
    "    if PolyOrder == 1:\n",
    "        return CoupledPolyOne\n",
    "    if PolyOrder == 2:\n",
    "        return pd.concat([CoupledPolyOne, CoupledPolyTwo], axis=1)\n",
    "\n",
    "def Coupled_Trigonometric_functions(xi, xj, Sine = True, Cos = False, Tan = False):\n",
    "    if Sine == True:\n",
    "        column_values = ['sinxj','sinxixj','sinxjMinusxi','xisinxj']\n",
    "        CoupledSine = np.zeros(shape=(np.size(xi,0),len(column_values)))\n",
    "        for j in range(len(column_values)):\n",
    "            if j == 0:\n",
    "                tmp1 = np.sin(xj)\n",
    "            if j == 1:\n",
    "                tmp2 = np.sin(xi*xj)\n",
    "            if j == 2:\n",
    "                tmp3 = np.sin(xj-xi)\n",
    "            if j == 3:\n",
    "                tmp4 = xi*np.sin(xj)\n",
    "        CoupledSine = np.stack((tmp1,tmp2,tmp3,tmp4),axis=1)\n",
    "        CoupledSine = pd.DataFrame(data = CoupledSine, columns = column_values)\n",
    "    if Cos == True:\n",
    "        column_values = ['cosxj','cosxixj','cosxjMinusxi','xicosxj']\n",
    "        CoupledCosine = np.zeros(shape=(np.size(xi,0),len(column_values)))\n",
    "        for j in range(len(column_values)):\n",
    "            if j == 0:\n",
    "                tmp1 = np.cos(xj)\n",
    "            if j == 1:\n",
    "                tmp2 = np.cos(xi*xj)\n",
    "            if j == 2:\n",
    "                tmp3 = np.cos(xj-xi)\n",
    "            if j == 3:\n",
    "                tmp4 = xi*np.cos(xj)\n",
    "        CoupledCosine = np.stack((tmp1,tmp2,tmp3,tmp4),axis=1)\n",
    "        CoupledCosine = pd.DataFrame(data = CoupledCosine, columns = column_values)\n",
    "    if Tan == True:\n",
    "        column_values = ['tanxj','tanxixj','tanxjMinusxi','xitanxj']\n",
    "        CoupledTan = np.zeros(shape=(np.size(xi,0),len(column_values)))\n",
    "        for j in range(len(column_values)):\n",
    "            if j == 0:\n",
    "                tmp1 = np.tan(xj)\n",
    "            if j == 1:\n",
    "                tmp2 = np.tan(xi*xj)\n",
    "            if j == 2:\n",
    "                tmp3 = np.tan(xj-xi)\n",
    "            if j == 3:\n",
    "                tmp4 = xi*np.tan(xj)\n",
    "        CoupledTan = np.stack((tmp1,tmp2,tmp3,tmp4),axis=1)\n",
    "        CoupledTan = pd.DataFrame(data = CoupledTan, columns = column_values)\n",
    "    CoupledTrignometric = pd.DataFrame()\n",
    "    if Sine == True:\n",
    "        CoupledTrignometric = pd.concat([CoupledTrignometric,CoupledSine],axis=1)\n",
    "    if Cos == True:\n",
    "        CoupledTrignometric = pd.concat([CoupledTrignometric, CoupledCosine], axis=1)\n",
    "    if Tan == True:\n",
    "        CoupledTrignometric = pd.concat([CoupledTrignometric, CoupledTan], axis=1)\n",
    "    return CoupledTrignometric\n",
    "\n",
    "def Coupled_Exponential_functions(xi, xj, Exponential = True):\n",
    "    if Exponential == True:\n",
    "        column_values = ['expxj','expxixj','expxjMinusxi','xiexpxj']\n",
    "        CoupledExp = np.zeros(shape=(np.size(xi,0),len(column_values)))\n",
    "        for j in range(len(column_values)):\n",
    "            if j == 0:\n",
    "                tmp1 = np.exp(xj)\n",
    "            if j == 1:\n",
    "                tmp2 = np.exp(xi*xj)\n",
    "            if j == 2:\n",
    "                tmp3 = np.exp(xj-xi)\n",
    "            if j == 3:\n",
    "                tmp4 = xi*np.exp(xj)\n",
    "        CoupledExp = np.stack((tmp1,tmp2,tmp3,tmp4),axis=1)    \n",
    "        CoupledExp = pd.DataFrame(data = CoupledExp, columns = column_values)\n",
    "    return CoupledExp\n",
    "\n",
    "def Coupled_Fractional_functions(xi, xj, Fractional = True):\n",
    "    if Fractional == True:\n",
    "        column_values = ['fracxj','fracxixj','fracxjMinusxi','xifracxj']\n",
    "        CoupledFraction = np.zeros(shape=(np.size(xi,0),len(column_values)))\n",
    "        for j in range(len(column_values)):\n",
    "            if j == 0:\n",
    "                tmp1 = 1/xj\n",
    "            if j == 1:\n",
    "                tmp2 = 1/(xi*xj)\n",
    "            if j == 2:\n",
    "                tmp3 = 1/((xj-xi)+1e-5)\n",
    "            if j == 3:\n",
    "                tmp4 = xi/(xj+1e-5)\n",
    "        CoupledFraction = np.stack((tmp1,tmp2,tmp3,tmp4),axis=1) \n",
    "        CoupledFraction = pd.DataFrame(data = CoupledFraction, columns = column_values)\n",
    "    return CoupledFraction\n",
    "\n",
    "def sigmoidfun(x,alpha,beta):\n",
    "    sigmoidOutput = 1/(1+np.exp(-alpha*(x-beta)))\n",
    "    return sigmoidOutput\n",
    "\n",
    "def tangentH(x):\n",
    "    Tanh = (np.exp(x)-np.exp(-x))/(np.exp(x)+np.exp(-x))\n",
    "    return Tanh\n",
    "\n",
    "def Hill_func(x,gamma):\n",
    "    Regulation_result = (x**gamma)/(x**gamma+1)\n",
    "    return Regulation_result\n",
    "\n",
    "def Coupled_Activation_functions(xi, xj, Sigmoid = True, Tanh = True, Hill = True):\n",
    "    if Sigmoid == True:\n",
    "        column_values = ['sigmoidxj','sigmoidxixj','sigmoidXjMinusXi','xisigmoidxj',\n",
    "                        'sigmoidxj101','sigmoidxixj101','sigmoidXjMinusXi101','xisigmoidxj101']\n",
    "        CoupledSigmoid = np.zeros(shape=(np.size(xi,0),len(column_values)))\n",
    "        for j in range(len(column_values)):\n",
    "            if j == 0:\n",
    "                tmp1 = sigmoidfun(xj,1,0)\n",
    "            if j == 1:\n",
    "                tmp2 = sigmoidfun(xi*xj,1,0)\n",
    "            if j == 2:\n",
    "                tmp3 = sigmoidfun(xj-xi,1,0)\n",
    "            if j == 3:\n",
    "                tmp4 = sigmoidfun(xj,1,0)*xi\n",
    "            if j == 4:\n",
    "                tmp5 = sigmoidfun(xj,10,1)\n",
    "            if j == 5:\n",
    "                tmp6 = sigmoidfun(xi*xj,10,1)\n",
    "            if j == 6:\n",
    "                tmp7 = sigmoidfun(xj-xi,10,1)\n",
    "            if j == 7:\n",
    "                tmp8 = sigmoidfun(xj,10,1)*xi\n",
    "        CoupledSigmoid = np.stack((tmp1,tmp2,tmp3,tmp4,tmp5,tmp6,tmp7,tmp8),axis=1)\n",
    "        CoupledSigmoid = pd.DataFrame(data = CoupledSigmoid, columns = column_values)\n",
    "    if Tanh == True:\n",
    "        column_values = ['tanhxj','tanhxixj','tanhxjMinusxi','xitanhxj']\n",
    "        CoupledTanh = np.zeros(shape=(np.size(xi,0),len(column_values)))\n",
    "        for j in range(len(column_values)):\n",
    "            if j == 0:\n",
    "                tmp1 = tangentH(xj)\n",
    "            if j == 1:\n",
    "                tmp2 = tangentH(xi*xj)\n",
    "            if j == 2:\n",
    "                tmp3 = tangentH(xj-xi)\n",
    "            if j == 3:\n",
    "                tmp4 = tangentH(xj)*xi\n",
    "        Coupledtanh = np.stack((tmp1,tmp2,tmp3,tmp4),axis=1)\n",
    "        Coupledtanh = pd.DataFrame(data = Coupledtanh, columns = column_values)\n",
    "    if Hill == True:\n",
    "        column_values = ['hillxj','hillxixj','hillxjMinusxi','xihillxj','hillxj2',\n",
    "                        'hillxixj2','hillxjMinusxi2','hillxj5','hillxixj5','hillxjMinusxi5']\n",
    "        CoupledHill = np.zeros(shape=(np.size(xi,0),len(column_values)))\n",
    "        for j in range(len(column_values)):\n",
    "            if j == 0:\n",
    "                tmp1 = Hill_func(xj,1)\n",
    "            if j == 1:\n",
    "                tmp2 = Hill_func(xi*xj,1)\n",
    "            if j == 2:\n",
    "                tmp3 = Hill_func(xj-xi,1)\n",
    "            if j == 3:\n",
    "                tmp4 = Hill_func(xj,1)*xi\n",
    "            if j == 4:\n",
    "                tmp5 = Hill_func(xj,2)\n",
    "            if j == 5:\n",
    "                tmp6 = Hill_func(xi*xj,2)\n",
    "            if j == 6:\n",
    "                tmp7 = Hill_func(xj-xi,2)\n",
    "            if j == 7:\n",
    "                tmp8 = Hill_func(xj,5)\n",
    "            if j == 8:\n",
    "                tmp9 = Hill_func(xi*xj,5)\n",
    "            if j == 9:\n",
    "                tmp10 = Hill_func(xj-xi,5)\n",
    "        CoupledHill = np.stack((tmp1,tmp2,tmp3,tmp4,tmp5,tmp6,tmp7,tmp8,tmp9,tmp10),axis=1)\n",
    "        CoupledHill = pd.DataFrame(data = CoupledHill, columns = column_values)   \n",
    "    return pd.concat([CoupledSigmoid,Coupledtanh,CoupledHill], axis = 1) \n"
   ]
  },
  {
   "cell_type": "code",
   "execution_count": 65,
   "id": "efb7a847",
   "metadata": {},
   "outputs": [],
   "source": [
    "#I = indexs.flatten()"
   ]
  },
  {
   "cell_type": "code",
   "execution_count": 66,
   "id": "c144f4d3",
   "metadata": {},
   "outputs": [
    {
     "data": {
      "text/html": [
       "<div>\n",
       "<style scoped>\n",
       "    .dataframe tbody tr th:only-of-type {\n",
       "        vertical-align: middle;\n",
       "    }\n",
       "\n",
       "    .dataframe tbody tr th {\n",
       "        vertical-align: top;\n",
       "    }\n",
       "\n",
       "    .dataframe thead th {\n",
       "        text-align: right;\n",
       "    }\n",
       "</style>\n",
       "<table border=\"1\" class=\"dataframe\">\n",
       "  <thead>\n",
       "    <tr style=\"text-align: right;\">\n",
       "      <th></th>\n",
       "      <th>e0</th>\n",
       "      <th>x1</th>\n",
       "      <th>x2</th>\n",
       "      <th>T</th>\n",
       "    </tr>\n",
       "  </thead>\n",
       "  <tbody>\n",
       "    <tr>\n",
       "      <th>0</th>\n",
       "      <td>0.000138</td>\n",
       "      <td>-1.034689</td>\n",
       "      <td>-2.145056</td>\n",
       "      <td>1.0</td>\n",
       "    </tr>\n",
       "    <tr>\n",
       "      <th>1</th>\n",
       "      <td>-0.000259</td>\n",
       "      <td>-1.034689</td>\n",
       "      <td>-0.261966</td>\n",
       "      <td>-1.0</td>\n",
       "    </tr>\n",
       "    <tr>\n",
       "      <th>2</th>\n",
       "      <td>0.003348</td>\n",
       "      <td>-1.034689</td>\n",
       "      <td>0.040805</td>\n",
       "      <td>1.0</td>\n",
       "    </tr>\n",
       "    <tr>\n",
       "      <th>3</th>\n",
       "      <td>0.000140</td>\n",
       "      <td>-1.034689</td>\n",
       "      <td>-0.822293</td>\n",
       "      <td>1.0</td>\n",
       "    </tr>\n",
       "    <tr>\n",
       "      <th>4</th>\n",
       "      <td>-0.048764</td>\n",
       "      <td>-1.034689</td>\n",
       "      <td>1.144136</td>\n",
       "      <td>-1.0</td>\n",
       "    </tr>\n",
       "    <tr>\n",
       "      <th>...</th>\n",
       "      <td>...</td>\n",
       "      <td>...</td>\n",
       "      <td>...</td>\n",
       "      <td>...</td>\n",
       "    </tr>\n",
       "    <tr>\n",
       "      <th>99995</th>\n",
       "      <td>-0.000259</td>\n",
       "      <td>-0.110190</td>\n",
       "      <td>-0.194464</td>\n",
       "      <td>-1.0</td>\n",
       "    </tr>\n",
       "    <tr>\n",
       "      <th>99996</th>\n",
       "      <td>-0.000259</td>\n",
       "      <td>-0.110190</td>\n",
       "      <td>-0.967372</td>\n",
       "      <td>-1.0</td>\n",
       "    </tr>\n",
       "    <tr>\n",
       "      <th>99997</th>\n",
       "      <td>0.000192</td>\n",
       "      <td>-0.110190</td>\n",
       "      <td>-1.941781</td>\n",
       "      <td>1.0</td>\n",
       "    </tr>\n",
       "    <tr>\n",
       "      <th>99998</th>\n",
       "      <td>-0.001613</td>\n",
       "      <td>-0.110190</td>\n",
       "      <td>0.530164</td>\n",
       "      <td>-1.0</td>\n",
       "    </tr>\n",
       "    <tr>\n",
       "      <th>99999</th>\n",
       "      <td>-0.000259</td>\n",
       "      <td>-0.110190</td>\n",
       "      <td>0.264661</td>\n",
       "      <td>-1.0</td>\n",
       "    </tr>\n",
       "  </tbody>\n",
       "</table>\n",
       "<p>100000 rows × 4 columns</p>\n",
       "</div>"
      ],
      "text/plain": [
       "             e0        x1        x2    T\n",
       "0      0.000138 -1.034689 -2.145056  1.0\n",
       "1     -0.000259 -1.034689 -0.261966 -1.0\n",
       "2      0.003348 -1.034689  0.040805  1.0\n",
       "3      0.000140 -1.034689 -0.822293  1.0\n",
       "4     -0.048764 -1.034689  1.144136 -1.0\n",
       "...         ...       ...       ...  ...\n",
       "99995 -0.000259 -0.110190 -0.194464 -1.0\n",
       "99996 -0.000259 -0.110190 -0.967372 -1.0\n",
       "99997  0.000192 -0.110190 -1.941781  1.0\n",
       "99998 -0.001613 -0.110190  0.530164 -1.0\n",
       "99999 -0.000259 -0.110190  0.264661 -1.0\n",
       "\n",
       "[100000 rows x 4 columns]"
      ]
     },
     "execution_count": 66,
     "metadata": {},
     "output_type": "execute_result"
    }
   ],
   "source": [
    "bestMe"
   ]
  },
  {
   "cell_type": "code",
   "execution_count": 67,
   "id": "4d241c19",
   "metadata": {},
   "outputs": [],
   "source": [
    "#I = np.argwhere(bestMe['T'].values>0)\n",
    "#for i in range(indexs.shape[0]):\n",
    "     #print(coup_value[indexs[i][0]],coup_value_inh[indexs[i][0]])\n",
    "        #coup_value[indexs[i][0]] = coup_value_inh[indexs[i][0]]"
   ]
  },
  {
   "cell_type": "code",
   "execution_count": 144,
   "id": "8b7cacc5",
   "metadata": {},
   "outputs": [],
   "source": [
    "bestMe_excit = bestMe.drop(bestMe[bestMe['T']>0].index)\n",
    "xi = bestMe_excit['x1'].values\n",
    "xj = bestMe_excit['x2'].values\n",
    "# xi = bestMe['x1'].values\n",
    "# xj = bestMe['x2'].values\n",
    "Matrix = ElementaryFunctions_Matrix(xi,xj)\n",
    "Matrix = Matrix.replace([np.inf, -np.inf], np.nan).dropna(axis=1)"
   ]
  },
  {
   "cell_type": "code",
   "execution_count": 145,
   "id": "ff31622e",
   "metadata": {},
   "outputs": [],
   "source": [
    "from sklearn.preprocessing import normalize \n",
    "from sklearn.linear_model import LassoLarsCV \n",
    "from sklearn.linear_model import LassoCV\n",
    "from sklearn.metrics import mean_squared_error "
   ]
  },
  {
   "cell_type": "code",
   "execution_count": 146,
   "id": "d60436c9",
   "metadata": {},
   "outputs": [],
   "source": [
    "#goal = bestMe_excit['e0'].values.reshape(-1,1)\n",
    "goal = bestMe_excit['e0'].values.reshape(-1,1)\n",
    "goal = pd.DataFrame(data = goal, columns =['e0'])"
   ]
  },
  {
   "cell_type": "code",
   "execution_count": 147,
   "id": "6d482df9",
   "metadata": {},
   "outputs": [],
   "source": [
    "X = Matrix.copy()\n",
    "y = goal.copy()"
   ]
  },
  {
   "cell_type": "code",
   "execution_count": 148,
   "id": "0fc1eb67",
   "metadata": {},
   "outputs": [],
   "source": [
    "X_mat = X.values \n",
    "y_mat = y.values\n",
    "x_norml1 = []\n",
    "y_norml1 = []\n",
    "num = np.shape(X_mat)[1]\n",
    "num2 = 1\n",
    "L = np.shape(X_mat)[0]\n",
    "\n",
    "for i in range(0,num):\n",
    "    x_norml1.append(sum(abs(X_mat[:,i])))\n",
    "\n",
    "for i in range(0,num2):\n",
    "    y_norml1.append(sum(abs(y_mat[:,i])))\n",
    "\n",
    "X = pd.DataFrame(X)\n",
    "y = pd.DataFrame(y)\n",
    "\n",
    "X[X.columns] = normalize(X[X.columns], norm='l1', axis=0)*L\n",
    "y[y.columns] = normalize(y[y.columns], norm='l1', axis=0)*L\n",
    "\n",
    "X_col = X.columns \n",
    "Xin = X.iloc[:,:]\n",
    "out = np.array(y)\n",
    "y1 = (out[:,0])"
   ]
  },
  {
   "cell_type": "code",
   "execution_count": 149,
   "id": "09cf1f3d",
   "metadata": {},
   "outputs": [
    {
     "name": "stdout",
     "output_type": "stream",
     "text": [
      "0.9981903800081411\n",
      "Best threshold: 0.008\n"
     ]
    },
    {
     "name": "stderr",
     "output_type": "stream",
     "text": [
      "/opt/anaconda3/envs/pytorch_env/lib/python3.8/site-packages/sklearn/linear_model/_base.py:148: FutureWarning: 'normalize' was deprecated in version 1.0 and will be removed in 1.2. Please leave the normalize parameter to its default value to silence this warning. The default behavior of this estimator is to not do any normalization. If normalization is needed please use sklearn.preprocessing.StandardScaler instead.\n",
      "  warnings.warn(\n"
     ]
    }
   ],
   "source": [
    "reg1 = LassoCV(cv=5, fit_intercept=False, precompute=False, n_jobs=-1, max_iter=10000, normalize=False).fit(Xin,y1)\n",
    "print(reg1.score(Xin,y1))\n",
    "print('Best threshold: %.3f' % reg1.alpha_)"
   ]
  },
  {
   "cell_type": "code",
   "execution_count": 150,
   "id": "ff1d0299",
   "metadata": {},
   "outputs": [],
   "source": [
    "for i in range(len(reg1.coef_)):\n",
    "        reg1.coef_[i] = reg1.coef_[i]*y_norml1[0]/x_norml1[i]"
   ]
  },
  {
   "cell_type": "code",
   "execution_count": 151,
   "id": "9de1eacf",
   "metadata": {},
   "outputs": [
    {
     "name": "stdout",
     "output_type": "stream",
     "text": [
      "Elementary functions discovered by Phase 1 without constant.\n",
      "sinxjMinusxi           0.000221\n",
      "tanhxixj              -0.000304\n",
      "expxj                 -0.000479\n",
      "hillxixj2             -0.000724\n",
      "sinxj                 -0.001008\n",
      "xiexpxj               -0.001631\n",
      "sigmoidxj             -0.001847\n",
      "sigmoidXjMinusXi101   -0.002628\n",
      "xisigmoidxj101        -0.140507\n",
      "sigmoidxj101          -0.218779\n",
      "dtype: float32\n"
     ]
    }
   ],
   "source": [
    "coef1 = pd.Series(reg1.coef_, index = X_col)\n",
    "imp_ = pd.concat([coef1.sort_values(key=abs).head(int(0)),\n",
    "                     coef1.sort_values(key=abs).tail(int(10))])\n",
    "imp_no_cons = imp_ + (1e-10)\n",
    "print(\"Elementary functions discovered by Phase 1 without constant.\")\n",
    "print(imp_no_cons)"
   ]
  },
  {
   "cell_type": "code",
   "execution_count": 152,
   "id": "25d646d2",
   "metadata": {},
   "outputs": [],
   "source": [
    "from math import log\n",
    "def calculate_aic(n,mse,num_params):\n",
    "    aic = n * log(mse) + 2 * num_params \n",
    "    return aic "
   ]
  },
  {
   "cell_type": "code",
   "execution_count": 153,
   "id": "1caf778f",
   "metadata": {},
   "outputs": [],
   "source": [
    "from sklearn.linear_model import LinearRegression \n",
    "from sklearn.metrics import mean_squared_error\n",
    "def terms_sort_fit(X_lib,Y_goal,intercept):\n",
    "    reg = LinearRegression(fit_intercept=intercept).fit(X_lib,Y_goal)\n",
    "#     print(X_lib.columns)\n",
    "#     print(reg.coef_)\n",
    "#     if intercept == True:\n",
    "#         coef['constant'] = reg.intercept_\n",
    "#         num_params = len(coef)\n",
    "#     else:\n",
    "#         num_params = len(coef) \n",
    "    num_params = X_lib.shape[1]\n",
    "    P = X_lib\n",
    "    Score = reg.score(X_lib,Y_goal)\n",
    "    yhat = reg.predict(P)\n",
    "    mse = mean_squared_error(Y_goal, yhat)\n",
    "    aic = calculate_aic(len(Y_goal), mse, num_params)\n",
    "    #print('label of function: %.3f' % time)\n",
    "    #sort = coef.sort_values()\n",
    "    return Score, mse, aic"
   ]
  },
  {
   "cell_type": "code",
   "execution_count": 154,
   "id": "8af05e5f",
   "metadata": {},
   "outputs": [
    {
     "name": "stdout",
     "output_type": "stream",
     "text": [
      "0.4048774293008687 0.0034190447 -278239.31119366235 sigmoidxj101\n",
      "0.9975094018253838 1.4308762e-05 -546573.28618918 xisigmoidxj101\n",
      "0.9976692226829128 1.3390572e-05 -549821.023079533 sigmoidXjMinusXi101\n",
      "0.9977754059511306 1.2780539e-05 -552103.7606328685 sigmoidxj\n",
      "0.9979519933931589 1.1766024e-05 -556154.4313458181 xiexpxj\n",
      "0.9979907303625083 1.1543476e-05 -557088.1166600431 sinxj\n",
      "0.9980977102321072 1.0928864e-05 -559767.0567590136 hillxixj2\n",
      "0.998116619756196 1.0820228e-05 -560254.5653668245 expxj\n",
      "0.9981617506322118 1.0560945e-05 -561441.0412309892 tanhxixj\n",
      "0.9982325934474805 1.0153946e-05 -563364.7584787004 sinxjMinusxi\n"
     ]
    },
    {
     "name": "stderr",
     "output_type": "stream",
     "text": [
      "/opt/anaconda3/envs/pytorch_env/lib/python3.8/site-packages/sklearn/utils/validation.py:1688: FutureWarning: Feature names only support names that are all strings. Got feature names with dtypes: ['int', 'str']. An error will be raised in 1.2.\n",
      "  warnings.warn(\n",
      "/opt/anaconda3/envs/pytorch_env/lib/python3.8/site-packages/sklearn/utils/validation.py:1688: FutureWarning: Feature names only support names that are all strings. Got feature names with dtypes: ['int', 'str']. An error will be raised in 1.2.\n",
      "  warnings.warn(\n",
      "/opt/anaconda3/envs/pytorch_env/lib/python3.8/site-packages/sklearn/utils/validation.py:1688: FutureWarning: Feature names only support names that are all strings. Got feature names with dtypes: ['int', 'str']. An error will be raised in 1.2.\n",
      "  warnings.warn(\n",
      "/opt/anaconda3/envs/pytorch_env/lib/python3.8/site-packages/sklearn/utils/validation.py:1688: FutureWarning: Feature names only support names that are all strings. Got feature names with dtypes: ['int', 'str']. An error will be raised in 1.2.\n",
      "  warnings.warn(\n",
      "/opt/anaconda3/envs/pytorch_env/lib/python3.8/site-packages/sklearn/utils/validation.py:1688: FutureWarning: Feature names only support names that are all strings. Got feature names with dtypes: ['int', 'str']. An error will be raised in 1.2.\n",
      "  warnings.warn(\n",
      "/opt/anaconda3/envs/pytorch_env/lib/python3.8/site-packages/sklearn/utils/validation.py:1688: FutureWarning: Feature names only support names that are all strings. Got feature names with dtypes: ['int', 'str']. An error will be raised in 1.2.\n",
      "  warnings.warn(\n",
      "/opt/anaconda3/envs/pytorch_env/lib/python3.8/site-packages/sklearn/utils/validation.py:1688: FutureWarning: Feature names only support names that are all strings. Got feature names with dtypes: ['int', 'str']. An error will be raised in 1.2.\n",
      "  warnings.warn(\n",
      "/opt/anaconda3/envs/pytorch_env/lib/python3.8/site-packages/sklearn/utils/validation.py:1688: FutureWarning: Feature names only support names that are all strings. Got feature names with dtypes: ['int', 'str']. An error will be raised in 1.2.\n",
      "  warnings.warn(\n",
      "/opt/anaconda3/envs/pytorch_env/lib/python3.8/site-packages/sklearn/utils/validation.py:1688: FutureWarning: Feature names only support names that are all strings. Got feature names with dtypes: ['int', 'str']. An error will be raised in 1.2.\n",
      "  warnings.warn(\n",
      "/opt/anaconda3/envs/pytorch_env/lib/python3.8/site-packages/sklearn/utils/validation.py:1688: FutureWarning: Feature names only support names that are all strings. Got feature names with dtypes: ['int', 'str']. An error will be raised in 1.2.\n",
      "  warnings.warn(\n",
      "/opt/anaconda3/envs/pytorch_env/lib/python3.8/site-packages/sklearn/utils/validation.py:1688: FutureWarning: Feature names only support names that are all strings. Got feature names with dtypes: ['int', 'str']. An error will be raised in 1.2.\n",
      "  warnings.warn(\n",
      "/opt/anaconda3/envs/pytorch_env/lib/python3.8/site-packages/sklearn/utils/validation.py:1688: FutureWarning: Feature names only support names that are all strings. Got feature names with dtypes: ['int', 'str']. An error will be raised in 1.2.\n",
      "  warnings.warn(\n",
      "/opt/anaconda3/envs/pytorch_env/lib/python3.8/site-packages/sklearn/utils/validation.py:1688: FutureWarning: Feature names only support names that are all strings. Got feature names with dtypes: ['int', 'str']. An error will be raised in 1.2.\n",
      "  warnings.warn(\n",
      "/opt/anaconda3/envs/pytorch_env/lib/python3.8/site-packages/sklearn/utils/validation.py:1688: FutureWarning: Feature names only support names that are all strings. Got feature names with dtypes: ['int', 'str']. An error will be raised in 1.2.\n",
      "  warnings.warn(\n",
      "/opt/anaconda3/envs/pytorch_env/lib/python3.8/site-packages/sklearn/utils/validation.py:1688: FutureWarning: Feature names only support names that are all strings. Got feature names with dtypes: ['int', 'str']. An error will be raised in 1.2.\n",
      "  warnings.warn(\n",
      "/opt/anaconda3/envs/pytorch_env/lib/python3.8/site-packages/sklearn/utils/validation.py:1688: FutureWarning: Feature names only support names that are all strings. Got feature names with dtypes: ['int', 'str']. An error will be raised in 1.2.\n",
      "  warnings.warn(\n",
      "/opt/anaconda3/envs/pytorch_env/lib/python3.8/site-packages/sklearn/utils/validation.py:1688: FutureWarning: Feature names only support names that are all strings. Got feature names with dtypes: ['int', 'str']. An error will be raised in 1.2.\n",
      "  warnings.warn(\n",
      "/opt/anaconda3/envs/pytorch_env/lib/python3.8/site-packages/sklearn/utils/validation.py:1688: FutureWarning: Feature names only support names that are all strings. Got feature names with dtypes: ['int', 'str']. An error will be raised in 1.2.\n",
      "  warnings.warn(\n",
      "/opt/anaconda3/envs/pytorch_env/lib/python3.8/site-packages/sklearn/utils/validation.py:1688: FutureWarning: Feature names only support names that are all strings. Got feature names with dtypes: ['int', 'str']. An error will be raised in 1.2.\n",
      "  warnings.warn(\n",
      "/opt/anaconda3/envs/pytorch_env/lib/python3.8/site-packages/sklearn/utils/validation.py:1688: FutureWarning: Feature names only support names that are all strings. Got feature names with dtypes: ['int', 'str']. An error will be raised in 1.2.\n",
      "  warnings.warn(\n",
      "/opt/anaconda3/envs/pytorch_env/lib/python3.8/site-packages/sklearn/utils/validation.py:1688: FutureWarning: Feature names only support names that are all strings. Got feature names with dtypes: ['int', 'str']. An error will be raised in 1.2.\n",
      "  warnings.warn(\n",
      "/opt/anaconda3/envs/pytorch_env/lib/python3.8/site-packages/sklearn/utils/validation.py:1688: FutureWarning: Feature names only support names that are all strings. Got feature names with dtypes: ['int', 'str']. An error will be raised in 1.2.\n",
      "  warnings.warn(\n",
      "/opt/anaconda3/envs/pytorch_env/lib/python3.8/site-packages/sklearn/utils/validation.py:1688: FutureWarning: Feature names only support names that are all strings. Got feature names with dtypes: ['int', 'str']. An error will be raised in 1.2.\n",
      "  warnings.warn(\n",
      "/opt/anaconda3/envs/pytorch_env/lib/python3.8/site-packages/sklearn/utils/validation.py:1688: FutureWarning: Feature names only support names that are all strings. Got feature names with dtypes: ['int', 'str']. An error will be raised in 1.2.\n",
      "  warnings.warn(\n",
      "/opt/anaconda3/envs/pytorch_env/lib/python3.8/site-packages/sklearn/utils/validation.py:1688: FutureWarning: Feature names only support names that are all strings. Got feature names with dtypes: ['int', 'str']. An error will be raised in 1.2.\n",
      "  warnings.warn(\n",
      "/opt/anaconda3/envs/pytorch_env/lib/python3.8/site-packages/sklearn/utils/validation.py:1688: FutureWarning: Feature names only support names that are all strings. Got feature names with dtypes: ['int', 'str']. An error will be raised in 1.2.\n",
      "  warnings.warn(\n",
      "/opt/anaconda3/envs/pytorch_env/lib/python3.8/site-packages/sklearn/utils/validation.py:1688: FutureWarning: Feature names only support names that are all strings. Got feature names with dtypes: ['int', 'str']. An error will be raised in 1.2.\n",
      "  warnings.warn(\n"
     ]
    }
   ],
   "source": [
    "X = pd.DataFrame()\n",
    "Score_list = np.zeros(shape=(imp_no_cons.shape[0],1))\n",
    "MSE_list = np.zeros(shape=(imp_no_cons.shape[0],1))\n",
    "AIC_list = np.zeros(shape=(imp_no_cons.shape[0],1))\n",
    "y = goal.copy()\n",
    "for i in range(1,imp_no_cons.shape[0]+1):\n",
    "    tmp = Matrix.copy()[imp_no_cons.index[-i]]\n",
    "    if i == 1:\n",
    "        X = Matrix.copy()[imp_no_cons.index[-1]].values.reshape(-1,1)\n",
    "        X = pd.DataFrame(X)\n",
    "    else:\n",
    "        X = pd.concat([X,tmp],axis=1)\n",
    "    Score, mse, aic = terms_sort_fit(X,y,False)\n",
    "    Score_list[i-1] = Score\n",
    "    MSE_list[i-1] = mse\n",
    "    AIC_list[i-1] = aic\n",
    "    print(Score, mse, aic,imp_no_cons.index[-i])"
   ]
  },
  {
   "cell_type": "code",
   "execution_count": 155,
   "id": "b2e646e0",
   "metadata": {},
   "outputs": [
    {
     "data": {
      "image/png": "[encoded data removed]",
      "text/plain": [
       "<Figure size 720x720 with 3 Axes>"
      ]
     },
     "metadata": {
      "needs_background": "light"
     },
     "output_type": "display_data"
    }
   ],
   "source": [
    "# Visualization\n",
    "Index = np.arange(1,imp_no_cons.shape[0]+1,1)\n",
    "fig = plt.figure(figsize=(10,10))\n",
    "fig.add_subplot(3,1,1)\n",
    "l1, = plt.plot(Index,Score_list, marker='o', linestyle='dashed')\n",
    "plt.xticks(Index)\n",
    "plt.xlabel('The label of the equation')\n",
    "plt.ylabel('values-Score')\n",
    "fig.add_subplot(3,1,2)\n",
    "l2, = plt.plot(Index,MSE_list, marker='+', linestyle='dashed')\n",
    "plt.xticks(Index)\n",
    "plt.xlabel('The label of the equation')\n",
    "plt.ylabel('values-MSE')\n",
    "fig.add_subplot(3,1,3)\n",
    "l3, = plt.plot(Index,AIC_list, marker='o')\n",
    "plt.xticks(Index)\n",
    "plt.xlabel('The label of the equation')\n",
    "plt.ylabel('values of AIC')\n",
    "plt.show()"
   ]
  },
  {
   "cell_type": "code",
   "execution_count": 156,
   "id": "e3c0e732",
   "metadata": {},
   "outputs": [],
   "source": [
    "from sklearn.linear_model import LinearRegression"
   ]
  },
  {
   "cell_type": "code",
   "execution_count": 157,
   "id": "1fc1d671",
   "metadata": {},
   "outputs": [],
   "source": [
    "bestMe_excit = bestMe.drop(bestMe[bestMe['T']>0].index)\n",
    "xi = bestMe_excit['x1'].values\n",
    "xj = bestMe_excit['x2'].values\n",
    "# xi = bestMe['x1'].values\n",
    "# xj = bestMe['x2'].values\n",
    "Matrix = ElementaryFunctions_Matrix(xi,xj)\n",
    "Matrix = Matrix.replace([np.inf, -np.inf], np.nan).dropna(axis=1)\n",
    "#goal = bestMe_excit['e0'].values.reshape(-1,1)\n",
    "goal = bestMe_excit['e0'].values.reshape(-1,1)\n",
    "goal = pd.DataFrame(data = goal, columns =['e0'])\n",
    "X = Matrix.copy()\n",
    "y = goal.copy()"
   ]
  },
  {
   "cell_type": "code",
   "execution_count": 158,
   "id": "a2d8be97",
   "metadata": {},
   "outputs": [],
   "source": [
    "Xfind = pd.concat([X['sigmoidxj101'],X['xisigmoidxj101']],axis=1)#pd.concat([v1,v2],axis=1)\n",
    "yfind = y['e0']"
   ]
  },
  {
   "cell_type": "code",
   "execution_count": 159,
   "id": "dac7fadd",
   "metadata": {},
   "outputs": [],
   "source": [
    "model_linear = LinearRegression(fit_intercept=False)\n",
    "model_linear.fit(Xfind,yfind)\n",
    "a = model_linear.coef_"
   ]
  },
  {
   "cell_type": "code",
   "execution_count": 160,
   "id": "27af1421",
   "metadata": {},
   "outputs": [
    {
     "name": "stdout",
     "output_type": "stream",
     "text": [
      "[-0.22863775 -0.14750558]\n"
     ]
    }
   ],
   "source": [
    "print(a)"
   ]
  },
  {
   "cell_type": "code",
   "execution_count": 123,
   "id": "4cb2e589",
   "metadata": {},
   "outputs": [],
   "source": [
    "best_selfDyn = selfDyn_over_time[-1]\n",
    "best_selfDyn = pd.DataFrame(best_selfDyn)"
   ]
  },
  {
   "cell_type": "code",
   "execution_count": 124,
   "id": "320d7440",
   "metadata": {},
   "outputs": [],
   "source": [
    "TimeSeries = best_selfDyn.iloc[:,0:3].values\n",
    "TimeSeries = TimeSeries.reshape(-1,Dimension)"
   ]
  },
  {
   "cell_type": "code",
   "execution_count": 125,
   "id": "771f28e1",
   "metadata": {},
   "outputs": [],
   "source": [
    "self_matrix = self_ElementaryFunctions_Matrix(TimeSeries, Dimension, 4, PolynomialIndex = True, TrigonometricIndex = False, \\\n",
    "    ExponentialIndex = False, FractionalIndex = False, ActivationIndex = False)\n",
    "self_matrix = self_matrix.replace([np.inf, -np.inf], np.nan).dropna(axis=1)"
   ]
  },
  {
   "cell_type": "code",
   "execution_count": 126,
   "id": "2dd00711",
   "metadata": {},
   "outputs": [],
   "source": [
    "goal = best_selfDyn['s2'].values\n",
    "goal = pd.DataFrame(data = goal, columns =['s2'])"
   ]
  },
  {
   "cell_type": "code",
   "execution_count": 127,
   "id": "bfde9c9d",
   "metadata": {},
   "outputs": [],
   "source": [
    "X = self_matrix.copy()\n",
    "y = goal.copy()"
   ]
  },
  {
   "cell_type": "code",
   "execution_count": 128,
   "id": "af304d37",
   "metadata": {},
   "outputs": [],
   "source": [
    "X_mat = X.values \n",
    "y_mat = y.values\n",
    "x_norml1 = []\n",
    "y_norml1 = []\n",
    "num = np.shape(X_mat)[1]\n",
    "num2 = 1\n",
    "L = np.shape(X_mat)[0]\n",
    "\n",
    "for i in range(0,num):\n",
    "    x_norml1.append(sum(abs(X_mat[:,i])))\n",
    "\n",
    "for i in range(0,num2):\n",
    "    y_norml1.append(sum(abs(y_mat[:,i])))\n",
    "\n",
    "X = pd.DataFrame(X)\n",
    "y = pd.DataFrame(y)\n",
    "\n",
    "X[X.columns] = normalize(X[X.columns], norm='l1', axis=0)*L\n",
    "y[y.columns] = normalize(y[y.columns], norm='l1', axis=0)*L\n",
    "\n",
    "X_col = X.columns \n",
    "Xin = X.iloc[:,:]\n",
    "out = np.array(y)\n",
    "y1 = (out[:,0])"
   ]
  },
  {
   "cell_type": "code",
   "execution_count": 129,
   "id": "e6639663",
   "metadata": {},
   "outputs": [
    {
     "name": "stderr",
     "output_type": "stream",
     "text": [
      "/opt/anaconda3/envs/pytorch_env/lib/python3.8/site-packages/sklearn/linear_model/_base.py:148: FutureWarning: 'normalize' was deprecated in version 1.0 and will be removed in 1.2. Please leave the normalize parameter to its default value to silence this warning. The default behavior of this estimator is to not do any normalization. If normalization is needed please use sklearn.preprocessing.StandardScaler instead.\n",
      "  warnings.warn(\n"
     ]
    },
    {
     "name": "stdout",
     "output_type": "stream",
     "text": [
      "0.9991356348750987\n",
      "Best threshold: 0.001\n"
     ]
    }
   ],
   "source": [
    "reg1 = LassoCV(cv=5, fit_intercept=True, n_jobs=-1, max_iter=10000, normalize=False).fit(Xin,y1)\n",
    "print(reg1.score(Xin,y1))\n",
    "print('Best threshold: %.3f' % reg1.alpha_)"
   ]
  },
  {
   "cell_type": "code",
   "execution_count": 130,
   "id": "54db7fd2",
   "metadata": {},
   "outputs": [],
   "source": [
    "for i in range(len(reg1.coef_)):\n",
    "    reg1.coef_[i] = reg1.coef_[i]*y_norml1[0]/x_norml1[i]\n",
    "coef1 = pd.Series(reg1.coef_, index = X_col)"
   ]
  },
  {
   "cell_type": "code",
   "execution_count": 131,
   "id": "2b15d9b3",
   "metadata": {},
   "outputs": [
    {
     "name": "stdout",
     "output_type": "stream",
     "text": [
      "Elementary functions discovered by Phase 1 with constant.\n",
      "x2x2       -0.003409\n",
      "x2x3        0.005393\n",
      "x1x1x1x2    0.007773\n",
      "x3x3       -0.011652\n",
      "x1x1x1x1    0.038315\n",
      "x1x2       -0.046899\n",
      "x1         -0.053589\n",
      "x1x1x1     -0.141689\n",
      "x2         -0.990605\n",
      "x1x1       -4.841788\n",
      "constant    1.074328\n",
      "dtype: float64\n"
     ]
    }
   ],
   "source": [
    "imp_coef1 = pd.concat([coef1.sort_values(key=abs).head(int(0)),\n",
    "                     coef1.sort_values(key=abs).tail(int(10))])\n",
    "imp_cons = imp_coef1 + (1e-10)\n",
    "imp_cons['constant'] = reg1.intercept_*y_norml1[0]/L\n",
    "print(\"Elementary functions discovered by Phase 1 with constant.\")\n",
    "print(imp_cons)"
   ]
  },
  {
   "cell_type": "code",
   "execution_count": 132,
   "id": "25e742f2",
   "metadata": {},
   "outputs": [
    {
     "name": "stdout",
     "output_type": "stream",
     "text": [
      "6.202194868798472e-09 16.04722345947744 277555.5841432003 constant\n",
      "0.21047959853600606 12.669610386688442 253924.62430069112 x1x1\n",
      "0.9973157787282411 0.04307429882975379 -314476.8774593752 x2\n",
      "0.9973578635155343 0.04239895483962497 -316055.1567056886 x1x1x1\n",
      "0.9973807809076728 0.04203119432459084 -316924.32143662014 x1\n",
      "0.9973847727296522 0.041967136664878925 -317074.8427340681 x1x2\n",
      "0.9975724036853933 0.038956180771511306 -324517.78344916686 x1x1x1x1\n",
      "0.9984223297623541 0.02531722700589292 -367611.02056384075 x3x3\n",
      "0.9986249418178945 0.02206586605488651 -381354.33868660853 x1x1x1x2\n",
      "0.9988461529147399 0.01851604213007656 -398891.7780482122 x2x3\n",
      "0.9994334549465216 0.00909147512941614 -470019.81034949777 x2x2\n"
     ]
    },
    {
     "name": "stderr",
     "output_type": "stream",
     "text": [
      "/opt/anaconda3/envs/pytorch_env/lib/python3.8/site-packages/sklearn/utils/validation.py:1688: FutureWarning: Feature names only support names that are all strings. Got feature names with dtypes: ['int', 'str']. An error will be raised in 1.2.\n",
      "  warnings.warn(\n",
      "/opt/anaconda3/envs/pytorch_env/lib/python3.8/site-packages/sklearn/utils/validation.py:1688: FutureWarning: Feature names only support names that are all strings. Got feature names with dtypes: ['int', 'str']. An error will be raised in 1.2.\n",
      "  warnings.warn(\n",
      "/opt/anaconda3/envs/pytorch_env/lib/python3.8/site-packages/sklearn/utils/validation.py:1688: FutureWarning: Feature names only support names that are all strings. Got feature names with dtypes: ['int', 'str']. An error will be raised in 1.2.\n",
      "  warnings.warn(\n",
      "/opt/anaconda3/envs/pytorch_env/lib/python3.8/site-packages/sklearn/utils/validation.py:1688: FutureWarning: Feature names only support names that are all strings. Got feature names with dtypes: ['int', 'str']. An error will be raised in 1.2.\n",
      "  warnings.warn(\n",
      "/opt/anaconda3/envs/pytorch_env/lib/python3.8/site-packages/sklearn/utils/validation.py:1688: FutureWarning: Feature names only support names that are all strings. Got feature names with dtypes: ['int', 'str']. An error will be raised in 1.2.\n",
      "  warnings.warn(\n",
      "/opt/anaconda3/envs/pytorch_env/lib/python3.8/site-packages/sklearn/utils/validation.py:1688: FutureWarning: Feature names only support names that are all strings. Got feature names with dtypes: ['int', 'str']. An error will be raised in 1.2.\n",
      "  warnings.warn(\n",
      "/opt/anaconda3/envs/pytorch_env/lib/python3.8/site-packages/sklearn/utils/validation.py:1688: FutureWarning: Feature names only support names that are all strings. Got feature names with dtypes: ['int', 'str']. An error will be raised in 1.2.\n",
      "  warnings.warn(\n",
      "/opt/anaconda3/envs/pytorch_env/lib/python3.8/site-packages/sklearn/utils/validation.py:1688: FutureWarning: Feature names only support names that are all strings. Got feature names with dtypes: ['int', 'str']. An error will be raised in 1.2.\n",
      "  warnings.warn(\n",
      "/opt/anaconda3/envs/pytorch_env/lib/python3.8/site-packages/sklearn/utils/validation.py:1688: FutureWarning: Feature names only support names that are all strings. Got feature names with dtypes: ['int', 'str']. An error will be raised in 1.2.\n",
      "  warnings.warn(\n",
      "/opt/anaconda3/envs/pytorch_env/lib/python3.8/site-packages/sklearn/utils/validation.py:1688: FutureWarning: Feature names only support names that are all strings. Got feature names with dtypes: ['int', 'str']. An error will be raised in 1.2.\n",
      "  warnings.warn(\n",
      "/opt/anaconda3/envs/pytorch_env/lib/python3.8/site-packages/sklearn/utils/validation.py:1688: FutureWarning: Feature names only support names that are all strings. Got feature names with dtypes: ['int', 'str']. An error will be raised in 1.2.\n",
      "  warnings.warn(\n",
      "/opt/anaconda3/envs/pytorch_env/lib/python3.8/site-packages/sklearn/utils/validation.py:1688: FutureWarning: Feature names only support names that are all strings. Got feature names with dtypes: ['int', 'str']. An error will be raised in 1.2.\n",
      "  warnings.warn(\n",
      "/opt/anaconda3/envs/pytorch_env/lib/python3.8/site-packages/sklearn/utils/validation.py:1688: FutureWarning: Feature names only support names that are all strings. Got feature names with dtypes: ['int', 'str']. An error will be raised in 1.2.\n",
      "  warnings.warn(\n",
      "/opt/anaconda3/envs/pytorch_env/lib/python3.8/site-packages/sklearn/utils/validation.py:1688: FutureWarning: Feature names only support names that are all strings. Got feature names with dtypes: ['int', 'str']. An error will be raised in 1.2.\n",
      "  warnings.warn(\n",
      "/opt/anaconda3/envs/pytorch_env/lib/python3.8/site-packages/sklearn/utils/validation.py:1688: FutureWarning: Feature names only support names that are all strings. Got feature names with dtypes: ['int', 'str']. An error will be raised in 1.2.\n",
      "  warnings.warn(\n",
      "/opt/anaconda3/envs/pytorch_env/lib/python3.8/site-packages/sklearn/utils/validation.py:1688: FutureWarning: Feature names only support names that are all strings. Got feature names with dtypes: ['int', 'str']. An error will be raised in 1.2.\n",
      "  warnings.warn(\n",
      "/opt/anaconda3/envs/pytorch_env/lib/python3.8/site-packages/sklearn/utils/validation.py:1688: FutureWarning: Feature names only support names that are all strings. Got feature names with dtypes: ['int', 'str']. An error will be raised in 1.2.\n",
      "  warnings.warn(\n",
      "/opt/anaconda3/envs/pytorch_env/lib/python3.8/site-packages/sklearn/utils/validation.py:1688: FutureWarning: Feature names only support names that are all strings. Got feature names with dtypes: ['int', 'str']. An error will be raised in 1.2.\n",
      "  warnings.warn(\n",
      "/opt/anaconda3/envs/pytorch_env/lib/python3.8/site-packages/sklearn/utils/validation.py:1688: FutureWarning: Feature names only support names that are all strings. Got feature names with dtypes: ['int', 'str']. An error will be raised in 1.2.\n",
      "  warnings.warn(\n",
      "/opt/anaconda3/envs/pytorch_env/lib/python3.8/site-packages/sklearn/utils/validation.py:1688: FutureWarning: Feature names only support names that are all strings. Got feature names with dtypes: ['int', 'str']. An error will be raised in 1.2.\n",
      "  warnings.warn(\n",
      "/opt/anaconda3/envs/pytorch_env/lib/python3.8/site-packages/sklearn/utils/validation.py:1688: FutureWarning: Feature names only support names that are all strings. Got feature names with dtypes: ['int', 'str']. An error will be raised in 1.2.\n",
      "  warnings.warn(\n",
      "/opt/anaconda3/envs/pytorch_env/lib/python3.8/site-packages/sklearn/utils/validation.py:1688: FutureWarning: Feature names only support names that are all strings. Got feature names with dtypes: ['int', 'str']. An error will be raised in 1.2.\n",
      "  warnings.warn(\n",
      "/opt/anaconda3/envs/pytorch_env/lib/python3.8/site-packages/sklearn/utils/validation.py:1688: FutureWarning: Feature names only support names that are all strings. Got feature names with dtypes: ['int', 'str']. An error will be raised in 1.2.\n",
      "  warnings.warn(\n",
      "/opt/anaconda3/envs/pytorch_env/lib/python3.8/site-packages/sklearn/utils/validation.py:1688: FutureWarning: Feature names only support names that are all strings. Got feature names with dtypes: ['int', 'str']. An error will be raised in 1.2.\n",
      "  warnings.warn(\n",
      "/opt/anaconda3/envs/pytorch_env/lib/python3.8/site-packages/sklearn/utils/validation.py:1688: FutureWarning: Feature names only support names that are all strings. Got feature names with dtypes: ['int', 'str']. An error will be raised in 1.2.\n",
      "  warnings.warn(\n",
      "/opt/anaconda3/envs/pytorch_env/lib/python3.8/site-packages/sklearn/utils/validation.py:1688: FutureWarning: Feature names only support names that are all strings. Got feature names with dtypes: ['int', 'str']. An error will be raised in 1.2.\n",
      "  warnings.warn(\n",
      "/opt/anaconda3/envs/pytorch_env/lib/python3.8/site-packages/sklearn/utils/validation.py:1688: FutureWarning: Feature names only support names that are all strings. Got feature names with dtypes: ['int', 'str']. An error will be raised in 1.2.\n",
      "  warnings.warn(\n",
      "/opt/anaconda3/envs/pytorch_env/lib/python3.8/site-packages/sklearn/utils/validation.py:1688: FutureWarning: Feature names only support names that are all strings. Got feature names with dtypes: ['int', 'str']. An error will be raised in 1.2.\n",
      "  warnings.warn(\n",
      "/opt/anaconda3/envs/pytorch_env/lib/python3.8/site-packages/sklearn/utils/validation.py:1688: FutureWarning: Feature names only support names that are all strings. Got feature names with dtypes: ['int', 'str']. An error will be raised in 1.2.\n",
      "  warnings.warn(\n",
      "/opt/anaconda3/envs/pytorch_env/lib/python3.8/site-packages/sklearn/utils/validation.py:1688: FutureWarning: Feature names only support names that are all strings. Got feature names with dtypes: ['int', 'str']. An error will be raised in 1.2.\n",
      "  warnings.warn(\n"
     ]
    }
   ],
   "source": [
    "X = pd.DataFrame()\n",
    "Score_list = np.zeros(shape=(imp_cons.shape[0],1))\n",
    "MSE_list = np.zeros(shape=(imp_cons.shape[0],1))\n",
    "AIC_list = np.zeros(shape=(imp_cons.shape[0],1))\n",
    "y = goal.copy()\n",
    "for i in range(1,imp_cons.shape[0]+1):\n",
    "    if imp_cons.index[-i] != 'constant':\n",
    "        tmp = self_matrix.copy()[imp_cons.index[-i]]\n",
    "        if i == 1:\n",
    "            X = self_matrix.copy()[imp_cons.index[-i]].values.reshape(-1,1)\n",
    "            X = pd.DataFrame(X)\n",
    "        else:\n",
    "            X = pd.concat([X,tmp],axis=1)\n",
    "    else:\n",
    "        Cons = np.ones((y1.shape[0],1))*imp_cons['constant']\n",
    "        X = pd.DataFrame(Cons)\n",
    "    Score, mse, aic = terms_sort_fit(X,y,False)\n",
    "    Score_list[i-1] = Score\n",
    "    MSE_list[i-1] = mse\n",
    "    AIC_list[i-1] = aic\n",
    "    print(Score, mse, aic,imp_cons.index[-i])"
   ]
  },
  {
   "cell_type": "code",
   "execution_count": 133,
   "id": "8d8a684a",
   "metadata": {},
   "outputs": [
    {
     "data": {
      "image/png": "[encoded data removed]",
      "text/plain": [
       "<Figure size 720x720 with 3 Axes>"
      ]
     },
     "metadata": {
      "needs_background": "light"
     },
     "output_type": "display_data"
    }
   ],
   "source": [
    "# Visualization\n",
    "Index = np.arange(1,imp_cons.shape[0]+1,1)\n",
    "fig = plt.figure(figsize=(10,10))\n",
    "fig.add_subplot(3,1,1)\n",
    "l1, = plt.plot(Index,Score_list, marker='o', linestyle='dashed')\n",
    "plt.xticks(Index)\n",
    "plt.xlabel('The label of the equation')\n",
    "plt.ylabel('values-Score')\n",
    "fig.add_subplot(3,1,2)\n",
    "l2, = plt.plot(Index,MSE_list, marker='+', linestyle='dashed')\n",
    "plt.xticks(Index)\n",
    "plt.xlabel('The label of the equation')\n",
    "plt.ylabel('values-MSE')\n",
    "fig.add_subplot(3,1,3)\n",
    "l3, = plt.plot(Index,AIC_list, marker='o')\n",
    "plt.xticks(Index)\n",
    "plt.xlabel('The label of the equation')\n",
    "plt.ylabel('values of AIC')\n",
    "plt.show()"
   ]
  },
  {
   "cell_type": "code",
   "execution_count": 135,
   "id": "a3534cbc",
   "metadata": {},
   "outputs": [],
   "source": [
    "TimeSeries = best_selfDyn.iloc[:,0:3].values\n",
    "TimeSeries = TimeSeries.reshape(-1,Dimension)\n",
    "self_matrix = self_ElementaryFunctions_Matrix(TimeSeries, Dimension, 4, PolynomialIndex = True, TrigonometricIndex = False, \\\n",
    "ExponentialIndex = True, FractionalIndex = False, ActivationIndex = False)\n",
    "self_matrix = self_matrix.replace([np.inf, -np.inf], np.nan).dropna(axis=1)\n",
    "goal = best_selfDyn['s2'].values\n",
    "goal = pd.DataFrame(data = goal, columns =['s2'])\n",
    "X = self_matrix.copy()\n",
    "y = goal.copy()"
   ]
  },
  {
   "cell_type": "code",
   "execution_count": 136,
   "id": "cf4cea39",
   "metadata": {},
   "outputs": [],
   "source": [
    "Xfind = pd.concat([X['x2'],X['x1x1']],axis=1)#pd.concat([v1,v2],axis=1)\n",
    "yfind = y['s2']"
   ]
  },
  {
   "cell_type": "code",
   "execution_count": 137,
   "id": "34cc364b",
   "metadata": {},
   "outputs": [],
   "source": [
    "model_linear = LinearRegression(fit_intercept=True)\n",
    "model_linear.fit(Xfind,yfind)\n",
    "a = model_linear.coef_"
   ]
  },
  {
   "cell_type": "code",
   "execution_count": 138,
   "id": "f4e4d67d",
   "metadata": {},
   "outputs": [
    {
     "data": {
      "text/plain": [
       "array([-0.99498259, -4.98009929])"
      ]
     },
     "execution_count": 138,
     "metadata": {},
     "output_type": "execute_result"
    }
   ],
   "source": [
    "a"
   ]
  },
  {
   "cell_type": "code",
   "execution_count": 139,
   "id": "e8e5d60f",
   "metadata": {},
   "outputs": [
    {
     "data": {
      "text/plain": [
       "0.9953270402565534"
      ]
     },
     "execution_count": 139,
     "metadata": {},
     "output_type": "execute_result"
    }
   ],
   "source": [
    "model_linear.intercept_"
   ]
  },
  {
   "cell_type": "code",
   "execution_count": 140,
   "id": "51545422",
   "metadata": {},
   "outputs": [
    {
     "data": {
      "text/plain": [
       "0.9973157787282411"
      ]
     },
     "execution_count": 140,
     "metadata": {},
     "output_type": "execute_result"
    }
   ],
   "source": [
    "model_linear.score(Xfind,yfind)"
   ]
  },
  {
   "cell_type": "code",
   "execution_count": null,
   "id": "bf4aca47",
   "metadata": {},
   "outputs": [],
   "source": []
  },
  {
   "cell_type": "code",
   "execution_count": 141,
   "id": "6c3ac06e",
   "metadata": {},
   "outputs": [],
   "source": [
    "#torch.save(ogn, 'HR_N20_intensity01_t500_net.pth')"
   ]
  },
  {
   "cell_type": "code",
   "execution_count": null,
   "id": "830622d7",
   "metadata": {},
   "outputs": [],
   "source": []
  }
 ],
 "metadata": {
  "kernelspec": {
   "display_name": "Python 3 (ipykernel)",
   "language": "python",
   "name": "python3"
  },
  "language_info": {
   "codemirror_mode": {
    "name": "ipython",
    "version": 3
   },
   "file_extension": ".py",
   "mimetype": "text/x-python",
   "name": "python",
   "nbconvert_exporter": "python",
   "pygments_lexer": "ipython3",
   "version": "3.8.12"
  }
 },
 "nbformat": 4,
 "nbformat_minor": 5
}
